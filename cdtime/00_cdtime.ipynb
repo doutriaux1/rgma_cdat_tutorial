{
 "cells": [
  {
   "cell_type": "markdown",
   "metadata": {},
   "source": [
    "# CDTIME\n",
    "\n",
    "A big chunk of dealing with CMIP data lay in dealing with each model's different way of representing time\n",
    "\n",
    "For example let's look at a few model time calendar and base units"
   ]
  },
  {
   "cell_type": "code",
   "execution_count": null,
   "metadata": {},
   "outputs": [],
   "source": [
    "import glob\n",
    "ta_files = glob.glob(\"/global/cscratch1/sd/cmip6/CMIP6/CMIP/*/*/historical/r1i1p1f1/Amon/ta/gn/*/*\")"
   ]
  },
  {
   "cell_type": "code",
   "execution_count": 2,
   "metadata": {},
   "outputs": [
    {
     "name": "stdout",
     "output_type": "stream",
     "text": [
      "Institution/Model: MRI/MRI-ESM2-0\n",
      "\tTime units: days since 1850-01-01\n",
      "\tTime calendar: 4369 proleptic_gregorian\n",
      "Institution/Model: NCAR/CESM2-WACCM\n",
      "\tTime units: days since 0001-01-01 00:00:00\n",
      "\tTime calendar: 4113 noleap\n",
      "Institution/Model: NCAR/CESM2\n",
      "\tTime units: days since 0001-01-01 00:00:00\n",
      "\tTime calendar: 4113 noleap\n",
      "Institution/Model: NASA-GISS/GISS-E2-1-H\n",
      "\tTime units: days since 1850-1-1\n",
      "\tTime calendar: 4113 365_day\n",
      "Institution/Model: NASA-GISS/GISS-E2-1-G\n",
      "\tTime units: days since 1850-1-1\n",
      "\tTime calendar: 4113 365_day\n",
      "Institution/Model: MIROC/MIROC6\n",
      "\tTime units: days since 1850-1-1\n",
      "\tTime calendar: 135441 gregorian\n",
      "Institution/Model: CAMS/CAMS-CSM1-0\n",
      "\tTime units: days since 1865-1-1 00:00\n",
      "\tTime calendar: 4113 365_day\n",
      "Institution/Model: SNU/SAM0-UNICON\n",
      "\tTime units: days since 1850-01-01 00:00:00\n",
      "\tTime calendar: 4113 noleap\n",
      "Institution/Model: BCC/BCC-ESM1\n",
      "\tTime units: days since 1850-01-01\n",
      "\tTime calendar: 4113 365_day\n",
      "Institution/Model: BCC/BCC-CSM2-MR\n",
      "\tTime units: days since 1850-01-01\n",
      "\tTime calendar: 4113 365_day\n",
      "Institution/Model: AWI/AWI-CM-1-1-MR\n",
      "\tTime units: days since 1850-01-01 00:00:00\n",
      "\tTime calendar: 4369 proleptic_gregorian\n",
      "Institution/Model: CCCma/CanESM5\n",
      "\tTime units: days since 1850-01-01 0:0:0.0\n",
      "\tTime calendar: 4113 365_day\n"
     ]
    }
   ],
   "source": [
    "import cdms2\n",
    "models = set()\n",
    "institutions = set()\n",
    "for name in ta_files:\n",
    "    sp = name.split(\"/\")\n",
    "    institution = sp[7]\n",
    "    institutions.add(institution)\n",
    "    model = sp[8]\n",
    "    if not model in models:\n",
    "        print(\"Institution/Model: {}/{}\".format(institution, model))\n",
    "        f = cdms2.open(name)\n",
    "        ta = f[\"ta\"]\n",
    "        tim = ta.getTime()\n",
    "        print(\"\\tTime units:\", tim.units)\n",
    "        print(\"\\tTime calendar:\", tim.getCalendar(), tim.calendar)\n",
    "        f.close()\n",
    "    models.add(model)"
   ]
  },
  {
   "cell_type": "markdown",
   "metadata": {},
   "source": [
    "As you can see not all models have the same base time OR the same model.\n",
    "\n",
    "While cdms can handle this for you, there ight be time where you need to do the math yourself.\n",
    "\n",
    "The `cdtime` module helps you with this"
   ]
  },
  {
   "cell_type": "code",
   "execution_count": 3,
   "metadata": {},
   "outputs": [],
   "source": [
    "import cdtime"
   ]
  },
  {
   "cell_type": "markdown",
   "metadata": {},
   "source": [
    "`cdtime` introduces two types of time objects, ***component*** time object, which are essentially *date* in the format **YYYY-MM-DD HH:mm:SS** and ***relative*** time object, after are a *delta* from some basetime in some defined *units*\n",
    "\n",
    "## Component Time\n",
    "\n",
    "***component*** time are very similar to datetime object:"
   ]
  },
  {
   "cell_type": "code",
   "execution_count": 4,
   "metadata": {},
   "outputs": [
    {
     "data": {
      "text/plain": [
       "'2014-07-24 10:05:15'"
      ]
     },
     "execution_count": 4,
     "metadata": {},
     "output_type": "execute_result"
    }
   ],
   "source": [
    "from datetime import datetime\n",
    "'{:%Y-%m-%d %H:%M:%S}'.format(datetime(2014, 7, 24, 10, 5, 15))"
   ]
  },
  {
   "cell_type": "code",
   "execution_count": 5,
   "metadata": {},
   "outputs": [
    {
     "name": "stdout",
     "output_type": "stream",
     "text": [
      "2014-7-24 10:5:15.0\n",
      "2014 7 24 10 5 15.0\n"
     ]
    }
   ],
   "source": [
    "comp = cdtime.componenttime(2014,7,24,10,5, 15)\n",
    "print(comp)\n",
    "print(comp.year, comp.month, comp.day, comp.hour, comp.minute, comp.second)"
   ]
  },
  {
   "cell_type": "markdown",
   "metadata": {},
   "source": [
    "## Relative time\n",
    "\n",
    "relative time need a *base date* and a *delta* with *units* from it. It is very convenient to convert values in time axes."
   ]
  },
  {
   "cell_type": "code",
   "execution_count": 6,
   "metadata": {},
   "outputs": [
    {
     "name": "stdout",
     "output_type": "stream",
     "text": [
      "24.000000 days since 2014-7\n",
      "24.0 days since 2014-7\n"
     ]
    }
   ],
   "source": [
    "rel = cdtime.relativetime(24, \"days since 2014-7\")\n",
    "print(rel)\n",
    "print(rel.value, rel.units)"
   ]
  },
  {
   "cell_type": "markdown",
   "metadata": {},
   "source": [
    "## Manipulating cdtime objects\n",
    "\n",
    "\n",
    "### Comparison\n",
    "\n",
    "all cdtime time object can be used with each other and compared"
   ]
  },
  {
   "cell_type": "code",
   "execution_count": 7,
   "metadata": {},
   "outputs": [
    {
     "name": "stdout",
     "output_type": "stream",
     "text": [
      "1\n",
      "-1\n",
      "0\n"
     ]
    }
   ],
   "source": [
    "base = cdtime.comptime(2014, 7, 1)\n",
    "before = cdtime.reltime(3, \"days since 2014-6\")\n",
    "after = cdtime.reltime(3, \"days since 2014-7\")\n",
    "same = cdtime.reltime(0, \"days since 2014-7\")\n",
    "print(after.cmp(base))  # Greater\n",
    "print(before.cmp(base)) # lesss\n",
    "print(same.cmp(base)) # equal"
   ]
  },
  {
   "cell_type": "markdown",
   "metadata": {},
   "source": [
    "### Addition/Subtraction"
   ]
  },
  {
   "cell_type": "code",
   "execution_count": 8,
   "metadata": {},
   "outputs": [
    {
     "name": "stdout",
     "output_type": "stream",
     "text": [
      "2014-7-7 0:0:0.0\n"
     ]
    }
   ],
   "source": [
    "print(base.add(6, cdtime.Days))"
   ]
  },
  {
   "cell_type": "code",
   "execution_count": 9,
   "metadata": {},
   "outputs": [
    {
     "name": "stdout",
     "output_type": "stream",
     "text": [
      "2014-4-1 0:0:0.0\n"
     ]
    }
   ],
   "source": [
    "print(base.sub(3, cdtime.Months))"
   ]
  },
  {
   "cell_type": "markdown",
   "metadata": {},
   "source": [
    "One can specify a calendar to use when doing the addition"
   ]
  },
  {
   "cell_type": "code",
   "execution_count": 10,
   "metadata": {},
   "outputs": [
    {
     "name": "stdout",
     "output_type": "stream",
     "text": [
      "Regular:  2006-4-14 0:0:0.0\n",
      "No Leap: 2006-4-12 0:0:0.0\n"
     ]
    }
   ],
   "source": [
    "print(\"Regular: \",base.sub(3000,cdtime.Days, cdtime.DefaultCalendar))\n",
    "print(\"No Leap:\", base.sub(3000,cdtime.Days, cdtime.NoLeapCalendar))"
   ]
  },
  {
   "cell_type": "markdown",
   "metadata": {},
   "source": [
    "### Convertion between types"
   ]
  },
  {
   "cell_type": "code",
   "execution_count": 11,
   "metadata": {},
   "outputs": [
    {
     "name": "stdout",
     "output_type": "stream",
     "text": [
      "5295.000000 days since 2000\n"
     ]
    }
   ],
   "source": [
    "print(base.torelative(\"days since 2000\"))"
   ]
  },
  {
   "cell_type": "code",
   "execution_count": 12,
   "metadata": {},
   "outputs": [
    {
     "name": "stdout",
     "output_type": "stream",
     "text": [
      "5291.000000 days since 2000\n"
     ]
    }
   ],
   "source": [
    "print(base.torelative(\"days since 2000\", cdtime.NoLeapCalendar))"
   ]
  },
  {
   "cell_type": "markdown",
   "metadata": {},
   "source": [
    "# CDMS Time Axes"
   ]
  },
  {
   "cell_type": "code",
   "execution_count": 13,
   "metadata": {},
   "outputs": [
    {
     "name": "stdout",
     "output_type": "stream",
     "text": [
      "[5902.000000 days since 2000, 5903.000000 days since 2000, 5904.000000 days since 2000, 5905.000000 days since 2000, 5906.000000 days since 2000, 5907.000000 days since 2000]\n",
      "[2016-2-28 0:0:0.0, 2016-2-29 0:0:0.0, 2016-3-1 0:0:0.0, 2016-3-2 0:0:0.0, 2016-3-3 0:0:0.0, 2016-3-4 0:0:0.0]\n",
      "[2016-2-28 0:0:0.0, 2016-3-1 0:0:0.0, 2016-3-2 0:0:0.0, 2016-3-3 0:0:0.0, 2016-3-4 0:0:0.0, 2016-3-5 0:0:0.0]\n"
     ]
    }
   ],
   "source": [
    "time = cdms2.createAxis([1,2,3,4,5,6])\n",
    "time.units = \"days since 2016-02-27\"\n",
    "time.designateTime()\n",
    "time.setBounds(None)\n",
    "\n",
    "print(time.asRelativeTime(\"days since 2000\"))\n",
    "print(time.asComponentTime())\n",
    "print(time.asComponentTime(cdtime.NoLeapCalendar))"
   ]
  },
  {
   "cell_type": "markdown",
   "metadata": {},
   "source": [
    "## Changing units"
   ]
  },
  {
   "cell_type": "code",
   "execution_count": 14,
   "metadata": {},
   "outputs": [
    {
     "name": "stdout",
     "output_type": "stream",
     "text": [
      "Reg: [5902 5903 5904 5905 5906 5907]\n",
      "No Leap: [5898 5899 5899 5900 5901 5902]\n"
     ]
    }
   ],
   "source": [
    "tim2 = time.clone()  # To preserve the original\n",
    "tim2.toRelativeTime(\"days since 2000\")\n",
    "print(\"Reg:\", tim2[:])\n",
    "tim2.toRelativeTime(\"days since 2000\", cdtime.NoLeapCalendar)\n",
    "print(\"No Leap:\", tim2[:])\n"
   ]
  }
 ],
 "metadata": {
  "kernelspec": {
   "display_name": "Python 3",
   "language": "python",
   "name": "python3"
  },
  "language_info": {
   "codemirror_mode": {
    "name": "ipython",
    "version": 3
   },
   "file_extension": ".py",
   "mimetype": "text/x-python",
   "name": "python",
   "nbconvert_exporter": "python",
   "pygments_lexer": "ipython3",
   "version": "3.7.3"
  },
  "selected_variables": [],
  "vcdat_file_path": "",
  "vcdat_loaded_variables": [],
  "vcdat_variable_info": {}
 },
 "nbformat": 4,
 "nbformat_minor": 4
}
