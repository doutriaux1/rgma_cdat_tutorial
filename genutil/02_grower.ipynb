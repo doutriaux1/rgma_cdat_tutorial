{
 "cells": [
  {
   "cell_type": "markdown",
   "metadata": {},
   "source": [
    "# grower function\n",
    "\n",
    "Sometimes you have data that are on different domain but you need to compare them.\n",
    "\n",
    "The most common example is a mask. Let's say you have three dimensional (time/lat/lon) data but are only interested in the land or ocean area.\n",
    "\n",
    "To illustrate this point let's construct a dataset made of **surface** temperature over land (variable `ts`) and **2 meter air surface temperature** over ocean (variable `tas`). This new dataset will be closer from actual observations.\n",
    "\n",
    "first let's retrieve one year worth of data for each variable"
   ]
  },
  {
   "cell_type": "code",
   "execution_count": 1,
   "metadata": {},
   "outputs": [
    {
     "name": "stdout",
     "output_type": "stream",
     "text": [
      "(12, 143, 144)\n"
     ]
    }
   ],
   "source": [
    "import cdms2\n",
    "ipsl_tas_file = cdms2.open(\"/global/cscratch1/sd/cmip6/CMIP6/CMIP/IPSL/IPSL-CM6A-LR/historical/r1i1p1f1/Amon/tas/gr/v20180803/tas_Amon_IPSL-CM6A-LR_historical_r1i1p1f1_gr_185001-201412.nc\")\n",
    "ipsl_ts_file = cdms2.open(\"/global/cscratch1/sd/cmip6/CMIP6/CMIP/IPSL/IPSL-CM6A-LR/historical/r1i1p1f1/Amon/ts/gr/v20180803/ts_Amon_IPSL-CM6A-LR_historical_r1i1p1f1_gr_185001-201412.nc\")\n",
    "tas = ipsl_tas_file('tas', time=slice(0,12)) # First year\n",
    "ts = ipsl_ts_file('ts', time=slice(0,12)) # First year\n",
    "print(ts.shape)"
   ]
  },
  {
   "cell_type": "markdown",
   "metadata": {},
   "source": [
    "Now we need to get a land/sea mask from piControl"
   ]
  },
  {
   "cell_type": "code",
   "execution_count": 2,
   "metadata": {},
   "outputs": [
    {
     "name": "stdout",
     "output_type": "stream",
     "text": [
      "(143, 144)\n"
     ]
    }
   ],
   "source": [
    "ipsl_ldsea_file = cdms2.open(\"/global/cscratch1/sd/cmip6/CMIP6/CMIP/IPSL/IPSL-CM6A-LR/piControl/r1i1p1f1/fx/sftlf/gr/v20181123/sftlf_fx_IPSL-CM6A-LR_piControl_r1i1p1f1_gr.nc\")\n",
    "sftlf = ipsl_ldsea_file(\"sftlf\")\n",
    "print(sftlf.shape)"
   ]
  },
  {
   "cell_type": "markdown",
   "metadata": {},
   "source": [
    "We need to add the time dimension to `sftlf` so that we can mask appropriately, for this we use the grower function:"
   ]
  },
  {
   "cell_type": "code",
   "execution_count": 3,
   "metadata": {},
   "outputs": [
    {
     "name": "stdout",
     "output_type": "stream",
     "text": [
      "(12, 143, 144)\n"
     ]
    }
   ],
   "source": [
    "import genutil\n",
    "tas, sftlf_grown = genutil.grower(tas, sftlf)\n",
    "\n",
    "print(sftlf_grown.shape)  # Now has time"
   ]
  },
  {
   "cell_type": "markdown",
   "metadata": {},
   "source": [
    "`grower` takes two variables and duplicates any missing dimensions in each variables. It then returns the new *grown* variables with added missing dimensions.\n",
    "\n",
    "***IMPORTANT***\n",
    "\n",
    "The new variables order will be all the dimensions in the first passed variable and **THEN** any dimensions that were not present in the first variable but were in the second.\n",
    "\n",
    "This means the order in which you send the variables to grower matters for example if we switch them in the above example we would get:"
   ]
  },
  {
   "cell_type": "code",
   "execution_count": 4,
   "metadata": {},
   "outputs": [
    {
     "name": "stdout",
     "output_type": "stream",
     "text": [
      "(143, 144, 12)\n",
      "(143, 144, 12)\n"
     ]
    }
   ],
   "source": [
    "sftlf_grown2, tas2 = genutil.grower(sftlf, tas)\n",
    "\n",
    "print(sftlf_grown2.shape)  # Now has time\n",
    "print(tas2.shape)  # Now has time"
   ]
  },
  {
   "cell_type": "markdown",
   "metadata": {},
   "source": [
    "Notice that time is now **LAST** for **BOTH** variable because the dimension of the first passed variable were lat/lon."
   ]
  },
  {
   "cell_type": "markdown",
   "metadata": {},
   "source": [
    "***NOTE***\n",
    "\n",
    "The variables do not have to have any variable in common."
   ]
  },
  {
   "cell_type": "code",
   "execution_count": 5,
   "metadata": {},
   "outputs": [
    {
     "name": "stdout",
     "output_type": "stream",
     "text": [
      "(12,) (143, 144)\n",
      "(12, 143, 144) (12, 143, 144)\n"
     ]
    }
   ],
   "source": [
    "time_serie = genutil.averager(tas, axis = 'xy')\n",
    "print(time_serie.shape, sftlf.shape)\n",
    "v1, v2 = genutil.grower(time_serie, sftlf)\n",
    "print(v1.shape, v2.shape)"
   ]
  },
  {
   "cell_type": "markdown",
   "metadata": {},
   "source": [
    "Let's go back to our example, now that our land_sea mask and our data have matching shape the can easily produce our combined dataset:"
   ]
  },
  {
   "cell_type": "code",
   "execution_count": 5,
   "metadata": {},
   "outputs": [
    {
     "name": "stdout",
     "output_type": "stream",
     "text": [
      "(12, 143, 144) tyx\n"
     ]
    }
   ],
   "source": [
    "import MV2\n",
    "land = MV2.greater(sftlf_grown, 50.)\n",
    "# Use ts over land, tas otherwise (ocean)\n",
    "combined = MV2.where(land, ts, tas)\n",
    "print(combined.shape, combined.getOrder())"
   ]
  },
  {
   "cell_type": "code",
   "execution_count": null,
   "metadata": {},
   "outputs": [],
   "source": []
  }
 ],
 "metadata": {
  "kernelspec": {
   "display_name": "Python 3",
   "language": "python",
   "name": "python3"
  },
  "language_info": {
   "codemirror_mode": {
    "name": "ipython",
    "version": 3
   },
   "file_extension": ".py",
   "mimetype": "text/x-python",
   "name": "python",
   "nbconvert_exporter": "python",
   "pygments_lexer": "ipython3",
   "version": "3.7.3"
  },
  "selected_variables": [],
  "vcdat_file_path": "",
  "vcdat_loaded_variables": [],
  "vcdat_variable_info": {}
 },
 "nbformat": 4,
 "nbformat_minor": 4
}
