{
 "cells": [
  {
   "cell_type": "markdown",
   "metadata": {},
   "source": [
    "# The genutil module (general utilities)\n",
    "\n",
    "This module contains ***cdms aware*** general utilities that are not restricted to Earth Sciences\n",
    "\n",
    "As a general rule it means that axes operation can be done by axis *name* instead of simply indices. This allows for generic code that works on data with different number of dimension or a different order (not common in our case).\n",
    "\n",
    "Also genutil functions are usually capable of worknig on multiple axes at the same time. (e.g average over multiple dimensions)\n",
    "\n",
    "The most commonly used function from genutil is the `averager`.\n",
    "\n",
    "Area averaging is one of the most common data reduction procedures used in climate data analysis. The `genutil` package has a powerful area averaging function. The `averager()` function provides a convenient way of averaging your data giving you control over the order of operations (i.e which dimensions are averaged over first) and also the weighting for the different axes. You can pass your own array of weights for each dimension or use the default (grid) weights or specify equal weighting.\n",
    "\n",
    "**Usage:**\n",
    "\n",
    "```\n",
    "result = averager (data, axis= axisoptions , weights= weightoptions , action= actionoptions , returned= returnedoptions , combinewts=combinewtsoptions )\n",
    "```\n",
    "\n",
    "Let's demonstrate some of this, using some of our data"
   ]
  },
  {
   "cell_type": "code",
   "execution_count": 1,
   "metadata": {},
   "outputs": [
    {
     "name": "stdout",
     "output_type": "stream",
     "text": [
      "ps: (120, 143, 144)\n",
      "ta: (144, 120, 19, 143)\n"
     ]
    }
   ],
   "source": [
    "import cdms2\n",
    "ipsl_ps_file = cdms2.open(\"/global/cscratch1/sd/cmip6/CMIP6/CMIP/IPSL/IPSL-CM6A-LR/historical/r1i1p1f1/Amon/ps/gr/v20180803/ps_Amon_IPSL-CM6A-LR_historical_r1i1p1f1_gr_185001-201412.nc\")\n",
    "ps = ipsl_ps_file(\"ps\", time=(\"2000\", \"2010\"))\n",
    "ipsl_ta_file = cdms2.open(\"/global/cscratch1/sd/cmip6/CMIP6/CMIP/IPSL/IPSL-CM6A-LR/historical/r1i1p1f1/Amon/ta/gr/v20180803/ta_Amon_IPSL-CM6A-LR_historical_r1i1p1f1_gr_185001-201412.nc\")\n",
    "ta = ipsl_ta_file(\"ta\", time=(\"2000\", \"2010\"), order='xtzy') # Just to make it hard\n",
    "print(\"ps:\", ps.shape)\n",
    "print(\"ta:\", ta.shape)"
   ]
  },
  {
   "cell_type": "markdown",
   "metadata": {},
   "source": [
    "As you can see to average over latitude in numpy we would have to run a different function for `ps` and `ta`"
   ]
  },
  {
   "cell_type": "code",
   "execution_count": 2,
   "metadata": {},
   "outputs": [
    {
     "name": "stdout",
     "output_type": "stream",
     "text": [
      "(120, 144)\n",
      "(144, 120, 19)\n"
     ]
    }
   ],
   "source": [
    "import numpy\n",
    "ps_zonal_np = numpy.average(ps, 1)\n",
    "ta_zonal_np = numpy.average(ta, 3)\n",
    "print(ps_zonal_np.shape)\n",
    "print(ta_zonal_np.shape)"
   ]
  },
  {
   "cell_type": "markdown",
   "metadata": {},
   "source": [
    "With genutil we do not need to worry about this"
   ]
  },
  {
   "cell_type": "code",
   "execution_count": 3,
   "metadata": {},
   "outputs": [
    {
     "name": "stdout",
     "output_type": "stream",
     "text": [
      "(120, 144)\n",
      "(144, 120, 19)\n"
     ]
    }
   ],
   "source": [
    "import genutil\n",
    "ps_zonal_gen = genutil.averager(ps, axis='y')\n",
    "ta_zonal_gen = genutil.averager(ta, axis='y')\n",
    "print(ps_zonal_gen.shape)\n",
    "print(ta_zonal_gen.shape)"
   ]
  },
  {
   "cell_type": "markdown",
   "metadata": {},
   "source": [
    "As mentioned earlier, an additional *bonus* from using `genutil` is that the average is properly weighted according to bounds, (numpy applies equal weights to each latitude)"
   ]
  },
  {
   "cell_type": "code",
   "execution_count": 4,
   "metadata": {},
   "outputs": [
    {
     "name": "stdout",
     "output_type": "stream",
     "text": [
      "Max percentage difference: 3.37%\n"
     ]
    }
   ],
   "source": [
    "print(\"Max percentage difference: {:.2f}%\".format(((ps_zonal_gen-ps_zonal_np)/ps_zonal_gen).max()*100.))"
   ]
  },
  {
   "cell_type": "markdown",
   "metadata": {},
   "source": [
    "# Usage Details"
   ]
  },
  {
   "cell_type": "markdown",
   "metadata": {},
   "source": [
    "Usage:"
   ]
  },
  {
   "cell_type": "markdown",
   "metadata": {},
   "source": [
    "```\n",
    "result = averager (data, axis= axisoptions , weights= weightoptions , action= actionoptions , returned= returnedoptions , combinewts=combinewtsoptions )\n",
    "```"
   ]
  },
  {
   "cell_type": "markdown",
   "metadata": {},
   "source": [
    "#### axisoptions\n",
    "\n",
    "    Default: 0 (the first dimension in the data you pass to the function).\n",
    "        Restrictions: axisoptions has to be a string. You can pass axis='tyx', or '123', or 'x (plev)' etc. the same\n",
    "        way as in order= options for variable operations EXCEPT that '...' (i.e Ellipses) are not allowed. If V is an\n",
    "        array of type Numeric or MA, the axisoptions can only be of the form '123'."
   ]
  },
  {
   "cell_type": "markdown",
   "metadata": {},
   "source": [
    "#### weightoptions\n",
    "\n",
    "'generate' | 'weighted' | 'equal' | 'unweighted' | array | Masked Variable\n",
    "\n",
    "    Default:\n",
    "\n",
    "    'weighted' for Transient Variables (MVs)\n",
    "    'unweighted' for MA or Numeric arrays.\n",
    "\n",
    "Note that depending on the array being operated on by averager, the default weights change!\n",
    "'weighted' or 'generate' means the averaging uses the grid information to generate weights for that dimension.\n",
    "'equal' or 'unweighted' means use equal weights for all the grid points in that axis.\n",
    "array is an array of weights (of the same shape as the dimension being averaged over or same shape as V) can be passed.\n",
    "\n",
    "Masked Variable means an MV of the same shape as V can be passed.\n",
    "\n",
    "Additional Notes:\n",
    "\n",
    "    'generate' or 'weighted':\n",
    "        The weights are generated using the bounds for the specified axis. For latitude and longitude, the weights \n",
    "        are calculated using the area (see the cdms manual grid.getWeights() for more details) whereas for the other\n",
    "        weights are the difference between the bounds (when the bounds are available). If the bounds are stored in\n",
    "        the file being read in, then those values are used. Otherwise, bounds are generated as long as\n",
    "        cdms.setAutoBounds ('on') is set. If cdms.setAutoBounds() is set to 'off', then an Error is raised."
   ]
  },
  {
   "cell_type": "markdown",
   "metadata": {},
   "source": [
    "#### actionoptions\n",
    "\n",
    "'average' | 'sum'\n",
    "\n",
    "    Default: 'average'\n",
    "\n",
    "    You can either return the weighted average or the weighted sum of the data."
   ]
  },
  {
   "cell_type": "markdown",
   "metadata": {},
   "source": [
    "#### returnedoptions\n",
    "\n",
    "0 | 1\n",
    "\n",
    "    Default: 0\n",
    "\n",
    "    0 implies that the sum of weights are not returned after averaging operation).\n",
    "\n",
    "    1 implies that the sum of weights after the average operation is returned.\n"
   ]
  },
  {
   "cell_type": "markdown",
   "metadata": {},
   "source": [
    "#### combinewtsoption\n",
    "\n",
    "0 | 1\n",
    "\n",
    "    Default: 0\n",
    "\n",
    "    0 implies weights passed for individual axes are not combined into one weight array for the full variable V before\n",
    "    performing operation.\n",
    "\n",
    "    1 implies weights passed for individual axes are combined into one weight array for the full variable before\n",
    "    performing average or sum operations. One- dimensional weight arrays or key words of ‘weighted’ or ‘unweighted’ \n",
    "    must be passed for the axes over which the operation is to be performed.\n",
    "\n",
    "    Additionally, weights for axes that are not being averaged or summed may also bepassed in the order in which they\n",
    "    appear. If the weights for the other axes are not passed, they are assumed to be equally weighted."
   ]
  },
  {
   "cell_type": "markdown",
   "metadata": {},
   "source": [
    "# Multiple Axes Operations\n",
    "\n",
    "## General Case\n",
    "\n",
    "`genutil` let you average over multiple operations at once:"
   ]
  },
  {
   "cell_type": "code",
   "execution_count": 5,
   "metadata": {},
   "outputs": [
    {
     "name": "stdout",
     "output_type": "stream",
     "text": [
      "[98506.73694889374 98506.73692899902 98506.73696174526 98506.73694023809\n",
      " 98506.73694071262 98506.73694012045 98506.73694027291 98506.73697412701\n",
      " 98506.73694064411 98506.73694002412 98506.73690655541 98506.73697967327]\n"
     ]
    }
   ],
   "source": [
    "ps_time_serie = genutil.averager(ps, axis='xy')\n",
    "print(ps_time_serie[:12])  # First year"
   ]
  },
  {
   "cell_type": "markdown",
   "metadata": {},
   "source": [
    "# Missing Values, Ordering Matters!\n",
    "\n",
    "`genutil` deals properly with missing values.\n",
    "\n",
    "But it is worth mentioning that when missing values are present the **ordering of operations matters** \n",
    "\n",
    "Please consider the following example (pure `numpy` for simplicity)\n",
    "\n",
    "Let's generate some masked data"
   ]
  },
  {
   "cell_type": "code",
   "execution_count": 6,
   "metadata": {},
   "outputs": [
    {
     "data": {
      "text/plain": [
       "masked_array(\n",
       "  data=[[3.0, 4.0, --, 7.0],\n",
       "        [--, 5.0, --, --],\n",
       "        [1.0, 2.0, 5.0, 5.0],\n",
       "        [--, --, 6.0, 4.0]],\n",
       "  mask=[[False, False,  True, False],\n",
       "        [ True, False,  True,  True],\n",
       "        [False, False, False, False],\n",
       "        [ True,  True, False, False]],\n",
       "  fill_value=999.0)"
      ]
     },
     "execution_count": 6,
     "metadata": {},
     "output_type": "execute_result"
    }
   ],
   "source": [
    "data = numpy.ma.array([[3,4,999,7], [999,5,999,999],[1,2,5,5],[999,999,6,4.]])\n",
    "data = numpy.ma.masked_equal(data, 999.)\n",
    "data"
   ]
  },
  {
   "cell_type": "markdown",
   "metadata": {},
   "source": [
    "Let's average over the 0 axis first"
   ]
  },
  {
   "cell_type": "code",
   "execution_count": 7,
   "metadata": {},
   "outputs": [
    {
     "name": "stdout",
     "output_type": "stream",
     "text": [
      "Y, X: 4.125\n"
     ]
    }
   ],
   "source": [
    "print(\"Y, X:\", numpy.ma.average(numpy.ma.average(data, axis=0)))"
   ]
  },
  {
   "cell_type": "markdown",
   "metadata": {},
   "source": [
    "Let's average over the second axis first:"
   ]
  },
  {
   "cell_type": "code",
   "execution_count": 8,
   "metadata": {},
   "outputs": [
    {
     "name": "stdout",
     "output_type": "stream",
     "text": [
      "X, Y: 4.479166666666667\n"
     ]
    }
   ],
   "source": [
    "print(\"X, Y:\", numpy.ma.average(numpy.ma.average(data, axis=-1)))"
   ]
  },
  {
   "cell_type": "markdown",
   "metadata": {},
   "source": [
    "Now let's average over al axes at once"
   ]
  },
  {
   "cell_type": "code",
   "execution_count": 7,
   "metadata": {},
   "outputs": [
    {
     "name": "stdout",
     "output_type": "stream",
     "text": [
      "All: 4.2\n"
     ]
    }
   ],
   "source": [
    "print(\"All:\", numpy.ma.average(data))"
   ]
  },
  {
   "cell_type": "markdown",
   "metadata": {},
   "source": [
    "As you can see when dealing with missing data the order of operation does matter.\n",
    "\n",
    "Fortunately `genutil.averager` can help with this by returning the weights"
   ]
  },
  {
   "cell_type": "code",
   "execution_count": 8,
   "metadata": {},
   "outputs": [
    {
     "name": "stdout",
     "output_type": "stream",
     "text": [
      "[2. 3. 2. 3.]\n",
      "4.2\n"
     ]
    }
   ],
   "source": [
    "temp, weights = genutil.averager(data, axis=0, returned=1)\n",
    "print(weights)\n",
    "print(genutil.averager(temp, weights=weights))  # Correct average"
   ]
  },
  {
   "cell_type": "code",
   "execution_count": 9,
   "metadata": {},
   "outputs": [
    {
     "name": "stdout",
     "output_type": "stream",
     "text": [
      "[3. 1. 4. 2.]\n",
      "4.2\n"
     ]
    }
   ],
   "source": [
    "temp, weights = genutil.averager(data, axis=1, returned=1)\n",
    "print(weights)\n",
    "print(genutil.averager(temp, weights=weights))  # Correct average"
   ]
  },
  {
   "cell_type": "code",
   "execution_count": 10,
   "metadata": {},
   "outputs": [
    {
     "data": {
      "text/plain": [
       "variable_80\n",
       "masked_array(data=4.2,\n",
       "             mask=False,\n",
       "       fill_value=1e+20)"
      ]
     },
     "execution_count": 10,
     "metadata": {},
     "output_type": "execute_result"
    }
   ],
   "source": [
    "cdms2.setAutoBounds(1)\n",
    "data2 = cdms2.MV2.array(data)\n",
    "genutil.averager(data2, axis='(axis_0)(axis_1)')"
   ]
  }
 ],
 "metadata": {
  "kernelspec": {
   "display_name": "Python 3",
   "language": "python",
   "name": "python3"
  },
  "language_info": {
   "codemirror_mode": {
    "name": "ipython",
    "version": 3
   },
   "file_extension": ".py",
   "mimetype": "text/x-python",
   "name": "python",
   "nbconvert_exporter": "python",
   "pygments_lexer": "ipython3",
   "version": "3.7.3"
  },
  "selected_variables": [],
  "vcdat_file_path": "",
  "vcdat_loaded_variables": [],
  "vcdat_variable_info": {}
 },
 "nbformat": 4,
 "nbformat_minor": 4
}
