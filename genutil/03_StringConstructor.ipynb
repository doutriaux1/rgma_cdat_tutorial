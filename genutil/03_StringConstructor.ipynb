{
 "cells": [
  {
   "cell_type": "markdown",
   "metadata": {},
   "source": [
    "# The String Constructor\n",
    "\n",
    "\n",
    "One of the most tidious part of dealing with CMIP data is constructing path and file name, usually in loops.\n",
    "\n",
    "The string constructors helps programmatically build such path.\n",
    "\n",
    "These objects are defined from a template and a set of **keys** in the template.\n",
    "\n",
    "For example when I load data as follow:"
   ]
  },
  {
   "cell_type": "code",
   "execution_count": 23,
   "metadata": {},
   "outputs": [],
   "source": [
    "ipsl_tas_file = cdms2.open(\"/global/cscratch1/sd/cmip6/CMIP6/CMIP/NOAA-GFDL/GFDL-CM4/historical/r1i1p1f1/Amon/pr/gr1/v20180701/pr_Amon_GFDL-CM4_historical_r1i1p1f1_gr1_195001-201412.nc\")"
   ]
  },
  {
   "cell_type": "markdown",
   "metadata": {},
   "source": [
    "I follow a local template to know where the nc file is which can be represented as follow:\n",
    "\n",
    "[root]/[collection]/[type]/[institution]/[model]/[experiment]/[member]/[table]/[variable]/[grid]/[version]/[variable]_[table]_[model]_[experiment]_[member]_[grid]_[period].nc\n",
    "\n",
    "We sure could loop through some of these and construct each time but it can be hard to read\n",
    "\n",
    "Instead let's construct a string constructor object.\n",
    "\n",
    "For StringConstructor object our *keys* must be delimited as: `%(key)`"
   ]
  },
  {
   "cell_type": "code",
   "execution_count": 24,
   "metadata": {},
   "outputs": [],
   "source": [
    "import genutil\n",
    "template = '%(root)/%(collection)/%(type)/%(institution)/%(model)/%(experiment)/%(member)/%(table)/%(variable)/%(grid)/%(version)/%(variable)_%(table)_%(model)_%(experiment)_%(member)_%(grid)_%(period).nc'\n",
    "path = genutil.StringConstructor(template)"
   ]
  },
  {
   "cell_type": "markdown",
   "metadata": {},
   "source": [
    "We can easily retrieve the defined keys as follow:"
   ]
  },
  {
   "cell_type": "code",
   "execution_count": 25,
   "metadata": {},
   "outputs": [
    {
     "data": {
      "text/plain": [
       "['root',\n",
       " 'collection',\n",
       " 'type',\n",
       " 'institution',\n",
       " 'model',\n",
       " 'experiment',\n",
       " 'member',\n",
       " 'table',\n",
       " 'variable',\n",
       " 'grid',\n",
       " 'version',\n",
       " 'period']"
      ]
     },
     "execution_count": 25,
     "metadata": {},
     "output_type": "execute_result"
    }
   ],
   "source": [
    "path.keys()"
   ]
  },
  {
   "cell_type": "markdown",
   "metadata": {},
   "source": [
    "In our case the `root` is fixed to: `/global/cscratch1/sd/cmip6`\n",
    "Our collection in this exampe will `CMIP6` with the `type` `CMIP`, let's fix this:"
   ]
  },
  {
   "cell_type": "code",
   "execution_count": 26,
   "metadata": {},
   "outputs": [],
   "source": [
    "path.root = '/global/cscratch1/sd/cmip6'  # this allows to easily change this from one machine to another\n",
    "path.collection = 'CMIP6'\n",
    "path.type = 'CMIP'"
   ]
  },
  {
   "cell_type": "markdown",
   "metadata": {},
   "source": [
    "Going back to our original example (`/global/cscratch1/sd/cmip6/CMIP6/CMIP/NOAA-GFDL/GFDL-CM4/historical/r1i1p1f1/Amon/pr/gr1/v20180701/pr_Amon_GFDL-CM4_historical_r1i1p1f1_gr1_195001-201412.nc`) let's fill the remaining keys:"
   ]
  },
  {
   "cell_type": "code",
   "execution_count": 27,
   "metadata": {},
   "outputs": [],
   "source": [
    "path.institution = 'NOAA-GFDL'\n",
    "path.model = 'GFDL-CM4'\n",
    "path.experiment = 'historical'\n",
    "path.member = 'r1i1p1f1'\n",
    "path.table = 'Amon'\n",
    "path.variable = 'tas'\n",
    "path.grid = 'gr1'\n",
    "path.version = 'v20180701'\n",
    "path.period = '195001-201412'"
   ]
  },
  {
   "cell_type": "markdown",
   "metadata": {},
   "source": [
    "Now let's build that string:"
   ]
  },
  {
   "cell_type": "code",
   "execution_count": 28,
   "metadata": {},
   "outputs": [
    {
     "name": "stdout",
     "output_type": "stream",
     "text": [
      "File located at: /global/cscratch1/sd/cmip6/CMIP6/CMIP/NOAA-GFDL/GFDL-CM4/historical/r1i1p1f1/Amon/tas/gr1/v20180701/tas_Amon_GFDL-CM4_historical_r1i1p1f1_gr1_195001-201412.nc\n"
     ]
    }
   ],
   "source": [
    "print(\"File located at:\", path())"
   ]
  },
  {
   "cell_type": "markdown",
   "metadata": {},
   "source": [
    "This probably looks silly in this example but let's see some power of this\n",
    "\n",
    "Let's look at all available files:"
   ]
  },
  {
   "cell_type": "code",
   "execution_count": 30,
   "metadata": {},
   "outputs": [
    {
     "name": "stdout",
     "output_type": "stream",
     "text": [
      "['/global/cscratch1/sd/cmip6/CMIP6/CMIP/NOAA-GFDL/GFDL-CM4/historical/r1i1p1f1/Amon/tas/gr1/v20180701/tas_Amon_GFDL-CM4_historical_r1i1p1f1_gr1_185001-194912.nc', '/global/cscratch1/sd/cmip6/CMIP6/CMIP/NOAA-GFDL/GFDL-CM4/historical/r1i1p1f1/Amon/tas/gr1/v20180701/tas_Amon_GFDL-CM4_historical_r1i1p1f1_gr1_195001-201412.nc']\n"
     ]
    }
   ],
   "source": [
    "import glob\n",
    "path.period = '*'\n",
    "print(sorted(glob.glob(path())))"
   ]
  },
  {
   "cell_type": "markdown",
   "metadata": {},
   "source": [
    "Now let's list all the files available for `historical` experiment in the `Amon` table"
   ]
  },
  {
   "cell_type": "code",
   "execution_count": 17,
   "metadata": {},
   "outputs": [
    {
     "name": "stdout",
     "output_type": "stream",
     "text": [
      "PATH GENERAL: /global/cscratch1/sd/cmip6/CMIP6/CMIP/*/*/historical/*/Amon/*/*/*/*_Amon_*_historical_*_*_*.nc\n",
      "/global/cscratch1/sd/cmip6/CMIP6/CMIP/EC-Earth-Consortium/EC-Earth3/historical/r1i1p1f1/Amon/prw/gr/v20190711/prw_Amon_EC-Earth3_historical_r1i1p1f1_gr_200401-200412.nc\n",
      "/global/cscratch1/sd/cmip6/CMIP6/CMIP/EC-Earth-Consortium/EC-Earth3/historical/r1i1p1f1/Amon/prw/gr/v20190711/prw_Amon_EC-Earth3_historical_r1i1p1f1_gr_193701-193712.nc\n",
      "/global/cscratch1/sd/cmip6/CMIP6/CMIP/EC-Earth-Consortium/EC-Earth3/historical/r1i1p1f1/Amon/prw/gr/v20190711/prw_Amon_EC-Earth3_historical_r1i1p1f1_gr_185601-185612.nc\n",
      "/global/cscratch1/sd/cmip6/CMIP6/CMIP/EC-Earth-Consortium/EC-Earth3/historical/r1i1p1f1/Amon/prw/gr/v20190711/prw_Amon_EC-Earth3_historical_r1i1p1f1_gr_192201-192212.nc\n",
      "/global/cscratch1/sd/cmip6/CMIP6/CMIP/EC-Earth-Consortium/EC-Earth3/historical/r1i1p1f1/Amon/prw/gr/v20190711/prw_Amon_EC-Earth3_historical_r1i1p1f1_gr_185201-185212.nc\n",
      "/global/cscratch1/sd/cmip6/CMIP6/CMIP/EC-Earth-Consortium/EC-Earth3/historical/r1i1p1f1/Amon/prw/gr/v20190711/prw_Amon_EC-Earth3_historical_r1i1p1f1_gr_188201-188212.nc\n",
      "/global/cscratch1/sd/cmip6/CMIP6/CMIP/EC-Earth-Consortium/EC-Earth3/historical/r1i1p1f1/Amon/prw/gr/v20190711/prw_Amon_EC-Earth3_historical_r1i1p1f1_gr_198801-198812.nc\n",
      "/global/cscratch1/sd/cmip6/CMIP6/CMIP/EC-Earth-Consortium/EC-Earth3/historical/r1i1p1f1/Amon/prw/gr/v20190711/prw_Amon_EC-Earth3_historical_r1i1p1f1_gr_196001-196012.nc\n",
      "/global/cscratch1/sd/cmip6/CMIP6/CMIP/EC-Earth-Consortium/EC-Earth3/historical/r1i1p1f1/Amon/prw/gr/v20190711/prw_Amon_EC-Earth3_historical_r1i1p1f1_gr_190301-190312.nc\n",
      "/global/cscratch1/sd/cmip6/CMIP6/CMIP/EC-Earth-Consortium/EC-Earth3/historical/r1i1p1f1/Amon/prw/gr/v20190711/prw_Amon_EC-Earth3_historical_r1i1p1f1_gr_196601-196612.nc\n",
      "Total: 53802\n"
     ]
    }
   ],
   "source": [
    "path.experiment = 'historical'\n",
    "path.table = 'Amon'\n",
    "path.institution = \"*\"\n",
    "path.model = \"*\"\n",
    "path.grid = '*'\n",
    "path.period = '*'\n",
    "path.member = '*'\n",
    "path.variable = '*'\n",
    "path.version = '*'\n",
    "print(\"PATH GENERAL:\", path())\n",
    "all_hist_Amon = glob.glob(path())\n",
    "for pth in all_hist_Amon[:10]:  # First 10\n",
    "    print(pth)\n",
    "print(\"Total:\", len(all_hist_Amon))"
   ]
  },
  {
   "cell_type": "markdown",
   "metadata": {},
   "source": [
    "We can now construct list of some of keys"
   ]
  },
  {
   "cell_type": "code",
   "execution_count": null,
   "metadata": {},
   "outputs": [],
   "source": [
    "institutions = set()\n",
    "models = set()\n",
    "variables = set()\n",
    "for nm in all_hist_Amon:\n",
    "    sp = nm.split(\"/\")\n",
    "    institutions.add(sp[6])\n",
    "    models.add(sp[7])\n",
    "    variables.add(sp[12])\n",
    "print(\"Institutions:\", institutions)\n",
    "print(\"Models:\", models)\n",
    "print(\"Variables:\", variables)"
   ]
  },
  {
   "cell_type": "markdown",
   "metadata": {},
   "source": [
    "Let's focus only on `r1i1p1f1` members for variable `pr`"
   ]
  },
  {
   "cell_type": "code",
   "execution_count": 20,
   "metadata": {},
   "outputs": [
    {
     "name": "stdout",
     "output_type": "stream",
     "text": [
      "0 /global/cscratch1/sd/cmip6/CMIP6/CMIP/EC-Earth-Consortium/EC-Earth3/historical/r1i1p1f1/Amon/pr/gr/v20190711/pr_Amon_EC-Earth3_historical_r1i1p1f1_gr_198401-198412.nc shape: (12, 256, 512)\n",
      "1 /global/cscratch1/sd/cmip6/CMIP6/CMIP/EC-Earth-Consortium/EC-Earth3/historical/r1i1p1f1/Amon/pr/gr/v20190711/pr_Amon_EC-Earth3_historical_r1i1p1f1_gr_185301-185312.nc shape: (12, 256, 512)\n",
      "2 /global/cscratch1/sd/cmip6/CMIP6/CMIP/EC-Earth-Consortium/EC-Earth3/historical/r1i1p1f1/Amon/pr/gr/v20190711/pr_Amon_EC-Earth3_historical_r1i1p1f1_gr_196801-196812.nc shape: (12, 256, 512)\n",
      "3 /global/cscratch1/sd/cmip6/CMIP6/CMIP/EC-Earth-Consortium/EC-Earth3/historical/r1i1p1f1/Amon/pr/gr/v20190711/pr_Amon_EC-Earth3_historical_r1i1p1f1_gr_191901-191912.nc shape: (12, 256, 512)\n",
      "4 /global/cscratch1/sd/cmip6/CMIP6/CMIP/EC-Earth-Consortium/EC-Earth3/historical/r1i1p1f1/Amon/pr/gr/v20190711/pr_Amon_EC-Earth3_historical_r1i1p1f1_gr_186801-186812.nc shape: (12, 256, 512)\n",
      "5 /global/cscratch1/sd/cmip6/CMIP6/CMIP/EC-Earth-Consortium/EC-Earth3/historical/r1i1p1f1/Amon/pr/gr/v20190711/pr_Amon_EC-Earth3_historical_r1i1p1f1_gr_196901-196912.nc shape: (12, 256, 512)\n",
      "6 /global/cscratch1/sd/cmip6/CMIP6/CMIP/EC-Earth-Consortium/EC-Earth3/historical/r1i1p1f1/Amon/pr/gr/v20190711/pr_Amon_EC-Earth3_historical_r1i1p1f1_gr_194201-194212.nc shape: (12, 256, 512)\n",
      "7 /global/cscratch1/sd/cmip6/CMIP6/CMIP/EC-Earth-Consortium/EC-Earth3/historical/r1i1p1f1/Amon/pr/gr/v20190711/pr_Amon_EC-Earth3_historical_r1i1p1f1_gr_195201-195212.nc shape: (12, 256, 512)\n",
      "8 /global/cscratch1/sd/cmip6/CMIP6/CMIP/EC-Earth-Consortium/EC-Earth3/historical/r1i1p1f1/Amon/pr/gr/v20190711/pr_Amon_EC-Earth3_historical_r1i1p1f1_gr_195401-195412.nc shape: (12, 256, 512)\n",
      "9 /global/cscratch1/sd/cmip6/CMIP6/CMIP/EC-Earth-Consortium/EC-Earth3/historical/r1i1p1f1/Amon/pr/gr/v20190711/pr_Amon_EC-Earth3_historical_r1i1p1f1_gr_192101-192112.nc shape: (12, 256, 512)\n",
      "10 /global/cscratch1/sd/cmip6/CMIP6/CMIP/EC-Earth-Consortium/EC-Earth3/historical/r1i1p1f1/Amon/pr/gr/v20190711/pr_Amon_EC-Earth3_historical_r1i1p1f1_gr_199901-199912.nc shape: (12, 256, 512)\n",
      "11 /global/cscratch1/sd/cmip6/CMIP6/CMIP/EC-Earth-Consortium/EC-Earth3/historical/r1i1p1f1/Amon/pr/gr/v20190711/pr_Amon_EC-Earth3_historical_r1i1p1f1_gr_200001-200012.nc shape: (12, 256, 512)\n",
      "12 /global/cscratch1/sd/cmip6/CMIP6/CMIP/EC-Earth-Consortium/EC-Earth3/historical/r1i1p1f1/Amon/pr/gr/v20190711/pr_Amon_EC-Earth3_historical_r1i1p1f1_gr_196601-196612.nc shape: (12, 256, 512)\n",
      "13 /global/cscratch1/sd/cmip6/CMIP6/CMIP/EC-Earth-Consortium/EC-Earth3/historical/r1i1p1f1/Amon/pr/gr/v20190711/pr_Amon_EC-Earth3_historical_r1i1p1f1_gr_187301-187312.nc shape: (12, 256, 512)\n",
      "14 /global/cscratch1/sd/cmip6/CMIP6/CMIP/EC-Earth-Consortium/EC-Earth3/historical/r1i1p1f1/Amon/pr/gr/v20190711/pr_Amon_EC-Earth3_historical_r1i1p1f1_gr_185201-185212.nc shape: (12, 256, 512)\n",
      "15 /global/cscratch1/sd/cmip6/CMIP6/CMIP/EC-Earth-Consortium/EC-Earth3/historical/r1i1p1f1/Amon/pr/gr/v20190711/pr_Amon_EC-Earth3_historical_r1i1p1f1_gr_199201-199212.nc shape: (12, 256, 512)\n",
      "16 /global/cscratch1/sd/cmip6/CMIP6/CMIP/EC-Earth-Consortium/EC-Earth3/historical/r1i1p1f1/Amon/pr/gr/v20190711/pr_Amon_EC-Earth3_historical_r1i1p1f1_gr_188501-188512.nc shape: (12, 256, 512)\n",
      "17 /global/cscratch1/sd/cmip6/CMIP6/CMIP/EC-Earth-Consortium/EC-Earth3/historical/r1i1p1f1/Amon/pr/gr/v20190711/pr_Amon_EC-Earth3_historical_r1i1p1f1_gr_190501-190512.nc shape: (12, 256, 512)\n",
      "18 /global/cscratch1/sd/cmip6/CMIP6/CMIP/EC-Earth-Consortium/EC-Earth3/historical/r1i1p1f1/Amon/pr/gr/v20190711/pr_Amon_EC-Earth3_historical_r1i1p1f1_gr_193901-193912.nc shape: (12, 256, 512)\n",
      "19 /global/cscratch1/sd/cmip6/CMIP6/CMIP/EC-Earth-Consortium/EC-Earth3/historical/r1i1p1f1/Amon/pr/gr/v20190711/pr_Amon_EC-Earth3_historical_r1i1p1f1_gr_185001-185012.nc shape: (12, 256, 512)\n",
      "20 /global/cscratch1/sd/cmip6/CMIP6/CMIP/EC-Earth-Consortium/EC-Earth3/historical/r1i1p1f1/Amon/pr/gr/v20190711/pr_Amon_EC-Earth3_historical_r1i1p1f1_gr_192901-192912.nc shape: (12, 256, 512)\n",
      "21 /global/cscratch1/sd/cmip6/CMIP6/CMIP/EC-Earth-Consortium/EC-Earth3/historical/r1i1p1f1/Amon/pr/gr/v20190711/pr_Amon_EC-Earth3_historical_r1i1p1f1_gr_188801-188812.nc shape: (12, 256, 512)\n",
      "22 /global/cscratch1/sd/cmip6/CMIP6/CMIP/EC-Earth-Consortium/EC-Earth3-Veg/historical/r1i1p1f1/Amon/pr/gr/v20190605/pr_Amon_EC-Earth3-Veg_historical_r1i1p1f1_gr_188101-188112.nc shape: (12, 256, 512)\n",
      "23 /global/cscratch1/sd/cmip6/CMIP6/CMIP/EC-Earth-Consortium/EC-Earth3-Veg/historical/r1i1p1f1/Amon/pr/gr/v20190605/pr_Amon_EC-Earth3-Veg_historical_r1i1p1f1_gr_201401-201412.nc shape: (12, 256, 512)\n",
      "24 /global/cscratch1/sd/cmip6/CMIP6/CMIP/EC-Earth-Consortium/EC-Earth3-Veg/historical/r1i1p1f1/Amon/pr/gr/v20190605/pr_Amon_EC-Earth3-Veg_historical_r1i1p1f1_gr_188501-188512.nc shape: (12, 256, 512)\n",
      "25 /global/cscratch1/sd/cmip6/CMIP6/CMIP/EC-Earth-Consortium/EC-Earth3-Veg/historical/r1i1p1f1/Amon/pr/gr/v20190605/pr_Amon_EC-Earth3-Veg_historical_r1i1p1f1_gr_196601-196612.nc shape: (12, 256, 512)\n",
      "26 /global/cscratch1/sd/cmip6/CMIP6/CMIP/EC-Earth-Consortium/EC-Earth3-Veg/historical/r1i1p1f1/Amon/pr/gr/v20190605/pr_Amon_EC-Earth3-Veg_historical_r1i1p1f1_gr_198801-198812.nc shape: (12, 256, 512)\n",
      "27 /global/cscratch1/sd/cmip6/CMIP6/CMIP/EC-Earth-Consortium/EC-Earth3-Veg/historical/r1i1p1f1/Amon/pr/gr/v20190605/pr_Amon_EC-Earth3-Veg_historical_r1i1p1f1_gr_201001-201012.nc shape: (12, 256, 512)\n",
      "28 /global/cscratch1/sd/cmip6/CMIP6/CMIP/EC-Earth-Consortium/EC-Earth3-Veg/historical/r1i1p1f1/Amon/pr/gr/v20190605/pr_Amon_EC-Earth3-Veg_historical_r1i1p1f1_gr_195501-195512.nc shape: (12, 256, 512)\n",
      "29 /global/cscratch1/sd/cmip6/CMIP6/CMIP/EC-Earth-Consortium/EC-Earth3-Veg/historical/r1i1p1f1/Amon/pr/gr/v20190605/pr_Amon_EC-Earth3-Veg_historical_r1i1p1f1_gr_194601-194612.nc shape: (12, 256, 512)\n",
      "30 /global/cscratch1/sd/cmip6/CMIP6/CMIP/EC-Earth-Consortium/EC-Earth3-Veg/historical/r1i1p1f1/Amon/pr/gr/v20190605/pr_Amon_EC-Earth3-Veg_historical_r1i1p1f1_gr_190901-190912.nc shape: (12, 256, 512)\n",
      "31 /global/cscratch1/sd/cmip6/CMIP6/CMIP/EC-Earth-Consortium/EC-Earth3-Veg/historical/r1i1p1f1/Amon/pr/gr/v20190605/pr_Amon_EC-Earth3-Veg_historical_r1i1p1f1_gr_193401-193412.nc shape: (12, 256, 512)\n",
      "32 /global/cscratch1/sd/cmip6/CMIP6/CMIP/EC-Earth-Consortium/EC-Earth3-Veg/historical/r1i1p1f1/Amon/pr/gr/v20190605/pr_Amon_EC-Earth3-Veg_historical_r1i1p1f1_gr_199001-199012.nc shape: (12, 256, 512)\n",
      "33 /global/cscratch1/sd/cmip6/CMIP6/CMIP/EC-Earth-Consortium/EC-Earth3-Veg/historical/r1i1p1f1/Amon/pr/gr/v20190605/pr_Amon_EC-Earth3-Veg_historical_r1i1p1f1_gr_198501-198512.nc shape: (12, 256, 512)\n",
      "34 /global/cscratch1/sd/cmip6/CMIP6/CMIP/EC-Earth-Consortium/EC-Earth3-Veg/historical/r1i1p1f1/Amon/pr/gr/v20190605/pr_Amon_EC-Earth3-Veg_historical_r1i1p1f1_gr_200501-200512.nc shape: (12, 256, 512)\n",
      "35 /global/cscratch1/sd/cmip6/CMIP6/CMIP/EC-Earth-Consortium/EC-Earth3-Veg/historical/r1i1p1f1/Amon/pr/gr/v20190605/pr_Amon_EC-Earth3-Veg_historical_r1i1p1f1_gr_197601-197612.nc shape: (12, 256, 512)\n",
      "36 /global/cscratch1/sd/cmip6/CMIP6/CMIP/EC-Earth-Consortium/EC-Earth3-Veg/historical/r1i1p1f1/Amon/pr/gr/v20190605/pr_Amon_EC-Earth3-Veg_historical_r1i1p1f1_gr_189901-189912.nc shape: (12, 256, 512)\n",
      "37 /global/cscratch1/sd/cmip6/CMIP6/CMIP/EC-Earth-Consortium/EC-Earth3-Veg/historical/r1i1p1f1/Amon/pr/gr/v20190605/pr_Amon_EC-Earth3-Veg_historical_r1i1p1f1_gr_201301-201312.nc shape: (12, 256, 512)\n",
      "38 /global/cscratch1/sd/cmip6/CMIP6/CMIP/EC-Earth-Consortium/EC-Earth3-Veg/historical/r1i1p1f1/Amon/pr/gr/v20190605/pr_Amon_EC-Earth3-Veg_historical_r1i1p1f1_gr_191101-191112.nc shape: (12, 256, 512)\n",
      "39 /global/cscratch1/sd/cmip6/CMIP6/CMIP/EC-Earth-Consortium/EC-Earth3-Veg/historical/r1i1p1f1/Amon/pr/gr/v20190605/pr_Amon_EC-Earth3-Veg_historical_r1i1p1f1_gr_189001-189012.nc shape: (12, 256, 512)\n",
      "40 /global/cscratch1/sd/cmip6/CMIP6/CMIP/EC-Earth-Consortium/EC-Earth3-Veg/historical/r1i1p1f1/Amon/pr/gr/v20190605/pr_Amon_EC-Earth3-Veg_historical_r1i1p1f1_gr_186801-186812.nc shape: (12, 256, 512)\n",
      "41 /global/cscratch1/sd/cmip6/CMIP6/CMIP/EC-Earth-Consortium/EC-Earth3-Veg/historical/r1i1p1f1/Amon/pr/gr/v20190605/pr_Amon_EC-Earth3-Veg_historical_r1i1p1f1_gr_186401-186412.nc shape: (12, 256, 512)\n",
      "42 /global/cscratch1/sd/cmip6/CMIP6/CMIP/EC-Earth-Consortium/EC-Earth3-Veg/historical/r1i1p1f1/Amon/pr/gr/v20190605/pr_Amon_EC-Earth3-Veg_historical_r1i1p1f1_gr_197701-197712.nc shape: (12, 256, 512)\n",
      "43 /global/cscratch1/sd/cmip6/CMIP6/CMIP/EC-Earth-Consortium/EC-Earth3-Veg/historical/r1i1p1f1/Amon/pr/gr/v20190605/pr_Amon_EC-Earth3-Veg_historical_r1i1p1f1_gr_198601-198612.nc shape: (12, 256, 512)\n",
      "44 /global/cscratch1/sd/cmip6/CMIP6/CMIP/EC-Earth-Consortium/EC-Earth3-Veg/historical/r1i1p1f1/Amon/pr/gr/v20190605/pr_Amon_EC-Earth3-Veg_historical_r1i1p1f1_gr_194801-194812.nc shape: (12, 256, 512)\n",
      "45 /global/cscratch1/sd/cmip6/CMIP6/CMIP/EC-Earth-Consortium/EC-Earth3-Veg/historical/r1i1p1f1/Amon/pr/gr/v20190605/pr_Amon_EC-Earth3-Veg_historical_r1i1p1f1_gr_188301-188312.nc shape: (12, 256, 512)\n",
      "46 /global/cscratch1/sd/cmip6/CMIP6/CMIP/EC-Earth-Consortium/EC-Earth3-Veg/historical/r1i1p1f1/Amon/pr/gr/v20190605/pr_Amon_EC-Earth3-Veg_historical_r1i1p1f1_gr_197301-197312.nc shape: (12, 256, 512)\n",
      "47 /global/cscratch1/sd/cmip6/CMIP6/CMIP/EC-Earth-Consortium/EC-Earth3-Veg/historical/r1i1p1f1/Amon/pr/gr/v20190605/pr_Amon_EC-Earth3-Veg_historical_r1i1p1f1_gr_189701-189712.nc shape: (12, 256, 512)\n",
      "48 /global/cscratch1/sd/cmip6/CMIP6/CMIP/EC-Earth-Consortium/EC-Earth3-Veg/historical/r1i1p1f1/Amon/pr/gr/v20190605/pr_Amon_EC-Earth3-Veg_historical_r1i1p1f1_gr_191801-191812.nc shape: (12, 256, 512)\n",
      "49 /global/cscratch1/sd/cmip6/CMIP6/CMIP/EC-Earth-Consortium/EC-Earth3-Veg/historical/r1i1p1f1/Amon/pr/gr/v20190605/pr_Amon_EC-Earth3-Veg_historical_r1i1p1f1_gr_187401-187412.nc shape: (12, 256, 512)\n",
      "50 /global/cscratch1/sd/cmip6/CMIP6/CMIP/EC-Earth-Consortium/EC-Earth3-Veg/historical/r1i1p1f1/Amon/pr/gr/v20190605/pr_Amon_EC-Earth3-Veg_historical_r1i1p1f1_gr_196501-196512.nc shape: (12, 256, 512)\n",
      "51 /global/cscratch1/sd/cmip6/CMIP6/CMIP/EC-Earth-Consortium/EC-Earth3-Veg/historical/r1i1p1f1/Amon/pr/gr/v20190605/pr_Amon_EC-Earth3-Veg_historical_r1i1p1f1_gr_186101-186112.nc shape: (12, 256, 512)\n",
      "52 /global/cscratch1/sd/cmip6/CMIP6/CMIP/EC-Earth-Consortium/EC-Earth3-Veg/historical/r1i1p1f1/Amon/pr/gr/v20190605/pr_Amon_EC-Earth3-Veg_historical_r1i1p1f1_gr_193301-193312.nc shape: (12, 256, 512)\n",
      "53 /global/cscratch1/sd/cmip6/CMIP6/CMIP/EC-Earth-Consortium/EC-Earth3-Veg/historical/r1i1p1f1/Amon/pr/gr/v20190605/pr_Amon_EC-Earth3-Veg_historical_r1i1p1f1_gr_191901-191912.nc shape: (12, 256, 512)\n",
      "54 /global/cscratch1/sd/cmip6/CMIP6/CMIP/EC-Earth-Consortium/EC-Earth3-Veg/historical/r1i1p1f1/Amon/pr/gr/v20190605/pr_Amon_EC-Earth3-Veg_historical_r1i1p1f1_gr_192101-192112.nc shape: (12, 256, 512)\n",
      "55 /global/cscratch1/sd/cmip6/CMIP6/CMIP/EC-Earth-Consortium/EC-Earth3-Veg/historical/r1i1p1f1/Amon/pr/gr/v20190605/pr_Amon_EC-Earth3-Veg_historical_r1i1p1f1_gr_198201-198212.nc shape: (12, 256, 512)\n",
      "56 /global/cscratch1/sd/cmip6/CMIP6/CMIP/EC-Earth-Consortium/EC-Earth3-Veg/historical/r1i1p1f1/Amon/pr/gr/v20190605/pr_Amon_EC-Earth3-Veg_historical_r1i1p1f1_gr_195001-195012.nc shape: (12, 256, 512)\n",
      "57 /global/cscratch1/sd/cmip6/CMIP6/CMIP/EC-Earth-Consortium/EC-Earth3-Veg/historical/r1i1p1f1/Amon/pr/gr/v20190605/pr_Amon_EC-Earth3-Veg_historical_r1i1p1f1_gr_185501-185512.nc shape: (12, 256, 512)\n",
      "58 /global/cscratch1/sd/cmip6/CMIP6/CMIP/EC-Earth-Consortium/EC-Earth3-Veg/historical/r1i1p1f1/Amon/pr/gr/v20190605/pr_Amon_EC-Earth3-Veg_historical_r1i1p1f1_gr_189501-189512.nc shape: (12, 256, 512)\n",
      "59 /global/cscratch1/sd/cmip6/CMIP6/CMIP/EC-Earth-Consortium/EC-Earth3-Veg/historical/r1i1p1f1/Amon/pr/gr/v20190605/pr_Amon_EC-Earth3-Veg_historical_r1i1p1f1_gr_199901-199912.nc shape: (12, 256, 512)\n",
      "60 /global/cscratch1/sd/cmip6/CMIP6/CMIP/EC-Earth-Consortium/EC-Earth3-Veg/historical/r1i1p1f1/Amon/pr/gr/v20190605/pr_Amon_EC-Earth3-Veg_historical_r1i1p1f1_gr_191501-191512.nc shape: (12, 256, 512)\n",
      "61 /global/cscratch1/sd/cmip6/CMIP6/CMIP/EC-Earth-Consortium/EC-Earth3-Veg/historical/r1i1p1f1/Amon/pr/gr/v20190605/pr_Amon_EC-Earth3-Veg_historical_r1i1p1f1_gr_192601-192612.nc shape: (12, 256, 512)\n",
      "62 /global/cscratch1/sd/cmip6/CMIP6/CMIP/EC-Earth-Consortium/EC-Earth3-Veg/historical/r1i1p1f1/Amon/pr/gr/v20190605/pr_Amon_EC-Earth3-Veg_historical_r1i1p1f1_gr_192401-192412.nc shape: (12, 256, 512)\n",
      "63 /global/cscratch1/sd/cmip6/CMIP6/CMIP/EC-Earth-Consortium/EC-Earth3-Veg/historical/r1i1p1f1/Amon/pr/gr/v20190605/pr_Amon_EC-Earth3-Veg_historical_r1i1p1f1_gr_188701-188712.nc shape: (12, 256, 512)\n",
      "64 /global/cscratch1/sd/cmip6/CMIP6/CMIP/EC-Earth-Consortium/EC-Earth3-Veg/historical/r1i1p1f1/Amon/pr/gr/v20190605/pr_Amon_EC-Earth3-Veg_historical_r1i1p1f1_gr_193001-193012.nc shape: (12, 256, 512)\n",
      "65 /global/cscratch1/sd/cmip6/CMIP6/CMIP/EC-Earth-Consortium/EC-Earth3-Veg/historical/r1i1p1f1/Amon/pr/gr/v20190605/pr_Amon_EC-Earth3-Veg_historical_r1i1p1f1_gr_185601-185612.nc shape: (12, 256, 512)\n",
      "66 /global/cscratch1/sd/cmip6/CMIP6/CMIP/EC-Earth-Consortium/EC-Earth3-Veg/historical/r1i1p1f1/Amon/pr/gr/v20190605/pr_Amon_EC-Earth3-Veg_historical_r1i1p1f1_gr_192801-192812.nc shape: (12, 256, 512)\n",
      "67 /global/cscratch1/sd/cmip6/CMIP6/CMIP/EC-Earth-Consortium/EC-Earth3-Veg/historical/r1i1p1f1/Amon/pr/gr/v20190605/pr_Amon_EC-Earth3-Veg_historical_r1i1p1f1_gr_188001-188012.nc shape: (12, 256, 512)\n",
      "68 /global/cscratch1/sd/cmip6/CMIP6/CMIP/EC-Earth-Consortium/EC-Earth3-Veg/historical/r1i1p1f1/Amon/pr/gr/v20190605/pr_Amon_EC-Earth3-Veg_historical_r1i1p1f1_gr_187201-187212.nc shape: (12, 256, 512)\n",
      "69 /global/cscratch1/sd/cmip6/CMIP6/CMIP/EC-Earth-Consortium/EC-Earth3-Veg/historical/r1i1p1f1/Amon/pr/gr/v20190605/pr_Amon_EC-Earth3-Veg_historical_r1i1p1f1_gr_201201-201212.nc shape: (12, 256, 512)\n",
      "70 /global/cscratch1/sd/cmip6/CMIP6/CMIP/EC-Earth-Consortium/EC-Earth3-Veg/historical/r1i1p1f1/Amon/pr/gr/v20190605/pr_Amon_EC-Earth3-Veg_historical_r1i1p1f1_gr_194901-194912.nc shape: (12, 256, 512)\n",
      "71 /global/cscratch1/sd/cmip6/CMIP6/CMIP/EC-Earth-Consortium/EC-Earth3-Veg/historical/r1i1p1f1/Amon/pr/gr/v20190605/pr_Amon_EC-Earth3-Veg_historical_r1i1p1f1_gr_189401-189412.nc shape: (12, 256, 512)\n",
      "72 /global/cscratch1/sd/cmip6/CMIP6/CMIP/EC-Earth-Consortium/EC-Earth3-Veg/historical/r1i1p1f1/Amon/pr/gr/v20190605/pr_Amon_EC-Earth3-Veg_historical_r1i1p1f1_gr_187301-187312.nc shape: (12, 256, 512)\n",
      "73 /global/cscratch1/sd/cmip6/CMIP6/CMIP/EC-Earth-Consortium/EC-Earth3-Veg/historical/r1i1p1f1/Amon/pr/gr/v20190605/pr_Amon_EC-Earth3-Veg_historical_r1i1p1f1_gr_197501-197512.nc shape: (12, 256, 512)\n",
      "74 /global/cscratch1/sd/cmip6/CMIP6/CMIP/EC-Earth-Consortium/EC-Earth3-Veg/historical/r1i1p1f1/Amon/pr/gr/v20190605/pr_Amon_EC-Earth3-Veg_historical_r1i1p1f1_gr_200801-200812.nc shape: (12, 256, 512)\n",
      "75 /global/cscratch1/sd/cmip6/CMIP6/CMIP/EC-Earth-Consortium/EC-Earth3-Veg/historical/r1i1p1f1/Amon/pr/gr/v20190605/pr_Amon_EC-Earth3-Veg_historical_r1i1p1f1_gr_185801-185812.nc shape: (12, 256, 512)\n",
      "76 /global/cscratch1/sd/cmip6/CMIP6/CMIP/EC-Earth-Consortium/EC-Earth3-Veg/historical/r1i1p1f1/Amon/pr/gr/v20190605/pr_Amon_EC-Earth3-Veg_historical_r1i1p1f1_gr_197901-197912.nc shape: (12, 256, 512)\n",
      "77 /global/cscratch1/sd/cmip6/CMIP6/CMIP/EC-Earth-Consortium/EC-Earth3-Veg/historical/r1i1p1f1/Amon/pr/gr/v20190605/pr_Amon_EC-Earth3-Veg_historical_r1i1p1f1_gr_195301-195312.nc shape: (12, 256, 512)\n",
      "78 /global/cscratch1/sd/cmip6/CMIP6/CMIP/EC-Earth-Consortium/EC-Earth3-Veg/historical/r1i1p1f1/Amon/pr/gr/v20190605/pr_Amon_EC-Earth3-Veg_historical_r1i1p1f1_gr_199701-199712.nc shape: (12, 256, 512)\n",
      "79 /global/cscratch1/sd/cmip6/CMIP6/CMIP/EC-Earth-Consortium/EC-Earth3-Veg/historical/r1i1p1f1/Amon/pr/gr/v20190605/pr_Amon_EC-Earth3-Veg_historical_r1i1p1f1_gr_196201-196212.nc shape: (12, 256, 512)\n",
      "80 /global/cscratch1/sd/cmip6/CMIP6/CMIP/EC-Earth-Consortium/EC-Earth3-Veg/historical/r1i1p1f1/Amon/pr/gr/v20190605/pr_Amon_EC-Earth3-Veg_historical_r1i1p1f1_gr_194001-194012.nc shape: (12, 256, 512)\n",
      "81 /global/cscratch1/sd/cmip6/CMIP6/CMIP/EC-Earth-Consortium/EC-Earth3-Veg/historical/r1i1p1f1/Amon/pr/gr/v20190605/pr_Amon_EC-Earth3-Veg_historical_r1i1p1f1_gr_193201-193212.nc shape: (12, 256, 512)\n",
      "82 /global/cscratch1/sd/cmip6/CMIP6/CMIP/EC-Earth-Consortium/EC-Earth3-Veg/historical/r1i1p1f1/Amon/pr/gr/v20190605/pr_Amon_EC-Earth3-Veg_historical_r1i1p1f1_gr_195201-195212.nc shape: (12, 256, 512)\n",
      "83 /global/cscratch1/sd/cmip6/CMIP6/CMIP/EC-Earth-Consortium/EC-Earth3-Veg/historical/r1i1p1f1/Amon/pr/gr/v20190605/pr_Amon_EC-Earth3-Veg_historical_r1i1p1f1_gr_186301-186312.nc shape: (12, 256, 512)\n",
      "84 /global/cscratch1/sd/cmip6/CMIP6/CMIP/EC-Earth-Consortium/EC-Earth3-Veg/historical/r1i1p1f1/Amon/pr/gr/v20190605/pr_Amon_EC-Earth3-Veg_historical_r1i1p1f1_gr_194701-194712.nc shape: (12, 256, 512)\n",
      "85 /global/cscratch1/sd/cmip6/CMIP6/CMIP/EC-Earth-Consortium/EC-Earth3-Veg/historical/r1i1p1f1/Amon/pr/gr/v20190605/pr_Amon_EC-Earth3-Veg_historical_r1i1p1f1_gr_197401-197412.nc shape: (12, 256, 512)\n",
      "86 /global/cscratch1/sd/cmip6/CMIP6/CMIP/EC-Earth-Consortium/EC-Earth3-Veg/historical/r1i1p1f1/Amon/pr/gr/v20190605/pr_Amon_EC-Earth3-Veg_historical_r1i1p1f1_gr_200901-200912.nc shape: (12, 256, 512)\n",
      "87 /global/cscratch1/sd/cmip6/CMIP6/CMIP/EC-Earth-Consortium/EC-Earth3-Veg/historical/r1i1p1f1/Amon/pr/gr/v20190605/pr_Amon_EC-Earth3-Veg_historical_r1i1p1f1_gr_190601-190612.nc shape: (12, 256, 512)\n",
      "88 /global/cscratch1/sd/cmip6/CMIP6/CMIP/EC-Earth-Consortium/EC-Earth3-Veg/historical/r1i1p1f1/Amon/pr/gr/v20190605/pr_Amon_EC-Earth3-Veg_historical_r1i1p1f1_gr_199601-199612.nc shape: (12, 256, 512)\n",
      "89 /global/cscratch1/sd/cmip6/CMIP6/CMIP/EC-Earth-Consortium/EC-Earth3-Veg/historical/r1i1p1f1/Amon/pr/gr/v20190605/pr_Amon_EC-Earth3-Veg_historical_r1i1p1f1_gr_185701-185712.nc shape: (12, 256, 512)\n",
      "90 /global/cscratch1/sd/cmip6/CMIP6/CMIP/EC-Earth-Consortium/EC-Earth3-Veg/historical/r1i1p1f1/Amon/pr/gr/v20190605/pr_Amon_EC-Earth3-Veg_historical_r1i1p1f1_gr_195801-195812.nc shape: (12, 256, 512)\n",
      "91 /global/cscratch1/sd/cmip6/CMIP6/CMIP/EC-Earth-Consortium/EC-Earth3-Veg/historical/r1i1p1f1/Amon/pr/gr/v20190605/pr_Amon_EC-Earth3-Veg_historical_r1i1p1f1_gr_196001-196012.nc shape: (12, 256, 512)\n",
      "92 /global/cscratch1/sd/cmip6/CMIP6/CMIP/EC-Earth-Consortium/EC-Earth3-Veg/historical/r1i1p1f1/Amon/pr/gr/v20190605/pr_Amon_EC-Earth3-Veg_historical_r1i1p1f1_gr_193901-193912.nc shape: (12, 256, 512)\n",
      "93 /global/cscratch1/sd/cmip6/CMIP6/CMIP/EC-Earth-Consortium/EC-Earth3-Veg/historical/r1i1p1f1/Amon/pr/gr/v20190605/pr_Amon_EC-Earth3-Veg_historical_r1i1p1f1_gr_186701-186712.nc shape: (12, 256, 512)\n",
      "94 /global/cscratch1/sd/cmip6/CMIP6/CMIP/EC-Earth-Consortium/EC-Earth3-Veg/historical/r1i1p1f1/Amon/pr/gr/v20190605/pr_Amon_EC-Earth3-Veg_historical_r1i1p1f1_gr_197101-197112.nc shape: (12, 256, 512)\n",
      "95 /global/cscratch1/sd/cmip6/CMIP6/CMIP/EC-Earth-Consortium/EC-Earth3-Veg/historical/r1i1p1f1/Amon/pr/gr/v20190605/pr_Amon_EC-Earth3-Veg_historical_r1i1p1f1_gr_193501-193512.nc shape: (12, 256, 512)\n",
      "96 /global/cscratch1/sd/cmip6/CMIP6/CMIP/EC-Earth-Consortium/EC-Earth3-Veg/historical/r1i1p1f1/Amon/pr/gr/v20190605/pr_Amon_EC-Earth3-Veg_historical_r1i1p1f1_gr_193101-193112.nc shape: (12, 256, 512)\n",
      "97 /global/cscratch1/sd/cmip6/CMIP6/CMIP/EC-Earth-Consortium/EC-Earth3-Veg/historical/r1i1p1f1/Amon/pr/gr/v20190605/pr_Amon_EC-Earth3-Veg_historical_r1i1p1f1_gr_199401-199412.nc shape: (12, 256, 512)\n",
      "98 /global/cscratch1/sd/cmip6/CMIP6/CMIP/EC-Earth-Consortium/EC-Earth3-Veg/historical/r1i1p1f1/Amon/pr/gr/v20190605/pr_Amon_EC-Earth3-Veg_historical_r1i1p1f1_gr_189801-189812.nc shape: (12, 256, 512)\n",
      "99 /global/cscratch1/sd/cmip6/CMIP6/CMIP/EC-Earth-Consortium/EC-Earth3-Veg/historical/r1i1p1f1/Amon/pr/gr/v20190605/pr_Amon_EC-Earth3-Veg_historical_r1i1p1f1_gr_194501-194512.nc shape: (12, 256, 512)\n",
      "100 /global/cscratch1/sd/cmip6/CMIP6/CMIP/EC-Earth-Consortium/EC-Earth3-Veg/historical/r1i1p1f1/Amon/pr/gr/v20190605/pr_Amon_EC-Earth3-Veg_historical_r1i1p1f1_gr_197801-197812.nc shape: (12, 256, 512)\n",
      "101 /global/cscratch1/sd/cmip6/CMIP6/CMIP/EC-Earth-Consortium/EC-Earth3-Veg/historical/r1i1p1f1/Amon/pr/gr/v20190605/pr_Amon_EC-Earth3-Veg_historical_r1i1p1f1_gr_200301-200312.nc shape: (12, 256, 512)\n",
      "102 /global/cscratch1/sd/cmip6/CMIP6/CMIP/EC-Earth-Consortium/EC-Earth3-Veg/historical/r1i1p1f1/Amon/pr/gr/v20190605/pr_Amon_EC-Earth3-Veg_historical_r1i1p1f1_gr_189301-189312.nc shape: (12, 256, 512)\n",
      "103 /global/cscratch1/sd/cmip6/CMIP6/CMIP/EC-Earth-Consortium/EC-Earth3-Veg/historical/r1i1p1f1/Amon/pr/gr/v20190605/pr_Amon_EC-Earth3-Veg_historical_r1i1p1f1_gr_198701-198712.nc shape: (12, 256, 512)\n",
      "104 /global/cscratch1/sd/cmip6/CMIP6/CMIP/EC-Earth-Consortium/EC-Earth3-Veg/historical/r1i1p1f1/Amon/pr/gr/v20190605/pr_Amon_EC-Earth3-Veg_historical_r1i1p1f1_gr_185301-185312.nc shape: (12, 256, 512)\n",
      "105 /global/cscratch1/sd/cmip6/CMIP6/CMIP/EC-Earth-Consortium/EC-Earth3-Veg/historical/r1i1p1f1/Amon/pr/gr/v20190605/pr_Amon_EC-Earth3-Veg_historical_r1i1p1f1_gr_185001-185012.nc shape: (12, 256, 512)\n",
      "106 /global/cscratch1/sd/cmip6/CMIP6/CMIP/EC-Earth-Consortium/EC-Earth3-Veg/historical/r1i1p1f1/Amon/pr/gr/v20190605/pr_Amon_EC-Earth3-Veg_historical_r1i1p1f1_gr_194101-194112.nc shape: (12, 256, 512)\n",
      "107 /global/cscratch1/sd/cmip6/CMIP6/CMIP/EC-Earth-Consortium/EC-Earth3-Veg/historical/r1i1p1f1/Amon/pr/gr/v20190605/pr_Amon_EC-Earth3-Veg_historical_r1i1p1f1_gr_194201-194212.nc shape: (12, 256, 512)\n",
      "108 /global/cscratch1/sd/cmip6/CMIP6/CMIP/EC-Earth-Consortium/EC-Earth3-Veg/historical/r1i1p1f1/Amon/pr/gr/v20190605/pr_Amon_EC-Earth3-Veg_historical_r1i1p1f1_gr_187801-187812.nc shape: (12, 256, 512)\n",
      "109 /global/cscratch1/sd/cmip6/CMIP6/CMIP/EC-Earth-Consortium/EC-Earth3-Veg/historical/r1i1p1f1/Amon/pr/gr/v20190605/pr_Amon_EC-Earth3-Veg_historical_r1i1p1f1_gr_196101-196112.nc shape: (12, 256, 512)\n",
      "110 /global/cscratch1/sd/cmip6/CMIP6/CMIP/EC-Earth-Consortium/EC-Earth3-Veg/historical/r1i1p1f1/Amon/pr/gr/v20190605/pr_Amon_EC-Earth3-Veg_historical_r1i1p1f1_gr_196301-196312.nc shape: (12, 256, 512)\n",
      "111 /global/cscratch1/sd/cmip6/CMIP6/CMIP/EC-Earth-Consortium/EC-Earth3-Veg/historical/r1i1p1f1/Amon/pr/gr/v20190605/pr_Amon_EC-Earth3-Veg_historical_r1i1p1f1_gr_186601-186612.nc shape: (12, 256, 512)\n",
      "112 /global/cscratch1/sd/cmip6/CMIP6/CMIP/EC-Earth-Consortium/EC-Earth3-Veg/historical/r1i1p1f1/Amon/pr/gr/v20190605/pr_Amon_EC-Earth3-Veg_historical_r1i1p1f1_gr_199101-199112.nc shape: (12, 256, 512)\n",
      "113 /global/cscratch1/sd/cmip6/CMIP6/CMIP/EC-Earth-Consortium/EC-Earth3-Veg/historical/r1i1p1f1/Amon/pr/gr/v20190605/pr_Amon_EC-Earth3-Veg_historical_r1i1p1f1_gr_188801-188812.nc shape: (12, 256, 512)\n",
      "114 /global/cscratch1/sd/cmip6/CMIP6/CMIP/EC-Earth-Consortium/EC-Earth3-Veg/historical/r1i1p1f1/Amon/pr/gr/v20190605/pr_Amon_EC-Earth3-Veg_historical_r1i1p1f1_gr_192301-192312.nc shape: (12, 256, 512)\n",
      "115 /global/cscratch1/sd/cmip6/CMIP6/CMIP/EC-Earth-Consortium/EC-Earth3-Veg/historical/r1i1p1f1/Amon/pr/gr/v20190605/pr_Amon_EC-Earth3-Veg_historical_r1i1p1f1_gr_188601-188612.nc shape: (12, 256, 512)\n",
      "116 /global/cscratch1/sd/cmip6/CMIP6/CMIP/EC-Earth-Consortium/EC-Earth3-Veg/historical/r1i1p1f1/Amon/pr/gr/v20190605/pr_Amon_EC-Earth3-Veg_historical_r1i1p1f1_gr_200001-200012.nc shape: (12, 256, 512)\n",
      "117 /global/cscratch1/sd/cmip6/CMIP6/CMIP/EC-Earth-Consortium/EC-Earth3-Veg/historical/r1i1p1f1/Amon/pr/gr/v20190605/pr_Amon_EC-Earth3-Veg_historical_r1i1p1f1_gr_190401-190412.nc shape: (12, 256, 512)\n",
      "118 /global/cscratch1/sd/cmip6/CMIP6/CMIP/EC-Earth-Consortium/EC-Earth3-Veg/historical/r1i1p1f1/Amon/pr/gr/v20190605/pr_Amon_EC-Earth3-Veg_historical_r1i1p1f1_gr_191201-191212.nc shape: (12, 256, 512)\n",
      "119 /global/cscratch1/sd/cmip6/CMIP6/CMIP/EC-Earth-Consortium/EC-Earth3-Veg/historical/r1i1p1f1/Amon/pr/gr/v20190605/pr_Amon_EC-Earth3-Veg_historical_r1i1p1f1_gr_190701-190712.nc shape: (12, 256, 512)\n",
      "120 /global/cscratch1/sd/cmip6/CMIP6/CMIP/EC-Earth-Consortium/EC-Earth3-Veg/historical/r1i1p1f1/Amon/pr/gr/v20190605/pr_Amon_EC-Earth3-Veg_historical_r1i1p1f1_gr_187601-187612.nc shape: (12, 256, 512)\n",
      "121 /global/cscratch1/sd/cmip6/CMIP6/CMIP/EC-Earth-Consortium/EC-Earth3-Veg/historical/r1i1p1f1/Amon/pr/gr/v20190605/pr_Amon_EC-Earth3-Veg_historical_r1i1p1f1_gr_196801-196812.nc shape: (12, 256, 512)\n",
      "122 /global/cscratch1/sd/cmip6/CMIP6/CMIP/EC-Earth-Consortium/EC-Earth3-Veg/historical/r1i1p1f1/Amon/pr/gr/v20190605/pr_Amon_EC-Earth3-Veg_historical_r1i1p1f1_gr_193801-193812.nc shape: (12, 256, 512)\n",
      "123 /global/cscratch1/sd/cmip6/CMIP6/CMIP/EC-Earth-Consortium/EC-Earth3-Veg/historical/r1i1p1f1/Amon/pr/gr/v20190605/pr_Amon_EC-Earth3-Veg_historical_r1i1p1f1_gr_197001-197012.nc shape: (12, 256, 512)\n",
      "124 /global/cscratch1/sd/cmip6/CMIP6/CMIP/EC-Earth-Consortium/EC-Earth3-Veg/historical/r1i1p1f1/Amon/pr/gr/v20190605/pr_Amon_EC-Earth3-Veg_historical_r1i1p1f1_gr_191001-191012.nc shape: (12, 256, 512)\n",
      "125 /global/cscratch1/sd/cmip6/CMIP6/CMIP/EC-Earth-Consortium/EC-Earth3-Veg/historical/r1i1p1f1/Amon/pr/gr/v20190605/pr_Amon_EC-Earth3-Veg_historical_r1i1p1f1_gr_199201-199212.nc shape: (12, 256, 512)\n",
      "126 /global/cscratch1/sd/cmip6/CMIP6/CMIP/EC-Earth-Consortium/EC-Earth3-Veg/historical/r1i1p1f1/Amon/pr/gr/v20190605/pr_Amon_EC-Earth3-Veg_historical_r1i1p1f1_gr_185201-185212.nc shape: (12, 256, 512)\n",
      "127 /global/cscratch1/sd/cmip6/CMIP6/CMIP/EC-Earth-Consortium/EC-Earth3-Veg/historical/r1i1p1f1/Amon/pr/gr/v20190605/pr_Amon_EC-Earth3-Veg_historical_r1i1p1f1_gr_186001-186012.nc shape: (12, 256, 512)\n",
      "128 /global/cscratch1/sd/cmip6/CMIP6/CMIP/EC-Earth-Consortium/EC-Earth3-Veg/historical/r1i1p1f1/Amon/pr/gr/v20190605/pr_Amon_EC-Earth3-Veg_historical_r1i1p1f1_gr_191401-191412.nc shape: (12, 256, 512)\n",
      "129 /global/cscratch1/sd/cmip6/CMIP6/CMIP/EC-Earth-Consortium/EC-Earth3-Veg/historical/r1i1p1f1/Amon/pr/gr/v20190605/pr_Amon_EC-Earth3-Veg_historical_r1i1p1f1_gr_192501-192512.nc shape: (12, 256, 512)\n",
      "130 /global/cscratch1/sd/cmip6/CMIP6/CMIP/EC-Earth-Consortium/EC-Earth3-Veg/historical/r1i1p1f1/Amon/pr/gr/v20190605/pr_Amon_EC-Earth3-Veg_historical_r1i1p1f1_gr_201101-201112.nc shape: (12, 256, 512)\n",
      "131 /global/cscratch1/sd/cmip6/CMIP6/CMIP/EC-Earth-Consortium/EC-Earth3-Veg/historical/r1i1p1f1/Amon/pr/gr/v20190605/pr_Amon_EC-Earth3-Veg_historical_r1i1p1f1_gr_186201-186212.nc shape: (12, 256, 512)\n",
      "132 /global/cscratch1/sd/cmip6/CMIP6/CMIP/EC-Earth-Consortium/EC-Earth3-Veg/historical/r1i1p1f1/Amon/pr/gr/v20190605/pr_Amon_EC-Earth3-Veg_historical_r1i1p1f1_gr_196701-196712.nc shape: (12, 256, 512)\n",
      "133 /global/cscratch1/sd/cmip6/CMIP6/CMIP/EC-Earth-Consortium/EC-Earth3-Veg/historical/r1i1p1f1/Amon/pr/gr/v20190605/pr_Amon_EC-Earth3-Veg_historical_r1i1p1f1_gr_195901-195912.nc shape: (12, 256, 512)\n",
      "134 /global/cscratch1/sd/cmip6/CMIP6/CMIP/EC-Earth-Consortium/EC-Earth3-Veg/historical/r1i1p1f1/Amon/pr/gr/v20190605/pr_Amon_EC-Earth3-Veg_historical_r1i1p1f1_gr_189201-189212.nc shape: (12, 256, 512)\n",
      "135 /global/cscratch1/sd/cmip6/CMIP6/CMIP/EC-Earth-Consortium/EC-Earth3-Veg/historical/r1i1p1f1/Amon/pr/gr/v20190605/pr_Amon_EC-Earth3-Veg_historical_r1i1p1f1_gr_185401-185412.nc shape: (12, 256, 512)\n",
      "136 /global/cscratch1/sd/cmip6/CMIP6/CMIP/EC-Earth-Consortium/EC-Earth3-Veg/historical/r1i1p1f1/Amon/pr/gr/v20190605/pr_Amon_EC-Earth3-Veg_historical_r1i1p1f1_gr_200701-200712.nc shape: (12, 256, 512)\n",
      "137 /global/cscratch1/sd/cmip6/CMIP6/CMIP/EC-Earth-Consortium/EC-Earth3-Veg/historical/r1i1p1f1/Amon/pr/gr/v20190605/pr_Amon_EC-Earth3-Veg_historical_r1i1p1f1_gr_187501-187512.nc shape: (12, 256, 512)\n",
      "138 /global/cscratch1/sd/cmip6/CMIP6/CMIP/EC-Earth-Consortium/EC-Earth3-Veg/historical/r1i1p1f1/Amon/pr/gr/v20190605/pr_Amon_EC-Earth3-Veg_historical_r1i1p1f1_gr_190801-190812.nc shape: (12, 256, 512)\n",
      "139 /global/cscratch1/sd/cmip6/CMIP6/CMIP/EC-Earth-Consortium/EC-Earth3-Veg/historical/r1i1p1f1/Amon/pr/gr/v20190605/pr_Amon_EC-Earth3-Veg_historical_r1i1p1f1_gr_196401-196412.nc shape: (12, 256, 512)\n",
      "140 /global/cscratch1/sd/cmip6/CMIP6/CMIP/EC-Earth-Consortium/EC-Earth3-Veg/historical/r1i1p1f1/Amon/pr/gr/v20190605/pr_Amon_EC-Earth3-Veg_historical_r1i1p1f1_gr_198101-198112.nc shape: (12, 256, 512)\n",
      "141 /global/cscratch1/sd/cmip6/CMIP6/CMIP/EC-Earth-Consortium/EC-Earth3-Veg/historical/r1i1p1f1/Amon/pr/gr/v20190605/pr_Amon_EC-Earth3-Veg_historical_r1i1p1f1_gr_198401-198412.nc shape: (12, 256, 512)\n",
      "142 /global/cscratch1/sd/cmip6/CMIP6/CMIP/EC-Earth-Consortium/EC-Earth3-Veg/historical/r1i1p1f1/Amon/pr/gr/v20190605/pr_Amon_EC-Earth3-Veg_historical_r1i1p1f1_gr_192001-192012.nc shape: (12, 256, 512)\n",
      "143 /global/cscratch1/sd/cmip6/CMIP6/CMIP/EC-Earth-Consortium/EC-Earth3-Veg/historical/r1i1p1f1/Amon/pr/gr/v20190605/pr_Amon_EC-Earth3-Veg_historical_r1i1p1f1_gr_200101-200112.nc shape: (12, 256, 512)\n",
      "144 /global/cscratch1/sd/cmip6/CMIP6/CMIP/EC-Earth-Consortium/EC-Earth3-Veg/historical/r1i1p1f1/Amon/pr/gr/v20190605/pr_Amon_EC-Earth3-Veg_historical_r1i1p1f1_gr_185901-185912.nc shape: (12, 256, 512)\n",
      "145 /global/cscratch1/sd/cmip6/CMIP6/CMIP/EC-Earth-Consortium/EC-Earth3-Veg/historical/r1i1p1f1/Amon/pr/gr/v20190605/pr_Amon_EC-Earth3-Veg_historical_r1i1p1f1_gr_198901-198912.nc shape: (12, 256, 512)\n",
      "146 /global/cscratch1/sd/cmip6/CMIP6/CMIP/EC-Earth-Consortium/EC-Earth3-Veg/historical/r1i1p1f1/Amon/pr/gr/v20190605/pr_Amon_EC-Earth3-Veg_historical_r1i1p1f1_gr_198301-198312.nc shape: (12, 256, 512)\n",
      "147 /global/cscratch1/sd/cmip6/CMIP6/CMIP/EC-Earth-Consortium/EC-Earth3-Veg/historical/r1i1p1f1/Amon/pr/gr/v20190605/pr_Amon_EC-Earth3-Veg_historical_r1i1p1f1_gr_195401-195412.nc shape: (12, 256, 512)\n",
      "148 /global/cscratch1/sd/cmip6/CMIP6/CMIP/EC-Earth-Consortium/EC-Earth3-Veg/historical/r1i1p1f1/Amon/pr/gr/v20190605/pr_Amon_EC-Earth3-Veg_historical_r1i1p1f1_gr_187001-187012.nc shape: (12, 256, 512)\n",
      "149 /global/cscratch1/sd/cmip6/CMIP6/CMIP/EC-Earth-Consortium/EC-Earth3-Veg/historical/r1i1p1f1/Amon/pr/gr/v20190605/pr_Amon_EC-Earth3-Veg_historical_r1i1p1f1_gr_198001-198012.nc shape: (12, 256, 512)\n",
      "150 /global/cscratch1/sd/cmip6/CMIP6/CMIP/EC-Earth-Consortium/EC-Earth3-Veg/historical/r1i1p1f1/Amon/pr/gr/v20190605/pr_Amon_EC-Earth3-Veg_historical_r1i1p1f1_gr_193601-193612.nc shape: (12, 256, 512)\n",
      "151 /global/cscratch1/sd/cmip6/CMIP6/CMIP/EC-Earth-Consortium/EC-Earth3-Veg/historical/r1i1p1f1/Amon/pr/gr/v20190605/pr_Amon_EC-Earth3-Veg_historical_r1i1p1f1_gr_193701-193712.nc shape: (12, 256, 512)\n",
      "152 /global/cscratch1/sd/cmip6/CMIP6/CMIP/EC-Earth-Consortium/EC-Earth3-Veg/historical/r1i1p1f1/Amon/pr/gr/v20190605/pr_Amon_EC-Earth3-Veg_historical_r1i1p1f1_gr_199501-199512.nc shape: (12, 256, 512)\n",
      "153 /global/cscratch1/sd/cmip6/CMIP6/CMIP/EC-Earth-Consortium/EC-Earth3-Veg/historical/r1i1p1f1/Amon/pr/gr/v20190605/pr_Amon_EC-Earth3-Veg_historical_r1i1p1f1_gr_186501-186512.nc shape: (12, 256, 512)\n",
      "154 /global/cscratch1/sd/cmip6/CMIP6/CMIP/EC-Earth-Consortium/EC-Earth3-Veg/historical/r1i1p1f1/Amon/pr/gr/v20190605/pr_Amon_EC-Earth3-Veg_historical_r1i1p1f1_gr_190101-190112.nc shape: (12, 256, 512)\n",
      "155 /global/cscratch1/sd/cmip6/CMIP6/CMIP/EC-Earth-Consortium/EC-Earth3-Veg/historical/r1i1p1f1/Amon/pr/gr/v20190605/pr_Amon_EC-Earth3-Veg_historical_r1i1p1f1_gr_192901-192912.nc shape: (12, 256, 512)\n",
      "156 /global/cscratch1/sd/cmip6/CMIP6/CMIP/EC-Earth-Consortium/EC-Earth3-Veg/historical/r1i1p1f1/Amon/pr/gr/v20190605/pr_Amon_EC-Earth3-Veg_historical_r1i1p1f1_gr_189601-189612.nc shape: (12, 256, 512)\n",
      "157 /global/cscratch1/sd/cmip6/CMIP6/CMIP/EC-Earth-Consortium/EC-Earth3-Veg/historical/r1i1p1f1/Amon/pr/gr/v20190605/pr_Amon_EC-Earth3-Veg_historical_r1i1p1f1_gr_187701-187712.nc shape: (12, 256, 512)\n",
      "158 /global/cscratch1/sd/cmip6/CMIP6/CMIP/EC-Earth-Consortium/EC-Earth3-Veg/historical/r1i1p1f1/Amon/pr/gr/v20190605/pr_Amon_EC-Earth3-Veg_historical_r1i1p1f1_gr_187101-187112.nc shape: (12, 256, 512)\n",
      "159 /global/cscratch1/sd/cmip6/CMIP6/CMIP/EC-Earth-Consortium/EC-Earth3-Veg/historical/r1i1p1f1/Amon/pr/gr/v20190605/pr_Amon_EC-Earth3-Veg_historical_r1i1p1f1_gr_199801-199812.nc shape: (12, 256, 512)\n",
      "160 /global/cscratch1/sd/cmip6/CMIP6/CMIP/EC-Earth-Consortium/EC-Earth3-Veg/historical/r1i1p1f1/Amon/pr/gr/v20190605/pr_Amon_EC-Earth3-Veg_historical_r1i1p1f1_gr_188201-188212.nc shape: (12, 256, 512)\n",
      "161 /global/cscratch1/sd/cmip6/CMIP6/CMIP/EC-Earth-Consortium/EC-Earth3-Veg/historical/r1i1p1f1/Amon/pr/gr/v20190605/pr_Amon_EC-Earth3-Veg_historical_r1i1p1f1_gr_195101-195112.nc shape: (12, 256, 512)\n",
      "162 /global/cscratch1/sd/cmip6/CMIP6/CMIP/EC-Earth-Consortium/EC-Earth3-Veg/historical/r1i1p1f1/Amon/pr/gr/v20190605/pr_Amon_EC-Earth3-Veg_historical_r1i1p1f1_gr_188401-188412.nc shape: (12, 256, 512)\n",
      "163 /global/cscratch1/sd/cmip6/CMIP6/CMIP/EC-Earth-Consortium/EC-Earth3-Veg/historical/r1i1p1f1/Amon/pr/gr/v20190605/pr_Amon_EC-Earth3-Veg_historical_r1i1p1f1_gr_192701-192712.nc shape: (12, 256, 512)\n",
      "164 /global/cscratch1/sd/cmip6/CMIP6/CMIP/EC-Earth-Consortium/EC-Earth3-Veg/historical/r1i1p1f1/Amon/pr/gr/v20190605/pr_Amon_EC-Earth3-Veg_historical_r1i1p1f1_gr_185101-185112.nc shape: (12, 256, 512)\n",
      "165 /global/cscratch1/sd/cmip6/CMIP6/CMIP/EC-Earth-Consortium/EC-Earth3-Veg/historical/r1i1p1f1/Amon/pr/gr/v20190605/pr_Amon_EC-Earth3-Veg_historical_r1i1p1f1_gr_192201-192212.nc shape: (12, 256, 512)\n",
      "166 /global/cscratch1/sd/cmip6/CMIP6/CMIP/EC-Earth-Consortium/EC-Earth3-Veg/historical/r1i1p1f1/Amon/pr/gr/v20190605/pr_Amon_EC-Earth3-Veg_historical_r1i1p1f1_gr_188901-188912.nc shape: (12, 256, 512)\n",
      "167 /global/cscratch1/sd/cmip6/CMIP6/CMIP/EC-Earth-Consortium/EC-Earth3-Veg/historical/r1i1p1f1/Amon/pr/gr/v20190605/pr_Amon_EC-Earth3-Veg_historical_r1i1p1f1_gr_191701-191712.nc shape: (12, 256, 512)\n",
      "168 /global/cscratch1/sd/cmip6/CMIP6/CMIP/EC-Earth-Consortium/EC-Earth3-Veg/historical/r1i1p1f1/Amon/pr/gr/v20190605/pr_Amon_EC-Earth3-Veg_historical_r1i1p1f1_gr_194301-194312.nc shape: (12, 256, 512)\n",
      "169 /global/cscratch1/sd/cmip6/CMIP6/CMIP/EC-Earth-Consortium/EC-Earth3-Veg/historical/r1i1p1f1/Amon/pr/gr/v20190605/pr_Amon_EC-Earth3-Veg_historical_r1i1p1f1_gr_191601-191612.nc shape: (12, 256, 512)\n",
      "170 /global/cscratch1/sd/cmip6/CMIP6/CMIP/EC-Earth-Consortium/EC-Earth3-Veg/historical/r1i1p1f1/Amon/pr/gr/v20190605/pr_Amon_EC-Earth3-Veg_historical_r1i1p1f1_gr_186901-186912.nc shape: (12, 256, 512)\n",
      "171 /global/cscratch1/sd/cmip6/CMIP6/CMIP/EC-Earth-Consortium/EC-Earth3-Veg/historical/r1i1p1f1/Amon/pr/gr/v20190605/pr_Amon_EC-Earth3-Veg_historical_r1i1p1f1_gr_190501-190512.nc shape: (12, 256, 512)\n",
      "172 /global/cscratch1/sd/cmip6/CMIP6/CMIP/EC-Earth-Consortium/EC-Earth3-Veg/historical/r1i1p1f1/Amon/pr/gr/v20190605/pr_Amon_EC-Earth3-Veg_historical_r1i1p1f1_gr_194401-194412.nc shape: (12, 256, 512)\n",
      "173 /global/cscratch1/sd/cmip6/CMIP6/CMIP/EC-Earth-Consortium/EC-Earth3-Veg/historical/r1i1p1f1/Amon/pr/gr/v20190605/pr_Amon_EC-Earth3-Veg_historical_r1i1p1f1_gr_189101-189112.nc shape: (12, 256, 512)\n",
      "174 /global/cscratch1/sd/cmip6/CMIP6/CMIP/EC-Earth-Consortium/EC-Earth3-Veg/historical/r1i1p1f1/Amon/pr/gr/v20190605/pr_Amon_EC-Earth3-Veg_historical_r1i1p1f1_gr_195701-195712.nc shape: (12, 256, 512)\n",
      "175 /global/cscratch1/sd/cmip6/CMIP6/CMIP/EC-Earth-Consortium/EC-Earth3-Veg/historical/r1i1p1f1/Amon/pr/gr/v20190605/pr_Amon_EC-Earth3-Veg_historical_r1i1p1f1_gr_195601-195612.nc shape: (12, 256, 512)\n",
      "176 /global/cscratch1/sd/cmip6/CMIP6/CMIP/EC-Earth-Consortium/EC-Earth3-Veg/historical/r1i1p1f1/Amon/pr/gr/v20190605/pr_Amon_EC-Earth3-Veg_historical_r1i1p1f1_gr_190001-190012.nc shape: (12, 256, 512)\n",
      "177 /global/cscratch1/sd/cmip6/CMIP6/CMIP/EC-Earth-Consortium/EC-Earth3-Veg/historical/r1i1p1f1/Amon/pr/gr/v20190605/pr_Amon_EC-Earth3-Veg_historical_r1i1p1f1_gr_190301-190312.nc shape: (12, 256, 512)\n",
      "178 /global/cscratch1/sd/cmip6/CMIP6/CMIP/EC-Earth-Consortium/EC-Earth3-Veg/historical/r1i1p1f1/Amon/pr/gr/v20190605/pr_Amon_EC-Earth3-Veg_historical_r1i1p1f1_gr_196901-196912.nc shape: (12, 256, 512)\n",
      "179 /global/cscratch1/sd/cmip6/CMIP6/CMIP/EC-Earth-Consortium/EC-Earth3-Veg/historical/r1i1p1f1/Amon/pr/gr/v20190605/pr_Amon_EC-Earth3-Veg_historical_r1i1p1f1_gr_197201-197212.nc shape: (12, 256, 512)\n",
      "180 /global/cscratch1/sd/cmip6/CMIP6/CMIP/EC-Earth-Consortium/EC-Earth3-Veg/historical/r1i1p1f1/Amon/pr/gr/v20190605/pr_Amon_EC-Earth3-Veg_historical_r1i1p1f1_gr_199301-199312.nc shape: (12, 256, 512)\n",
      "181 /global/cscratch1/sd/cmip6/CMIP6/CMIP/EC-Earth-Consortium/EC-Earth3-Veg/historical/r1i1p1f1/Amon/pr/gr/v20190605/pr_Amon_EC-Earth3-Veg_historical_r1i1p1f1_gr_190201-190212.nc shape: (12, 256, 512)\n",
      "182 /global/cscratch1/sd/cmip6/CMIP6/CMIP/EC-Earth-Consortium/EC-Earth3-Veg/historical/r1i1p1f1/Amon/pr/gr/v20190605/pr_Amon_EC-Earth3-Veg_historical_r1i1p1f1_gr_191301-191312.nc shape: (12, 256, 512)\n",
      "183 /global/cscratch1/sd/cmip6/CMIP6/CMIP/EC-Earth-Consortium/EC-Earth3-Veg/historical/r1i1p1f1/Amon/pr/gr/v20190605/pr_Amon_EC-Earth3-Veg_historical_r1i1p1f1_gr_200201-200212.nc shape: (12, 256, 512)\n",
      "184 /global/cscratch1/sd/cmip6/CMIP6/CMIP/EC-Earth-Consortium/EC-Earth3-Veg/historical/r1i1p1f1/Amon/pr/gr/v20190605/pr_Amon_EC-Earth3-Veg_historical_r1i1p1f1_gr_187901-187912.nc shape: (12, 256, 512)\n",
      "185 /global/cscratch1/sd/cmip6/CMIP6/CMIP/EC-Earth-Consortium/EC-Earth3-Veg/historical/r1i1p1f1/Amon/pr/gr/v20190605/pr_Amon_EC-Earth3-Veg_historical_r1i1p1f1_gr_200601-200612.nc shape: (12, 256, 512)\n",
      "186 /global/cscratch1/sd/cmip6/CMIP6/CMIP/EC-Earth-Consortium/EC-Earth3-Veg/historical/r1i1p1f1/Amon/pr/gr/v20190605/pr_Amon_EC-Earth3-Veg_historical_r1i1p1f1_gr_200401-200412.nc shape: (12, 256, 512)\n",
      "187 /global/cscratch1/sd/cmip6/CMIP6/CMIP/MRI/MRI-ESM2-0/historical/r1i1p1f1/Amon/pr/gn/v20190222/pr_Amon_MRI-ESM2-0_historical_r1i1p1f1_gn_185001-201412.nc shape: (1980, 160, 320)\n",
      "188 /global/cscratch1/sd/cmip6/CMIP6/CMIP/NCAR/CESM2-WACCM/historical/r1i1p1f1/Amon/pr/gn/v20190415/pr_Amon_CESM2-WACCM_historical_r1i1p1f1_gn_185001-201412.nc shape: (1980, 192, 288)\n",
      "189 /global/cscratch1/sd/cmip6/CMIP6/CMIP/NCAR/CESM2-WACCM/historical/r1i1p1f1/Amon/pr/gn/v20190227/pr_Amon_CESM2-WACCM_historical_r1i1p1f1_gn_185001-201412.nc shape: (1980, 192, 288)\n",
      "190 /global/cscratch1/sd/cmip6/CMIP6/CMIP/NCAR/CESM2/historical/r1i1p1f1/Amon/pr/gn/v20190401/pr_Amon_CESM2_historical_r1i1p1f1_gn_185001-201412.nc shape: (1980, 192, 288)\n",
      "191 /global/cscratch1/sd/cmip6/CMIP6/CMIP/NASA-GISS/GISS-E2-1-H/historical/r1i1p1f1/Amon/pr/gn/v20190403/pr_Amon_GISS-E2-1-H_historical_r1i1p1f1_gn_190101-195012.nc shape: (600, 90, 144)\n",
      "192 /global/cscratch1/sd/cmip6/CMIP6/CMIP/NASA-GISS/GISS-E2-1-H/historical/r1i1p1f1/Amon/pr/gn/v20190403/pr_Amon_GISS-E2-1-H_historical_r1i1p1f1_gn_185001-190012.nc shape: (612, 90, 144)\n",
      "193 /global/cscratch1/sd/cmip6/CMIP6/CMIP/NASA-GISS/GISS-E2-1-H/historical/r1i1p1f1/Amon/pr/gn/v20190403/pr_Amon_GISS-E2-1-H_historical_r1i1p1f1_gn_195101-200012.nc shape: (600, 90, 144)\n",
      "194 /global/cscratch1/sd/cmip6/CMIP6/CMIP/NASA-GISS/GISS-E2-1-H/historical/r1i1p1f1/Amon/pr/gn/v20190403/pr_Amon_GISS-E2-1-H_historical_r1i1p1f1_gn_200101-201412.nc shape: (168, 90, 144)\n",
      "195 /global/cscratch1/sd/cmip6/CMIP6/CMIP/NASA-GISS/GISS-E2-1-G/historical/r1i1p1f1/Amon/pr/gn/v20180827/pr_Amon_GISS-E2-1-G_historical_r1i1p1f1_gn_200101-201412.nc shape: (168, 90, 144)\n",
      "196 /global/cscratch1/sd/cmip6/CMIP6/CMIP/NASA-GISS/GISS-E2-1-G/historical/r1i1p1f1/Amon/pr/gn/v20180827/pr_Amon_GISS-E2-1-G_historical_r1i1p1f1_gn_190101-195012.nc shape: (600, 90, 144)\n",
      "197 /global/cscratch1/sd/cmip6/CMIP6/CMIP/NASA-GISS/GISS-E2-1-G/historical/r1i1p1f1/Amon/pr/gn/v20180827/pr_Amon_GISS-E2-1-G_historical_r1i1p1f1_gn_185001-190012.nc shape: (612, 90, 144)\n",
      "198 /global/cscratch1/sd/cmip6/CMIP6/CMIP/NASA-GISS/GISS-E2-1-G/historical/r1i1p1f1/Amon/pr/gn/v20180827/pr_Amon_GISS-E2-1-G_historical_r1i1p1f1_gn_195101-200012.nc shape: (600, 90, 144)\n",
      "199 /global/cscratch1/sd/cmip6/CMIP6/CMIP/MIROC/MIROC6/historical/r1i1p1f1/Amon/pr/gn/v20181212/pr_Amon_MIROC6_historical_r1i1p1f1_gn_185001-194912.nc shape: (1200, 128, 256)\n",
      "200 /global/cscratch1/sd/cmip6/CMIP6/CMIP/MIROC/MIROC6/historical/r1i1p1f1/Amon/pr/gn/v20181212/pr_Amon_MIROC6_historical_r1i1p1f1_gn_195001-201412.nc shape: (780, 128, 256)\n",
      "201 /global/cscratch1/sd/cmip6/CMIP6/CMIP/CAMS/CAMS-CSM1-0/historical/r1i1p1f1/Amon/pr/gn/v20190708/pr_Amon_CAMS-CSM1-0_historical_r1i1p1f1_gn_185001-201412.nc shape: (1980, 160, 320)\n",
      "202 /global/cscratch1/sd/cmip6/CMIP6/CMIP/NOAA-GFDL/GFDL-CM4/historical/r1i1p1f1/Amon/pr/gr1/v20180301/pr_Amon_GFDL-CM4_historical_r1i1p1f1_gr1_185001-185412.nc shape: (60, 180, 288)\n",
      "203 /global/cscratch1/sd/cmip6/CMIP6/CMIP/NOAA-GFDL/GFDL-CM4/historical/r1i1p1f1/Amon/pr/gr1/v20180701/pr_Amon_GFDL-CM4_historical_r1i1p1f1_gr1_185001-194912.nc shape: (1200, 180, 288)\n",
      "204 /global/cscratch1/sd/cmip6/CMIP6/CMIP/NOAA-GFDL/GFDL-CM4/historical/r1i1p1f1/Amon/pr/gr1/v20180701/pr_Amon_GFDL-CM4_historical_r1i1p1f1_gr1_195001-201412.nc shape: (780, 180, 288)\n",
      "205 /global/cscratch1/sd/cmip6/CMIP6/CMIP/NOAA-GFDL/GFDL-ESM4/historical/r1i1p1f1/Amon/pr/gr1/v20180701/pr_Amon_GFDL-ESM4_historical_r1i1p1f1_gr1_195001-201412.nc shape: (780, 180, 288)\n",
      "206 /global/cscratch1/sd/cmip6/CMIP6/CMIP/NOAA-GFDL/GFDL-ESM4/historical/r1i1p1f1/Amon/pr/gr1/v20180701/pr_Amon_GFDL-ESM4_historical_r1i1p1f1_gr1_185001-194912.nc shape: (1200, 180, 288)\n",
      "207 /global/cscratch1/sd/cmip6/CMIP6/CMIP/SNU/SAM0-UNICON/historical/r1i1p1f1/Amon/pr/gn/v20190323/pr_Amon_SAM0-UNICON_historical_r1i1p1f1_gn_192001-192912.nc shape: (120, 192, 288)\n",
      "208 /global/cscratch1/sd/cmip6/CMIP6/CMIP/SNU/SAM0-UNICON/historical/r1i1p1f1/Amon/pr/gn/v20190323/pr_Amon_SAM0-UNICON_historical_r1i1p1f1_gn_190001-190912.nc shape: (120, 192, 288)\n",
      "209 /global/cscratch1/sd/cmip6/CMIP6/CMIP/SNU/SAM0-UNICON/historical/r1i1p1f1/Amon/pr/gn/v20190323/pr_Amon_SAM0-UNICON_historical_r1i1p1f1_gn_191001-191912.nc shape: (120, 192, 288)\n",
      "210 /global/cscratch1/sd/cmip6/CMIP6/CMIP/SNU/SAM0-UNICON/historical/r1i1p1f1/Amon/pr/gn/v20190323/pr_Amon_SAM0-UNICON_historical_r1i1p1f1_gn_199001-199912.nc shape: (120, 192, 288)\n",
      "211 /global/cscratch1/sd/cmip6/CMIP6/CMIP/SNU/SAM0-UNICON/historical/r1i1p1f1/Amon/pr/gn/v20190323/pr_Amon_SAM0-UNICON_historical_r1i1p1f1_gn_193001-193912.nc shape: (120, 192, 288)\n",
      "212 /global/cscratch1/sd/cmip6/CMIP6/CMIP/SNU/SAM0-UNICON/historical/r1i1p1f1/Amon/pr/gn/v20190323/pr_Amon_SAM0-UNICON_historical_r1i1p1f1_gn_201001-201412.nc shape: (60, 192, 288)\n",
      "213 /global/cscratch1/sd/cmip6/CMIP6/CMIP/SNU/SAM0-UNICON/historical/r1i1p1f1/Amon/pr/gn/v20190323/pr_Amon_SAM0-UNICON_historical_r1i1p1f1_gn_188001-188912.nc shape: (120, 192, 288)\n",
      "214 /global/cscratch1/sd/cmip6/CMIP6/CMIP/SNU/SAM0-UNICON/historical/r1i1p1f1/Amon/pr/gn/v20190323/pr_Amon_SAM0-UNICON_historical_r1i1p1f1_gn_187001-187912.nc shape: (120, 192, 288)\n",
      "215 /global/cscratch1/sd/cmip6/CMIP6/CMIP/SNU/SAM0-UNICON/historical/r1i1p1f1/Amon/pr/gn/v20190323/pr_Amon_SAM0-UNICON_historical_r1i1p1f1_gn_196001-196912.nc shape: (120, 192, 288)\n",
      "216 /global/cscratch1/sd/cmip6/CMIP6/CMIP/SNU/SAM0-UNICON/historical/r1i1p1f1/Amon/pr/gn/v20190323/pr_Amon_SAM0-UNICON_historical_r1i1p1f1_gn_194001-194912.nc shape: (120, 192, 288)\n",
      "217 /global/cscratch1/sd/cmip6/CMIP6/CMIP/SNU/SAM0-UNICON/historical/r1i1p1f1/Amon/pr/gn/v20190323/pr_Amon_SAM0-UNICON_historical_r1i1p1f1_gn_197001-197912.nc shape: (120, 192, 288)\n",
      "218 /global/cscratch1/sd/cmip6/CMIP6/CMIP/SNU/SAM0-UNICON/historical/r1i1p1f1/Amon/pr/gn/v20190323/pr_Amon_SAM0-UNICON_historical_r1i1p1f1_gn_186001-186912.nc shape: (120, 192, 288)\n",
      "219 /global/cscratch1/sd/cmip6/CMIP6/CMIP/SNU/SAM0-UNICON/historical/r1i1p1f1/Amon/pr/gn/v20190323/pr_Amon_SAM0-UNICON_historical_r1i1p1f1_gn_195001-195912.nc shape: (120, 192, 288)\n",
      "220 /global/cscratch1/sd/cmip6/CMIP6/CMIP/SNU/SAM0-UNICON/historical/r1i1p1f1/Amon/pr/gn/v20190323/pr_Amon_SAM0-UNICON_historical_r1i1p1f1_gn_185001-185912.nc shape: (120, 192, 288)\n",
      "221 /global/cscratch1/sd/cmip6/CMIP6/CMIP/SNU/SAM0-UNICON/historical/r1i1p1f1/Amon/pr/gn/v20190323/pr_Amon_SAM0-UNICON_historical_r1i1p1f1_gn_198001-198912.nc shape: (120, 192, 288)\n",
      "222 /global/cscratch1/sd/cmip6/CMIP6/CMIP/SNU/SAM0-UNICON/historical/r1i1p1f1/Amon/pr/gn/v20190323/pr_Amon_SAM0-UNICON_historical_r1i1p1f1_gn_189001-189912.nc shape: (120, 192, 288)\n",
      "223 /global/cscratch1/sd/cmip6/CMIP6/CMIP/SNU/SAM0-UNICON/historical/r1i1p1f1/Amon/pr/gn/v20190323/pr_Amon_SAM0-UNICON_historical_r1i1p1f1_gn_200001-200912.nc shape: (120, 192, 288)\n",
      "224 /global/cscratch1/sd/cmip6/CMIP6/CMIP/BCC/BCC-ESM1/historical/r1i1p1f1/Amon/pr/gn/v20181214/pr_Amon_BCC-ESM1_historical_r1i1p1f1_gn_185001-201412.nc shape: (1980, 64, 128)\n",
      "225 /global/cscratch1/sd/cmip6/CMIP6/CMIP/BCC/BCC-CSM2-MR/historical/r1i1p1f1/Amon/pr/gn/v20181126/pr_Amon_BCC-CSM2-MR_historical_r1i1p1f1_gn_185001-201412.nc shape: (1980, 160, 320)\n",
      "226 /global/cscratch1/sd/cmip6/CMIP6/CMIP/CCCma/CanESM5/historical/r1i1p1f1/Amon/pr/gn/v20190306/pr_Amon_CanESM5_historical_r1i1p1f1_gn_185001-201412.nc shape: (1980, 64, 128)\n",
      "227 /global/cscratch1/sd/cmip6/CMIP6/CMIP/CCCma/CanESM5/historical/r1i1p1f1/Amon/pr/gn/v20190429/pr_Amon_CanESM5_historical_r1i1p1f1_gn_185001-201412.nc shape: (1980, 64, 128)\n"
     ]
    }
   ],
   "source": [
    "path.member = 'r1i1p1f1'\n",
    "path.variable = 'pr'\n",
    "all_pr = glob.glob(path())\n",
    "for i, name in enumerate(all_pr):\n",
    "    f = cdms2.open(name)\n",
    "    print(i, name, \"shape:\", f[\"pr\"].shape)"
   ]
  },
  {
   "cell_type": "code",
   "execution_count": null,
   "metadata": {},
   "outputs": [],
   "source": []
  }
 ],
 "metadata": {
  "kernelspec": {
   "display_name": "Python 3",
   "language": "python",
   "name": "python3"
  },
  "language_info": {
   "codemirror_mode": {
    "name": "ipython",
    "version": 3
   },
   "file_extension": ".py",
   "mimetype": "text/x-python",
   "name": "python",
   "nbconvert_exporter": "python",
   "pygments_lexer": "ipython3",
   "version": "3.7.3"
  },
  "selected_variables": [],
  "vcdat_file_path": "",
  "vcdat_loaded_variables": [],
  "vcdat_variable_info": {}
 },
 "nbformat": 4,
 "nbformat_minor": 4
}
