{
 "cells": [
  {
   "cell_type": "markdown",
   "metadata": {},
   "source": [
    "# genutil statistics\n",
    "\n",
    "A set of basic statistics is available in `genutil`, again these function are dimensions aware and can be used over multiple axes at once.\n",
    "\n",
    "Statistics functions available in `genutil` include commonly used functions to compute correlation, covariance, auto-correlation, auto-covariance, lagged correlation, lagged covariance, mean absolute difference, root mean square, standard deviation, variance, geometric mean, median, percentiles and linear regression.\n",
    "\n",
    "<h1>Table of Contents<span class=\"tocSkip\"></span></h1>\n",
    "<div class=\"toc\"><ul class=\"toc-item\"><li><span><a href=\"#Statistics-Functions\" data-toc-modified-id=\"Statistics-Functions-1\">Statistics Functions</a></span><ul class=\"toc-item\"><li><span><a href=\"#correlation\" data-toc-modified-id=\"correlation-1.1\">correlation</a></span></li><li><span><a href=\"#covariance\" data-toc-modified-id=\"covariance-1.2\">covariance</a></span></li><li><span><a href=\"#autocorrelation\" data-toc-modified-id=\"autocorrelation-1.3\">autocorrelation</a></span></li><li><span><a href=\"#autocovariance\" data-toc-modified-id=\"autocovariance-1.4\">autocovariance</a></span></li><li><span><a href=\"#laggedcorrelation\" data-toc-modified-id=\"laggedcorrelation-1.5\">laggedcorrelation</a></span></li><li><span><a href=\"#laggedcovariance\" data-toc-modified-id=\"laggedcovariance-1.6\">laggedcovariance</a></span></li><li><span><a href=\"#meanabsdiff\" data-toc-modified-id=\"meanabsdiff-1.7\">meanabsdiff</a></span></li><li><span><a href=\"#rms\" data-toc-modified-id=\"rms-1.8\">rms</a></span></li><li><span><a href=\"#std\" data-toc-modified-id=\"std-1.9\">std</a></span></li><li><span><a href=\"#variance\" data-toc-modified-id=\"variance-1.10\">variance</a></span></li><li><span><a href=\"#geometricmean\" data-toc-modified-id=\"geometricmean-1.11\">geometricmean</a></span></li><li><span><a href=\"#percentiles\" data-toc-modified-id=\"percentiles-1.12\">percentiles</a></span></li><li><span><a href=\"#median\" data-toc-modified-id=\"median-1.13\">median</a></span></li><li><span><a href=\"#linearregression\" data-toc-modified-id=\"linearregression-1.14\">linearregression</a></span></li></ul></li></ul></div>\n",
    "\n",
    "Let's load some data for our examples.\n",
    "In our examples we want to look at variable 'tas' from the IPSL and compute some spatial statistics between data slices for time periods from the first 10 years and the last 10 years.\n"
   ]
  },
  {
   "cell_type": "code",
   "execution_count": 1,
   "metadata": {},
   "outputs": [
    {
     "name": "stdout",
     "output_type": "stream",
     "text": [
      "tas1: (120, 143, 144)\n",
      "tas2: (120, 143, 144)\n"
     ]
    }
   ],
   "source": [
    "import cdms2\n",
    "ipsl_tas_file = cdms2.open(\"/global/cscratch1/sd/cmip6/CMIP6/CMIP/IPSL/IPSL-CM6A-LR/historical/r1i1p1f1/Amon/tas/gr/v20180803/tas_Amon_IPSL-CM6A-LR_historical_r1i1p1f1_gr_185001-201412.nc\")\n",
    "tas1 = ipsl_tas_file(\"tas\", time=slice(0,120))  # First 10 years\n",
    "tas2 = ipsl_tas_file(\"tas\", time=slice(-120, None))  # Last 10 years\n",
    "print(\"tas1:\", tas1.shape)\n",
    "print(\"tas2:\", tas2.shape)"
   ]
  },
  {
   "cell_type": "markdown",
   "metadata": {},
   "source": [
    "### correlation\n",
    "[Back to Top](#top)\n",
    "\n",
    "Returns the correlation between 2 slabs. By default on the first dimension, centered and biased by default.\n"
   ]
  },
  {
   "cell_type": "markdown",
   "metadata": {},
   "source": [
    "Usage:\n",
    "\n",
    "result = correlation(x, y, weights = weightoptions, axis = axisoptions, centered = centeredoptions, biased = biasedoptions )\n"
   ]
  },
  {
   "cell_type": "markdown",
   "metadata": {},
   "source": [
    "Options:\n",
    "\n",
    "weightoptions\n",
    "\n",
    "     default = None. If you want to compute the weighted correlation, provide the weights here.\n",
    "\n",
    "axisoptions: ‘x’ | ‘y’ | ‘z’ | ‘t’ | ‘(dimension_name)’ | 0 | 1 … | n\n",
    "\n",
    "     default value = 0. You can pass the name of the dimension or index (integer value 0…n) over which you want to\n",
    "     compute the statistic.\n",
    "\n",
    "centeredoptions: None | 0 | 1\n",
    "\n",
    "     default value = 1 removes the mean first. Set to 0 or None for uncentered.\n",
    "\n",
    "biasedoptions: None | 0 | 1\n",
    "\n",
    "     default value = 1 returns biased statistic. If want to compute an unbiased statistic pass anything but 1.\n"
   ]
  },
  {
   "cell_type": "code",
   "execution_count": 2,
   "metadata": {},
   "outputs": [
    {
     "name": "stdout",
     "output_type": "stream",
     "text": [
      "Correlation (1st value): 0.99219\n",
      "correlation with centered:1 and biased:1 is: 0.9921852350234985\n",
      "correlation with centered:1 and biased:0 is: 0.9921853132021304\n",
      "correlation with centered:0 and biased:1 is: 0.9999449253082275\n",
      "correlation with centered:0 and biased:0 is: 0.9999449743666635\n"
     ]
    }
   ],
   "source": [
    "import genutil\n",
    "# Now let us compute the correlation.\n",
    "cor = genutil.statistics.correlation(tas1, tas2, axis='xy')\n",
    "print(\"Correlation (1st value): {:.5f}\".format(cor[0]))\n",
    "# Let's play with the options:\n",
    "\n",
    "for centered in [1, 0]:\n",
    "    for biased in [1, 0]:\n",
    "        cor = genutil.statistics.correlation(tas1, tas2, centered=centered, biased=biased, axis='xy')\n",
    "        print(\"correlation with centered:{} and biased:{} is: {}\".format(centered, biased, cor[0]))"
   ]
  },
  {
   "cell_type": "markdown",
   "metadata": {},
   "source": [
    "### covariance\n",
    "[Back to Top](#top)\n",
    "\n",
    "Returns the covariance between 2 slabs. By default on the first dimension, centered and biased by default.\n",
    "\n",
    "Usage:"
   ]
  },
  {
   "cell_type": "markdown",
   "metadata": {},
   "source": [
    "cov = covariance(x, y, weights = weightoptions, axis = axisoptions, centered = centeredoptions, biased = biasedoptions )"
   ]
  },
  {
   "cell_type": "markdown",
   "metadata": {},
   "source": [
    "Options:\n",
    "\n",
    "weightoptions\n",
    "\n",
    "     default = None. If you want to compute the weighted covariance, provide the weights here.\n",
    "\n",
    "axisoptions ‘x’ | ‘y’ | ‘z’ | ‘t’ | ‘(dimension_name)’ | 0 | 1 … | n\n",
    "\n",
    "     default value = 0. You can pass the name of the dimension or index (integer value 0…n) over which you want to\n",
    "     compute the statistic.\n",
    "\n",
    "centeredoptions None | 0 | 1\n",
    "\n",
    "     default value = 1 removes the mean first. Set to 0 or None for uncentered.\n",
    "\n",
    "biasedoptions None | 0 | 1\n",
    "\n",
    "     default value = 1 If want to compute an unbiased variance pass anything but 1."
   ]
  },
  {
   "cell_type": "markdown",
   "metadata": {},
   "source": [
    "### autocorrelation\n",
    "[Back to Top](#top)\n",
    "\n",
    "Returns the autocorrelation of a slab at lag k centered,partial and “biased” by default\n",
    "\n",
    "Usage:"
   ]
  },
  {
   "cell_type": "markdown",
   "metadata": {},
   "source": [
    "result = autocorrelation(x, lag = lagoptions, axis = axisoptions,centered = centeredoptions, partial = partialoptions, biased = biasedoptions, noloop = noloopoptions )"
   ]
  },
  {
   "cell_type": "markdown",
   "metadata": {},
   "source": [
    "Options:\n",
    "\n",
    "lagoptions None | n | (n1, n2, n3…) | [n1, n2, n3 ….]\n",
    "\n",
    "     default value = None the maximum possible lags for specified axis is used.You can pass an integer, list of\n",
    "     integers, or tuple of integers.\n",
    "\n",
    "axisoptions ‘x’ | ‘y’ | ‘z’ | ‘t’ | ‘(dimension_name)’ | 0 | 1 … | n\n",
    "\n",
    "     default value = 0. You can pass the name of the dimension or index (integer value 0…n) over which you want\n",
    "     to compute the statistic.\n",
    "\n",
    "centeredoptions None | 0 | 1\n",
    "\n",
    "     default value = 1 removes the mean first. Set to 0 or None for uncentered\n",
    "\n",
    "partialoptions None | 0 | 1\n",
    "\n",
    "     default value = 1 uses only common time for means.\n",
    "\n",
    "biasedoptions None | 0 | 1\n",
    "\n",
    "     default value = 1 computes the biased statistic. If want to compute an unbiased statistic pass anything but 1.\n",
    "\n",
    "noloopoptions None | 0 | 1\n",
    "\n",
    "     default value = 0 computes statistic at all lags upto ‘lag’. If you set noloop=1 statistic is computed at \n",
    "     lag only (not up to lag)."
   ]
  },
  {
   "cell_type": "markdown",
   "metadata": {},
   "source": [
    "### autocovariance\n",
    "[Back to Top](#top)\n",
    "\n",
    "Returns the autocovariance of a slab. By default over the first dimension, centered, and partial.\n",
    "\n",
    "Usage:"
   ]
  },
  {
   "cell_type": "markdown",
   "metadata": {},
   "source": [
    "result = autocovariance(x, lag = lagoptions, axis = axisoptions, centered = centeredoptions, partial = partialoptions, noloop = noloopoptions )"
   ]
  },
  {
   "cell_type": "markdown",
   "metadata": {},
   "source": [
    "Options:\n",
    "\n",
    "lagoptions None | n | (n1, n2, n3…) | [n1, n2, n3 ….]\n",
    "\n",
    "     default value = None the maximum possible lags for specified axis is used. You can pass an integer, list of \n",
    "     integers, or tuple of integers.\n",
    "\n",
    "axisoptions ‘x’ | ‘y’ | ‘z’ | ‘t’ | ‘(dimension_name)’ | 0 | 1 … | n\n",
    "\n",
    "     default value = 0. You can pass the name of the dimension or index (integer value 0…n) over which you want \n",
    "     to compute the statistic.\n",
    "\n",
    "centeredoptions None | 0 | 1\n",
    "\n",
    "     default value = 1 removes the mean first. Set to 0 or None for uncentered\n",
    "\n",
    "partialoptions None | 0 | 1\n",
    "\n",
    "     default value = 1 uses only common time for means.\n",
    "\n",
    "noloopoptions None | 0 | 1\n",
    "\n",
    "     default value = 0 computes statistic at all lags upto ‘lag’. If you set noloop=1 statistic is computed at\n",
    "     lag only (not up to lag)."
   ]
  },
  {
   "cell_type": "markdown",
   "metadata": {},
   "source": [
    "### laggedcorrelation\n",
    "[Back to Top](#top)\n",
    "\n",
    "Returns the correlation between 2 slabs at lag k centered, partial and “biased” by default.\n",
    "\n",
    "Usage:"
   ]
  },
  {
   "cell_type": "markdown",
   "metadata": {},
   "source": [
    "result = laggedcorrelation(x,y, lag = lagoptions, axis = axisoptions, centered = centeredoptions, partial = partialoptions, biased = biasedoptions, noloop = noloopoptions ) "
   ]
  },
  {
   "cell_type": "markdown",
   "metadata": {},
   "source": [
    "Returns value for x lags y by lag\n",
    "\n",
    "Options:\n",
    "\n",
    "lagoptions None | n | (n1, n2, n3…) | [n1, n2, n3 ….]\n",
    "\n",
    "     default value = None the maximum possible lags for specified axis is used.You can pass an integer, list\n",
    "     of integers, or tuple of integers.\n",
    "\n",
    "axisoptions ‘x’ | ‘y’ | ‘z’ | ‘t’ | ‘(dimension_name)’ | 0 | 1 … | n\n",
    "\n",
    "     default value = 0. You can pass the name of the dimension or index (integer value 0…n) over which you\n",
    "     want to compute the statistic.\n",
    "\n",
    "centeredoptions\n",
    "\n",
    "     default value = 1 removes the mean first. Set to 0 or None for uncentered\n",
    "\n",
    "partialoptions None | 0 | 1\n",
    "\n",
    "     default value = 1 uses only common time for means.\n",
    "\n",
    "biasedoptions None | 0 | 1\n",
    "\n",
    "     default value = 1 If want to compute an unbiased variance pass anything but 1.\n",
    "\n",
    "noloopoptions None | 0 | 1\n",
    "\n",
    "     default value = 0 computes statistic at all lags upto ‘lag’. If you set noloop=1 statistic is computed\n",
    "     at lag only (not up to lag)."
   ]
  },
  {
   "cell_type": "markdown",
   "metadata": {},
   "source": [
    "### laggedcovariance\n",
    "[Back to Top](#top)\n",
    "\n",
    "Returns the covariance between 2 slabs at lag k centered and partial by default\n",
    "\n",
    "Usage:"
   ]
  },
  {
   "cell_type": "markdown",
   "metadata": {},
   "source": [
    "result = laggedcovariance(x, y, lag = lagoptions, axis = axisoptions, centered = centeredoptions, partial = partialoptions, noloop = noloopoptions)"
   ]
  },
  {
   "cell_type": "markdown",
   "metadata": {},
   "source": [
    "Returns value for x lags y by lag (integer)\n",
    "\n",
    "Options:\n",
    "\n",
    "lagoptions None | n | (n1, n2, n3…) | [n1, n2, n3 ….]\n",
    "\n",
    "     default value = None the maximum possible lags for specified axis is used.You can pass an integer, \n",
    "     list of integers, or tuple of integers.\n",
    "\n",
    "axisoptions ‘x’ | ‘y’ | ‘z’ | ‘t’ | ‘(dimension_name)’ | 0 | 1 … | n\n",
    "\n",
    "     default value = 0. You can pass the name of the dimension or index (integer value 0…n) over which you \n",
    "     want to compute the statistic.\n",
    "\n",
    "centeredoptions\n",
    "\n",
    "     default value = 1 removes the mean first. Set to 0 or None for uncentered\n",
    "\n",
    "partialoptions None | 0 | 1\n",
    "\n",
    "     default value = 1 uses only common time for means.\n",
    "\n",
    "noloopoptions None | 0 | 1\n",
    "\n",
    "     default value = 0 computes statistic at all lags upto ‘lag’. If you set noloop=1 statistic is computed at\n",
    "     lag only (not up to lag).\n"
   ]
  },
  {
   "cell_type": "markdown",
   "metadata": {},
   "source": [
    "### meanabsdiff\n",
    "[Back to Top](#top)\n",
    "\n",
    "Returns the mean absolute difference between 2 slabs x and y. By default on the first dimension and centered\n",
    "\n",
    "Usage:"
   ]
  },
  {
   "cell_type": "markdown",
   "metadata": {},
   "source": [
    "result = meanabsdiff(x, y, weights = weightoptions, axis = axisoptions, centered = centeredoptions)"
   ]
  },
  {
   "cell_type": "markdown",
   "metadata": {},
   "source": [
    "Options:\n",
    "\n",
    "weightoptions\n",
    "\n",
    "    default = None returns equally weighted statistic. If you want to compute the weighted statistic, provide\n",
    "    weights here.\n",
    "\n",
    "axisoptions ‘x’ | ‘y’ | ‘z’ | ‘t’ | ‘(dimension_name)’ | 0 | 1 … | n\n",
    "\n",
    "    default value = 0. You can pass the name of the dimension or index (integer value 0…n) over which you want\n",
    "    to compute the statistic.\n",
    "\n",
    "centeredoptions None | 0 | 1\n",
    "\n",
    "    default value = 1 removes the mean first. Set to 0 or None for uncentered.\n",
    "\n",
    "Example:"
   ]
  },
  {
   "cell_type": "code",
   "execution_count": 3,
   "metadata": {},
   "outputs": [
    {
     "name": "stdout",
     "output_type": "stream",
     "text": [
      "Absoulte mean difference (1st value: 1.8926364183425903\n"
     ]
    }
   ],
   "source": [
    "absd = genutil.statistics.meanabsdiff(tas1, tas2, axis='xy')\n",
    "print(\"Absoulte mean difference (1st value: {}\".format(absd[0]))"
   ]
  },
  {
   "cell_type": "markdown",
   "metadata": {},
   "source": [
    "### rms\n",
    "[Back to Top](#top)\n",
    "\n",
    "Returns the root mean square difference between 2 slabs. By default from a slab (on first dimension) “uncentered” and “biased” by default\n",
    "\n",
    "Usage:"
   ]
  },
  {
   "cell_type": "markdown",
   "metadata": {},
   "source": [
    "result = rms(x, y, weights = weightoptions, axis = axisoptions, centered = centeredoptions, biased = biasedoptions )"
   ]
  },
  {
   "cell_type": "markdown",
   "metadata": {},
   "source": [
    "Options:\n",
    "\n",
    "weightoptions\n",
    "\n",
    "     default = None returns equally weighted statistic. If you want to compute the weighted statistic, provide\n",
    "     weights here.\n",
    "\n",
    "axisoptions ‘x’ | ‘y’ | ‘z’ | ‘t’ | ‘(dimension_name)’ | 0 | 1 … | n\n",
    "\n",
    "     default value = 0. You can pass the name of the dimension or index (integer value 0…n) over which you want\n",
    "     to compute the statistic.\n",
    "\n",
    "centeredoptions None | 0 | 1\n",
    "\n",
    "     default value = 0 returns uncentered statistic (same as None). To remove the mean first (i.e centered\n",
    "     statistic) set to 1. NOTE: Most other statistic functions return a centered statistic by default.\n",
    "\n",
    "biasedoptions None | 0 | 1\n",
    "\n",
    "     default value = 1 If want to compute an unbiased variance pass anything but 1.\n",
    "\n",
    "Example:"
   ]
  },
  {
   "cell_type": "markdown",
   "metadata": {},
   "source": [
    "### std\n",
    "[Back to Top](#top)\n",
    "\n",
    "Returns the standard deviation from a slab. By default on first dimension, centered, and biased.\n",
    "\n",
    "Usage:"
   ]
  },
  {
   "cell_type": "markdown",
   "metadata": {},
   "source": [
    "result = std(x, weights = weightoptions, axis = axisoptions, centered = centeredoptions, biased = b iasedoptions )"
   ]
  },
  {
   "cell_type": "markdown",
   "metadata": {},
   "source": [
    "Options:\n",
    "\n",
    "weightoptions\n",
    "\n",
    "If you want to compute the weighted statistic, provide weights here.\n",
    "\n",
    "axisoptions ‘x’ | ‘y’ | ‘z’ | ‘t’ | ‘(dimension_name)’ | 0 | 1 … | n\n",
    "\n",
    "     default value = 0. You can pass the name of the dimension or index (integer value 0…n) over which you\n",
    "     want to compute the statistic.\n",
    "\n",
    "centeredoptions None | 0 | 1\n",
    "\n",
    "     default value = 1 removes the mean first. Set to 0 or None for uncentered.\n",
    "\n",
    "biasedoptions None | 0 | 1\n",
    "\n",
    "     default value = 1 If want to compute an unbiased variance pass anything but 1."
   ]
  },
  {
   "cell_type": "markdown",
   "metadata": {},
   "source": [
    "### variance\n",
    "[Back to Top](#top)\n",
    "\n",
    "Returns the variance from a slab. By default on first dimension, centered, and biased.\n",
    "\n",
    "Usage:"
   ]
  },
  {
   "cell_type": "markdown",
   "metadata": {},
   "source": [
    "result = variance(x, weights = weightoptions, axis = axisoptions, centered = centeredoptions, biased = biasedoptions )"
   ]
  },
  {
   "cell_type": "markdown",
   "metadata": {},
   "source": [
    "Options:\n",
    "\n",
    "weightoptions\n",
    "\n",
    "If you want to compute the weighted variance, provide weights here.\n",
    "\n",
    "axisoptions ‘x’ | ‘y’ | ‘z’ | ‘t’ | ‘(dimension_name)’ | 0 | 1 … | n\n",
    "\n",
    "     default value = 0. You can pass the name of the dimension or index (integer value 0…n) over which you\n",
    "     want to compute the statistic.\n",
    "\n",
    "centeredoptions None | 0 | 1\n",
    "\n",
    "     default value = 1 removes the mean first. Set to 0 or None for uncentered.\n",
    "\n",
    "biasedoptions None | 0 | 1\n",
    "\n",
    "     default value = 1 If want to compute an unbiased variance pass anything but 1."
   ]
  },
  {
   "cell_type": "markdown",
   "metadata": {},
   "source": [
    "### geometricmean\n",
    "[Back to Top](#top)\n",
    "\n",
    "Returns the geometric mean over a sepcified axis.\n",
    "\n",
    "Usage:"
   ]
  },
  {
   "cell_type": "markdown",
   "metadata": {},
   "source": [
    "result = geometricmean(x, axis = axisoptions )"
   ]
  },
  {
   "cell_type": "markdown",
   "metadata": {},
   "source": [
    "Options:\n",
    "\n",
    "axisoptions ‘x’ | ‘y’ | ‘z’ | ‘t’ | ‘(dimension_name)’ | 0 | 1 … | n\n",
    "\n",
    "     default value = 0. You can pass the name of the dimension or index (integer value 0…n) over which \n",
    "     you want to compute the statistic."
   ]
  },
  {
   "cell_type": "markdown",
   "metadata": {},
   "source": [
    "### percentiles\n",
    "[Back to Top](#top)\n",
    "\n",
    "Returns values at the defined percentiles for an array.\n",
    "\n",
    "Usage:"
   ]
  },
  {
   "cell_type": "markdown",
   "metadata": {},
   "source": [
    "result = percentiles(x, percentiles = percentilesoptions, axis = axisoptions )"
   ]
  },
  {
   "cell_type": "markdown",
   "metadata": {},
   "source": [
    "Options:\n",
    "\n",
    "percentilesoptions A python list of values\n",
    "\n",
    "Default = [50.] (the 50th percentile i.e the median value)\n",
    "\n",
    "axisoptions ‘x’ | ‘y’ | ‘z’ | ‘t’ | ‘(dimension_name)’ | 0 | 1 … | n\n",
    "\n",
    "     default value = 0. You can pass the name of the dimension or index (integer value 0…n) over which \n",
    "     you want to compute the statistic."
   ]
  },
  {
   "cell_type": "markdown",
   "metadata": {},
   "source": [
    "### median\n",
    "[Back to Top](#top)\n",
    "\n",
    "Returns the median value of an array.\n",
    "\n",
    "Usage:"
   ]
  },
  {
   "cell_type": "markdown",
   "metadata": {},
   "source": [
    "result = median(x, axis = axisoptions )"
   ]
  },
  {
   "cell_type": "markdown",
   "metadata": {},
   "source": [
    "Options:\n",
    "\n",
    "axisoptions ‘x’ | ‘y’ | ‘z’ | ‘t’ | ‘(dimension_name)’ | 0 | 1 … | n\n",
    "\n",
    "     default value = 0. You can pass the name of the dimension or index (integer value 0…n) over which you \n",
    "     want to compute the statistic."
   ]
  },
  {
   "cell_type": "markdown",
   "metadata": {},
   "source": [
    "### linearregression\n",
    "[Back to Top](#top)\n",
    "\n",
    "Computes the linear regression of y over x or an axis. This function returns Values of the slope and intercept, and optionally, Error estimates and associated probability distributions for T-value (T-Test) and F-value (for analysis of variance f) can be returned. You can choose to return all these for either slope or intercept or both (default behaviour). For theoretical details, refer to “Statistical Methods in Atmospheric Sciences” by Daniel S. Wilks, Academic Press, 1995.\n",
    "\n",
    "Usage:"
   ]
  },
  {
   "cell_type": "markdown",
   "metadata": {},
   "source": [
    "result = linearregression(y, axis = axisoptions, x = xvalues, error = erroroptions, probability = probabilityoptions, nointercept = nointerceptoptions, noslope = noslopeoptions )"
   ]
  },
  {
   "cell_type": "markdown",
   "metadata": {},
   "source": [
    "Options:\n",
    "\n",
    "axisoptions ‘x’ | ‘y’ | ‘z’ | ‘t’ | ‘(dimension_name)’ | 0 | 1 … | n\n",
    "\n",
    "     default value = 0. You can pass the name of the dimension or index (integer value 0…n) over which you \n",
    "     want to treat the array as the dependent variable.\n",
    "\n",
    "xvalues\n",
    "\n",
    "     default = None. You can pass an array of values that are to be used as the independent axis x\n",
    "\n",
    "nointerceptoptions None | 0 | 1\n",
    "\n",
    "     default = None. Setting to 0 or None means intercept calculations are returned. To turn OFF the intercept \n",
    "     computations set nointercept to 1.\n",
    "\n",
    "noslopeoptions None | 0 | 1\n",
    "\n",
    "     default = None. Setting to None or 0 means slope calculations are returned. To turn OFF the slope \n",
    "     computations set noslope to 1.\n",
    "\n",
    "erroroptions None | 0 | 1 | 2 | 3\n",
    "\n",
    "     default = None. If set to 0 or None, no associated errors are returned.\n",
    "\n",
    "If set to 1, the unadjusted standard error is returned.\n",
    "\n",
    "If set to 2, standard error returned. This standard error is adjusted using the centered autocorrelation of the residual.\n",
    "\n",
    "If set to 3, standard error returned. The standard error here is adjusted using the centered autocorrelation of the raw data (y).\n",
    "\n",
    "probabilityoptions None | 0 | 1\n",
    "\n",
    "     default = None. If set to 0 or None, no associated probabilities are returned. Set this to 1to compute\n",
    "     probabilities."
   ]
  },
  {
   "cell_type": "markdown",
   "metadata": {},
   "source": [
    "Note: Probabilities are returned only if erroroptions are set to one of 1, 2, or 3. If it is set to None or 0, then setting probabilityoptions has no meaning."
   ]
  },
  {
   "cell_type": "markdown",
   "metadata": {},
   "source": [
    "What is returned?\n",
    "\n",
    "The returned values depend on the combination of options you select. If both slope and intercept are required, a tuple is returned for both Value and optionally Error (or optionally associated Probabilities), but single values (not tuples) are returned if only one set (slope OR intercept) is required. See examples below for more details.\n",
    "\n",
    "When erroroption = 1 (from description above for erroroptions you know that means unadjusted standard error) and probabilityoption = 1, then the following are returned:\n",
    "\n",
    "    pt1 : The p-value for regression coefficient t-value. (With no adjustment for standard error or critical \n",
    "          t-value.) None : There is only one p-value to be returned (pt1) but None is returned to keep the length\n",
    "          of the returned values consistent.\n",
    "    pf1 : The p-value for regression coefficient F-value (one-tailed).\n",
    "    pf2 : The p-value for regression coefficient F-value (two-tailed).\n",
    "\n",
    "When erroroption = 2 or 3 (implying error adjustment using the residual or the raw data and probabilityoption = 1, then the following are returned:\n",
    "\n",
    "    pt1 : The p-value for regression coefficient t-value.(With Effective sample size adjustment for standard error\n",
    "          of slope.\n",
    "    pt2 : The p-value for regression coefficient t-value.(With effective sample size adjustment for standard error \n",
    "          of slope and critical t-value.)\n",
    "    pf1 : The p-value for regression coefficient F-value (one-tailed).\n",
    "    pf2 : The p-value for regression coefficient F-value (two-tailed).\n",
    "\n",
    "The values pt1 and pt2 are used to test the null hypothesis that b = 0 (i.e., y is independent of x). The values pf1 and pf2 are used to test the null hypothesis that the regression is linear (goodness of linear fit). For non-replicated values of y, the degrees of freedom are 1 and n-2."
   ]
  }
 ],
 "metadata": {
  "kernelspec": {
   "display_name": "Python 3",
   "language": "python",
   "name": "python3"
  },
  "language_info": {
   "codemirror_mode": {
    "name": "ipython",
    "version": 3
   },
   "file_extension": ".py",
   "mimetype": "text/x-python",
   "name": "python",
   "nbconvert_exporter": "python",
   "pygments_lexer": "ipython3",
   "version": "3.7.3"
  },
  "selected_variables": [],
  "vcdat_file_path": "",
  "vcdat_loaded_variables": [],
  "vcdat_variable_info": {}
 },
 "nbformat": 4,
 "nbformat_minor": 4
}
