{
 "cells": [
  {
   "cell_type": "markdown",
   "metadata": {},
   "source": [
    "# Miscellaneous Functions\n",
    "\n",
    "The following are a few convenience functions.\n",
    "\n",
    "# picker\n",
    "\n",
    "The *picker* object allows to select non-contiguous values in cdms, for example let's say we want to retrieve only 850hPa and 200hPa from our `ta` variable.\n",
    "\n"
   ]
  },
  {
   "cell_type": "code",
   "execution_count": 1,
   "metadata": {},
   "outputs": [
    {
     "name": "stdout",
     "output_type": "stream",
     "text": [
      "ta: (144, 120, 19, 143)\n"
     ]
    }
   ],
   "source": [
    "import cdms2\n",
    "ipsl_ta_file = cdms2.open(\"/global/cscratch1/sd/cmip6/CMIP6/CMIP/IPSL/IPSL-CM6A-LR/historical/r1i1p1f1/Amon/ta/gr/v20180803/ta_Amon_IPSL-CM6A-LR_historical_r1i1p1f1_gr_185001-201412.nc\")\n",
    "ta = ipsl_ta_file(\"ta\", time=(\"2000\", \"2010\"), order='xtzy') # Just to make it hard\n",
    "print(\"ta:\", ta.shape)"
   ]
  },
  {
   "cell_type": "markdown",
   "metadata": {},
   "source": [
    "Notice we have all possible levels:"
   ]
  },
  {
   "cell_type": "code",
   "execution_count": 2,
   "metadata": {},
   "outputs": [
    {
     "name": "stdout",
     "output_type": "stream",
     "text": [
      "[100000.  92500.  85000.  70000.  60000.  50000.  40000.  30000.  25000.\n",
      "  20000.  15000.  10000.   7000.   5000.   3000.   2000.   1000.    500.\n",
      "    100.]\n"
     ]
    }
   ],
   "source": [
    "print(ta.getLevel()[:])"
   ]
  },
  {
   "cell_type": "markdown",
   "metadata": {},
   "source": [
    "With the `picker` we can retrieve exactly the two levels we need"
   ]
  },
  {
   "cell_type": "code",
   "execution_count": 3,
   "metadata": {},
   "outputs": [
    {
     "name": "stderr",
     "output_type": "stream",
     "text": [
      "/opt/conda/lib/python3.7/site-packages/cdms2/fvariable.py:99: FutureWarning: Using a non-tuple sequence for multidimensional indexing is deprecated; use `arr[tuple(seq)]` instead of `arr[seq]`. In the future this will be interpreted as an array index, `arr[np.array(seq)]`, which will result either in an error or a different result.\n",
      "  result = result[revlist]\n"
     ]
    },
    {
     "name": "stdout",
     "output_type": "stream",
     "text": [
      "[85000. 20000.]\n"
     ]
    }
   ],
   "source": [
    "import genutil\n",
    "myPick = genutil.picker(level=[85000., 20000.])\n",
    "ta = ipsl_ta_file('ta', myPick, time=(\"2000\", \"2010\", 'con'))  # restrict levels\n",
    "print(ta.getLevel()[:])"
   ]
  },
  {
   "cell_type": "markdown",
   "metadata": {},
   "source": [
    "If a level does not exist, you have the option to error exit (default),  *fill* with missing values or *skip* the missing coordinate value"
   ]
  },
  {
   "cell_type": "code",
   "execution_count": 4,
   "metadata": {},
   "outputs": [
    {
     "name": "stdout",
     "output_type": "stream",
     "text": [
      "Could not retrieve selected coordinates\n",
      "error was Error axis value :200.0 was requested but is not present in slab\n",
      "(more missing might exists)\n",
      "But this works\n",
      "(120, 2, 143, 144)\n",
      "This works too, but will have one less level\n",
      "(120, 1, 143, 144)\n"
     ]
    }
   ],
   "source": [
    "# No 200. level in this data\n",
    "myPick = genutil.picker(level=[85000., 200.], match=1) # All values must be present (default)\n",
    "try:\n",
    "    ta = ipsl_ta_file('ta', myPick, time=(\"2000\", \"2010\", 'con'))  # restrict levels\n",
    "except Exception as err:\n",
    "    print(\"Could not retrieve selected coordinates\\nerror was {}\".format(err))\n",
    "    \n",
    "print(\"But this works\")\n",
    "myPick = genutil.picker(level=[85000., 200.], match=0)  # Fill with missing if necessary\n",
    "ta = ipsl_ta_file('ta', myPick, time=(\"2000\", \"2010\", 'con'))\n",
    "print(ta.shape)\n",
    "\n",
    "print(\"This works too, but will have one less level\")\n",
    "myPick = genutil.picker(level=[85000., 200.], match=-1)  # Fill with missing if necessary\n",
    "ta = ipsl_ta_file('ta', myPick, time=(\"2000\", \"2010\", 'con'))\n",
    "print(ta.shape)"
   ]
  },
  {
   "cell_type": "markdown",
   "metadata": {},
   "source": [
    "# minmax\n",
    "\n",
    "Returns the minimum and maximum of a series of arrays/lists/tuples (or a combination of these). You can combine list/tuples/… pretty much any combination is allowed.\n",
    "\n",
    "Examples:"
   ]
  },
  {
   "cell_type": "code",
   "execution_count": 5,
   "metadata": {},
   "outputs": [
    {
     "name": "stdout",
     "output_type": "stream",
     "text": [
      "(0.0, 6.0)\n",
      "(0.0, 8.0)\n",
      "(223.70919799804688, 304.9276428222656)\n",
      "(223.70919799804688, 1.0000000200408773e+20)\n",
      "(0.0, 304.9276428222656)\n"
     ]
    }
   ],
   "source": [
    "import genutil\n",
    "s = range(7)\n",
    "print(genutil.minmax(s))\n",
    "print(genutil.minmax([4.,[6.,7.,s]],[5.,7.,8,(6.,1.)]))\n",
    "print(genutil.minmax(ta))\n",
    "print(genutil.minmax(ta*2., ta))\n",
    "print(genutil.minmax(ta, s))"
   ]
  },
  {
   "cell_type": "markdown",
   "metadata": {},
   "source": [
    "# udunits\n",
    "\n",
    "This is an historical module putting a python wrapper on top of UNIDATA's udunits, that was established before any other of the existing packages.\n",
    "\n",
    "It allows to easily convert from one unit to another (if possible)"
   ]
  },
  {
   "cell_type": "code",
   "execution_count": 6,
   "metadata": {},
   "outputs": [
    {
     "data": {
      "text/plain": [
       "udunits(0.3048,\"m\")"
      ]
     },
     "execution_count": 6,
     "metadata": {},
     "output_type": "execute_result"
    }
   ],
   "source": [
    "one_inch = genutil.udunits(1,\"ft\")\n",
    "one_inch_in_meter = one_inch.to(\"m\")\n",
    "one_inch_in_meter"
   ]
  },
  {
   "cell_type": "markdown",
   "metadata": {},
   "source": [
    "You can query units convertion"
   ]
  },
  {
   "cell_type": "code",
   "execution_count": 7,
   "metadata": {},
   "outputs": [
    {
     "name": "stdout",
     "output_type": "stream",
     "text": [
      "Input units: K\n"
     ]
    },
    {
     "data": {
      "text/plain": [
       "(1.0, -273.15)"
      ]
     },
     "execution_count": 7,
     "metadata": {},
     "output_type": "execute_result"
    }
   ],
   "source": [
    "print(\"Input units:\", ta.units)\n",
    "my_data = genutil.udunits(1, ta.units)\n",
    "my_data.how(\"degC\")"
   ]
  },
  {
   "cell_type": "code",
   "execution_count": 8,
   "metadata": {},
   "outputs": [
    {
     "name": "stdout",
     "output_type": "stream",
     "text": [
      "Range: (223.70919799804688, 304.9276428222656)\n",
      "New range: (-56.99346923828125, 89.19973754882812)\n"
     ]
    }
   ],
   "source": [
    "print(\"Range:\", genutil.minmax(ta))\n",
    "conv = my_data.how(\"degF\")\n",
    "ta_F = ta*conv[0] + conv[1]\n",
    "print(\"New range:\", genutil.minmax(ta_F))"
   ]
  },
  {
   "cell_type": "markdown",
   "metadata": {},
   "source": [
    "# Filter\n",
    "\n",
    "This includes very basic filtering, we have 3 filters: `smooth121`, `runningaverage`, `custom1D`\n",
    "\n",
    "## Running Average\n",
    "\n",
    "first let's produce a 2 years time serie"
   ]
  },
  {
   "cell_type": "code",
   "execution_count": 9,
   "metadata": {},
   "outputs": [
    {
     "name": "stdout",
     "output_type": "stream",
     "text": [
      "[278.3491413405935 278.68661400845673 279.25170587878335\n",
      " 280.00351069508326 280.6275416850775 281.44136772781826 281.9891033021813\n",
      " 281.9600884384358 281.129196790029 280.05186983911284 279.00521632975295\n",
      " 278.31356543530666 278.279477889438 278.67549285230524 279.17431066504577\n",
      " 279.8004320186885 280.7074459880988 281.55036455146086 282.0163765761603\n",
      " 281.83819237756336 281.0523175336465 279.76357466970677 278.7958974045892\n",
      " 278.2712075852329]\n"
     ]
    }
   ],
   "source": [
    "ta_time_serie = genutil.averager(ta[:24, 0], axis='xy')\n",
    "print(ta_time_serie)"
   ]
  },
  {
   "cell_type": "markdown",
   "metadata": {},
   "source": [
    "Now let's run a 12 months (yearly) running average.\n",
    "\n",
    "`runnnigaverage` needs to know the number of consecutive steps to average together, 12 here"
   ]
  },
  {
   "cell_type": "code",
   "execution_count": 10,
   "metadata": {},
   "outputs": [
    {
     "name": "stdout",
     "output_type": "stream",
     "text": [
      "[280.06741012 280.06160483 280.06067807 280.05422847 280.03730525\n",
      " 280.04396394 280.05304701 280.05531978 280.04516178 280.03875517\n",
      " 280.01473057 279.99728733 279.99375751]\n"
     ]
    }
   ],
   "source": [
    "print(genutil.filters.runningaverage(ta_time_serie, 12))"
   ]
  },
  {
   "cell_type": "markdown",
   "metadata": {},
   "source": [
    "## Custom 1D\n",
    "\n",
    "One can define a custom filter by giving weights for each step, in our 12 month running average if would be:"
   ]
  },
  {
   "cell_type": "code",
   "execution_count": 11,
   "metadata": {},
   "outputs": [
    {
     "name": "stdout",
     "output_type": "stream",
     "text": [
      "[280.06741012 280.06160483 280.06067807 280.05422847 280.03730525\n",
      " 280.04396394 280.05304701 280.05531978 280.04516178 280.03875517\n",
      " 280.01473057 279.99728733 279.99375751]\n"
     ]
    }
   ],
   "source": [
    "yearly_running_average_filter = [1,1,1,1,1,1,1,1,1,1,1,1]\n",
    "print(genutil.filters.custom1D(ta_time_serie, yearly_running_average_filter))"
   ]
  },
  {
   "cell_type": "markdown",
   "metadata": {},
   "source": [
    "But we could choose to weight more the middle months"
   ]
  },
  {
   "cell_type": "code",
   "execution_count": 12,
   "metadata": {},
   "outputs": [
    {
     "name": "stdout",
     "output_type": "stream",
     "text": [
      "[280.51788053 280.52202612 280.40650676 280.19179229 279.94212844\n",
      " 279.72266406 279.59422122 279.58515586 279.69723406 279.89960678\n",
      " 280.13390145 280.33901219 280.4610455 ]\n"
     ]
    }
   ],
   "source": [
    "custom_yearly_running_average_filter = [1,2,2,3,3,4,4,3,3,2,2,1]\n",
    "print(genutil.filters.custom1D(ta_time_serie, custom_yearly_running_average_filter))"
   ]
  },
  {
   "cell_type": "markdown",
   "metadata": {},
   "source": [
    "## Smooth121\n",
    "\n",
    "Essentially a custom filter with weight: [1,2,1]"
   ]
  },
  {
   "cell_type": "code",
   "execution_count": 13,
   "metadata": {},
   "outputs": [
    {
     "name": "stdout",
     "output_type": "stream",
     "text": [
      "[278.74351881 279.29838412 279.97156724 280.67499045 281.37484511\n",
      " 281.84491569 281.75961924 281.06758796 280.0595382  279.09396698\n",
      " 278.47795627 278.38700352 278.70119356 279.20613655 279.87065517\n",
      " 280.69142214 281.45613792 281.85532752 281.68626972 280.92660053\n",
      " 279.84384107 278.90664427]\n",
      "[278.74351881 279.29838412 279.97156724 280.67499045 281.37484511\n",
      " 281.84491569 281.75961924 281.06758796 280.0595382  279.09396698\n",
      " 278.47795627 278.38700352 278.70119356 279.20613655 279.87065517\n",
      " 280.69142214 281.45613792 281.85532752 281.68626972 280.92660053\n",
      " 279.84384107 278.90664427]\n"
     ]
    }
   ],
   "source": [
    "print(genutil.filters.custom1D(ta_time_serie, [1,2,1]))\n",
    "print(genutil.filters.smooth121(ta_time_serie))"
   ]
  }
 ],
 "metadata": {
  "kernelspec": {
   "display_name": "Python 3",
   "language": "python",
   "name": "python3"
  },
  "language_info": {
   "codemirror_mode": {
    "name": "ipython",
    "version": 3
   },
   "file_extension": ".py",
   "mimetype": "text/x-python",
   "name": "python",
   "nbconvert_exporter": "python",
   "pygments_lexer": "ipython3",
   "version": "3.7.3"
  },
  "selected_variables": [],
  "vcdat_file_path": "",
  "vcdat_loaded_variables": [
   {
    "alias": "tas",
    "axisInfo": [
     {
      "data": [
       15.5,
       45,
       74.5,
       105,
       135.5,
       166,
       196.5,
       227.5,
       258,
       288.5,
       319,
       349.5
      ],
      "first": 15.5,
      "isTime": true,
      "last": 349.5,
      "modulo": null,
      "moduloCycle": 360,
      "name": "time",
      "shape": [
       12
      ],
      "units": "days since 1850-01-01 00:00:00"
     },
     {
      "data": [
       -90,
       -88.73239135742188,
       -87.46479034423828,
       -86.19718170166016,
       -84.92958068847656,
       -83.66197204589844,
       -82.39436340332031,
       -81.12676239013672,
       -79.8591537475586,
       -78.591552734375,
       -77.32394409179688,
       -76.05633544921875,
       -74.78873443603516,
       -73.52112579345703,
       -72.25352478027344,
       -70.98591613769531,
       -69.71830749511719,
       -68.4507064819336,
       -67.18309783935547,
       -65.91548919677734,
       -64.64788818359375,
       -63.38028335571289,
       -62.112674713134766,
       -60.845069885253906,
       -59.57746505737305,
       -58.30986022949219,
       -57.04225540161133,
       -55.7746467590332,
       -54.507041931152344,
       -53.239437103271484,
       -51.971832275390625,
       -50.7042236328125,
       -49.43661880493164,
       -48.16901397705078,
       -46.90140914916992,
       -45.63380432128906,
       -44.36619567871094,
       -43.09859085083008,
       -41.83098602294922,
       -40.56338119506836,
       -39.2957763671875,
       -38.028167724609375,
       -36.760562896728516,
       -35.492958068847656,
       -34.2253532409668,
       -32.95774459838867,
       -31.690141677856445,
       -30.422534942626953,
       -29.154930114746094,
       -27.8873233795166,
       -26.619718551635742,
       -25.35211181640625,
       -24.08450698852539,
       -22.81690216064453,
       -21.54929542541504,
       -20.28169059753418,
       -19.014083862304688,
       -17.746479034423828,
       -16.478872299194336,
       -15.211267471313477,
       -13.9436616897583,
       -12.676055908203125,
       -11.408451080322266,
       -10.14084529876709,
       -8.873239517211914,
       -7.605633735656738,
       -6.3380279541015625,
       -5.070422649383545,
       -3.802816867828369,
       -2.5352113246917725,
       -1.2676056623458862,
       0,
       1.2676056623458862,
       2.5352113246917725,
       3.802816867828369,
       5.070422649383545,
       6.3380279541015625,
       7.605633735656738,
       8.873239517211914,
       10.14084529876709,
       11.408451080322266,
       12.676055908203125,
       13.9436616897583,
       15.211267471313477,
       16.478872299194336,
       17.746479034423828,
       19.014083862304688,
       20.28169059753418,
       21.54929542541504,
       22.81690216064453,
       24.08450698852539,
       25.35211181640625,
       26.619718551635742,
       27.8873233795166,
       29.154930114746094,
       30.422534942626953,
       31.690141677856445,
       32.95774459838867,
       34.2253532409668,
       35.492958068847656,
       36.760562896728516,
       38.028167724609375,
       39.2957763671875,
       40.56338119506836,
       41.83098602294922,
       43.09859085083008,
       44.36619567871094,
       45.63380432128906,
       46.90140914916992,
       48.16901397705078,
       49.43661880493164,
       50.7042236328125,
       51.971832275390625,
       53.239437103271484,
       54.507041931152344,
       55.7746467590332,
       57.04225540161133,
       58.30986022949219,
       59.57746505737305,
       60.845069885253906,
       62.112674713134766,
       63.38028335571289,
       64.64788818359375,
       65.91548919677734,
       67.18309783935547,
       68.4507064819336,
       69.71830749511719,
       70.98591613769531,
       72.25352478027344,
       73.52112579345703,
       74.78873443603516,
       76.05633544921875,
       77.32394409179688,
       78.591552734375,
       79.8591537475586,
       81.12676239013672,
       82.39436340332031,
       83.66197204589844,
       84.92958068847656,
       86.19718170166016,
       87.46479034423828,
       88.73239135742188,
       90
      ],
      "first": -90,
      "isTime": false,
      "last": 90,
      "modulo": null,
      "moduloCycle": 360,
      "name": "lat",
      "shape": [
       143
      ],
      "units": "degrees_north"
     },
     {
      "data": [
       0,
       2.5,
       5,
       7.5,
       10,
       12.5,
       15,
       17.5,
       20,
       22.5,
       25,
       27.5,
       30,
       32.5,
       35,
       37.5,
       40,
       42.5,
       45,
       47.5,
       50,
       52.5,
       55,
       57.5,
       60,
       62.5,
       65,
       67.5,
       70,
       72.5,
       75,
       77.5,
       80,
       82.5,
       85,
       87.5,
       90,
       92.5,
       95,
       97.5,
       100,
       102.5,
       105,
       107.5,
       110,
       112.5,
       115,
       117.5,
       120,
       122.5,
       125,
       127.5,
       130,
       132.5,
       135,
       137.5,
       140,
       142.5,
       145,
       147.5,
       150,
       152.5,
       155,
       157.5,
       160,
       162.5,
       165,
       167.5,
       170,
       172.5,
       175,
       177.5,
       180,
       182.5,
       185,
       187.5,
       190,
       192.5,
       195,
       197.5,
       200,
       202.5,
       205,
       207.5,
       210,
       212.5,
       215,
       217.5,
       220,
       222.5,
       225,
       227.5,
       230,
       232.5,
       235,
       237.5,
       240,
       242.5,
       245,
       247.5,
       250,
       252.5,
       255,
       257.5,
       260,
       262.5,
       265,
       267.5,
       270,
       272.5,
       275,
       277.5,
       280,
       282.5,
       285,
       287.5,
       290,
       292.5,
       295,
       297.5,
       300,
       302.5,
       305,
       307.5,
       310,
       312.5,
       315,
       317.5,
       320,
       322.5,
       325,
       327.5,
       330,
       332.5,
       335,
       337.5,
       340,
       342.5,
       345,
       347.5,
       350,
       352.5,
       355,
       357.5
      ],
      "first": 0,
      "isTime": false,
      "last": 357.5,
      "modulo": 360,
      "moduloCycle": 360,
      "name": "lon",
      "shape": [
       144
      ],
      "units": "degrees_east"
     }
    ],
    "axisList": [
     "time",
     "lat",
     "lon"
    ],
    "longName": "Near-Surface Air Temperature",
    "name": "tas",
    "pythonID": 46913115221128,
    "sourceName": "",
    "units": "K"
   },
   {
    "alias": "ts",
    "axisInfo": [
     {
      "data": [
       15.5,
       45,
       74.5,
       105,
       135.5,
       166,
       196.5,
       227.5,
       258,
       288.5,
       319,
       349.5
      ],
      "first": 15.5,
      "isTime": true,
      "last": 349.5,
      "modulo": null,
      "moduloCycle": 360,
      "name": "time",
      "shape": [
       12
      ],
      "units": "days since 1850-01-01 00:00:00"
     },
     {
      "data": [
       -90,
       -88.73239135742188,
       -87.46479034423828,
       -86.19718170166016,
       -84.92958068847656,
       -83.66197204589844,
       -82.39436340332031,
       -81.12676239013672,
       -79.8591537475586,
       -78.591552734375,
       -77.32394409179688,
       -76.05633544921875,
       -74.78873443603516,
       -73.52112579345703,
       -72.25352478027344,
       -70.98591613769531,
       -69.71830749511719,
       -68.4507064819336,
       -67.18309783935547,
       -65.91548919677734,
       -64.64788818359375,
       -63.38028335571289,
       -62.112674713134766,
       -60.845069885253906,
       -59.57746505737305,
       -58.30986022949219,
       -57.04225540161133,
       -55.7746467590332,
       -54.507041931152344,
       -53.239437103271484,
       -51.971832275390625,
       -50.7042236328125,
       -49.43661880493164,
       -48.16901397705078,
       -46.90140914916992,
       -45.63380432128906,
       -44.36619567871094,
       -43.09859085083008,
       -41.83098602294922,
       -40.56338119506836,
       -39.2957763671875,
       -38.028167724609375,
       -36.760562896728516,
       -35.492958068847656,
       -34.2253532409668,
       -32.95774459838867,
       -31.690141677856445,
       -30.422534942626953,
       -29.154930114746094,
       -27.8873233795166,
       -26.619718551635742,
       -25.35211181640625,
       -24.08450698852539,
       -22.81690216064453,
       -21.54929542541504,
       -20.28169059753418,
       -19.014083862304688,
       -17.746479034423828,
       -16.478872299194336,
       -15.211267471313477,
       -13.9436616897583,
       -12.676055908203125,
       -11.408451080322266,
       -10.14084529876709,
       -8.873239517211914,
       -7.605633735656738,
       -6.3380279541015625,
       -5.070422649383545,
       -3.802816867828369,
       -2.5352113246917725,
       -1.2676056623458862,
       0,
       1.2676056623458862,
       2.5352113246917725,
       3.802816867828369,
       5.070422649383545,
       6.3380279541015625,
       7.605633735656738,
       8.873239517211914,
       10.14084529876709,
       11.408451080322266,
       12.676055908203125,
       13.9436616897583,
       15.211267471313477,
       16.478872299194336,
       17.746479034423828,
       19.014083862304688,
       20.28169059753418,
       21.54929542541504,
       22.81690216064453,
       24.08450698852539,
       25.35211181640625,
       26.619718551635742,
       27.8873233795166,
       29.154930114746094,
       30.422534942626953,
       31.690141677856445,
       32.95774459838867,
       34.2253532409668,
       35.492958068847656,
       36.760562896728516,
       38.028167724609375,
       39.2957763671875,
       40.56338119506836,
       41.83098602294922,
       43.09859085083008,
       44.36619567871094,
       45.63380432128906,
       46.90140914916992,
       48.16901397705078,
       49.43661880493164,
       50.7042236328125,
       51.971832275390625,
       53.239437103271484,
       54.507041931152344,
       55.7746467590332,
       57.04225540161133,
       58.30986022949219,
       59.57746505737305,
       60.845069885253906,
       62.112674713134766,
       63.38028335571289,
       64.64788818359375,
       65.91548919677734,
       67.18309783935547,
       68.4507064819336,
       69.71830749511719,
       70.98591613769531,
       72.25352478027344,
       73.52112579345703,
       74.78873443603516,
       76.05633544921875,
       77.32394409179688,
       78.591552734375,
       79.8591537475586,
       81.12676239013672,
       82.39436340332031,
       83.66197204589844,
       84.92958068847656,
       86.19718170166016,
       87.46479034423828,
       88.73239135742188,
       90
      ],
      "first": -90,
      "isTime": false,
      "last": 90,
      "modulo": null,
      "moduloCycle": 360,
      "name": "lat",
      "shape": [
       143
      ],
      "units": "degrees_north"
     },
     {
      "data": [
       0,
       2.5,
       5,
       7.5,
       10,
       12.5,
       15,
       17.5,
       20,
       22.5,
       25,
       27.5,
       30,
       32.5,
       35,
       37.5,
       40,
       42.5,
       45,
       47.5,
       50,
       52.5,
       55,
       57.5,
       60,
       62.5,
       65,
       67.5,
       70,
       72.5,
       75,
       77.5,
       80,
       82.5,
       85,
       87.5,
       90,
       92.5,
       95,
       97.5,
       100,
       102.5,
       105,
       107.5,
       110,
       112.5,
       115,
       117.5,
       120,
       122.5,
       125,
       127.5,
       130,
       132.5,
       135,
       137.5,
       140,
       142.5,
       145,
       147.5,
       150,
       152.5,
       155,
       157.5,
       160,
       162.5,
       165,
       167.5,
       170,
       172.5,
       175,
       177.5,
       180,
       182.5,
       185,
       187.5,
       190,
       192.5,
       195,
       197.5,
       200,
       202.5,
       205,
       207.5,
       210,
       212.5,
       215,
       217.5,
       220,
       222.5,
       225,
       227.5,
       230,
       232.5,
       235,
       237.5,
       240,
       242.5,
       245,
       247.5,
       250,
       252.5,
       255,
       257.5,
       260,
       262.5,
       265,
       267.5,
       270,
       272.5,
       275,
       277.5,
       280,
       282.5,
       285,
       287.5,
       290,
       292.5,
       295,
       297.5,
       300,
       302.5,
       305,
       307.5,
       310,
       312.5,
       315,
       317.5,
       320,
       322.5,
       325,
       327.5,
       330,
       332.5,
       335,
       337.5,
       340,
       342.5,
       345,
       347.5,
       350,
       352.5,
       355,
       357.5
      ],
      "first": 0,
      "isTime": false,
      "last": 357.5,
      "modulo": 360,
      "moduloCycle": 360,
      "name": "lon",
      "shape": [
       144
      ],
      "units": "degrees_east"
     }
    ],
    "axisList": [
     "time",
     "lat",
     "lon"
    ],
    "longName": "Surface Temperature",
    "name": "ts",
    "pythonID": 46913115221352,
    "sourceName": "",
    "units": "K"
   }
  ],
  "vcdat_variable_info": {}
 },
 "nbformat": 4,
 "nbformat_minor": 4
}
