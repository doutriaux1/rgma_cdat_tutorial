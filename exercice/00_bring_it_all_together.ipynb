{
 "cells": [
  {
   "cell_type": "markdown",
   "metadata": {},
   "source": [
    "# this brings together all we learned today\n",
    "\n",
    "Using variable `tas`, mask over land, for `historical` for the 1980-2010 period\n",
    "Show spatial difference map from the time standard deviation of departures from a 1970-2000 climatolgy for the each model ensemble average vs your choice of temperature obs over the same periods. \n",
    "Do this for all models and plot them all on one plot, with the upper/left plot showing the obs standard_deviation.\n",
    "Use latest version if multiple are present\n",
    "\n",
    "**Bonus:** Produce the median model\n",
    "\n",
    "# Step 1: Locate Models files"
   ]
  },
  {
   "cell_type": "code",
   "execution_count": 1,
   "metadata": {},
   "outputs": [
    {
     "name": "stdout",
     "output_type": "stream",
     "text": [
      "path: /global/cscratch1/sd/cmip6/CMIP6/CMIP/*/*/historical/*/Amon/tas/*/*/tas_Amon_*_historical_*_*_*.nc\n",
      "models: {'GISS-E2-1-H', 'GISS-E2-1-G', 'MIROC6', 'GFDL-ESM4', 'SAM0-UNICON', 'CanESM5', 'CAMS-CSM1-0', 'UKESM1-0-LL', 'EC-Earth3-Veg', 'BCC-ESM1', 'CESM2', 'IPSL-CM6A-LR', 'EC-Earth3', 'BCC-CSM2-MR', 'CNRM-ESM2-1', 'CNRM-CM6-1', 'GFDL-CM4', 'HadGEM3-GC31-LL', 'MRI-ESM2-0', 'CESM2-WACCM'}\n"
     ]
    }
   ],
   "source": [
    "import genutil\n",
    "import glob\n",
    "\n",
    "template = '%(root)/%(collection)/%(type)/%(institution)/%(model)/%(experiment)/%(member)/%(table)/%(variable)/%(grid)/%(version)/%(variable)_%(table)_%(model)_%(experiment)_%(member)_%(grid)_%(period).nc'\n",
    "path = genutil.StringConstructor(template)\n",
    "for key in path.keys():\n",
    "    setattr(path, key, \"*\")\n",
    "\n",
    "path.root = '/global/cscratch1/sd/cmip6'  # this allows to easily change this from one machine to another\n",
    "path.collection = 'CMIP6'\n",
    "path.type = 'CMIP'\n",
    "path.experiment = \"historical\"\n",
    "path.table = \"Amon\"\n",
    "path.variable = \"tas\"\n",
    "print(\"path:\", path())\n",
    "all_files = glob.glob(path())\n",
    "models = set()\n",
    "\n",
    "for fname in all_files:\n",
    "    sp = fname.split(\"/\")\n",
    "    models.add(sp[8])\n",
    "print(\"models:\", models)"
   ]
  },
  {
   "cell_type": "code",
   "execution_count": 2,
   "metadata": {},
   "outputs": [
    {
     "name": "stdout",
     "output_type": "stream",
     "text": [
      "Processing: GISS-E2-1-H\n",
      "Already here, skipping\n",
      "Processing: GISS-E2-1-G\n",
      "Already here, skipping\n",
      "Processing: MIROC6\n",
      "Already here, skipping\n",
      "Processing: GFDL-ESM4\n",
      "Already here, skipping\n",
      "Processing: SAM0-UNICON\n",
      "Already here, skipping\n",
      "Processing: CanESM5\n",
      "Already here, skipping\n",
      "Processing: CAMS-CSM1-0\n",
      "Already here, skipping\n",
      "Processing: UKESM1-0-LL\n",
      "Already here, skipping\n",
      "Processing: EC-Earth3-Veg\n",
      "Already here, skipping\n",
      "Processing: BCC-ESM1\n",
      "Already here, skipping\n",
      "Processing: CESM2\n",
      "Already here, skipping\n",
      "Processing: IPSL-CM6A-LR\n",
      "Already here, skipping\n",
      "Processing: EC-Earth3\n",
      "Already here, skipping\n",
      "Processing: BCC-CSM2-MR\n",
      "Already here, skipping\n",
      "Processing: CNRM-ESM2-1\n",
      "Already here, skipping\n",
      "Processing: CNRM-CM6-1\n",
      "Already here, skipping\n",
      "Processing: GFDL-CM4\n",
      "Already here, skipping\n",
      "Processing: HadGEM3-GC31-LL\n",
      "Already here, skipping\n",
      "Processing: MRI-ESM2-0\n",
      "Already here, skipping\n",
      "Processing: CESM2-WACCM\n",
      "Already here, skipping\n"
     ]
    }
   ],
   "source": [
    "# Step 2 generate xml files\n",
    "from subprocess import PIPE, Popen\n",
    "import cdutil\n",
    "import cdms2\n",
    "import os\n",
    "\n",
    "cdms2.setCompressionWarnings(0)\n",
    "start = '1980'\n",
    "end = '2010'\n",
    "\n",
    "climo_start = '1970'\n",
    "climo_end = '2000'\n",
    "xml_name_template = \"%(variable)_%(model)_%(member).%(extension)\"\n",
    "xml_name = genutil.StringConstructor(xml_name_template)\n",
    "xml_name.variable = path.variable\n",
    "for model in models:\n",
    "    print(\"Processing:\", model)\n",
    "    xml_name.model = model\n",
    "    xml_name.member = \"avg\"\n",
    "    xml_name.extension = \"nc\"\n",
    "    if os.path.exists(xml_name()):\n",
    "        print(\"Already here, skipping\")\n",
    "        continue\n",
    "    xml_name.extension = \"xml\"\n",
    "    path.version = \"*\"\n",
    "    path.member = \"*\"\n",
    "    path.model = model\n",
    "    # figure out versions:\n",
    "    model_files = glob.glob(path())\n",
    "    versions = set()\n",
    "    members = set()\n",
    "    for name in model_files:\n",
    "        sp = name.split(\"/\")\n",
    "        versions.add(sp[-2])\n",
    "        members.add(sp[-6])\n",
    "    # print(\"\\tversions:\", sorted(versions), sorted(members))\n",
    "    path.version = sorted(versions)[-1]  # latest version\n",
    "    departures = None\n",
    "    nUsed = 0\n",
    "    for member in members:\n",
    "        #if nUsed > 3:\n",
    "        #    break\n",
    "        path.member = member\n",
    "        files = glob.glob(path())\n",
    "        if len(files)>0:  # this member has data\n",
    "            print(\"\\tProcessing:\", member, len(files))\n",
    "            nUsed += 1\n",
    "            xml_name.member = member\n",
    "            if len(files)>1:\n",
    "                cmd = \"cdscan -x {} {}\".format(xml_name(), \" \".join(files))\n",
    "                #print(\"\\tCDSCAN COMMNAD:\", cmd)\n",
    "                p = Popen(cmd.split(), stderr=PIPE, stdout=PIPE)\n",
    "                o, e = p.communicate()\n",
    "                #print(\"Output:\", o.decode())\n",
    "                #input(\"PRess enter\")\n",
    "                xml_name.extension = \"xml\"\n",
    "                f = cdms2.open(xml_name())\n",
    "            else:\n",
    "                f = cdms2.open(files[0])\n",
    "            data = f(path.variable, time=(start, end, \"con\"))\n",
    "            f.close()\n",
    "            if len(files)>1:\n",
    "                os.remove(xml_name())\n",
    "            climo = cdutil.ANNUALCYCLE.climatology(data(time=(climo_start, climo_end, \"con\")))\n",
    "            if departures is None:\n",
    "                departures = cdutil.ANNUALCYCLE.departures(data, ref=climo)\n",
    "            else:\n",
    "                departures += cdutil.ANNUALCYCLE.departures(data, ref=climo)\n",
    "    departures /= nUsed\n",
    "    xml_name.extension = \"nc\"\n",
    "    xml_name.member = \"avg\"\n",
    "    out = xml_name()\n",
    "    print(\"\\t\\tWriting {} to {}\".format(out, departures.shape))\n",
    "    import importlib\n",
    "    importlib.reload(cdms2)\n",
    "    fo = cdms2.open(out,'w')\n",
    "    fo.write(departures, id=path.variable)\n",
    "    fo.close()"
   ]
  },
  {
   "cell_type": "markdown",
   "metadata": {},
   "source": [
    "Now let's do the same thing for the obs"
   ]
  },
  {
   "cell_type": "code",
   "execution_count": 3,
   "metadata": {},
   "outputs": [
    {
     "data": {
      "text/plain": [
       "<cdms2.fvariable.FileVariable at 0x2aaaad3b2908>"
      ]
     },
     "execution_count": 3,
     "metadata": {},
     "output_type": "execute_result"
    }
   ],
   "source": [
    "obs_path = '/global/cscratch1/sd/cmip6/MERRA2/CREATE-IP.reanalysis.NASA-GMAO.MERRA-2.atmos.mon/tas_Amon_reanalysis_MERRA2_198001-201902.nc'\n",
    "f = cdms2.open(obs_path)\n",
    "tas = f(\"tas\", time=(start, end, \"con\"))\n",
    "climo = cdutil.ANNUALCYCLE.climatology(tas(time=(climo_start, climo_end, \"con\")))\n",
    "departures = cdutil.ANNUALCYCLE.departures(tas, ref=climo)\n",
    "f = cdms2.open(\"tas_reanalysis_MERRA2.nc\", \"w\")\n",
    "f.write(departures, id=\"tas\")"
   ]
  },
  {
   "cell_type": "code",
   "execution_count": 4,
   "metadata": {},
   "outputs": [
    {
     "name": "stdout",
     "output_type": "stream",
     "text": [
      "N Models: 20\n"
     ]
    }
   ],
   "source": [
    "n = len(models)\n",
    "print(\"N Models:\", n)"
   ]
  },
  {
   "cell_type": "markdown",
   "metadata": {},
   "source": [
    "With obs it's 21 models, let's plot this in portrait mode with 3 columns"
   ]
  },
  {
   "cell_type": "code",
   "execution_count": 5,
   "metadata": {},
   "outputs": [],
   "source": [
    "import EzTemplate\n",
    "import vcs\n",
    "\n",
    "canvas = vcs.init()\n",
    "template = vcs.createtemplate()\n",
    "template.blank()\n",
    "template.legend.priority = 1\n",
    "template.data.priority = 1\n",
    "template.dataname.priority=1\n",
    "\n",
    "Multi = EzTemplate.Multi(rows=7, columns=3, x=canvas, template=template)"
   ]
  },
  {
   "cell_type": "markdown",
   "metadata": {},
   "source": [
    "Let's plot the obs"
   ]
  },
  {
   "cell_type": "code",
   "execution_count": 6,
   "metadata": {},
   "outputs": [
    {
     "name": "stderr",
     "output_type": "stream",
     "text": [
      "/opt/conda/lib/python3.7/site-packages/cdms2/avariable.py:1313: Warning: \n",
      "avariable.regrid: We chose regridTool = esmf for you among the following choices:\n",
      "   Tools ->    'regrid2' (old behavior)\n",
      "               'esmf' (conserve, patch, linear) or\n",
      "               'libcf' (linear)\n",
      "  warnings.warn(message, Warning)\n",
      "/opt/conda/lib/python3.7/site-packages/cdms2/avariable.py:1320: Warning: \n",
      "avariable.regrid: We chose regridMethod = linear for you among the following choices:\n",
      "    'conserve' or 'linear' or 'patch'\n",
      "  warnings.warn(message, Warning)\n"
     ]
    },
    {
     "data": {
      "text/plain": [
       "<vcs.displayplot.Dp at 0x2aaaef26ead8>"
      ]
     },
     "execution_count": 6,
     "metadata": {},
     "output_type": "execute_result"
    }
   ],
   "source": [
    "canvas.clear()\n",
    "target_grid = cdms2.createGaussianGrid(64)\n",
    "import genutil\n",
    "std_obs = genutil.statistics.std(departures, axis=\"t\")\n",
    "std_obs = std_obs.regrid(target_grid)(latitude=(-90,90))  # Flip it back\n",
    "std_obs.id = \"MERRA2\"\n",
    "tmpl = Multi.get(row=0, column=0)\n",
    "tmpl.legend.priority=0  # turn off legend\n",
    "canvas.plot(std_obs, tmpl, ratio=\"autot\")"
   ]
  },
  {
   "cell_type": "code",
   "execution_count": 7,
   "metadata": {},
   "outputs": [
    {
     "name": "stdout",
     "output_type": "stream",
     "text": [
      "Processing: GISS-E2-1-H\n",
      "\t\t\t (360, 90, 144)\n",
      "\t\t\t (-3.0522962606167208, 1.62485059206849)\n",
      "Processing: GISS-E2-1-G\n",
      "\t\t\t (30, 90, 144)\n",
      "\t\t\t (-3.530624381875452, 2.019747920002701)\n",
      "Processing: MIROC6\n",
      "\t\t\t (360, 128, 256)\n",
      "\t\t\t (-3.2088803217043367, 0.15972578181515784)\n",
      "Processing: GFDL-ESM4\n",
      "\t\t\t (360, 180, 288)\n",
      "\t\t\t (-1.3458459762030206, 1.9394532287909723)\n",
      "Processing: SAM0-UNICON\n",
      "\t\t\t (360, 192, 288)\n",
      "\t\t\t (-1.3087181165501227, 3.1023687487029603)\n",
      "Processing: CanESM5\n",
      "\t\t\t (360, 64, 128)\n",
      "\t\t\t (-3.6481493665047084, 3.2091581553708703)\n",
      "Processing: CAMS-CSM1-0\n",
      "\t\t\t (360, 160, 320)\n",
      "\t\t\t (-1.8709863755895317, 2.6298425785273207)\n",
      "Processing: UKESM1-0-LL\n",
      "\t\t\t (360, 144, 192)\n",
      "\t\t\t (-0.9841153882248268, 3.481194155245584)\n",
      "Processing: EC-Earth3-Veg\n",
      "\t\t\t (360, 256, 512)\n",
      "\t\t\t (-1.040407354975554, 2.354552863610547)\n",
      "Processing: BCC-ESM1\n",
      "\t\t\t (360, 64, 128)\n",
      "\t\t\t (-2.310425046647179, 2.1646843427385587)\n",
      "Processing: CESM2\n",
      "\t\t\t (360, 192, 288)\n",
      "\t\t\t (-1.2980839748509672, 2.0270577388772133)\n",
      "Processing: IPSL-CM6A-LR\n",
      "\t\t\t (360, 143, 144)\n",
      "\t\t\t (-3.5319170147714622, -0.07839470984283381)\n",
      "Processing: EC-Earth3\n",
      "\t\t\t (360, 256, 512)\n",
      "\t\t\t (-1.0291459896108899, 3.6073230793019038)\n",
      "Processing: BCC-CSM2-MR\n",
      "\t\t\t (360, 160, 320)\n",
      "\t\t\t (-1.1700969432228019, 3.839594589048509)\n",
      "Processing: CNRM-ESM2-1\n",
      "\t\t\t (360, 128, 256)\n",
      "\t\t\t (-2.821242970952285, 0.9655922708628366)\n",
      "Processing: CNRM-CM6-1\n",
      "\t\t\t (360, 128, 256)\n",
      "\t\t\t (-3.0116087580968243, 0.44682066555740463)\n",
      "Processing: GFDL-CM4\n",
      "\t\t\t (360, 180, 288)\n",
      "\t\t\t (-1.1192447182621161, 2.8286601826158884)\n",
      "Processing: HadGEM3-GC31-LL\n",
      "\t\t\t (360, 144, 192)\n",
      "\t\t\t (-1.0428437893126632, 2.469982883365961)\n",
      "Processing: MRI-ESM2-0\n",
      "\t\t\t (360, 160, 320)\n",
      "\t\t\t (-2.654912486974986, 0.4242564048164911)\n",
      "Processing: CESM2-WACCM\n",
      "\t\t\t (360, 192, 288)\n",
      "\t\t\t (-2.2992480747801514, 0.8992650560763581)\n"
     ]
    },
    {
     "data": {
      "text/plain": [
       "<vcs.displayplot.Dp at 0x2aaacfd49c78>"
      ]
     },
     "execution_count": 7,
     "metadata": {},
     "output_type": "execute_result"
    }
   ],
   "source": [
    "column = 1\n",
    "row = 0\n",
    "xml_name.member = \"avg\"\n",
    "xml_name.extension = \"nc\"\n",
    "obs_grid = std_obs.getGrid()\n",
    "isof = vcs.createisofill()\n",
    "levels = vcs.mkscale(-2.5,2.5)\n",
    "isof.levels = levels\n",
    "isof.ext_1 = True\n",
    "isof.ext_2 = True\n",
    "isof.fillareacolors = vcs.getcolors(isof.levels)\n",
    "for model in models:\n",
    "    print(\"Processing:\", model)\n",
    "    xml_name.model = model\n",
    "    f = cdms2.open(xml_name())\n",
    "    tas = f(\"tas\")\n",
    "    print(\"\\t\\t\\t\", tas.shape)\n",
    "    std = genutil.statistics.std(tas, axis='t')\n",
    "    diff = std.regrid(obs_grid) - std_obs\n",
    "    diff.id = model\n",
    "    print(\"\\t\\t\\t\", genutil.minmax(diff))\n",
    "    tmpl = Multi.get(row=row, column=column)\n",
    "    if column==1 and row==0:\n",
    "        tmpl.legend.priority=1  # turn on legend for this guy\n",
    "    d = canvas.plot(diff, tmpl, isof, ratio=\"autot\")\n",
    "    column += 1\n",
    "    if column == 3:\n",
    "        column=0\n",
    "        row+=1\n",
    "d"
   ]
  },
  {
   "cell_type": "code",
   "execution_count": 8,
   "metadata": {},
   "outputs": [],
   "source": [
    "canvas.png(\"final\")"
   ]
  },
  {
   "cell_type": "markdown",
   "metadata": {},
   "source": [
    "![](final.png)"
   ]
  },
  {
   "cell_type": "code",
   "execution_count": null,
   "metadata": {},
   "outputs": [],
   "source": []
  }
 ],
 "metadata": {
  "kernelspec": {
   "display_name": "Python 3",
   "language": "python",
   "name": "python3"
  },
  "language_info": {
   "codemirror_mode": {
    "name": "ipython",
    "version": 3
   },
   "file_extension": ".py",
   "mimetype": "text/x-python",
   "name": "python",
   "nbconvert_exporter": "python",
   "pygments_lexer": "ipython3",
   "version": "3.7.3"
  },
  "selected_variables": [],
  "vcdat_file_path": "",
  "vcdat_loaded_variables": [],
  "vcdat_variable_info": {}
 },
 "nbformat": 4,
 "nbformat_minor": 4
}
