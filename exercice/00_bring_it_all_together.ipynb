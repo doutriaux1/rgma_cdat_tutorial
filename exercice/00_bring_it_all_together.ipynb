{
 "cells": [
  {
   "cell_type": "markdown",
   "metadata": {},
   "source": [
    "# This tutorial brings together all that we learned today\n",
    "\n",
    "Using variable `tas`, masked over land, for `historical` over the 1980-2010 period.\n",
    "Compute the model ensemble of the latest available version.\n",
    "Compute departures from a 1970-2000 climatolgy for the each model ensemble average.\n",
    "\n",
    "Show the spatial difference maps of these departures vs your choice of temperature observations. \n",
    "\n",
    "Do this for all models and plot them all on one plot, with the upper/left plot showing the obs standard_deviation.\n",
    "\n",
    "**Bonus:** Produce the median model\n",
    "\n",
    "# Step 1: Locate Models files"
   ]
  },
  {
   "cell_type": "code",
   "execution_count": 1,
   "metadata": {},
   "outputs": [
    {
     "name": "stdout",
     "output_type": "stream",
     "text": [
      "path: /global/cscratch1/sd/cmip6/CMIP6/CMIP/*/*/historical/*/Amon/tas/*/*/tas_Amon_*_historical_*_*_*.nc\n",
      "models: {'CESM2-WACCM', 'HadGEM3-GC31-LL', 'CanESM5', 'CAMS-CSM1-0', 'EC-Earth3', 'GFDL-ESM4', 'EC-Earth3-Veg', 'SAM0-UNICON', 'MIROC6', 'CNRM-ESM2-1', 'BCC-CSM2-MR', 'GISS-E2-1-H', 'GISS-E2-1-G', 'IPSL-CM6A-LR', 'MRI-ESM2-0', 'GFDL-CM4', 'BCC-ESM1', 'UKESM1-0-LL', 'CESM2', 'CNRM-CM6-1'}\n"
     ]
    }
   ],
   "source": [
    "import genutil\n",
    "import glob\n",
    "\n",
    "template = '%(root)/%(collection)/%(type)/%(institution)/%(model)/%(experiment)/%(member)/%(table)/%(variable)/%(grid)/%(version)/%(variable)_%(table)_%(model)_%(experiment)_%(member)_%(grid)_%(period).nc'\n",
    "path = genutil.StringConstructor(template)\n",
    "for key in path.keys():\n",
    "    setattr(path, key, \"*\")\n",
    "\n",
    "path.root = '/global/cscratch1/sd/cmip6'  # this allows to easily change this from one machine to another\n",
    "path.collection = 'CMIP6'\n",
    "path.type = 'CMIP'\n",
    "path.experiment = \"historical\"\n",
    "path.table = \"Amon\"\n",
    "path.variable = \"tas\"\n",
    "print(\"path:\", path())\n",
    "all_files = glob.glob(path())\n",
    "models = set()\n",
    "\n",
    "for fname in all_files:\n",
    "    sp = fname.split(\"/\")\n",
    "    models.add(sp[8])\n",
    "print(\"models:\", models)"
   ]
  },
  {
   "cell_type": "markdown",
   "metadata": {},
   "source": [
    "# Step 2 produce departures from model ensemble"
   ]
  },
  {
   "cell_type": "code",
   "execution_count": 2,
   "metadata": {},
   "outputs": [
    {
     "name": "stdout",
     "output_type": "stream",
     "text": [
      "Processing: CESM2-WACCM\n",
      "Already here, skipping\n",
      "Processing: HadGEM3-GC31-LL\n",
      "Already here, skipping\n",
      "Processing: CanESM5\n",
      "Already here, skipping\n",
      "Processing: CAMS-CSM1-0\n",
      "Already here, skipping\n",
      "Processing: EC-Earth3\n",
      "Already here, skipping\n",
      "Processing: GFDL-ESM4\n",
      "Already here, skipping\n",
      "Processing: EC-Earth3-Veg\n",
      "Already here, skipping\n",
      "Processing: SAM0-UNICON\n",
      "Already here, skipping\n",
      "Processing: MIROC6\n",
      "Already here, skipping\n",
      "Processing: CNRM-ESM2-1\n",
      "Already here, skipping\n",
      "Processing: BCC-CSM2-MR\n",
      "Already here, skipping\n",
      "Processing: GISS-E2-1-H\n",
      "Already here, skipping\n",
      "Processing: GISS-E2-1-G\n",
      "Already here, skipping\n",
      "Processing: IPSL-CM6A-LR\n",
      "Already here, skipping\n",
      "Processing: MRI-ESM2-0\n",
      "Already here, skipping\n",
      "Processing: GFDL-CM4\n",
      "Already here, skipping\n",
      "Processing: BCC-ESM1\n",
      "Already here, skipping\n",
      "Processing: UKESM1-0-LL\n",
      "Already here, skipping\n",
      "Processing: CESM2\n",
      "Already here, skipping\n",
      "Processing: CNRM-CM6-1\n",
      "Already here, skipping\n"
     ]
    }
   ],
   "source": [
    "from subprocess import PIPE, Popen\n",
    "import cdutil\n",
    "import cdms2\n",
    "import os\n",
    "\n",
    "# turn off warnings\n",
    "cdms2.setCompressionWarnings(0)\n",
    "\n",
    "# Set parameters\n",
    "start = '1980'\n",
    "end = '2010'\n",
    "\n",
    "climo_start = '1970'\n",
    "climo_end = '2000'\n",
    "\n",
    "# Define a template for our outputs\n",
    "xml_name_template = \"%(variable)_%(model)_%(member).%(extension)\"\n",
    "xml_name = genutil.StringConstructor(xml_name_template)\n",
    "\n",
    "# Fix what we can on our template (variable at this point)\n",
    "xml_name.variable = path.variable\n",
    "\n",
    "# Loop through available models\n",
    "for model in models:\n",
    "    print(\"Processing:\", model)\n",
    "    # Fix some more param on our output name template\n",
    "    xml_name.model = model\n",
    "    xml_name.member = \"avg\"\n",
    "    xml_name.extension = \"nc\"\n",
    "    \n",
    "    # Just for speed if we already generated the model ensemble average departures\n",
    "    # Then skip it.\n",
    "    if os.path.exists(xml_name()):\n",
    "        print(\"Already here, skipping\")\n",
    "        continue\n",
    "    \n",
    "    # Using same template but with xml extension for cdscan files\n",
    "    xml_name.extension = \"xml\"\n",
    "    \n",
    "    # Going to introspec versions and members available\n",
    "    # For this model\n",
    "    path.version = \"*\"  # all possible versions\n",
    "    path.member = \"*\"  # All possible members\n",
    "    path.model = model  # This model only\n",
    "    # List available nc files\n",
    "    model_files = glob.glob(path())\n",
    "    # Prepare set/list of available versions (empty)\n",
    "    versions = set()\n",
    "    # Prepare set/list of available members (empty)\n",
    "    members = set()\n",
    "    for name in model_files:\n",
    "        # split file name over slashes\n",
    "        sp = name.split(\"/\")\n",
    "        # Figure out version and add to set\n",
    "        versions.add(sp[-2])\n",
    "        # Figure out member and add to set\n",
    "        members.add(sp[-6])\n",
    "    # print(\"\\tversions:\", sorted(versions), sorted(members))\n",
    "    # We will be using only the latest version\n",
    "    path.version = sorted(versions)[-1]  # latest version\n",
    "    \n",
    "    # Initialize our output variable\n",
    "    departures = None\n",
    "    # Counter for number of members available\n",
    "    nUsed = 0\n",
    "    # Loop through members\n",
    "    for member in members:\n",
    "        # Fix member\n",
    "        path.member = member\n",
    "        # figure out all files that match this model/version/variable/member\n",
    "        files = glob.glob(path())\n",
    "        # Check thism member actually exists for this version\n",
    "        # (at least one file)\n",
    "        if len(files)>0:  # this member has data\n",
    "            print(\"\\tProcessing:\", member, len(files))\n",
    "            nUsed += 1 # increment counter for number of members\n",
    "            # Fix member for output name\n",
    "            xml_name.member = member\n",
    "            if len(files)>1:\n",
    "                # Ok if we have more than 1 netcdf file\n",
    "                # We need to generate an xml file to link them\n",
    "                \n",
    "                # Let's construct cdscan command line\n",
    "                cmd = \"cdscan -x {} {}\".format(xml_name(), \" \".join(files))\n",
    "                #print(\"\\tCDSCAN COMMNAD:\", cmd)\n",
    "                # Run the cdscan command\n",
    "                p = Popen(cmd.split(), stderr=PIPE, stdout=PIPE)\n",
    "                o, e = p.communicate()\n",
    "                # Open the just generated xml file\n",
    "                f = cdms2.open(xml_name())\n",
    "            else:\n",
    "                # Only one file we can open it directly\n",
    "                f = cdms2.open(files[0])\n",
    "            # Read in period of interest\n",
    "            data = f(path.variable, time=(start, end, \"con\"))\n",
    "            f.close() # Close the file\n",
    "            if len(files)>1:\n",
    "                # Clean up unneeded xml file\n",
    "                os.remove(xml_name())\n",
    "            # compute climatology over climo period\n",
    "            climo = cdutil.ANNUALCYCLE.climatology(data(time=(climo_start, climo_end, \"con\")))\n",
    "            if departures is None:\n",
    "                # First member\n",
    "                # Departures from ref climo\n",
    "                departures = cdutil.ANNUALCYCLE.departures(data, ref=climo)\n",
    "            else:\n",
    "                # Additional member we'll just add it to existing result\n",
    "                # Departures from ref climo\n",
    "                departures += cdutil.ANNUALCYCLE.departures(data, ref=climo)\n",
    "    # We're done let's divide by the number of members used\n",
    "    departures /= nUsed\n",
    "    # Rest the extension to nc\n",
    "    xml_name.extension = \"nc\"\n",
    "    # Let's give this \"member\" value \"avg\"\n",
    "    xml_name.member = \"avg\"\n",
    "    # geenrate output name\n",
    "    out = xml_name()\n",
    "    print(\"\\t\\tWriting {} to {}\".format(out, departures.shape))\n",
    "    # Open for writing and dump\n",
    "    fo = cdms2.open(out,'w')\n",
    "    fo.write(departures, id=path.variable)\n",
    "    fo.close()"
   ]
  },
  {
   "cell_type": "markdown",
   "metadata": {},
   "source": [
    "# Step 3 departures for obs"
   ]
  },
  {
   "cell_type": "markdown",
   "metadata": {},
   "source": [
    "Now let's do the same thing for the obs"
   ]
  },
  {
   "cell_type": "code",
   "execution_count": 3,
   "metadata": {},
   "outputs": [],
   "source": [
    "# Obs file\n",
    "obs_path = '/global/cscratch1/sd/cmip6/MERRA2/CREATE-IP.reanalysis.NASA-GMAO.MERRA-2.atmos.mon/tas_Amon_reanalysis_MERRA2_198001-201902.nc'\n",
    "f = cdms2.open(obs_path)\n",
    "# Read period of interest\n",
    "tas = f(\"tas\", time=(start, end, \"con\"))\n",
    "f.close()\n",
    "# Compute climo\n",
    "climo = cdutil.ANNUALCYCLE.climatology(tas(time=(climo_start, climo_end, \"con\")))\n",
    "# Departures from ref climo\n",
    "departures = cdutil.ANNUALCYCLE.departures(tas, ref=climo)\n",
    "# Dump to file\n",
    "f = cdms2.open(\"tas_reanalysis_MERRA2.nc\", \"w\")\n",
    "f.write(departures, id=\"tas\")\n",
    "f.close()"
   ]
  },
  {
   "cell_type": "markdown",
   "metadata": {},
   "source": [
    "# Step 4: Plotting\n",
    "\n",
    "Let's count the models we used"
   ]
  },
  {
   "cell_type": "code",
   "execution_count": 4,
   "metadata": {},
   "outputs": [
    {
     "name": "stdout",
     "output_type": "stream",
     "text": [
      "N Models: 20\n"
     ]
    }
   ],
   "source": [
    "n = len(models)\n",
    "print(\"N Models:\", n)"
   ]
  },
  {
   "cell_type": "markdown",
   "metadata": {},
   "source": [
    "With obs it's 21 models, let's plot this in portrait mode with 3 columns.\n",
    "\n",
    "For this we will use EzTemplate"
   ]
  },
  {
   "cell_type": "code",
   "execution_count": 5,
   "metadata": {},
   "outputs": [],
   "source": [
    "import EzTemplate\n",
    "import vcs\n",
    "\n",
    "# Prepare the canvas\n",
    "canvas = vcs.init()\n",
    "\n",
    "# Prepare a template\n",
    "template = vcs.createtemplate()\n",
    "# blank everything\n",
    "template.blank()\n",
    "# turn back on data/legend and dataname only\n",
    "template.legend.priority = 1\n",
    "template.data.priority = 1\n",
    "template.dataname.priority=1\n",
    "\n",
    "# Create the multi object\n",
    "Multi = EzTemplate.Multi(rows=7, columns=3, x=canvas, template=template)"
   ]
  },
  {
   "cell_type": "markdown",
   "metadata": {},
   "source": [
    "Let's compute the obs standard deviation"
   ]
  },
  {
   "cell_type": "code",
   "execution_count": 6,
   "metadata": {},
   "outputs": [],
   "source": [
    "import genutil\n",
    "std_obs = genutil.statistics.std(departures, axis=\"t\")"
   ]
  },
  {
   "cell_type": "markdown",
   "metadata": {},
   "source": [
    "For speed purpose let's put the obs on a T42 Grid"
   ]
  },
  {
   "cell_type": "code",
   "execution_count": 7,
   "metadata": {},
   "outputs": [
    {
     "name": "stderr",
     "output_type": "stream",
     "text": [
      "/opt/conda/lib/python3.7/site-packages/cdms2/avariable.py:1313: Warning: \n",
      "avariable.regrid: We chose regridTool = esmf for you among the following choices:\n",
      "   Tools ->    'regrid2' (old behavior)\n",
      "               'esmf' (conserve, patch, linear) or\n",
      "               'libcf' (linear)\n",
      "  warnings.warn(message, Warning)\n",
      "/opt/conda/lib/python3.7/site-packages/cdms2/avariable.py:1320: Warning: \n",
      "avariable.regrid: We chose regridMethod = linear for you among the following choices:\n",
      "    'conserve' or 'linear' or 'patch'\n",
      "  warnings.warn(message, Warning)\n"
     ]
    }
   ],
   "source": [
    "target_grid = cdms2.createGaussianGrid(64)\n",
    "std_obs = std_obs.regrid(target_grid)(latitude=(-90,90))  # Flip it back"
   ]
  },
  {
   "cell_type": "markdown",
   "metadata": {},
   "source": [
    "Let's generate the land/sea mask on that target grid.\n",
    "And apply it to the obs"
   ]
  },
  {
   "cell_type": "code",
   "execution_count": 8,
   "metadata": {},
   "outputs": [],
   "source": [
    "import MV2\n",
    "msk = MV2.greater(cdutil.generateLandSeaMask(std_obs), .5)\n",
    "std_obs = MV2.masked_where(msk, std_obs)\n",
    "std_obs.id = \"MERRA2\""
   ]
  },
  {
   "cell_type": "markdown",
   "metadata": {},
   "source": [
    "Now let's get the first template, it usually has the legend on, let's turn it off\n",
    "And let's use it to plot the obs"
   ]
  },
  {
   "cell_type": "code",
   "execution_count": 9,
   "metadata": {},
   "outputs": [
    {
     "data": {
      "text/plain": [
       "<vcs.displayplot.Dp at 0x2aaaef41ead8>"
      ]
     },
     "execution_count": 9,
     "metadata": {},
     "output_type": "execute_result"
    }
   ],
   "source": [
    "tmpl = Multi.get(row=0, column=0)\n",
    "tmpl.legend.priority=0  # turn off legend\n",
    "canvas.plot(std_obs, tmpl, ratio=\"autot\")"
   ]
  },
  {
   "cell_type": "markdown",
   "metadata": {},
   "source": [
    "Let's prepare some things to plot models"
   ]
  },
  {
   "cell_type": "code",
   "execution_count": 10,
   "metadata": {},
   "outputs": [],
   "source": [
    "column = 1\n",
    "row = 0\n",
    "# Fix template parts that we can\n",
    "xml_name.member = \"avg\"\n",
    "xml_name.extension = \"nc\"\n",
    "# Get the obs grid (T42 but flipped back to normal)\n",
    "obs_grid = std_obs.getGrid()\n",
    "\n",
    "# Create isofill graphics method\n",
    "# And set levels and colors and extension arrows\n",
    "isof = vcs.createisofill()\n",
    "levels = vcs.mkscale(-1.,1.)\n",
    "isof.levels = levels\n",
    "isof.ext_1 = True\n",
    "isof.ext_2 = True\n",
    "isof.fillareacolors = vcs.getcolors(isof.levels)"
   ]
  },
  {
   "cell_type": "markdown",
   "metadata": {},
   "source": [
    "Now let's loop through the models and plot them."
   ]
  },
  {
   "cell_type": "code",
   "execution_count": 11,
   "metadata": {},
   "outputs": [
    {
     "name": "stdout",
     "output_type": "stream",
     "text": [
      "Processing: CESM2-WACCM\n",
      "\t\t\t (360, 192, 288)\n",
      "\t\t\t (-2.147260575397263, 0.8992650560763581)\n",
      "Processing: HadGEM3-GC31-LL\n",
      "\t\t\t (360, 144, 192)\n",
      "\t\t\t (-1.0428437893126632, 2.469982883365961)\n",
      "Processing: CanESM5\n",
      "\t\t\t (360, 64, 128)\n",
      "\t\t\t (-3.562507626998191, 1.0343458032725976)\n",
      "Processing: CAMS-CSM1-0\n",
      "\t\t\t (360, 160, 320)\n",
      "\t\t\t (-1.8709863755895317, 2.6298425785273207)\n",
      "Processing: EC-Earth3\n",
      "\t\t\t (360, 256, 512)\n",
      "\t\t\t (-0.8412394444409421, 3.6073230793019038)\n",
      "Processing: GFDL-ESM4\n",
      "\t\t\t (360, 180, 288)\n",
      "\t\t\t (-1.3458459762030206, 1.9394532287909723)\n",
      "Processing: EC-Earth3-Veg\n",
      "\t\t\t (360, 256, 512)\n",
      "\t\t\t (-0.984430654327944, 2.354552863610547)\n",
      "Processing: SAM0-UNICON\n",
      "\t\t\t (360, 192, 288)\n",
      "\t\t\t (-0.9461793205865692, 3.1023687487029603)\n",
      "Processing: MIROC6\n",
      "\t\t\t (360, 128, 256)\n",
      "\t\t\t (-3.139207592398494, 0.15972578181515784)\n",
      "Processing: CNRM-ESM2-1\n",
      "\t\t\t (360, 128, 256)\n",
      "\t\t\t (-2.821242970952285, 0.9655922708628366)\n",
      "Processing: BCC-CSM2-MR\n",
      "\t\t\t (360, 160, 320)\n",
      "\t\t\t (-1.1700969432228019, 3.839594589048509)\n",
      "Processing: GISS-E2-1-H\n",
      "\t\t\t (360, 90, 144)\n",
      "\t\t\t (-2.938276501795864, 1.62485059206849)\n",
      "Processing: GISS-E2-1-G\n",
      "\t\t\t (30, 90, 144)\n",
      "\t\t\t (-3.4685276044701956, 2.019747920002701)\n",
      "Processing: IPSL-CM6A-LR\n",
      "\t\t\t (360, 143, 144)\n",
      "\t\t\t (-3.41323674303375, -0.07839470984283381)\n",
      "Processing: MRI-ESM2-0\n",
      "\t\t\t (360, 160, 320)\n",
      "\t\t\t (-2.6144386479633033, 0.4242564048164911)\n",
      "Processing: GFDL-CM4\n",
      "\t\t\t (360, 180, 288)\n",
      "\t\t\t (-1.1192447182621161, 2.8286601826158884)\n",
      "Processing: BCC-ESM1\n",
      "\t\t\t (360, 64, 128)\n",
      "\t\t\t (-2.1289819565295716, 2.1646843427385587)\n",
      "Processing: UKESM1-0-LL\n",
      "\t\t\t (360, 144, 192)\n",
      "\t\t\t (-0.8242299443940215, 3.481194155245584)\n",
      "Processing: CESM2\n",
      "\t\t\t (360, 192, 288)\n",
      "\t\t\t (-1.2126487389599496, 2.0270577388772133)\n",
      "Processing: CNRM-CM6-1\n",
      "\t\t\t (360, 128, 256)\n",
      "\t\t\t (-3.0116087580968243, 0.44682066555740463)\n"
     ]
    },
    {
     "data": {
      "text/plain": [
       "<vcs.displayplot.Dp at 0x2aaad572aba8>"
      ]
     },
     "execution_count": 11,
     "metadata": {},
     "output_type": "execute_result"
    }
   ],
   "source": [
    "for model in models:\n",
    "    print(\"Processing:\", model)\n",
    "    # Fix the last moving part on the template\n",
    "    xml_name.model = model\n",
    "    f = cdms2.open(xml_name())\n",
    "    # read in departures\n",
    "    tas = f(\"tas\")\n",
    "    print(\"\\t\\t\\t\", tas.shape)\n",
    "    # Conmpute std over time\n",
    "    std = genutil.statistics.std(tas, axis='t')\n",
    "    # Diff from obs\n",
    "    # No need to apply mask since obs are masked\n",
    "    diff = std.regrid(obs_grid) - std_obs\n",
    "    # Set id for plot\n",
    "    diff.id = model\n",
    "    # Print diff min/max\n",
    "    print(\"\\t\\t\\t\", genutil.minmax(diff))\n",
    "    tmpl = Multi.get(row=row, column=column)\n",
    "    if column==1 and row==0:\n",
    "        # First model let's plot the legend\n",
    "        tmpl.legend.priority=1  # turn on legend for this guy\n",
    "    d = canvas.plot(diff, tmpl, isof, ratio=\"autot\")\n",
    "    column += 1\n",
    "    if column == 3:\n",
    "        column=0\n",
    "        row+=1\n",
    "d"
   ]
  },
  {
   "cell_type": "code",
   "execution_count": 12,
   "metadata": {},
   "outputs": [],
   "source": [
    "canvas.png(\"final\")"
   ]
  },
  {
   "cell_type": "markdown",
   "metadata": {},
   "source": [
    "![](final.png)"
   ]
  },
  {
   "cell_type": "code",
   "execution_count": null,
   "metadata": {},
   "outputs": [],
   "source": []
  }
 ],
 "metadata": {
  "kernelspec": {
   "display_name": "Python 3",
   "language": "python",
   "name": "python3"
  },
  "language_info": {
   "codemirror_mode": {
    "name": "ipython",
    "version": 3
   },
   "file_extension": ".py",
   "mimetype": "text/x-python",
   "name": "python",
   "nbconvert_exporter": "python",
   "pygments_lexer": "ipython3",
   "version": "3.7.3"
  },
  "selected_variables": [],
  "vcdat_file_path": "",
  "vcdat_loaded_variables": [],
  "vcdat_variable_info": {}
 },
 "nbformat": 4,
 "nbformat_minor": 4
}
