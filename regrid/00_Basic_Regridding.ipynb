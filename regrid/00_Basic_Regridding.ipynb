{
 "cells": [
  {
   "cell_type": "markdown",
   "metadata": {},
   "source": [
    "# Regridding in CDAT\n",
    "\n",
    "Whenever you're dealing with CMIP data you will likely encounter the issue of \"regridding\", i.e going from one model's grid to another\n",
    "\n",
    "CDAT comes with 3 different regridders: *regrid2*, *esmf* and *libcf*\n",
    "\n",
    "## regrid2\n",
    "\n",
    "Regrid2 is CDAT's original regridder, it an area-based regridder that works only on rectilinear grids, for more info see [this PCMDI report](https://pcmdi.llnl.gov/report/pdf/34.pdf?id=76)\n",
    "\n",
    "## scripp\n",
    "\n",
    "Scripp regridder is possible provided that you have the scripp weight file.\n",
    "\n",
    "## libcf\n",
    "\n",
    "libcf is the second regridder ported to CDAT, it is not maintained anymore as in no new feature will be added. It was developped by unicar, for more info see [this page](https://www.unidata.ucar.edu/software/libcf/html/group__gs__regrid__grp.html)\n",
    "\n",
    "## esmf\n",
    "\n",
    "ESMF regridder is currently CDAT's default regridder. It was integrated with CDAT to enable easy use of this powerful tool.\n",
    "\n",
    "## Default regridder\n",
    "\n",
    "Regridding in CDAT is done via the `cdms2` module, the default regridder *tool* is `esmf`, the default regrid *method* is `linear`\n",
    "\n",
    "\n",
    "# Examples"
   ]
  },
  {
   "cell_type": "code",
   "execution_count": 2,
   "metadata": {},
   "outputs": [
    {
     "name": "stdout",
     "output_type": "stream",
     "text": [
      "Original shape: (12, 143, 144)\n",
      "New shape: (12, 128, 256)\n"
     ]
    }
   ],
   "source": [
    "import cdms2\n",
    "miroc_ps_file = cdms2.open(\"/global/cscratch1/sd/cmip6/CMIP6/CMIP/MIROC/MIROC6/historical/r1i1p1f1/Amon/ps/gn/v20181212/ps_Amon_MIROC6_historical_r1i1p1f1_gn_195001-201412.nc\")\n",
    "ipsl_ps_file = cdms2.open(\"/global/cscratch1/sd/cmip6/CMIP6/CMIP/IPSL/IPSL-CM6A-LR/historical/r1i1p1f1/Amon/ps/gr/v20180803/ps_Amon_IPSL-CM6A-LR_historical_r1i1p1f1_gr_185001-201412.nc\")\n",
    "ipsl = ipsl_ps_file(\"ps\", time=(\"2000\", \"2001\", \"con\"))\n",
    "miroc = miroc_ps_file[\"ps\"]  # No need to read data in at all\n",
    "\n",
    "print(\"Original shape:\", ipsl.shape)\n",
    "ipsl_ps_on_miroc_grid_esmf_linear = ipsl.regrid(miroc.getGrid())\n",
    "print(\"New shape:\", ipsl_ps_on_miroc_grid_esmf_linear.shape)\n"
   ]
  },
  {
   "cell_type": "code",
   "execution_count": 3,
   "metadata": {},
   "outputs": [
    {
     "name": "stdout",
     "output_type": "stream",
     "text": [
      "Max diff: 12857.273\n"
     ]
    }
   ],
   "source": [
    "miroc = miroc(time=(\"2000\", \"2001\", \"con\"))\n",
    "print(\"Max diff:\", (miroc-ipsl_ps_on_miroc_grid_esmf_linear).max())"
   ]
  },
  {
   "cell_type": "code",
   "execution_count": 4,
   "metadata": {},
   "outputs": [
    {
     "name": "stdout",
     "output_type": "stream",
     "text": [
      "\n",
      "WARNING: Edge bounds are the same. The results of conservative regridding will not conserve.\n",
      "coordMin =  -90.00, boundMin =  -90.00, coordMax =   90.00, boundMax =   90.00\n",
      "              \n",
      "Max diff using esmf/conserve is: 12954.3671875\n",
      "Max diff using esmf/patch is: 11339.671875\n",
      "Max diff using esmf/linear is: 12857.2734375\n",
      "Max diff using regrid2/ignored is: 12964.1953125\n",
      "Max diff using libcf/ignored is: 12857.25\n"
     ]
    }
   ],
   "source": [
    "# Let's use all possible regridder\n",
    "for tool, method in zip([\"esmf\", \"esmf\", \"esmf\", \"regrid2\", \"libcf\"], [\"conserve\", \"patch\", \"linear\", \"ignored\", \"ignored\"]):\n",
    "    ipsl_ps_on_miroc_grid = ipsl.regrid(miroc.getGrid(), regridTool=tool, regridMethod=method)\n",
    "    maxdiff = (miroc - ipsl_ps_on_miroc_grid).max()\n",
    "    print(\"Max diff using {}/{} is: {}\".format(tool, method, maxdiff))"
   ]
  },
  {
   "cell_type": "markdown",
   "metadata": {},
   "source": [
    "Please proceed to [cdms manual regrid notebook](01_cdms_chapter_4_regrid.ipynb)"
   ]
  }
 ],
 "metadata": {
  "kernelspec": {
   "display_name": "Python 3",
   "language": "python",
   "name": "python3"
  },
  "language_info": {
   "codemirror_mode": {
    "name": "ipython",
    "version": 3
   },
   "file_extension": ".py",
   "mimetype": "text/x-python",
   "name": "python",
   "nbconvert_exporter": "python",
   "pygments_lexer": "ipython3",
   "version": "3.7.3"
  },
  "selected_variables": [],
  "vcdat_file_path": "",
  "vcdat_loaded_variables": [],
  "vcdat_variable_info": {}
 },
 "nbformat": 4,
 "nbformat_minor": 4
}
