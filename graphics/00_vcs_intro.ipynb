{
 "cells": [
  {
   "cell_type": "markdown",
   "metadata": {},
   "source": [
    "# Graphics in CDAT: Visualization control System\n",
    "\n",
    "We recognized that there are many alternatives to VCS for plotting results, however CDAT comes with `VCS` which is well equiped to plot maps.\n",
    "\n",
    "\n",
    "\n",
    "## Introduction\n",
    "\n",
    "\n",
    "VCS Allows scientists to produce highly customized plots. Everything can be precisely and logically controlled, without any *guessing* game\n",
    "\n",
    "Essentially a vcs plot can be broken down into three parts\n",
    "\n",
    "**WHAT** is plotted (e.g data and labels) **HOW** it is rendered (isolines, boxfill, isofill, vectors, etc...) and **WHERE** (location on the page each elements is to be plotted)\n",
    "\n",
    "## What\n",
    "\n",
    "This is the scientific piece of information that the user is trying to represent for others (or self) to understand. It can be as raw as a simple numpy object. But it is recommended to use [CDMS](https://github.com/uv-cdat/cdms)'s transient variables. CDNS transient variables contain metadata such as name, units, geospatial information, that can be used by VCS to represent data better.\n",
    "\n",
    "The [tutorials] section has many documents for CDMS. The CDMS documentation can be found [here](http://readthedocs.org/projects/cdms/)\n",
    "\n",
    "## How\n",
    "\n",
    "This describe the data representation, at the highest level it is a `graphics method` i.e *boxfill*, *isofill*, *vectors*, *streamlines*, *line plot*, etc... But it also contains information to further control these plot types, e.g which colors to use, which levels, lines thickness, etc... \n",
    "\n",
    "Graphic methods also describe how axes and labels show be represented (e.g which axes values to show and which text to use for it, the user might want to show the `-20.` longitude represented as `20S` or the date `2020-01-15` shown as `Jan 2020` \n",
    "\n",
    "Currently VCS supports the following graphic methods: `boxfill`, `isofill`, `isoline`, `meshfill`, `vector`, `streamlines`, `taylor`, `1d`\n",
    "\n",
    "## Where\n",
    "\n",
    "This is the most complicated part of VCS but also one of the most powerful. This controls precisely the location of every component on the plot, these *control* objects are called `templates`. Templates also contain one exception to the WHAT/HOW./WHERE rule as they control texts information, albeit via [primary](#primary) objects.\n",
    "\n",
    "## Secondary objects\n",
    "\n",
    "Secondary objects are custom VCS object to draw on a Canvas, they are:\n",
    "\n",
    "`line`, `fillarea` (shape), `markers` and `text`\n",
    "\n",
    "## Projections\n",
    "\n",
    "Because VCS is good for map representation, most of its object/graphic methods, include a `'projection` attribute to render onto `proj4` type projected maps.\n",
    "\n",
    "\n",
    "# Examples\n",
    "\n"
   ]
  },
  {
   "cell_type": "code",
   "execution_count": 1,
   "metadata": {},
   "outputs": [
    {
     "data": {
      "text/plain": [
       "<vcs.displayplot.Dp at 0x2aaadc6de1e8>"
      ]
     },
     "execution_count": 1,
     "metadata": {},
     "output_type": "execute_result"
    }
   ],
   "source": [
    "import cdms2\n",
    "ipsl_tas_file = cdms2.open(\"/global/cscratch1/sd/cmip6/CMIP6/CMIP/IPSL/IPSL-CM6A-LR/historical/r1i1p1f1/Amon/tas/gr/v20180803/tas_Amon_IPSL-CM6A-LR_historical_r1i1p1f1_gr_185001-201412.nc\")\n",
    "tas = ipsl_tas_file('tas', time=(\"2000\", \"2010\", \"con\")) # 10 years over ninon 34\n",
    "\n",
    "import vcs\n",
    "canvas = vcs.init()\n",
    "canvas.plot(tas)"
   ]
  },
  {
   "cell_type": "markdown",
   "metadata": {},
   "source": [
    "Saving is just as easy"
   ]
  },
  {
   "cell_type": "code",
   "execution_count": 2,
   "metadata": {},
   "outputs": [],
   "source": [
    "canvas.png(\"my_first_plot\")"
   ]
  },
  {
   "cell_type": "markdown",
   "metadata": {},
   "source": [
    "Plotting using a different grpahic method"
   ]
  },
  {
   "cell_type": "code",
   "execution_count": 3,
   "metadata": {},
   "outputs": [
    {
     "data": {
      "text/plain": [
       "<vcs.displayplot.Dp at 0x2aaadc6de458>"
      ]
     },
     "execution_count": 3,
     "metadata": {},
     "output_type": "execute_result"
    }
   ],
   "source": [
    "isof = vcs.createisofill()\n",
    "canvas.clear()\n",
    "canvas.plot(tas,isof)"
   ]
  },
  {
   "cell_type": "markdown",
   "metadata": {},
   "source": [
    "We can list options"
   ]
  },
  {
   "cell_type": "code",
   "execution_count": 4,
   "metadata": {},
   "outputs": [
    {
     "name": "stdout",
     "output_type": "stream",
     "text": [
      "---------- Isofill (Gfi) member (attribute) listings ----------\n",
      "graphics method = Gfi\n",
      "name = __isofill_233335291624010\n",
      "projection = linear\n",
      "xticlabels1 = *\n",
      "xticlabels2 = *\n",
      "xmtics1 = \n",
      "xmtics2 = \n",
      "yticlabels1 = *\n",
      "yticlabels2 = *\n",
      "ymtics1 =  \n",
      "ymtics2 =  \n",
      "datawc_x1 = 1e+20\n",
      "datawc_y1 =  1e+20\n",
      "datawc_x2 =  1e+20\n",
      "datawc_y2 =  1e+20\n",
      "datawc_timeunits =  days since 2000\n",
      "datawc_calendar =  135441\n",
      "xaxisconvert =  linear\n",
      "yaxisconvert =  linear\n",
      "missing =  (0.0, 0.0, 0.0, 100.0)\n",
      "ext_1 =  False\n",
      "ext_2 =  False\n",
      "fillareastyle =  solid\n",
      "fillareaindices =  [1, 1, 1, 1, 1, 1, 1, 1, 1]\n",
      "fillareacolors =  [1]\n",
      "fillareaopacity =  [None, None, None, None, None, None, None, None, None]\n",
      "fillareapixelspacing =  None\n",
      "fillareapixelscale =  None\n",
      "levels =  ([1.0000000200408773e+20, 1.0000000200408773e+20],)\n",
      "legend =  None\n"
     ]
    }
   ],
   "source": [
    "isof.list()"
   ]
  },
  {
   "cell_type": "markdown",
   "metadata": {},
   "source": [
    "Lets change levels and add extensions arrows"
   ]
  },
  {
   "cell_type": "code",
   "execution_count": 5,
   "metadata": {},
   "outputs": [],
   "source": [
    "isof.levels = [250, 260, 270, 280, 290, 300]\n",
    "isof.ext_1 = True\n",
    "isof.ext_2 = True"
   ]
  },
  {
   "cell_type": "code",
   "execution_count": 6,
   "metadata": {},
   "outputs": [
    {
     "data": {
      "text/plain": [
       "<vcs.displayplot.Dp at 0x2aaadc6de388>"
      ]
     },
     "execution_count": 6,
     "metadata": {},
     "output_type": "execute_result"
    }
   ],
   "source": [
    "canvas.clear()\n",
    "canvas.plot(tas, isof)"
   ]
  },
  {
   "cell_type": "markdown",
   "metadata": {},
   "source": [
    "Let's create an isoline with the same levels and overlay"
   ]
  },
  {
   "cell_type": "code",
   "execution_count": 7,
   "metadata": {},
   "outputs": [
    {
     "data": {
      "text/plain": [
       "<vcs.displayplot.Dp at 0x2aaadc6dea08>"
      ]
     },
     "execution_count": 7,
     "metadata": {},
     "output_type": "execute_result"
    }
   ],
   "source": [
    "isol = vcs.createisoline()\n",
    "isol.level = [250, 260, 270, 280, 290, 300]\n",
    "canvas.plot(tas, isol)"
   ]
  },
  {
   "cell_type": "markdown",
   "metadata": {},
   "source": [
    "Let's clear the canvas"
   ]
  },
  {
   "cell_type": "code",
   "execution_count": 8,
   "metadata": {},
   "outputs": [],
   "source": [
    "canvas.clear()"
   ]
  },
  {
   "cell_type": "markdown",
   "metadata": {},
   "source": [
    "Let's use some predefined template to allow multi plots on a canvas.\n",
    "\n",
    "First let's list available displays"
   ]
  },
  {
   "cell_type": "code",
   "execution_count": 9,
   "metadata": {},
   "outputs": [
    {
     "data": {
      "text/plain": [
       "['ASD',\n",
       " 'ASD_dud',\n",
       " 'BL_of6_1legend',\n",
       " 'BLof6',\n",
       " 'BR_of6_1legend',\n",
       " 'BRof6',\n",
       " 'LLof4',\n",
       " 'LLof4_dud',\n",
       " 'LRof4',\n",
       " 'LRof4_dud',\n",
       " 'ML_of6',\n",
       " 'ML_of6_1legend',\n",
       " 'MR_of6',\n",
       " 'MR_of6_1legend',\n",
       " 'UL_of6_1legend',\n",
       " 'ULof4',\n",
       " 'ULof4_dud',\n",
       " 'ULof6',\n",
       " 'UR_of6',\n",
       " 'UR_of6_1legend',\n",
       " 'URof4',\n",
       " 'URof4_dud',\n",
       " 'bold_mid_of3',\n",
       " 'bold_top_of3',\n",
       " 'boldbot_of3_l',\n",
       " 'boldmid_of3_l',\n",
       " 'boldtop_of3_l',\n",
       " 'bot_of2',\n",
       " 'default',\n",
       " 'deftaylor',\n",
       " 'hovmuller',\n",
       " 'mollweide2',\n",
       " 'no_legend',\n",
       " 'polar',\n",
       " 'por_botof3',\n",
       " 'por_botof3_dud',\n",
       " 'por_midof3',\n",
       " 'por_midof3_dud',\n",
       " 'por_topof3',\n",
       " 'por_topof3_dud',\n",
       " 'quick',\n",
       " 'top_of2']"
      ]
     },
     "execution_count": 9,
     "metadata": {},
     "output_type": "execute_result"
    }
   ],
   "source": [
    "vcs.listelements(\"template\")"
   ]
  },
  {
   "cell_type": "code",
   "execution_count": 10,
   "metadata": {},
   "outputs": [
    {
     "name": "stdout",
     "output_type": "stream",
     "text": [
      "member =  data\n",
      "     priority = 1\n",
      "     x1 = 0.26\n",
      "     y1 = 0.487\n",
      "     x2 = 0.712\n",
      "     y2 = 0.713\n"
     ]
    }
   ],
   "source": [
    "top = vcs.gettemplate(\"top_of2\")\n",
    "top.data.list()\n",
    "bot = vcs.gettemplate(\"bot_of2\")"
   ]
  },
  {
   "cell_type": "code",
   "execution_count": 11,
   "metadata": {},
   "outputs": [
    {
     "data": {
      "text/plain": [
       "<vcs.displayplot.Dp at 0x2aaadcc40ee8>"
      ]
     },
     "execution_count": 11,
     "metadata": {},
     "output_type": "execute_result"
    }
   ],
   "source": [
    "canvas.plot(tas, isof, top)\n",
    "canvas.plot(tas, isol, bot)"
   ]
  },
  {
   "cell_type": "markdown",
   "metadata": {},
   "source": [
    "Templates let you control location and aspect of every elements, more [here](https://cdat.llnl.gov/Jupyter-notebooks/vcs/VCS_Templates/VCS_Templates.html)\n",
    "\n",
    "Let's add a few primary object, a filled box with a box around it, along with a title, let's say we want to highlight \"El nino 34\""
   ]
  },
  {
   "cell_type": "code",
   "execution_count": 12,
   "metadata": {},
   "outputs": [
    {
     "data": {
      "text/plain": [
       "<vcs.displayplot.Dp at 0x2aaadc6de5f8>"
      ]
     },
     "execution_count": 12,
     "metadata": {},
     "output_type": "execute_result"
    }
   ],
   "source": [
    "canvas.clear()\n",
    "default = vcs.gettemplate()\n",
    "isof = vcs.createboxfill()\n",
    "isof.datawc_x1 = -180.\n",
    "isof.datawc_x2 = 180.\n",
    "isof.datawc_y1 = -90\n",
    "isof.datawc_y2 = 90.\n",
    "canvas.plot(tas, isof, default)"
   ]
  },
  {
   "cell_type": "markdown",
   "metadata": {},
   "source": [
    "Let's highlight the area"
   ]
  },
  {
   "cell_type": "code",
   "execution_count": 13,
   "metadata": {},
   "outputs": [
    {
     "data": {
      "text/plain": [
       "<vcs.displayplot.Dp at 0x2aaadc6de798>"
      ]
     },
     "execution_count": 13,
     "metadata": {},
     "output_type": "execute_result"
    }
   ],
   "source": [
    "default = vcs.gettemplate()\n",
    "elnino34_xs = [-170, -120, -120, -170, -170]\n",
    "elnino34_ys = [-5, -5, 5, 5, -5]\n",
    "area = vcs.createfillarea()\n",
    "area.x = elnino34_xs\n",
    "area.y = elnino34_ys\n",
    "area.color = [[70, 70, 70],] # r, g, b, opacity\n",
    "# Set viewport to match template data area\n",
    "area.viewport = [default.data.x1, default.data.x2, default.data.y1, default.data.y2]\n",
    "# Set worldcoordinate to match what graphic method say\n",
    "area.worldcoordinate = [isof.datawc_x1, isof.datawc_x2, isof.datawc_y1, isof.datawc_y2]\n",
    "canvas.plot(area)"
   ]
  },
  {
   "cell_type": "markdown",
   "metadata": {},
   "source": [
    "Let's draw the box around it"
   ]
  },
  {
   "cell_type": "code",
   "execution_count": 14,
   "metadata": {},
   "outputs": [
    {
     "data": {
      "text/plain": [
       "<vcs.displayplot.Dp at 0x2aaadc6de868>"
      ]
     },
     "execution_count": 14,
     "metadata": {},
     "output_type": "execute_result"
    }
   ],
   "source": [
    "box = vcs.createline()\n",
    "box.x = elnino34_xs\n",
    "box.y = elnino34_ys\n",
    "box.width = 3.\n",
    "box.type = \"dot\"\n",
    "box.viewport = area.viewport\n",
    "box.worldcoordinate = area.worldcoordinate\n",
    "canvas.plot(box)"
   ]
  },
  {
   "cell_type": "markdown",
   "metadata": {},
   "source": [
    "And let's add the title accros the area"
   ]
  },
  {
   "cell_type": "code",
   "execution_count": 15,
   "metadata": {},
   "outputs": [
    {
     "data": {
      "text/plain": [
       "<vcs.displayplot.Dp at 0x2aaadc6de938>"
      ]
     },
     "execution_count": 15,
     "metadata": {},
     "output_type": "execute_result"
    }
   ],
   "source": [
    "title = vcs.createtext()\n",
    "title.x = (-170-120)/2.\n",
    "title.y = 0\n",
    "title.valign = \"half\"\n",
    "title.halign = \"center\"\n",
    "title.angle = -20\n",
    "title.color = \"red\"\n",
    "title.height = 20\n",
    "title.string = \"El Nino 34\"\n",
    "title.viewport = area.viewport\n",
    "title.worldcoordinate = area.worldcoordinate\n",
    "canvas.plot(title)"
   ]
  }
 ],
 "metadata": {
  "kernelspec": {
   "display_name": "Python 3",
   "language": "python",
   "name": "python3"
  },
  "language_info": {
   "codemirror_mode": {
    "name": "ipython",
    "version": 3
   },
   "file_extension": ".py",
   "mimetype": "text/x-python",
   "name": "python",
   "nbconvert_exporter": "python",
   "pygments_lexer": "ipython3",
   "version": "3.7.3"
  },
  "selected_variables": [],
  "vcdat_file_path": "",
  "vcdat_loaded_variables": [],
  "vcdat_variable_info": {}
 },
 "nbformat": 4,
 "nbformat_minor": 4
}
