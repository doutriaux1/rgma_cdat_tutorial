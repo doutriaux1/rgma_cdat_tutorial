{
 "cells": [
  {
   "cell_type": "markdown",
   "metadata": {},
   "source": [
    "# Graphics in CDAT: Visualization control System\n",
    "\n",
    "We recognized that there are many alternatives to VCS for plotting results, however CDAT comes with `VCS` which is well equiped to plot maps.\n",
    "\n",
    "\n",
    "\n",
    "## Introduction\n",
    "\n",
    "\n",
    "VCS Allows scientists to produce highly customized plots. Everything can be precisely and logically controlled, without any *guessing* game\n",
    "\n",
    "Essentially a vcs plot can be broken down into three parts\n",
    "\n",
    "**WHAT** is plotted (e.g data and labels) **HOW** it is rendered (isolines, boxfill, isofill, vectors, etc...) and **WHERE** (location on the page each elements is to be plotted)\n",
    "\n",
    "## What\n",
    "\n",
    "This is the scientific piece of information that the user is trying to represent for others (or self) to understand. It can be as raw as a simple numpy object. But it is recommended to use [CDMS](https://github.com/uv-cdat/cdms)'s transient variables. CDNS transient variables contain metadata such as name, units, geospatial information, that can be used by VCS to represent data better.\n",
    "\n",
    "The [tutorials] section has many documents for CDMS. The CDMS documentation can be found [here](http://readthedocs.org/projects/cdms/)\n",
    "\n",
    "## How\n",
    "\n",
    "This describe the data representation, at the highest level it is a `graphics method` i.e *boxfill*, *isofill*, *vectors*, *streamlines*, *line plot*, etc... But it also contains information to further control these plot types, e.g which colors to use, which levels, lines thickness, etc... \n",
    "\n",
    "Graphic methods also describe how axes and labels show be represented (e.g which axes values to show and which text to use for it, the user might want to show the `-20.` longitude represented as `20S` or the date `2020-01-15` shown as `Jan 2020` \n",
    "\n",
    "Currently VCS supports the following graphic methods: `boxfill`, `isofill`, `isoline`, `meshfill`, `vector`, `streamlines`, `taylor`, `1d`\n",
    "\n",
    "## Where\n",
    "\n",
    "This is the most complicated part of VCS but also one of the most powerful. This controls precisely the location of every component on the plot, these *control* objects are called `templates`. Templates also contain one exception to the WHAT/HOW./WHERE rule as they control texts information, albeit via [primary](#primary) objects.\n",
    "\n",
    "## Secondary objects\n",
    "\n",
    "Secondary objects are custom VCS object to draw on a Canvas, they are:\n",
    "\n",
    "`line`, `fillarea` (shape), `markers` and `text`\n",
    "\n",
    "## Projections\n",
    "\n",
    "Because VCS is good for map representation, most of its object/graphic methods, include a `'projection` attribute to render onto `proj4` type projected maps.\n",
    "\n",
    "\n",
    "# Examples\n",
    "\n"
   ]
  },
  {
   "cell_type": "code",
   "execution_count": 1,
   "metadata": {},
   "outputs": [
    {
     "data": {
      "text/plain": [
       "<vcs.displayplot.Dp at 0x2aaadc5e11e8>"
      ]
     },
     "execution_count": 1,
     "metadata": {},
     "output_type": "execute_result"
    }
   ],
   "source": [
    "import cdms2\n",
    "ipsl_tas_file = cdms2.open(\"/global/cscratch1/sd/cmip6/CMIP6/CMIP/IPSL/IPSL-CM6A-LR/historical/r1i1p1f1/Amon/tas/gr/v20180803/tas_Amon_IPSL-CM6A-LR_historical_r1i1p1f1_gr_185001-201412.nc\")\n",
    "tas = ipsl_tas_file('tas', time=(\"2000\", \"2010\", \"con\")) # 10 years over ninon 34\n",
    "\n",
    "import vcs\n",
    "canvas = vcs.init()\n",
    "canvas.plot(tas)"
   ]
  },
  {
   "cell_type": "markdown",
   "metadata": {},
   "source": [
    "Saving is just as easy"
   ]
  },
  {
   "cell_type": "code",
   "execution_count": 2,
   "metadata": {},
   "outputs": [],
   "source": [
    "canvas.png(\"my_first_plot\")"
   ]
  },
  {
   "cell_type": "markdown",
   "metadata": {},
   "source": [
    "Plotting using a different grpahic method"
   ]
  },
  {
   "cell_type": "code",
   "execution_count": 3,
   "metadata": {},
   "outputs": [
    {
     "data": {
      "text/plain": [
       "<vcs.displayplot.Dp at 0x2aaadc5e1458>"
      ]
     },
     "execution_count": 3,
     "metadata": {},
     "output_type": "execute_result"
    }
   ],
   "source": [
    "isof = vcs.createisofill()\n",
    "canvas.clear()\n",
    "canvas.plot(tas,isof)"
   ]
  },
  {
   "cell_type": "markdown",
   "metadata": {},
   "source": [
    "We can list options"
   ]
  },
  {
   "cell_type": "code",
   "execution_count": 4,
   "metadata": {},
   "outputs": [
    {
     "name": "stdout",
     "output_type": "stream",
     "text": [
      "---------- Isofill (Gfi) member (attribute) listings ----------\n",
      "graphics method = Gfi\n",
      "name = __isofill_825303241400750\n",
      "projection = linear\n",
      "xticlabels1 = *\n",
      "xticlabels2 = *\n",
      "xmtics1 = \n",
      "xmtics2 = \n",
      "yticlabels1 = *\n",
      "yticlabels2 = *\n",
      "ymtics1 =  \n",
      "ymtics2 =  \n",
      "datawc_x1 = 1e+20\n",
      "datawc_y1 =  1e+20\n",
      "datawc_x2 =  1e+20\n",
      "datawc_y2 =  1e+20\n",
      "datawc_timeunits =  days since 2000\n",
      "datawc_calendar =  135441\n",
      "xaxisconvert =  linear\n",
      "yaxisconvert =  linear\n",
      "missing =  (0.0, 0.0, 0.0, 100.0)\n",
      "ext_1 =  False\n",
      "ext_2 =  False\n",
      "fillareastyle =  solid\n",
      "fillareaindices =  [1, 1, 1, 1, 1, 1, 1, 1, 1]\n",
      "fillareacolors =  [1]\n",
      "fillareaopacity =  [None, None, None, None, None, None, None, None, None]\n",
      "fillareapixelspacing =  None\n",
      "fillareapixelscale =  None\n",
      "levels =  ([1.0000000200408773e+20, 1.0000000200408773e+20],)\n",
      "legend =  None\n"
     ]
    }
   ],
   "source": [
    "isof.list()"
   ]
  },
  {
   "cell_type": "markdown",
   "metadata": {},
   "source": [
    "Lets change levels and add extensions arrows"
   ]
  },
  {
   "cell_type": "code",
   "execution_count": 5,
   "metadata": {},
   "outputs": [],
   "source": [
    "isof.levels = [250, 260, 270, 275, 290, 300]\n",
    "isof.ext_1 = True\n",
    "isof.ext_2 = True"
   ]
  },
  {
   "cell_type": "code",
   "execution_count": 6,
   "metadata": {},
   "outputs": [
    {
     "data": {
      "text/plain": [
       "<vcs.displayplot.Dp at 0x2aaadc5e1388>"
      ]
     },
     "execution_count": 6,
     "metadata": {},
     "output_type": "execute_result"
    }
   ],
   "source": [
    "canvas.clear()\n",
    "canvas.plot(tas, isof)"
   ]
  },
  {
   "cell_type": "markdown",
   "metadata": {},
   "source": [
    "Let's create an isoline with the same levels and overlay"
   ]
  },
  {
   "cell_type": "code",
   "execution_count": 7,
   "metadata": {},
   "outputs": [
    {
     "data": {
      "text/plain": [
       "<vcs.displayplot.Dp at 0x2aaadc5e1a08>"
      ]
     },
     "execution_count": 7,
     "metadata": {},
     "output_type": "execute_result"
    }
   ],
   "source": [
    "isol = vcs.createisoline()\n",
    "isol.level = [250, 260, 270, 275, 290, 300]\n",
    "canvas.plot(tas, isol)"
   ]
  },
  {
   "cell_type": "markdown",
   "metadata": {},
   "source": [
    "Let's clear the canvas"
   ]
  },
  {
   "cell_type": "code",
   "execution_count": 8,
   "metadata": {},
   "outputs": [],
   "source": [
    "canvas.clear()"
   ]
  },
  {
   "cell_type": "markdown",
   "metadata": {},
   "source": [
    "Let's use some predefined template to allow multi plots on a canvas.\n",
    "\n",
    "First let's list available displays"
   ]
  },
  {
   "cell_type": "code",
   "execution_count": 9,
   "metadata": {},
   "outputs": [
    {
     "data": {
      "text/plain": [
       "['ASD',\n",
       " 'ASD_dud',\n",
       " 'BL_of6_1legend',\n",
       " 'BLof6',\n",
       " 'BR_of6_1legend',\n",
       " 'BRof6',\n",
       " 'LLof4',\n",
       " 'LLof4_dud',\n",
       " 'LRof4',\n",
       " 'LRof4_dud',\n",
       " 'ML_of6',\n",
       " 'ML_of6_1legend',\n",
       " 'MR_of6',\n",
       " 'MR_of6_1legend',\n",
       " 'UL_of6_1legend',\n",
       " 'ULof4',\n",
       " 'ULof4_dud',\n",
       " 'ULof6',\n",
       " 'UR_of6',\n",
       " 'UR_of6_1legend',\n",
       " 'URof4',\n",
       " 'URof4_dud',\n",
       " 'bold_mid_of3',\n",
       " 'bold_top_of3',\n",
       " 'boldbot_of3_l',\n",
       " 'boldmid_of3_l',\n",
       " 'boldtop_of3_l',\n",
       " 'bot_of2',\n",
       " 'default',\n",
       " 'deftaylor',\n",
       " 'hovmuller',\n",
       " 'mollweide2',\n",
       " 'no_legend',\n",
       " 'polar',\n",
       " 'por_botof3',\n",
       " 'por_botof3_dud',\n",
       " 'por_midof3',\n",
       " 'por_midof3_dud',\n",
       " 'por_topof3',\n",
       " 'por_topof3_dud',\n",
       " 'quick',\n",
       " 'top_of2']"
      ]
     },
     "execution_count": 9,
     "metadata": {},
     "output_type": "execute_result"
    }
   ],
   "source": [
    "vcs.listelements(\"template\")"
   ]
  },
  {
   "cell_type": "code",
   "execution_count": 10,
   "metadata": {},
   "outputs": [
    {
     "name": "stdout",
     "output_type": "stream",
     "text": [
      "member =  data\n",
      "     priority = 1\n",
      "     x1 = 0.26\n",
      "     y1 = 0.487\n",
      "     x2 = 0.712\n",
      "     y2 = 0.713\n"
     ]
    }
   ],
   "source": [
    "top = vcs.gettemplate(\"top_of2\")\n",
    "top.data.list()\n",
    "bot = vcs.gettemplate(\"bot_of2\")"
   ]
  },
  {
   "cell_type": "code",
   "execution_count": 11,
   "metadata": {},
   "outputs": [
    {
     "data": {
      "text/plain": [
       "<vcs.displayplot.Dp at 0x2aaadc7fcee8>"
      ]
     },
     "execution_count": 11,
     "metadata": {},
     "output_type": "execute_result"
    }
   ],
   "source": [
    "canvas.plot(tas, isof, top)\n",
    "canvas.plot(tas, isol, bot)"
   ]
  },
  {
   "cell_type": "markdown",
   "metadata": {},
   "source": [
    "Templates let you control location and aspect of every elements, more [here](https://cdat.llnl.gov/Jupyter-notebooks/vcs/VCS_Templates/VCS_Templates.html)\n",
    "\n",
    "Let's add a few primary object, a filled box with a box around it, along with a title, let's say we want to highlight \"El nino 34\""
   ]
  },
  {
   "cell_type": "code",
   "execution_count": 12,
   "metadata": {},
   "outputs": [
    {
     "data": {
      "text/plain": [
       "<vcs.displayplot.Dp at 0x2aaadc5e15f8>"
      ]
     },
     "execution_count": 12,
     "metadata": {},
     "output_type": "execute_result"
    }
   ],
   "source": [
    "canvas.clear()\n",
    "default = vcs.gettemplate()\n",
    "isof = vcs.createboxfill()\n",
    "isof.datawc_x1 = -180.\n",
    "isof.datawc_x2 = 180.\n",
    "isof.datawc_y1 = -90\n",
    "isof.datawc_y2 = 90.\n",
    "canvas.plot(tas, isof, default)"
   ]
  },
  {
   "cell_type": "markdown",
   "metadata": {},
   "source": [
    "Let's highlight the area"
   ]
  },
  {
   "cell_type": "code",
   "execution_count": 14,
   "metadata": {},
   "outputs": [
    {
     "data": {
      "text/plain": [
       "<vcs.displayplot.Dp at 0x2aaadc5e16c8>"
      ]
     },
     "execution_count": 14,
     "metadata": {},
     "output_type": "execute_result"
    }
   ],
   "source": [
    "default = vcs.gettemplate()\n",
    "elnino34_xs = [-170, -120, -120, -170, -170]\n",
    "elnino34_ys = [-5, -5, 5, 5, -5]\n",
    "area = vcs.createfillarea()\n",
    "area.x = elnino34_xs\n",
    "area.y = elnino34_ys\n",
    "area.color = [[70, 70, 70, 50],] # r, g, b, opacity\n",
    "# Set viewport to match template data area\n",
    "area.viewport = [default.data.x1, default.data.x2, default.data.y1, default.data.y2]\n",
    "# Set worldcoordinate to match what graphic method say\n",
    "area.worldcoordinate = [isof.datawc_x1, isof.datawc_x2, isof.datawc_y1, isof.datawc_y2]\n",
    "canvas.plot(area)"
   ]
  },
  {
   "cell_type": "markdown",
   "metadata": {},
   "source": [
    "Let's draw the box around it"
   ]
  },
  {
   "cell_type": "code",
   "execution_count": 15,
   "metadata": {},
   "outputs": [
    {
     "data": {
      "text/plain": [
       "<vcs.displayplot.Dp at 0x2aaadc5e1938>"
      ]
     },
     "execution_count": 15,
     "metadata": {},
     "output_type": "execute_result"
    }
   ],
   "source": [
    "box = vcs.createline()\n",
    "box.x = elnino34_xs\n",
    "box.y = elnino34_ys\n",
    "box.width = 3.\n",
    "box.type = \"dot\"\n",
    "box.viewport = area.viewport\n",
    "box.worldcoordinate = area.worldcoordinate\n",
    "canvas.plot(box)"
   ]
  },
  {
   "cell_type": "markdown",
   "metadata": {},
   "source": [
    "And let's add the title accros the area"
   ]
  },
  {
   "cell_type": "code",
   "execution_count": 16,
   "metadata": {},
   "outputs": [
    {
     "data": {
      "text/plain": [
       "<vcs.displayplot.Dp at 0x2aaadc5e1ad8>"
      ]
     },
     "execution_count": 16,
     "metadata": {},
     "output_type": "execute_result"
    }
   ],
   "source": [
    "title = vcs.createtext()\n",
    "title.x = (-170-120)/2.\n",
    "title.y = 0\n",
    "title.valign = \"half\"\n",
    "title.halign = \"center\"\n",
    "title.angle = -20\n",
    "title.color = \"red\"\n",
    "title.height = 20\n",
    "title.string = \"El Nino 34\"\n",
    "title.viewport = area.viewport\n",
    "title.worldcoordinate = area.worldcoordinate\n",
    "canvas.plot(title)"
   ]
  },
  {
   "cell_type": "code",
   "execution_count": null,
   "metadata": {},
   "outputs": [],
   "source": []
  }
 ],
 "metadata": {
  "kernelspec": {
   "display_name": "Python 3",
   "language": "python",
   "name": "python3"
  },
  "language_info": {
   "codemirror_mode": {
    "name": "ipython",
    "version": 3
   },
   "file_extension": ".py",
   "mimetype": "text/x-python",
   "name": "python",
   "nbconvert_exporter": "python",
   "pygments_lexer": "ipython3",
   "version": "3.7.3"
  },
  "selected_variables": [],
  "vcdat_file_path": "",
  "vcdat_loaded_variables": [
   {
    "alias": "tas",
    "axisInfo": [
     {
      "data": [
       54801.5,
       54831.5,
       54861.5,
       54892,
       54922.5,
       54953,
       54983.5,
       55014.5,
       55045,
       55075.5,
       55106,
       55136.5,
       55167.5,
       55197,
       55226.5,
       55257,
       55287.5,
       55318,
       55348.5,
       55379.5,
       55410,
       55440.5,
       55471,
       55501.5,
       55532.5,
       55562,
       55591.5,
       55622,
       55652.5,
       55683,
       55713.5,
       55744.5,
       55775,
       55805.5,
       55836,
       55866.5,
       55897.5,
       55927,
       55956.5,
       55987,
       56017.5,
       56048,
       56078.5,
       56109.5,
       56140,
       56170.5,
       56201,
       56231.5,
       56262.5,
       56292.5,
       56322.5,
       56353,
       56383.5,
       56414,
       56444.5,
       56475.5,
       56506,
       56536.5,
       56567,
       56597.5,
       56628.5,
       56658,
       56687.5,
       56718,
       56748.5,
       56779,
       56809.5,
       56840.5,
       56871,
       56901.5,
       56932,
       56962.5,
       56993.5,
       57023,
       57052.5,
       57083,
       57113.5,
       57144,
       57174.5,
       57205.5,
       57236,
       57266.5,
       57297,
       57327.5,
       57358.5,
       57388,
       57417.5,
       57448,
       57478.5,
       57509,
       57539.5,
       57570.5,
       57601,
       57631.5,
       57662,
       57692.5,
       57723.5,
       57753.5,
       57783.5,
       57814,
       57844.5,
       57875,
       57905.5,
       57936.5,
       57967,
       57997.5,
       58028,
       58058.5,
       58089.5,
       58119,
       58148.5,
       58179,
       58209.5,
       58240,
       58270.5,
       58301.5,
       58332,
       58362.5,
       58393,
       58423.5
      ],
      "first": 54801.5,
      "isTime": true,
      "last": 58423.5,
      "modulo": null,
      "moduloCycle": 360,
      "name": "time",
      "shape": [
       120
      ],
      "units": "days since 1850-01-01 00:00:00"
     },
     {
      "data": [
       -90,
       -88.73239135742188,
       -87.46479034423828,
       -86.19718170166016,
       -84.92958068847656,
       -83.66197204589844,
       -82.39436340332031,
       -81.12676239013672,
       -79.8591537475586,
       -78.591552734375,
       -77.32394409179688,
       -76.05633544921875,
       -74.78873443603516,
       -73.52112579345703,
       -72.25352478027344,
       -70.98591613769531,
       -69.71830749511719,
       -68.4507064819336,
       -67.18309783935547,
       -65.91548919677734,
       -64.64788818359375,
       -63.38028335571289,
       -62.112674713134766,
       -60.845069885253906,
       -59.57746505737305,
       -58.30986022949219,
       -57.04225540161133,
       -55.7746467590332,
       -54.507041931152344,
       -53.239437103271484,
       -51.971832275390625,
       -50.7042236328125,
       -49.43661880493164,
       -48.16901397705078,
       -46.90140914916992,
       -45.63380432128906,
       -44.36619567871094,
       -43.09859085083008,
       -41.83098602294922,
       -40.56338119506836,
       -39.2957763671875,
       -38.028167724609375,
       -36.760562896728516,
       -35.492958068847656,
       -34.2253532409668,
       -32.95774459838867,
       -31.690141677856445,
       -30.422534942626953,
       -29.154930114746094,
       -27.8873233795166,
       -26.619718551635742,
       -25.35211181640625,
       -24.08450698852539,
       -22.81690216064453,
       -21.54929542541504,
       -20.28169059753418,
       -19.014083862304688,
       -17.746479034423828,
       -16.478872299194336,
       -15.211267471313477,
       -13.9436616897583,
       -12.676055908203125,
       -11.408451080322266,
       -10.14084529876709,
       -8.873239517211914,
       -7.605633735656738,
       -6.3380279541015625,
       -5.070422649383545,
       -3.802816867828369,
       -2.5352113246917725,
       -1.2676056623458862,
       0,
       1.2676056623458862,
       2.5352113246917725,
       3.802816867828369,
       5.070422649383545,
       6.3380279541015625,
       7.605633735656738,
       8.873239517211914,
       10.14084529876709,
       11.408451080322266,
       12.676055908203125,
       13.9436616897583,
       15.211267471313477,
       16.478872299194336,
       17.746479034423828,
       19.014083862304688,
       20.28169059753418,
       21.54929542541504,
       22.81690216064453,
       24.08450698852539,
       25.35211181640625,
       26.619718551635742,
       27.8873233795166,
       29.154930114746094,
       30.422534942626953,
       31.690141677856445,
       32.95774459838867,
       34.2253532409668,
       35.492958068847656,
       36.760562896728516,
       38.028167724609375,
       39.2957763671875,
       40.56338119506836,
       41.83098602294922,
       43.09859085083008,
       44.36619567871094,
       45.63380432128906,
       46.90140914916992,
       48.16901397705078,
       49.43661880493164,
       50.7042236328125,
       51.971832275390625,
       53.239437103271484,
       54.507041931152344,
       55.7746467590332,
       57.04225540161133,
       58.30986022949219,
       59.57746505737305,
       60.845069885253906,
       62.112674713134766,
       63.38028335571289,
       64.64788818359375,
       65.91548919677734,
       67.18309783935547,
       68.4507064819336,
       69.71830749511719,
       70.98591613769531,
       72.25352478027344,
       73.52112579345703,
       74.78873443603516,
       76.05633544921875,
       77.32394409179688,
       78.591552734375,
       79.8591537475586,
       81.12676239013672,
       82.39436340332031,
       83.66197204589844,
       84.92958068847656,
       86.19718170166016,
       87.46479034423828,
       88.73239135742188,
       90
      ],
      "first": -90,
      "isTime": false,
      "last": 90,
      "modulo": null,
      "moduloCycle": 360,
      "name": "lat",
      "shape": [
       143
      ],
      "units": "degrees_north"
     },
     {
      "data": [
       0,
       2.5,
       5,
       7.5,
       10,
       12.5,
       15,
       17.5,
       20,
       22.5,
       25,
       27.5,
       30,
       32.5,
       35,
       37.5,
       40,
       42.5,
       45,
       47.5,
       50,
       52.5,
       55,
       57.5,
       60,
       62.5,
       65,
       67.5,
       70,
       72.5,
       75,
       77.5,
       80,
       82.5,
       85,
       87.5,
       90,
       92.5,
       95,
       97.5,
       100,
       102.5,
       105,
       107.5,
       110,
       112.5,
       115,
       117.5,
       120,
       122.5,
       125,
       127.5,
       130,
       132.5,
       135,
       137.5,
       140,
       142.5,
       145,
       147.5,
       150,
       152.5,
       155,
       157.5,
       160,
       162.5,
       165,
       167.5,
       170,
       172.5,
       175,
       177.5,
       180,
       182.5,
       185,
       187.5,
       190,
       192.5,
       195,
       197.5,
       200,
       202.5,
       205,
       207.5,
       210,
       212.5,
       215,
       217.5,
       220,
       222.5,
       225,
       227.5,
       230,
       232.5,
       235,
       237.5,
       240,
       242.5,
       245,
       247.5,
       250,
       252.5,
       255,
       257.5,
       260,
       262.5,
       265,
       267.5,
       270,
       272.5,
       275,
       277.5,
       280,
       282.5,
       285,
       287.5,
       290,
       292.5,
       295,
       297.5,
       300,
       302.5,
       305,
       307.5,
       310,
       312.5,
       315,
       317.5,
       320,
       322.5,
       325,
       327.5,
       330,
       332.5,
       335,
       337.5,
       340,
       342.5,
       345,
       347.5,
       350,
       352.5,
       355,
       357.5
      ],
      "first": 0,
      "isTime": false,
      "last": 357.5,
      "modulo": 360,
      "moduloCycle": 360,
      "name": "lon",
      "shape": [
       144
      ],
      "units": "degrees_east"
     }
    ],
    "axisList": [
     "time",
     "lat",
     "lon"
    ],
    "longName": "Near-Surface Air Temperature",
    "name": "tas",
    "pythonID": 46913125116168,
    "sourceName": "",
    "units": "K"
   }
  ],
  "vcdat_variable_info": {}
 },
 "nbformat": 4,
 "nbformat_minor": 4
}
