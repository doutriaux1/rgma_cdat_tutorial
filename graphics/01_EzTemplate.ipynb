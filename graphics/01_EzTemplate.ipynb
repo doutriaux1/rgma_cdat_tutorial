{
 "cells": [
  {
   "cell_type": "markdown",
   "metadata": {},
   "source": [
    "# Multiple Plots on a single VCS canvas\n",
    "\n",
    "This is a watered-down version of [this notebook](https://cdat.llnl.gov/Jupyter-notebooks/vcsaddons/EzTemplates/EzTemplates.html)\n",
    "\n",
    "More often than not one would like to have mutliple plots on a single page (or vcs canvas in our case).\n",
    "\n",
    "This can be achieved via VCS's templates objects. Tweaking the templates can be tidious, this is where the EzTemplate comes handy, it helps creating vcs template object for most common plot configurations.\n",
    "\n",
    "Let's get some data first"
   ]
  },
  {
   "cell_type": "code",
   "execution_count": 1,
   "metadata": {},
   "outputs": [],
   "source": [
    "import cdms2\n",
    "ipsl_tas_file = cdms2.open(\"/global/cscratch1/sd/cmip6/CMIP6/CMIP/IPSL/IPSL-CM6A-LR/historical/r1i1p1f1/Amon/tas/gr/v20180803/tas_Amon_IPSL-CM6A-LR_historical_r1i1p1f1_gr_185001-201412.nc\")\n",
    "tas = ipsl_tas_file('tas', time=(\"2000\", \"2010\", \"con\")) # 10 years over ninon 34"
   ]
  },
  {
   "cell_type": "markdown",
   "metadata": {},
   "source": [
    "# Basics\n",
    "\n",
    "Let's say we want have 6 plots, split on 3 rows of 2.\n",
    "\n",
    "Notice the canvas automatically switch to portrait orientation."
   ]
  },
  {
   "cell_type": "code",
   "execution_count": 2,
   "metadata": {},
   "outputs": [
    {
     "data": {
      "text/plain": [
       "<vcs.displayplot.Dp at 0x2aaadca87ee8>"
      ]
     },
     "execution_count": 2,
     "metadata": {},
     "output_type": "execute_result"
    }
   ],
   "source": [
    "import EzTemplate\n",
    "Multiple = EzTemplate.Multi(rows=3, columns=2)\n",
    "canvas = Multiple.x\n",
    "for i in range(6):\n",
    "    template = Multiple.get()  # This is vcs template object you could further edit\n",
    "    display = canvas.plot(tas[i], template)\n",
    "display  # for notebook to render final picture"
   ]
  },
  {
   "cell_type": "markdown",
   "metadata": {},
   "source": [
    "# Accessing a specific template\n",
    "\n",
    "Rather than accessing templates in order, you can retrieve directly a specific object\n"
   ]
  },
  {
   "cell_type": "code",
   "execution_count": 3,
   "metadata": {},
   "outputs": [
    {
     "data": {
      "text/plain": [
       "<vcs.displayplot.Dp at 0x2aaadca87d48>"
      ]
     },
     "execution_count": 3,
     "metadata": {},
     "output_type": "execute_result"
    }
   ],
   "source": [
    "canvas.clear()\n",
    "template = Multiple.get(row=0, column=0)  # This is vcs template object you could further edit\n",
    "canvas.plot(tas[0], template)\n",
    "template = Multiple.get(row=1, column=1)  # This is vcs template object you could further edit\n",
    "canvas.plot(tas[3], template)\n",
    "template = Multiple.get(row=2, column=0)  # This is vcs template object you could further edit\n",
    "canvas.plot(tas[6], template)\n"
   ]
  },
  {
   "cell_type": "markdown",
   "metadata": {},
   "source": [
    "# Local legend\n",
    "\n",
    "You probably noticed that only one legend is plotted, sometimes you might want a separate legend for a specific subplot. This can be achieved when you get the template"
   ]
  },
  {
   "cell_type": "code",
   "execution_count": 4,
   "metadata": {},
   "outputs": [
    {
     "data": {
      "text/plain": [
       "<vcs.displayplot.Dp at 0x2aaadca87e18>"
      ]
     },
     "execution_count": 4,
     "metadata": {},
     "output_type": "execute_result"
    }
   ],
   "source": [
    "canvas.clear()\n",
    "template = Multiple.get(row=0, column=0)  # This is vcs template object you could further edit\n",
    "canvas.plot(tas[0], template)\n",
    "template = Multiple.get(row=1, column=1, legend=\"local\")  # This is vcs template object you could further edit\n",
    "canvas.plot(tas[3], template)\n",
    "template = Multiple.get(row=2, column=0)  # This is vcs template object you could further edit\n",
    "canvas.plot(tas[6], template)"
   ]
  }
 ],
 "metadata": {
  "kernelspec": {
   "display_name": "Python 3",
   "language": "python",
   "name": "python3"
  },
  "language_info": {
   "codemirror_mode": {
    "name": "ipython",
    "version": 3
   },
   "file_extension": ".py",
   "mimetype": "text/x-python",
   "name": "python",
   "nbconvert_exporter": "python",
   "pygments_lexer": "ipython3",
   "version": "3.7.3"
  },
  "selected_variables": [],
  "vcdat_file_path": "",
  "vcdat_loaded_variables": [],
  "vcdat_variable_info": {}
 },
 "nbformat": 4,
 "nbformat_minor": 4
}
