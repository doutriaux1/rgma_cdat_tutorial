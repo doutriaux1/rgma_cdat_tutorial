{
 "cells": [
  {
   "cell_type": "markdown",
   "metadata": {},
   "source": [
    "# Writing Data To File\n",
    "\n",
    "In this notebook we will show how to write information to a file. CDMS2 writes out NetCDF files.\n",
    "\n",
    "First let's read in some data\n"
   ]
  },
  {
   "cell_type": "code",
   "execution_count": 1,
   "metadata": {},
   "outputs": [
    {
     "data": {
      "text/plain": [
       "(120, 143, 144)"
      ]
     },
     "execution_count": 1,
     "metadata": {},
     "output_type": "execute_result"
    }
   ],
   "source": [
    "import os\n",
    "import cdms2\n",
    "home = os.path.expandvars(\"$HOME\")\n",
    "ipsl_ps_file = cdms2.open(\"/global/cscratch1/sd/cmip6/CMIP6/CMIP/IPSL/IPSL-CM6A-LR/historical/r1i1p1f1/Amon/ps/gr/v20180803/ps_Amon_IPSL-CM6A-LR_historical_r1i1p1f1_gr_185001-201412.nc\")\n",
    "ps = ipsl_ps_file(\"ps\", time=(\"2000\", \"2010\"))\n",
    "ps.shape"
   ]
  },
  {
   "cell_type": "code",
   "execution_count": 2,
   "metadata": {},
   "outputs": [],
   "source": [
    "import os"
   ]
  },
  {
   "cell_type": "markdown",
   "metadata": {},
   "source": [
    "Let's rewrite this smaller chunk of data into a file.\n",
    "\n",
    "By default cdms2 use NetCDF4 Classic Format with compression:"
   ]
  },
  {
   "cell_type": "code",
   "execution_count": 3,
   "metadata": {},
   "outputs": [
    {
     "name": "stdout",
     "output_type": "stream",
     "text": [
      "NetCDF4: 1\n"
     ]
    }
   ],
   "source": [
    "print(\"NetCDF4:\", cdms2.getNetcdf4Flag())"
   ]
  },
  {
   "cell_type": "markdown",
   "metadata": {},
   "source": [
    "**NOTE:** cdms2 does not let you set chunking sizes, NetCDF defaults are used\n",
    "These flags need to be setup before opening a netcdf file. If you prefer NetCDF3:"
   ]
  },
  {
   "cell_type": "code",
   "execution_count": 4,
   "metadata": {},
   "outputs": [
    {
     "name": "stdout",
     "output_type": "stream",
     "text": [
      "NetCDF4: 0\n"
     ]
    }
   ],
   "source": [
    "cdms2.useNetcdf3()\n",
    "print(\"NetCDF4:\", cdms2.getNetcdf4Flag())"
   ]
  },
  {
   "cell_type": "code",
   "execution_count": 5,
   "metadata": {},
   "outputs": [],
   "source": [
    "# But let's use it and set deflate level to 5\n",
    "cdms2.setNetcdf4Flag(1)\n",
    "cdms2.setNetcdfDeflateFlag(1)\n",
    "cdms2.setNetcdfDeflateLevelFlag(5)"
   ]
  },
  {
   "cell_type": "markdown",
   "metadata": {},
   "source": [
    "We these now set, let's open a file for writing"
   ]
  },
  {
   "cell_type": "code",
   "execution_count": 6,
   "metadata": {},
   "outputs": [],
   "source": [
    "fout = cdms2.open(\"ps_subset.nc\", \"w\")"
   ]
  },
  {
   "cell_type": "markdown",
   "metadata": {},
   "source": [
    "`\"w\"` means create a new file if it exists and open for writing.\n",
    "\n",
    "Now we probably want to set a few global attributes on this file so we can remember what happened"
   ]
  },
  {
   "cell_type": "code",
   "execution_count": 7,
   "metadata": {},
   "outputs": [],
   "source": [
    "import time\n",
    "fout.history = \"{}: Created from subset of bigger file during rgma tutorial\".format(time.asctime())\n",
    "fout.origin = ipsl_ps_file.name\n",
    "fout.author = \"me\"\n",
    "# And so on"
   ]
  },
  {
   "cell_type": "markdown",
   "metadata": {},
   "source": [
    "Now let's write our data to this file"
   ]
  },
  {
   "cell_type": "code",
   "execution_count": 8,
   "metadata": {},
   "outputs": [
    {
     "name": "stderr",
     "output_type": "stream",
     "text": [
      "/opt/conda/lib/python3.7/site-packages/cdms2/dataset.py:2193: Warning: Files are written with compression and no shuffling\n",
      "You can query different values of compression using the functions:\n",
      "cdms2.getNetcdfShuffleFlag() returning 1 if shuffling is enabled, 0 otherwise\n",
      "cdms2.getNetcdfDeflateFlag() returning 1 if deflate is used, 0 otherwise\n",
      "cdms2.getNetcdfDeflateLevelFlag() returning the level of compression for the deflate method\n",
      "\n",
      "If you want to turn that off or set different values of compression use the functions:\n",
      "value = 0\n",
      "cdms2.setNetcdfShuffleFlag(value) ## where value is either 0 or 1\n",
      "cdms2.setNetcdfDeflateFlag(value) ## where value is either 0 or 1\n",
      "cdms2.setNetcdfDeflateLevelFlag(value) ## where value is a integer between 0 and 9 included\n",
      "\n",
      "To produce NetCDF3 Classic files use:\n",
      "cdms2.useNetCDF3()\n",
      "To Force NetCDF4 output with classic format and no compressing use:\n",
      "cdms2.setNetcdf4Flag(1)\n",
      "NetCDF4 file with no shuffling or deflate and noclassic will be open for parallel i/o\n",
      "  \"for parallel i/o\", Warning)\n"
     ]
    }
   ],
   "source": [
    "fout.write(ps)\n",
    "fout.close()"
   ]
  },
  {
   "cell_type": "markdown",
   "metadata": {},
   "source": [
    "If you're running this in batch mode and want to turn the warning off use:"
   ]
  },
  {
   "cell_type": "code",
   "execution_count": 9,
   "metadata": {},
   "outputs": [
    {
     "data": {
      "text/plain": [
       "False"
      ]
     },
     "execution_count": 9,
     "metadata": {},
     "output_type": "execute_result"
    }
   ],
   "source": [
    "cdms2.setCompressionWarnings(0)"
   ]
  },
  {
   "cell_type": "markdown",
   "metadata": {},
   "source": [
    "Now let's look at our netcdf file"
   ]
  },
  {
   "cell_type": "code",
   "execution_count": 10,
   "metadata": {},
   "outputs": [
    {
     "name": "stdout",
     "output_type": "stream",
     "text": [
      "netcdf ps_subset {\n",
      "dimensions:\n",
      "\ttime = UNLIMITED ; // (120 currently)\n",
      "\tbound = 2 ;\n",
      "\tlat = 143 ;\n",
      "\tlon = 144 ;\n",
      "variables:\n",
      "\tdouble time(time) ;\n",
      "\t\ttime:bounds = \"time_bounds\" ;\n",
      "\t\ttime:axis = \"T\" ;\n",
      "\t\ttime:calendar = \"gregorian\" ;\n",
      "\t\ttime:units = \"days since 1850-01-01 00:00:00\" ;\n",
      "\t\ttime:standard_name = \"time\" ;\n",
      "\t\ttime:long_name = \"Time axis\" ;\n",
      "\t\ttime:time_origin = \"1850-01-01 00:00:00\" ;\n",
      "\t\ttime:realtopology = \"linear\" ;\n",
      "\t\ttime:_Storage = \"chunked\" ;\n",
      "\t\ttime:_ChunkSizes = 512 ;\n",
      "\t\ttime:_DeflateLevel = 5 ;\n",
      "\t\ttime:_Endianness = \"little\" ;\n",
      "\tdouble time_bounds(time, bound) ;\n",
      "\t\ttime_bounds:_Storage = \"chunked\" ;\n",
      "\t\ttime_bounds:_ChunkSizes = 1, 2 ;\n",
      "\t\ttime_bounds:_DeflateLevel = 5 ;\n",
      "\t\ttime_bounds:_Endianness = \"little\" ;\n",
      "\tfloat lat(lat) ;\n",
      "\t\tlat:bounds = \"bounds_lat\" ;\n",
      "\t\tlat:axis = \"Y\" ;\n",
      "\t\tlat:units = \"degrees_north\" ;\n",
      "\t\tlat:standard_name = \"latitude\" ;\n",
      "\t\tlat:long_name = \"Latitude\" ;\n",
      "\t\tlat:realtopology = \"linear\" ;\n",
      "\t\tlat:_Storage = \"chunked\" ;\n",
      "\t\tlat:_ChunkSizes = 143 ;\n",
      "\t\tlat:_DeflateLevel = 5 ;\n",
      "\t\tlat:_Endianness = \"little\" ;\n",
      "\tdouble bounds_lat(lat, bound) ;\n",
      "\t\tbounds_lat:_Storage = \"chunked\" ;\n",
      "\t\tbounds_lat:_ChunkSizes = 143, 2 ;\n",
      "\t\tbounds_lat:_DeflateLevel = 5 ;\n",
      "\t\tbounds_lat:_Endianness = \"little\" ;\n",
      "\tfloat lon(lon) ;\n",
      "\t\tlon:bounds = \"bounds_lon\" ;\n",
      "\t\tlon:axis = \"X\" ;\n",
      "\t\tlon:modulo = 360. ;\n",
      "\t\tlon:topology = \"circular\" ;\n",
      "\t\tlon:units = \"degrees_east\" ;\n",
      "\t\tlon:standard_name = \"longitude\" ;\n",
      "\t\tlon:long_name = \"Longitude\" ;\n",
      "\t\tlon:realtopology = \"circular\" ;\n",
      "\t\tlon:_Storage = \"chunked\" ;\n",
      "\t\tlon:_ChunkSizes = 144 ;\n",
      "\t\tlon:_DeflateLevel = 5 ;\n",
      "\t\tlon:_Endianness = \"little\" ;\n",
      "\tdouble bounds_lon(lon, bound) ;\n",
      "\t\tbounds_lon:_Storage = \"chunked\" ;\n",
      "\t\tbounds_lon:_ChunkSizes = 144, 2 ;\n",
      "\t\tbounds_lon:_DeflateLevel = 5 ;\n",
      "\t\tbounds_lon:_Endianness = \"little\" ;\n",
      "\tfloat ps(time, lat, lon) ;\n",
      "\t\tps:long_name = \"Surface Air Pressure\" ;\n",
      "\t\tps:units = \"Pa\" ;\n",
      "\t\tps:online_operation = \"average\" ;\n",
      "\t\tps:cell_methods = \"area: time: mean\" ;\n",
      "\t\tps:interval_operation = \"900 s\" ;\n",
      "\t\tps:interval_write = \"1 month\" ;\n",
      "\t\tps:coordinates = \"\" ;\n",
      "\t\tps:standard_name = \"surface_air_pressure\" ;\n",
      "\t\tps:description = \"not, in general, the same as mean sea-level pressure\" ;\n",
      "\t\tps:history = \"none\" ;\n",
      "\t\tps:cell_measures = \"area: areacella\" ;\n",
      "\t\tps:missing_value = 1.e+20f ;\n",
      "\t\tps:_FillValue = 1.e+20f ;\n",
      "\t\tps:_Storage = \"chunked\" ;\n",
      "\t\tps:_ChunkSizes = 1, 143, 144 ;\n",
      "\t\tps:_DeflateLevel = 5 ;\n",
      "\t\tps:_Endianness = \"little\" ;\n",
      "\n",
      "// global attributes:\n",
      "\t\t:Conventions = \"CF-1.0\" ;\n",
      "\t\t:history = \"Wed Jul 17 18:38:03 2019: Created from subset of bigger file during rgma tutorial\" ;\n",
      "\t\t:origin = \"/ccc/work/cont003/gencmip6/p86caub/IGCM_OUT/IPSLCM6/PROD/historical/CM61-LR-hist-03.1910/CMIP6/ATM/ps_Amon_IPSL-CM6A-LR_historical_r1i1p1f1_gr_%start_date%-%end_date%\" ;\n",
      "\t\t:author = \"me\" ;\n",
      "\t\t:_NCProperties = \"version=2,netcdf=4.6.2,hdf5=1.10.4\" ;\n",
      "\t\t:_SuperblockVersion = 0 ;\n",
      "\t\t:_IsNetcdf4 = 1 ;\n",
      "\t\t:_Format = \"netCDF-4 classic model\" ;\n",
      "}\n"
     ]
    }
   ],
   "source": [
    "!ncdump -hs ps_subset.nc"
   ]
  },
  {
   "cell_type": "markdown",
   "metadata": {},
   "source": [
    "We can see our global attributes and compression settings are here, as well as all variable attributes."
   ]
  },
  {
   "cell_type": "code",
   "execution_count": 11,
   "metadata": {},
   "outputs": [
    {
     "data": {
      "text/plain": [
       "(24, 143, 144)"
      ]
     },
     "execution_count": 11,
     "metadata": {},
     "output_type": "execute_result"
    }
   ],
   "source": [
    "extra_ps = ipsl_ps_file(\"ps\", time=(\"2010\", \"2012\"))\n",
    "extra_ps.shape"
   ]
  },
  {
   "cell_type": "code",
   "execution_count": 12,
   "metadata": {},
   "outputs": [],
   "source": [
    "fout = cdms2.open(\"ps_subset.nc\", \"r+\")\n",
    "fout.write(extra_ps)\n",
    "fout.close()"
   ]
  },
  {
   "cell_type": "code",
   "execution_count": 13,
   "metadata": {},
   "outputs": [
    {
     "name": "stdout",
     "output_type": "stream",
     "text": [
      "netcdf ps_subset {\n",
      "dimensions:\n",
      "\ttime = UNLIMITED ; // (144 currently)\n",
      "\tbound = 2 ;\n",
      "\tlat = 143 ;\n",
      "\tlon = 144 ;\n",
      "variables:\n",
      "\tdouble time(time) ;\n",
      "\t\ttime:bounds = \"time_bounds\" ;\n",
      "\t\ttime:axis = \"T\" ;\n",
      "\t\ttime:calendar = \"gregorian\" ;\n",
      "\t\ttime:units = \"days since 1850-01-01 00:00:00\" ;\n",
      "\t\ttime:standard_name = \"time\" ;\n",
      "\t\ttime:long_name = \"Time axis\" ;\n",
      "\t\ttime:time_origin = \"1850-01-01 00:00:00\" ;\n",
      "\t\ttime:realtopology = \"linear\" ;\n",
      "\tdouble time_bounds(time, bound) ;\n",
      "\tfloat lat(lat) ;\n",
      "\t\tlat:bounds = \"bounds_lat\" ;\n",
      "\t\tlat:axis = \"Y\" ;\n",
      "\t\tlat:units = \"degrees_north\" ;\n",
      "\t\tlat:standard_name = \"latitude\" ;\n",
      "\t\tlat:long_name = \"Latitude\" ;\n",
      "\t\tlat:realtopology = \"linear\" ;\n",
      "\tdouble bounds_lat(lat, bound) ;\n",
      "\tfloat lon(lon) ;\n",
      "\t\tlon:bounds = \"bounds_lon\" ;\n",
      "\t\tlon:axis = \"X\" ;\n",
      "\t\tlon:modulo = 360. ;\n",
      "\t\tlon:topology = \"circular\" ;\n",
      "\t\tlon:units = \"degrees_east\" ;\n",
      "\t\tlon:standard_name = \"longitude\" ;\n",
      "\t\tlon:long_name = \"Longitude\" ;\n",
      "\t\tlon:realtopology = \"circular\" ;\n",
      "\tdouble bounds_lon(lon, bound) ;\n",
      "\tfloat ps(time, lat, lon) ;\n",
      "\t\tps:long_name = \"Surface Air Pressure\" ;\n",
      "\t\tps:units = \"Pa\" ;\n",
      "\t\tps:online_operation = \"average\" ;\n",
      "\t\tps:cell_methods = \"area: time: mean\" ;\n",
      "\t\tps:interval_operation = \"900 s\" ;\n",
      "\t\tps:interval_write = \"1 month\" ;\n",
      "\t\tps:coordinates = \"\" ;\n",
      "\t\tps:standard_name = \"surface_air_pressure\" ;\n",
      "\t\tps:description = \"not, in general, the same as mean sea-level pressure\" ;\n",
      "\t\tps:history = \"none\" ;\n",
      "\t\tps:cell_measures = \"area: areacella\" ;\n",
      "\t\tps:missing_value = 1.e+20f ;\n",
      "\t\tps:_FillValue = 1.e+20f ;\n",
      "\n",
      "// global attributes:\n",
      "\t\t:Conventions = \"CF-1.0\" ;\n",
      "\t\t:history = \"Wed Jul 17 18:38:03 2019: Created from subset of bigger file during rgma tutorial\" ;\n",
      "\t\t:origin = \"/ccc/work/cont003/gencmip6/p86caub/IGCM_OUT/IPSLCM6/PROD/historical/CM61-LR-hist-03.1910/CMIP6/ATM/ps_Amon_IPSL-CM6A-LR_historical_r1i1p1f1_gr_%start_date%-%end_date%\" ;\n",
      "\t\t:author = \"me\" ;\n",
      "}\n"
     ]
    }
   ],
   "source": [
    "!ncdump -h ps_subset.nc"
   ]
  }
 ],
 "metadata": {
  "kernelspec": {
   "display_name": "Python 3",
   "language": "python",
   "name": "python3"
  },
  "language_info": {
   "codemirror_mode": {
    "name": "ipython",
    "version": 3
   },
   "file_extension": ".py",
   "mimetype": "text/x-python",
   "name": "python",
   "nbconvert_exporter": "python",
   "pygments_lexer": "ipython3",
   "version": "3.7.3"
  },
  "selected_variables": [],
  "vcdat_file_path": "",
  "vcdat_loaded_variables": [],
  "vcdat_variable_info": {}
 },
 "nbformat": 4,
 "nbformat_minor": 4
}
