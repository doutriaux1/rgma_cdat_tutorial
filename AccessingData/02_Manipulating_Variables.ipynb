{
 "cells": [
  {
   "cell_type": "markdown",
   "metadata": {},
   "source": [
    "# Manipulating Variables\n",
    "\n",
    "In this notebook we show some tricks on how to deal with variables.\n",
    "\n",
    "most of cdms2 variable manipulation tools are in the `MV2` package. `MV2` replicates a lot of `numpy`'s functionalities."
   ]
  },
  {
   "cell_type": "code",
   "execution_count": 1,
   "metadata": {},
   "outputs": [],
   "source": [
    "import MV2"
   ]
  },
  {
   "cell_type": "markdown",
   "metadata": {},
   "source": [
    "## Creating a variable from scratch\n",
    "\n",
    "In some case you will need to create a variable from scratch, usually because it comes from a different source or package\n",
    "\n",
    "### Step 1: Create the Transient Variable\n",
    "\n",
    "First let's create 120 years of random temperature on a 4x5 grid (4 degree in latitude, 5 in longitude), over 17 levels.\n",
    "\n",
    "Values will range between -20C and 40C (253K and 313K)"
   ]
  },
  {
   "cell_type": "code",
   "execution_count": 2,
   "metadata": {},
   "outputs": [],
   "source": [
    "import numpy\n",
    "\n",
    "ta_raw = numpy.random.random((120, 17, 45, 72)) * 60. + 273.15\n",
    "\n",
    "ta = MV2.array(ta_raw)"
   ]
  },
  {
   "cell_type": "markdown",
   "metadata": {},
   "source": [
    "Unfortunately this *variable* is pretty much useless as is."
   ]
  },
  {
   "cell_type": "code",
   "execution_count": 3,
   "metadata": {},
   "outputs": [
    {
     "name": "stdout",
     "output_type": "stream",
     "text": [
      "*** Description of Slab variable_2 ***\n",
      "id: variable_2\n",
      "shape: (120, 17, 45, 72)\n",
      "filename: \n",
      "missing_value: 1e+20\n",
      "comments: \n",
      "grid_name: N/A\n",
      "grid_type: N/A\n",
      "time_statistic: \n",
      "long_name: \n",
      "units: \n",
      "tileIndex: None\n",
      "No grid present.\n",
      "** Dimension 1 **\n",
      "   id: axis_0\n",
      "   Length: 120\n",
      "   First:  0.0\n",
      "   Last:   119.0\n",
      "   Python id:  0x2aaacf907898\n",
      "** Dimension 2 **\n",
      "   id: axis_1\n",
      "   Length: 17\n",
      "   First:  0.0\n",
      "   Last:   16.0\n",
      "   Python id:  0x2aaacf907e10\n",
      "** Dimension 3 **\n",
      "   id: axis_2\n",
      "   Length: 45\n",
      "   First:  0.0\n",
      "   Last:   44.0\n",
      "   Python id:  0x2aaacf907e80\n",
      "** Dimension 4 **\n",
      "   id: axis_3\n",
      "   Length: 72\n",
      "   First:  0.0\n",
      "   Last:   71.0\n",
      "   Python id:  0x2aaacf907ef0\n",
      "*** End of description for variable_2 ***\n"
     ]
    }
   ],
   "source": [
    "ta.info()"
   ]
  },
  {
   "cell_type": "markdown",
   "metadata": {},
   "source": [
    "### Step 2 variable attributes\n",
    "\n",
    "But at least it has all the `properties` of a cdms transient variables, now let's start to decorate our variable to give it some sense"
   ]
  },
  {
   "cell_type": "code",
   "execution_count": 6,
   "metadata": {},
   "outputs": [
    {
     "name": "stdout",
     "output_type": "stream",
     "text": [
      "*** Description of Slab ta ***\n",
      "id: ta\n",
      "shape: (120, 17, 45, 72)\n",
      "filename: \n",
      "missing_value: 1e+20\n",
      "comments: \n",
      "grid_name: N/A\n",
      "grid_type: N/A\n",
      "time_statistic: \n",
      "long_name: Air Temperature\n",
      "units: K\n",
      "tileIndex: None\n",
      "comment: Randomly generated data\n",
      "history: random function from numpy\n",
      "No grid present.\n",
      "** Dimension 1 **\n",
      "   id: axis_0\n",
      "   Length: 120\n",
      "   First:  0.0\n",
      "   Last:   119.0\n",
      "   Python id:  0x2aaacf907898\n",
      "** Dimension 2 **\n",
      "   id: axis_1\n",
      "   Length: 17\n",
      "   First:  0.0\n",
      "   Last:   16.0\n",
      "   Python id:  0x2aaacf907e10\n",
      "** Dimension 3 **\n",
      "   id: axis_2\n",
      "   Length: 45\n",
      "   First:  0.0\n",
      "   Last:   44.0\n",
      "   Python id:  0x2aaacf907e80\n",
      "** Dimension 4 **\n",
      "   id: axis_3\n",
      "   Length: 72\n",
      "   First:  0.0\n",
      "   Last:   71.0\n",
      "   Python id:  0x2aaacf907ef0\n",
      "*** End of description for ta ***\n"
     ]
    }
   ],
   "source": [
    "ta.id = 'ta'  # let's give it a name\n",
    "ta.units = 'K'  # S.I. units\n",
    "ta.long_name = 'Air Temperature'\n",
    "ta.comment = 'Randomly generated data'\n",
    "ta.history = 'random function from numpy'\n",
    "\n",
    "ta.info()"
   ]
  },
  {
   "cell_type": "markdown",
   "metadata": {},
   "source": [
    "### Step 3: Dimensions\n",
    "\n",
    "Ok we now can make some sense of what this data is, but we still have no idea of which spatio-temporal blob of temperature data we're talking about. Let's add some dimensions\n",
    "\n",
    "Our data represents 10 years of monthly temperature averages"
   ]
  },
  {
   "cell_type": "code",
   "execution_count": 7,
   "metadata": {},
   "outputs": [],
   "source": [
    "import cdms2\n",
    "tim = cdms2.createAxis(list(range(120)))  # 120 months\n",
    "tim.id = 'time'  # time axis\n",
    "tim.units = \"months since 2000\"  # units\n",
    "tim.designateTime()  # not necessary since cdms can dtermine this from id and units, but still worth doing"
   ]
  },
  {
   "cell_type": "markdown",
   "metadata": {},
   "source": [
    "It is also important to set the bounds properly, for this we will use the `cdutil` module (more on this later)"
   ]
  },
  {
   "cell_type": "code",
   "execution_count": 8,
   "metadata": {},
   "outputs": [],
   "source": [
    "import cdutil\n",
    "cdutil.setTimeBoundsMonthly(tim)"
   ]
  },
  {
   "cell_type": "markdown",
   "metadata": {},
   "source": [
    "We should probably also set a calendar, let's use `cdtime` (more on this later)"
   ]
  },
  {
   "cell_type": "code",
   "execution_count": 9,
   "metadata": {},
   "outputs": [],
   "source": [
    "import cdtime\n",
    "tim.setCalendar(cdtime.GregorianCalendar)"
   ]
  },
  {
   "cell_type": "markdown",
   "metadata": {},
   "source": [
    "Finally `months since` while convenient when creating data is not a very good unit (the month length varies from month to month, year to year and even calendar to calendar). Let's use `days since` within the `toRelativeTime()` function, notice the bounds are properly converted"
   ]
  },
  {
   "cell_type": "code",
   "execution_count": 10,
   "metadata": {},
   "outputs": [
    {
     "name": "stdout",
     "output_type": "stream",
     "text": [
      "[[0. 1.]\n",
      " [1. 2.]\n",
      " [2. 3.]]\n",
      "[[ 0. 31.]\n",
      " [31. 60.]\n",
      " [60. 91.]]\n"
     ]
    }
   ],
   "source": [
    "print(tim.getBounds()[:3])\n",
    "tim.toRelativeTime(\"days since 2000\")\n",
    "print(tim.getBounds()[:3])"
   ]
  },
  {
   "cell_type": "markdown",
   "metadata": {},
   "source": [
    "Now our data span the 17 standard pressure levels let's define the corresponding axis"
   ]
  },
  {
   "cell_type": "code",
   "execution_count": 16,
   "metadata": {},
   "outputs": [],
   "source": [
    "levels = [1000, 925, 850, 700, 600, 500, 400, 300, 250, 200, 150, 100, 70, 50, 30, 20, 10 ]\n",
    "lev = cdms2.createAxis(levels)\n",
    "lev.id = \"level\"\n",
    "lev.units=\"hPa\"\n",
    "lev.designateLevel()  # Not necessary since cdms can determine this from units and name already"
   ]
  },
  {
   "cell_type": "markdown",
   "metadata": {},
   "source": [
    "Now let's create our spatial grid. We could similarly create both latitude and longitude as above, e.g:"
   ]
  },
  {
   "cell_type": "code",
   "execution_count": 17,
   "metadata": {},
   "outputs": [
    {
     "name": "stdout",
     "output_type": "stream",
     "text": [
      "Original bounds: [[-90. -86.]\n",
      " [-86. -82.]\n",
      " [-82. -78.]\n",
      " [-78. -74.]\n",
      " [-74. -70.]\n",
      " [-70. -66.]\n",
      " [-66. -62.]\n",
      " [-62. -58.]\n",
      " [-58. -54.]\n",
      " [-54. -50.]\n",
      " [-50. -46.]\n",
      " [-46. -42.]\n",
      " [-42. -38.]\n",
      " [-38. -34.]\n",
      " [-34. -30.]\n",
      " [-30. -26.]\n",
      " [-26. -22.]\n",
      " [-22. -18.]\n",
      " [-18. -14.]\n",
      " [-14. -10.]\n",
      " [-10.  -6.]\n",
      " [ -6.  -2.]\n",
      " [ -2.   2.]\n",
      " [  2.   6.]\n",
      " [  6.  10.]\n",
      " [ 10.  14.]\n",
      " [ 14.  18.]\n",
      " [ 18.  22.]\n",
      " [ 22.  26.]\n",
      " [ 26.  30.]\n",
      " [ 30.  34.]\n",
      " [ 34.  38.]\n",
      " [ 38.  42.]\n",
      " [ 42.  46.]\n",
      " [ 46.  50.]\n",
      " [ 50.  54.]\n",
      " [ 54.  58.]\n",
      " [ 58.  62.]\n",
      " [ 62.  66.]\n",
      " [ 66.  70.]\n",
      " [ 70.  74.]\n",
      " [ 74.  78.]\n",
      " [ 78.  82.]\n",
      " [ 82.  86.]]\n",
      "Auto generated bounds: [[-90. -86.]\n",
      " [-86. -82.]\n",
      " [-82. -78.]\n",
      " [-78. -74.]\n",
      " [-74. -70.]\n",
      " [-70. -66.]\n",
      " [-66. -62.]\n",
      " [-62. -58.]\n",
      " [-58. -54.]\n",
      " [-54. -50.]\n",
      " [-50. -46.]\n",
      " [-46. -42.]\n",
      " [-42. -38.]\n",
      " [-38. -34.]\n",
      " [-34. -30.]\n",
      " [-30. -26.]\n",
      " [-26. -22.]\n",
      " [-22. -18.]\n",
      " [-18. -14.]\n",
      " [-14. -10.]\n",
      " [-10.  -6.]\n",
      " [ -6.  -2.]\n",
      " [ -2.   2.]\n",
      " [  2.   6.]\n",
      " [  6.  10.]\n",
      " [ 10.  14.]\n",
      " [ 14.  18.]\n",
      " [ 18.  22.]\n",
      " [ 22.  26.]\n",
      " [ 26.  30.]\n",
      " [ 30.  34.]\n",
      " [ 34.  38.]\n",
      " [ 38.  42.]\n",
      " [ 42.  46.]\n",
      " [ 46.  50.]\n",
      " [ 50.  54.]\n",
      " [ 54.  58.]\n",
      " [ 58.  62.]\n",
      " [ 62.  66.]\n",
      " [ 66.  70.]\n",
      " [ 70.  74.]\n",
      " [ 74.  78.]\n",
      " [ 78.  82.]\n",
      " [ 82.  86.]]\n"
     ]
    }
   ],
   "source": [
    "import numpy\n",
    "lat = cdms2.createAxis(numpy.arange(-88,88,4))\n",
    "lat.id = \"latitude\"\n",
    "lat.designateLatitude()\n",
    "lat.units = \"degrees_north\"\n",
    "# Now let's set the bounds\n",
    "print(\"Original bounds:\", lat.getBounds())\n",
    "lat.setBounds(None)  # Force cdms creation of bounds\n",
    "print(\"Auto generated bounds:\", lat.getBounds())"
   ]
  },
  {
   "cell_type": "markdown",
   "metadata": {},
   "source": [
    "And same for longitude, but another way is to use `cdms2` pre-built grids generation functions"
   ]
  },
  {
   "cell_type": "code",
   "execution_count": 18,
   "metadata": {},
   "outputs": [
    {
     "data": {
      "text/plain": [
       "\u001b[0;31mSignature:\u001b[0m\n",
       "\u001b[0mcdms2\u001b[0m\u001b[0;34m.\u001b[0m\u001b[0mcreateUniformGrid\u001b[0m\u001b[0;34m(\u001b[0m\u001b[0;34m\u001b[0m\n",
       "\u001b[0;34m\u001b[0m    \u001b[0mstartLat\u001b[0m\u001b[0;34m,\u001b[0m\u001b[0;34m\u001b[0m\n",
       "\u001b[0;34m\u001b[0m    \u001b[0mnlat\u001b[0m\u001b[0;34m,\u001b[0m\u001b[0;34m\u001b[0m\n",
       "\u001b[0;34m\u001b[0m    \u001b[0mdeltaLat\u001b[0m\u001b[0;34m,\u001b[0m\u001b[0;34m\u001b[0m\n",
       "\u001b[0;34m\u001b[0m    \u001b[0mstartLon\u001b[0m\u001b[0;34m,\u001b[0m\u001b[0;34m\u001b[0m\n",
       "\u001b[0;34m\u001b[0m    \u001b[0mnlon\u001b[0m\u001b[0;34m,\u001b[0m\u001b[0;34m\u001b[0m\n",
       "\u001b[0;34m\u001b[0m    \u001b[0mdeltaLon\u001b[0m\u001b[0;34m,\u001b[0m\u001b[0;34m\u001b[0m\n",
       "\u001b[0;34m\u001b[0m    \u001b[0morder\u001b[0m\u001b[0;34m=\u001b[0m\u001b[0;34m'yx'\u001b[0m\u001b[0;34m,\u001b[0m\u001b[0;34m\u001b[0m\n",
       "\u001b[0;34m\u001b[0m    \u001b[0mmask\u001b[0m\u001b[0;34m=\u001b[0m\u001b[0;32mNone\u001b[0m\u001b[0;34m,\u001b[0m\u001b[0;34m\u001b[0m\n",
       "\u001b[0;34m\u001b[0m\u001b[0;34m)\u001b[0m\u001b[0;34m\u001b[0m\u001b[0;34m\u001b[0m\u001b[0m\n",
       "\u001b[0;31mDocstring:\u001b[0m Not documented\n",
       "\u001b[0;31mFile:\u001b[0m      /opt/conda/lib/python3.7/site-packages/cdms2/grid.py\n",
       "\u001b[0;31mType:\u001b[0m      Proxy\n"
      ]
     },
     "metadata": {},
     "output_type": "display_data"
    }
   ],
   "source": [
    "grid = cdms2.createUniformGrid?"
   ]
  },
  {
   "cell_type": "code",
   "execution_count": null,
   "metadata": {},
   "outputs": [],
   "source": [
    "grid = cdms2.createUniformGrid"
   ]
  },
  {
   "cell_type": "code",
   "execution_count": 19,
   "metadata": {},
   "outputs": [],
   "source": [
    "grid = cdms2.createUniformGrid(-88., 45, 4, 2.5, 72, 4)\n",
    "lat = grid.getLatitude()\n",
    "lon = grid.getLongitude()"
   ]
  },
  {
   "cell_type": "markdown",
   "metadata": {},
   "source": [
    "Gaussian grids can also be generated based on their number of latitudes:"
   ]
  },
  {
   "cell_type": "code",
   "execution_count": 20,
   "metadata": {},
   "outputs": [
    {
     "data": {
      "text/plain": [
       "\u001b[0;31mSignature:\u001b[0m \u001b[0mcdms2\u001b[0m\u001b[0;34m.\u001b[0m\u001b[0mcreateGaussianGrid\u001b[0m\u001b[0;34m(\u001b[0m\u001b[0mnlats\u001b[0m\u001b[0;34m,\u001b[0m \u001b[0mxorigin\u001b[0m\u001b[0;34m=\u001b[0m\u001b[0;36m0.0\u001b[0m\u001b[0;34m,\u001b[0m \u001b[0morder\u001b[0m\u001b[0;34m=\u001b[0m\u001b[0;34m'yx'\u001b[0m\u001b[0;34m)\u001b[0m\u001b[0;34m\u001b[0m\u001b[0;34m\u001b[0m\u001b[0m\n",
       "\u001b[0;31mDocstring:\u001b[0m\n",
       "Create a Gaussian grid, with shape (nlats, 2*nlats).\n",
       "\n",
       "Parameters\n",
       "----------\n",
       "nlats : is the number of latitudes.\n",
       "\n",
       "xorigin : is the origin of the longitude axis\n",
       "\n",
       "order : is either \"yx\" or \"xy\"\n",
       "\u001b[0;31mFile:\u001b[0m      /opt/conda/lib/python3.7/site-packages/cdms2/grid.py\n",
       "\u001b[0;31mType:\u001b[0m      Proxy\n"
      ]
     },
     "metadata": {},
     "output_type": "display_data"
    }
   ],
   "source": [
    "cdms2.createGaussianGrid?"
   ]
  },
  {
   "cell_type": "code",
   "execution_count": 21,
   "metadata": {},
   "outputs": [],
   "source": [
    "T42_gaussian_grid = cdms2.createGaussianGrid(64)"
   ]
  },
  {
   "cell_type": "markdown",
   "metadata": {},
   "source": [
    "For non rectilinear grids (bi-polar, curvilinear, cube-sphere, etc...) please see [this tutorial](https://cdat.llnl.gov/Jupyter-notebooks/cdms/Creating_Non_Rectiilinear_Grids_From_Scratch/Creating_Non_Rectiilinear_Grids_From_Scratch.html)\n",
    "\n",
    "At this point we have all of our axes let's *decorate* our variable.\n",
    "\n",
    "We can do this one axis at a time:"
   ]
  },
  {
   "cell_type": "code",
   "execution_count": 22,
   "metadata": {},
   "outputs": [],
   "source": [
    "ta.setAxis(0, tim)\n",
    "ta.setAxis(1, lev)\n",
    "# Negative indexing is also supported:\n",
    "ta.setAxis(-1, lon)\n",
    "ta.setAxis(-2, lat)"
   ]
  },
  {
   "cell_type": "markdown",
   "metadata": {},
   "source": [
    "Or we can set all the axes at once:"
   ]
  },
  {
   "cell_type": "code",
   "execution_count": 23,
   "metadata": {},
   "outputs": [],
   "source": [
    "ta.setAxisList([tim, lev, lat, lon])"
   ]
  },
  {
   "cell_type": "markdown",
   "metadata": {},
   "source": [
    "Let's take a look at ta now:"
   ]
  },
  {
   "cell_type": "code",
   "execution_count": 24,
   "metadata": {},
   "outputs": [
    {
     "name": "stdout",
     "output_type": "stream",
     "text": [
      "*** Description of Slab ta ***\n",
      "id: ta\n",
      "shape: (120, 17, 45, 72)\n",
      "filename: \n",
      "missing_value: 1e+20\n",
      "comments: \n",
      "grid_name: <None>\n",
      "grid_type: generic\n",
      "time_statistic: \n",
      "long_name: Air Temperature\n",
      "units: K\n",
      "tileIndex: None\n",
      "comment: Randomly generated data\n",
      "history: random function from numpy\n",
      "Grid has Python id 0x2aaacf966b38.\n",
      "Gridtype: generic\n",
      "Grid shape: (45, 72)\n",
      "Order: yx\n",
      "** Dimension 1 **\n",
      "   id: time\n",
      "   Designated a time axis.\n",
      "   units:  days since 2000\n",
      "   Length: 120\n",
      "   First:  0\n",
      "   Last:   3622\n",
      "   Other axis attributes:\n",
      "      axis: T\n",
      "      calendar: proleptic_gregorian\n",
      "   Python id:  0x2aaacf966da0\n",
      "** Dimension 2 **\n",
      "   id: level\n",
      "   Designated a level axis.\n",
      "   units:  hPa\n",
      "   Length: 17\n",
      "   First:  1000\n",
      "   Last:   10\n",
      "   Other axis attributes:\n",
      "      axis: Z\n",
      "   Python id:  0x2aaad2e0cc88\n",
      "** Dimension 3 **\n",
      "   id: latitude\n",
      "   Designated a latitude axis.\n",
      "   units:  degrees_north\n",
      "   Length: 45\n",
      "   First:  -88.0\n",
      "   Last:   88.0\n",
      "   Other axis attributes:\n",
      "      axis: Y\n",
      "   Python id:  0x2aaad2e739b0\n",
      "** Dimension 4 **\n",
      "   id: longitude\n",
      "   Designated a longitude axis.\n",
      "   units:  degrees_east\n",
      "   Length: 72\n",
      "   First:  2.5\n",
      "   Last:   286.5\n",
      "   Other axis attributes:\n",
      "      axis: X\n",
      "      modulo: 360.0\n",
      "      topology: circular\n",
      "   Python id:  0x2aaad2f2a278\n",
      "*** End of description for ta ***\n"
     ]
    }
   ],
   "source": [
    "ta.info()"
   ]
  },
  {
   "cell_type": "markdown",
   "metadata": {},
   "source": [
    "Much better, but while we now understand its spatio-temporal representation, we still do not understand what this variable actually is. Let's further decorate it."
   ]
  },
  {
   "cell_type": "code",
   "execution_count": 25,
   "metadata": {},
   "outputs": [],
   "source": [
    "# Name:\n",
    "ta.id = \"ta\"\n",
    "ta.long_name = \"Air Temperature\"\n",
    "# Units\n",
    "ta.units = \"K\""
   ]
  },
  {
   "cell_type": "markdown",
   "metadata": {},
   "source": [
    "We could add as many attributes as we wish, but that's enough for our purpose here.\n",
    "\n",
    "At this point we have a fully decorated variable that we can use.\n",
    "\n",
    "`MV2` operations will preserve dimensions as much as possible e.g:"
   ]
  },
  {
   "cell_type": "code",
   "execution_count": 26,
   "metadata": {},
   "outputs": [
    {
     "name": "stdout",
     "output_type": "stream",
     "text": [
      "*** Description of Slab variable_2 ***\n",
      "id: variable_2\n",
      "shape: (120, 17, 45, 72)\n",
      "filename: \n",
      "missing_value: 1e+20\n",
      "comments: \n",
      "grid_name: <None>\n",
      "grid_type: generic\n",
      "time_statistic: \n",
      "long_name: Air Temperature\n",
      "units: K\n",
      "tileIndex: None\n",
      "comment: Randomly generated data\n",
      "history: random function from numpy\n",
      "Grid has Python id 0x2aaad2fa4358.\n",
      "Gridtype: generic\n",
      "Grid shape: (45, 72)\n",
      "Order: yx\n",
      "** Dimension 1 **\n",
      "   id: time\n",
      "   Designated a time axis.\n",
      "   units:  days since 2000\n",
      "   Length: 120\n",
      "   First:  0\n",
      "   Last:   3622\n",
      "   Other axis attributes:\n",
      "      axis: T\n",
      "      calendar: proleptic_gregorian\n",
      "   Python id:  0x2aaacf966748\n",
      "** Dimension 2 **\n",
      "   id: level\n",
      "   Designated a level axis.\n",
      "   units:  hPa\n",
      "   Length: 17\n",
      "   First:  1000\n",
      "   Last:   10\n",
      "   Other axis attributes:\n",
      "      axis: Z\n",
      "   Python id:  0x2aaad2ddacf8\n",
      "** Dimension 3 **\n",
      "   id: latitude\n",
      "   Designated a latitude axis.\n",
      "   units:  degrees_north\n",
      "   Length: 45\n",
      "   First:  -88.0\n",
      "   Last:   88.0\n",
      "   Other axis attributes:\n",
      "      axis: Y\n",
      "   Python id:  0x2aaad2ddaf98\n",
      "** Dimension 4 **\n",
      "   id: longitude\n",
      "   Designated a longitude axis.\n",
      "   units:  degrees_east\n",
      "   Length: 72\n",
      "   First:  2.5\n",
      "   Last:   286.5\n",
      "   Other axis attributes:\n",
      "      axis: X\n",
      "      modulo: 360.0\n",
      "      topology: circular\n",
      "   Python id:  0x2aaad2fa42e8\n",
      "*** End of description for variable_2 ***\n"
     ]
    }
   ],
   "source": [
    "ta_C = ta - 273.15\n",
    "ta_C.info()  # Note the disappearance of attributes though"
   ]
  },
  {
   "cell_type": "markdown",
   "metadata": {},
   "source": [
    "We can quickly put the attributes back on if we wish. For more see [here](https://cdat.llnl.gov/Jupyter-notebooks/cdms/Redecorate+Transient+Variable/Redecorate+Transient+Variable.html)"
   ]
  },
  {
   "cell_type": "code",
   "execution_count": 27,
   "metadata": {},
   "outputs": [
    {
     "name": "stdout",
     "output_type": "stream",
     "text": [
      "ATTR: name\n",
      "ATTR: tileIndex\n",
      "ATTR: units\n",
      "ATTR: long_name\n",
      "ATTR: comment\n",
      "ATTR: history\n",
      "*** Description of Slab ta ***\n",
      "id: ta\n",
      "shape: (120, 17, 45, 72)\n",
      "filename: \n",
      "missing_value: 1e+20\n",
      "comments: \n",
      "grid_name: <None>\n",
      "grid_type: generic\n",
      "time_statistic: \n",
      "long_name: Air Temperature\n",
      "units: K\n",
      "tileIndex: None\n",
      "comment: Randomly generated data\n",
      "history: random function from numpy\n",
      "Grid has Python id 0x2aaad2fa4358.\n",
      "Gridtype: generic\n",
      "Grid shape: (45, 72)\n",
      "Order: yx\n",
      "** Dimension 1 **\n",
      "   id: time\n",
      "   Designated a time axis.\n",
      "   units:  days since 2000\n",
      "   Length: 120\n",
      "   First:  0\n",
      "   Last:   3622\n",
      "   Other axis attributes:\n",
      "      axis: T\n",
      "      calendar: proleptic_gregorian\n",
      "   Python id:  0x2aaacf966748\n",
      "** Dimension 2 **\n",
      "   id: level\n",
      "   Designated a level axis.\n",
      "   units:  hPa\n",
      "   Length: 17\n",
      "   First:  1000\n",
      "   Last:   10\n",
      "   Other axis attributes:\n",
      "      axis: Z\n",
      "   Python id:  0x2aaad2ddacf8\n",
      "** Dimension 3 **\n",
      "   id: latitude\n",
      "   Designated a latitude axis.\n",
      "   units:  degrees_north\n",
      "   Length: 45\n",
      "   First:  -88.0\n",
      "   Last:   88.0\n",
      "   Other axis attributes:\n",
      "      axis: Y\n",
      "   Python id:  0x2aaad2ddaf98\n",
      "** Dimension 4 **\n",
      "   id: longitude\n",
      "   Designated a longitude axis.\n",
      "   units:  degrees_east\n",
      "   Length: 72\n",
      "   First:  2.5\n",
      "   Last:   286.5\n",
      "   Other axis attributes:\n",
      "      axis: X\n",
      "      modulo: 360.0\n",
      "      topology: circular\n",
      "   Python id:  0x2aaad2fa42e8\n",
      "*** End of description for ta ***\n"
     ]
    }
   ],
   "source": [
    "for attribute in ta.attributes:\n",
    "    print(\"ATTR:\" ,attribute)\n",
    "    setattr(ta_C, attribute, getattr(ta, attribute))\n",
    "# id is a 'special' attribute, needs to be added manually\n",
    "ta_C.id = \"ta\"\n",
    "ta_C.info()"
   ]
  },
  {
   "cell_type": "markdown",
   "metadata": {},
   "source": [
    "`MV2` gives you access to most numpy.ma functions"
   ]
  },
  {
   "cell_type": "code",
   "execution_count": 28,
   "metadata": {},
   "outputs": [
    {
     "data": {
      "text/plain": [
       "['AbstractRectGrid',\n",
       " 'AbstractVariable',\n",
       " 'CDMSError',\n",
       " 'TransientAxis',\n",
       " 'TransientVariable',\n",
       " '__builtins__',\n",
       " '__cached__',\n",
       " '__doc__',\n",
       " '__file__',\n",
       " '__loader__',\n",
       " '__name__',\n",
       " '__package__',\n",
       " '__spec__',\n",
       " 'absolute',\n",
       " 'add',\n",
       " 'all',\n",
       " 'allclose',\n",
       " 'allequal',\n",
       " 'alltrue',\n",
       " 'any',\n",
       " 'arange',\n",
       " 'arccos',\n",
       " 'arcsin',\n",
       " 'arctan',\n",
       " 'arctan2',\n",
       " 'argsort',\n",
       " 'around',\n",
       " 'array',\n",
       " 'arrayrange',\n",
       " 'asVariable',\n",
       " 'as_masked',\n",
       " 'asarray',\n",
       " 'average',\n",
       " 'axisAllclose',\n",
       " 'axisConcatenate',\n",
       " 'axisTake',\n",
       " 'bitwise_and',\n",
       " 'bitwise_or',\n",
       " 'bitwise_xor',\n",
       " 'byte',\n",
       " 'ceil',\n",
       " 'character',\n",
       " 'choose',\n",
       " 'commonAxes',\n",
       " 'commonDomain',\n",
       " 'commonGrid',\n",
       " 'commonGrid1',\n",
       " 'common_fill_value',\n",
       " 'compress',\n",
       " 'concatenate',\n",
       " 'conjugate',\n",
       " 'cos',\n",
       " 'cosh',\n",
       " 'count',\n",
       " 'counter',\n",
       " 'create_mask',\n",
       " 'diagonal',\n",
       " 'divide',\n",
       " 'dot',\n",
       " 'dump',\n",
       " 'e',\n",
       " 'equal',\n",
       " 'exp',\n",
       " 'fabs',\n",
       " 'fill_value',\n",
       " 'filled',\n",
       " 'float',\n",
       " 'float32',\n",
       " 'float64',\n",
       " 'floor',\n",
       " 'floor_divide',\n",
       " 'fmod',\n",
       " 'fromfunction',\n",
       " 'getNumericCompatibility',\n",
       " 'get_print_limit',\n",
       " 'get_printoptions',\n",
       " 'getmask',\n",
       " 'getmaskarray',\n",
       " 'greater',\n",
       " 'greater_equal',\n",
       " 'hypot',\n",
       " 'identity',\n",
       " 'indices',\n",
       " 'innerproduct',\n",
       " 'int',\n",
       " 'int16',\n",
       " 'int32',\n",
       " 'int64',\n",
       " 'int8',\n",
       " 'isMA',\n",
       " 'isMaskedArray',\n",
       " 'isMaskedVariable',\n",
       " 'is_floating',\n",
       " 'is_integer',\n",
       " 'is_mask',\n",
       " 'is_masked',\n",
       " 'isarray',\n",
       " 'left_shift',\n",
       " 'less',\n",
       " 'less_equal',\n",
       " 'load',\n",
       " 'log',\n",
       " 'log10',\n",
       " 'logical_and',\n",
       " 'logical_not',\n",
       " 'logical_or',\n",
       " 'logical_xor',\n",
       " 'long',\n",
       " 'make_mask',\n",
       " 'make_mask_none',\n",
       " 'mask_or',\n",
       " 'masked',\n",
       " 'masked_array',\n",
       " 'masked_equal',\n",
       " 'masked_greater',\n",
       " 'masked_greater_equal',\n",
       " 'masked_inside',\n",
       " 'masked_less',\n",
       " 'masked_less_equal',\n",
       " 'masked_not_equal',\n",
       " 'masked_object',\n",
       " 'masked_outside',\n",
       " 'masked_values',\n",
       " 'masked_where',\n",
       " 'max',\n",
       " 'maximum',\n",
       " 'min',\n",
       " 'minimum',\n",
       " 'multiply',\n",
       " 'negative',\n",
       " 'newaxis',\n",
       " 'nomask',\n",
       " 'nonzero',\n",
       " 'not_equal',\n",
       " 'numpy',\n",
       " 'ones',\n",
       " 'outerproduct',\n",
       " 'pi',\n",
       " 'power',\n",
       " 'product',\n",
       " 'put',\n",
       " 'putmask',\n",
       " 'rank',\n",
       " 'ravel',\n",
       " 'remainder',\n",
       " 'repeat',\n",
       " 'reshape',\n",
       " 'resize',\n",
       " 'right_shift',\n",
       " 'sctype2char',\n",
       " 'set_default_fill_value',\n",
       " 'set_fill_value',\n",
       " 'set_print_limit',\n",
       " 'set_printoptions',\n",
       " 'shape',\n",
       " 'sin',\n",
       " 'sinh',\n",
       " 'size',\n",
       " 'sometrue',\n",
       " 'sort',\n",
       " 'sqrt',\n",
       " 'squeeze',\n",
       " 'subtract',\n",
       " 'sum',\n",
       " 'take',\n",
       " 'tan',\n",
       " 'tanh',\n",
       " 'transpose',\n",
       " 'true_divide',\n",
       " 'ubyte',\n",
       " 'uint16',\n",
       " 'uint32',\n",
       " 'uint64',\n",
       " 'uint8',\n",
       " 'var_binary_operation',\n",
       " 'var_unary_operation',\n",
       " 'var_unary_operation_with_axis',\n",
       " 'where',\n",
       " 'zeros']"
      ]
     },
     "execution_count": 28,
     "metadata": {},
     "output_type": "execute_result"
    }
   ],
   "source": [
    "dir(MV2)"
   ]
  },
  {
   "cell_type": "markdown",
   "metadata": {},
   "source": [
    "Function not re-implemented will lose dimensions but will usually still be MV2 variables."
   ]
  },
  {
   "cell_type": "code",
   "execution_count": 29,
   "metadata": {},
   "outputs": [
    {
     "name": "stdout",
     "output_type": "stream",
     "text": [
      "*** Description of Slab ta ***\n",
      "id: ta\n",
      "shape: (120, 17, 45, 72)\n",
      "filename: \n",
      "missing_value: 1e+20\n",
      "comments: \n",
      "grid_name: <None>\n",
      "grid_type: generic\n",
      "time_statistic: \n",
      "long_name: Air Temperature\n",
      "units: K\n",
      "id: ta\n",
      "tileIndex: None\n",
      "comment: Randomly generated data\n",
      "history: random function from numpy\n",
      "Grid has Python id 0x2aaacf966b38.\n",
      "Gridtype: generic\n",
      "Grid shape: (45, 72)\n",
      "Order: yx\n",
      "** Dimension 1 **\n",
      "   id: axis_0\n",
      "   Length: 120\n",
      "   First:  0.0\n",
      "   Last:   119.0\n",
      "   Python id:  0x2aaad2fa4b38\n",
      "** Dimension 2 **\n",
      "   id: axis_1\n",
      "   Length: 17\n",
      "   First:  0.0\n",
      "   Last:   16.0\n",
      "   Python id:  0x2aaad2fa4cc0\n",
      "** Dimension 3 **\n",
      "   id: axis_2\n",
      "   Length: 45\n",
      "   First:  0.0\n",
      "   Last:   44.0\n",
      "   Python id:  0x2aaad2fa4cf8\n",
      "** Dimension 4 **\n",
      "   id: axis_3\n",
      "   Length: 72\n",
      "   First:  0.0\n",
      "   Last:   71.0\n",
      "   Python id:  0x2aaad2fa4d68\n",
      "*** End of description for ta ***\n"
     ]
    }
   ],
   "source": [
    "numpy.arccosh(ta).info()"
   ]
  },
  {
   "cell_type": "markdown",
   "metadata": {},
   "source": [
    "At this point let's proceed to our [writing tutorial](03_Writing_Data_To_File.ipynb)"
   ]
  }
 ],
 "metadata": {
  "kernelspec": {
   "display_name": "Python 3",
   "language": "python",
   "name": "python3"
  },
  "language_info": {
   "codemirror_mode": {
    "name": "ipython",
    "version": 3
   },
   "file_extension": ".py",
   "mimetype": "text/x-python",
   "name": "python",
   "nbconvert_exporter": "python",
   "pygments_lexer": "ipython3",
   "version": "3.7.3"
  },
  "selected_variables": [],
  "vcdat_file_path": "",
  "vcdat_loaded_variables": [],
  "vcdat_variable_info": {}
 },
 "nbformat": 4,
 "nbformat_minor": 4
}
