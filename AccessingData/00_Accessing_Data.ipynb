{
 "cells": [
  {
   "cell_type": "markdown",
   "metadata": {},
   "source": [
    "# Accessing Data With CDAT\n",
    "\n",
    "Data I/O in CDAT is done via the `cdms2` module."
   ]
  },
  {
   "cell_type": "code",
   "execution_count": 1,
   "metadata": {},
   "outputs": [],
   "source": [
    "import cdms2"
   ]
  },
  {
   "cell_type": "markdown",
   "metadata": {},
   "source": [
    "* In depth doc can be found at: https://cdms.readthedocs.io/en/latest/\n",
    "* Some tutorials can be found at: https://cdat.llnl.gov/tutorials.html\n",
    "\n",
    "## Opening a file\n",
    "\n",
    "CDMS can open a variety of file format: NetCDF, Grads/Grib (with .ctl file), pp, cdms2's xml, OpenDAP\n",
    "\n",
    "To *open* of file simply use `cdms2`'s `open` command. \n",
    "\n",
    "Similarly to Python's regular `open` command, this command does not load any data in memory it simply returns a *handle* to it.\n",
    "\n",
    "Let's open one of our local files."
   ]
  },
  {
   "cell_type": "code",
   "execution_count": 2,
   "metadata": {},
   "outputs": [],
   "source": [
    "import os\n",
    "home = os.path.expandvars(\"$HOME\")\n",
    "f = cdms2.open(os.path.join(home,\"cmip6_data/CMIP6/CMIP/E3SM-Project/E3SM-1-0/piControl/r1i1p1f1/Amon/tas/gr/v20180608/tas_Amon_E3SM-1-0_piControl_r1i1p1f1_gr_000101-050012.nc_0\"))"
   ]
  },
  {
   "cell_type": "markdown",
   "metadata": {},
   "source": [
    "## Querying the file\n",
    "\n",
    "Now that we have a handle to the file, let's query it a bit\n",
    "\n",
    "### Global Attributes\n",
    "\n",
    "First let's query the file's global attributes"
   ]
  },
  {
   "cell_type": "code",
   "execution_count": 4,
   "metadata": {},
   "outputs": [
    {
     "name": "stdout",
     "output_type": "stream",
     "text": [
      "dict_keys(['Conventions', 'activity_id', 'branch_method', 'branch_time_in_child', 'branch_time_in_parent', 'contact', 'creation_date', 'data_specs_version', 'description', 'experiment', 'experiment_id', 'external_variables', 'forcing_index', 'frequency', 'further_info_url', 'grid', 'grid_label', 'history', 'initialization_index', 'institution', 'institution_id', 'mip_era', 'nominal_resolution', 'parent_activity_id', 'parent_experiment_id', 'parent_mip_era', 'parent_source_id', 'parent_time_units', 'parent_variant_label', 'physics_index', 'product', 'realization_index', 'realm', 'references', 'source', 'source_id', 'source_type', 'sub_experiment', 'sub_experiment_id', 'table_id', 'table_info', 'title', 'variable_id', 'variant_label', 'license', 'cmor_version', 'tracking_id'])\n"
     ]
    }
   ],
   "source": [
    "print(f.attributes.keys())"
   ]
  },
  {
   "cell_type": "markdown",
   "metadata": {},
   "source": [
    "You can then simply access the values as you would for a regular Python attribute:"
   ]
  },
  {
   "cell_type": "code",
   "execution_count": 5,
   "metadata": {},
   "outputs": [
    {
     "name": "stdout",
     "output_type": "stream",
     "text": [
      "LLNL (Lawrence Livermore National Laboratory, Livermore, CA 94550, USA); ANL (Argonne National Laboratory, Argonne, IL 60439, USA); BNL (Brookhaven National Laboratory, Upton, NY 11973, USA); LANL (Los Alamos National Laboratory, Los Alamos, NM 87545, USA); LBNL (Lawrence Berkeley National Laboratory, Berkeley, CA 94720, USA); ORNL (Oak Ridge National Laboratory, Oak Ridge, TN 37831, USA); PNNL (Pacific Northwest National Laboratory, Richland, WA 99352, USA); SNL (Sandia National Laboratories, Albuquerque, NM 87185, USA). Mailing address: LLNL Climate Program, c/o David C. Bader, Principal Investigator, L-103, 7000 East Avenue, Livermore, CA 94550, USA\n"
     ]
    }
   ],
   "source": [
    "print(f.institution)"
   ]
  },
  {
   "cell_type": "markdown",
   "metadata": {},
   "source": [
    "### Variables\n",
    "\n",
    "Now let's query the variables contained in the file"
   ]
  },
  {
   "cell_type": "code",
   "execution_count": 7,
   "metadata": {},
   "outputs": [
    {
     "name": "stdout",
     "output_type": "stream",
     "text": [
      "dict_keys(['time_bnds', 'lat_bnds', 'lon_bnds', 'height', 'tas'])\n"
     ]
    }
   ],
   "source": [
    "print(f.variables.keys())"
   ]
  },
  {
   "cell_type": "markdown",
   "metadata": {},
   "source": [
    "This file contains 5 variables. But 4 are really just dimensions related variables (bounds)\n",
    "\n",
    "Let's obtain a handle to the `tas` variable. Nothing will be loaded in memory at this point"
   ]
  },
  {
   "cell_type": "code",
   "execution_count": 8,
   "metadata": {},
   "outputs": [],
   "source": [
    "tas = f[\"tas\"]"
   ]
  },
  {
   "cell_type": "markdown",
   "metadata": {},
   "source": [
    "Here again we can query a variable's attributes"
   ]
  },
  {
   "cell_type": "code",
   "execution_count": 9,
   "metadata": {},
   "outputs": [
    {
     "name": "stdout",
     "output_type": "stream",
     "text": [
      "{'missing_value': array([1.e+20], dtype=float32), 'standard_name': 'air_temperature', 'long_name': 'Near-Surface Air Temperature', 'comment': 'near-surface (usually, 2 meter) air temperature', 'units': 'K', 'cell_methods': 'area: time: mean', 'cell_measures': 'area: areacella', 'history': \"2018-06-08T17:59:44Z altered by CMOR: Treated scalar dimension: 'height'.\", 'coordinates': 'height', '_FillValue': array([1.e+20], dtype=float32), 'ndim': 3}\n"
     ]
    }
   ],
   "source": [
    "print(tas.attributes)"
   ]
  },
  {
   "cell_type": "markdown",
   "metadata": {},
   "source": [
    "Let's print a few attributes:"
   ]
  },
  {
   "cell_type": "code",
   "execution_count": 10,
   "metadata": {},
   "outputs": [
    {
     "name": "stdout",
     "output_type": "stream",
     "text": [
      "units: K\n",
      "longname: Near-Surface Air Temperature\n",
      "comment: near-surface (usually, 2 meter) air temperature\n",
      "standard_name: air_temperature\n"
     ]
    }
   ],
   "source": [
    "print(\"units:\", tas.units)\n",
    "print(\"longname:\",tas.long_name)\n",
    "# or\n",
    "for att in [\"comment\", \"standard_name\"]:\n",
    "    print(\"{}: {}\".format(att, getattr(tas,att)))"
   ]
  },
  {
   "cell_type": "markdown",
   "metadata": {},
   "source": [
    "### Dimensions on a variable\n",
    "\n",
    "Let's now query the variables dimensions"
   ]
  },
  {
   "cell_type": "code",
   "execution_count": 11,
   "metadata": {},
   "outputs": [
    {
     "name": "stdout",
     "output_type": "stream",
     "text": [
      "['time', 'lat', 'lon']\n"
     ]
    }
   ],
   "source": [
    "print(tas.getAxisIds())"
   ]
  },
  {
   "cell_type": "markdown",
   "metadata": {},
   "source": [
    "We can bring in an axis via its index"
   ]
  },
  {
   "cell_type": "code",
   "execution_count": 12,
   "metadata": {},
   "outputs": [
    {
     "name": "stdout",
     "output_type": "stream",
     "text": [
      "   id: lon\n",
      "   Designated a longitude axis.\n",
      "   units:  degrees_east\n",
      "   Length: 256\n",
      "   First:  0.0\n",
      "   Last:   358.59375\n",
      "   Other axis attributes:\n",
      "      axis: X\n",
      "      long_name: longitude\n",
      "      standard_name: longitude\n",
      "   Python id:  0x2aaaaf08de10\n",
      "\n"
     ]
    }
   ],
   "source": [
    "print(tas.getAxis(2))"
   ]
  },
  {
   "cell_type": "markdown",
   "metadata": {},
   "source": [
    "Or its name:"
   ]
  },
  {
   "cell_type": "code",
   "execution_count": 14,
   "metadata": {},
   "outputs": [
    {
     "name": "stdout",
     "output_type": "stream",
     "text": [
      "   id: lat\n",
      "   Designated a latitude axis.\n",
      "   units:  degrees_north\n",
      "   Length: 129\n",
      "   First:  -90.0\n",
      "   Last:   90.0\n",
      "   Other axis attributes:\n",
      "      axis: Y\n",
      "      long_name: latitude\n",
      "      standard_name: latitude\n",
      "   Python id:  0x2aaaaf08def0\n",
      "\n"
     ]
    }
   ],
   "source": [
    "print(tas.getAxis(tas.getAxisIndex(\"lat\")))"
   ]
  },
  {
   "cell_type": "markdown",
   "metadata": {},
   "source": [
    "`time`, `level`, `latitude`, `longitude` if present can be access directly without need to know their exact name or index"
   ]
  },
  {
   "cell_type": "code",
   "execution_count": 15,
   "metadata": {},
   "outputs": [
    {
     "name": "stdout",
     "output_type": "stream",
     "text": [
      "   id: time\n",
      "   Designated a time axis.\n",
      "   units:  days since 0001-01-01 00:00:00\n",
      "   Length: 6000\n",
      "   First:  15.5\n",
      "   Last:   182484.5\n",
      "   Other axis attributes:\n",
      "      calendar: noleap\n",
      "      axis: T\n",
      "      long_name: time\n",
      "      standard_name: time\n",
      "   Python id:  0x2aaaaf08de48\n",
      "\n"
     ]
    }
   ],
   "source": [
    "print(tas.getTime())"
   ]
  },
  {
   "cell_type": "markdown",
   "metadata": {},
   "source": [
    "And here again we can query an axis attributes"
   ]
  },
  {
   "cell_type": "code",
   "execution_count": 16,
   "metadata": {},
   "outputs": [
    {
     "name": "stdout",
     "output_type": "stream",
     "text": [
      "Attributes: {'units': 'days since 0001-01-01 00:00:00', 'bounds': 'time_bnds', 'calendar': 'noleap', 'axis': 'T', 'long_name': 'time', 'standard_name': 'time'}\n",
      "units: days since 0001-01-01 00:00:00\n"
     ]
    }
   ],
   "source": [
    "time = tas.getTime()\n",
    "print(\"Attributes:\", time.attributes)\n",
    "print(\"units:\", time.units)"
   ]
  },
  {
   "cell_type": "markdown",
   "metadata": {},
   "source": [
    "## Bringing in the data\n",
    "\n",
    "This concludes our first tutorial, please see [Bringing In The Data](01_Bring_In_Data.ipynb) next"
   ]
  }
 ],
 "metadata": {
  "kernelspec": {
   "display_name": "Python 3",
   "language": "python",
   "name": "python3"
  },
  "language_info": {
   "codemirror_mode": {
    "name": "ipython",
    "version": 3
   },
   "file_extension": ".py",
   "mimetype": "text/x-python",
   "name": "python",
   "nbconvert_exporter": "python",
   "pygments_lexer": "ipython3",
   "version": "3.7.3"
  },
  "selected_variables": [],
  "vcdat_file_path": "",
  "vcdat_loaded_variables": [],
  "vcdat_variable_info": {}
 },
 "nbformat": 4,
 "nbformat_minor": 4
}
