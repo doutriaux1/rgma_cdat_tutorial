{
 "cells": [
  {
   "cell_type": "markdown",
   "metadata": {},
   "source": [
    "# Bringing In Data\n",
    "\n",
    "In cdms2 data/array/numbers are called **Variables**\n",
    "\n",
    "cdms2 has two types of variables ***File Variables*** and ***Transient Variables***\n",
    "\n",
    "The first type ***File*** variables are just a piinter (or handle) to a variable in a file. It is very useful to query the variable as shown in the previous notebook. The actual data is still on disk and is not loaded into memory yet. Once you get more experienced with CDAT/cdms2 this has usefull implication for things like distributed computing (dask, mpi, etc...).\n",
    "\n",
    "The second type is the ***Transient Variable*** these variables possess the same query function as *File Variables* but their data is now in memory rather than in their original file. \n",
    "\n",
    "***WARNING***: ANY operation on a file variable will convert it to a ***Transient Variable*** keep this in mind as it has memory implication (e.g you do not want to load a 3Tb variable in memory)\n",
    "\n",
    "cdms variables can be treated just like a *supercharged* `numpy` array. As the figure bellow demonstrates they are a numpy array PLUS a mask marking area where values are to be ignored (missing or bad) PLUS dimensions information (axes) to describe the array PLUS metadata about the array itself and its dimensions.\n",
    "\n",
    "\n",
    "## Loading a variable\n",
    "\n",
    "### File Variables\n",
    "\n",
    "Once a file is opened you can create a file varialbe by refering it with *square* brackets ***[]***\n"
   ]
  },
  {
   "cell_type": "code",
   "execution_count": 1,
   "metadata": {},
   "outputs": [],
   "source": [
    "import os\n",
    "import cdms2\n",
    "home = os.path.expandvars(\"$HOME\")\n",
    "f = cdms2.open(os.path.join(home,\"cmip6_data/CMIP6/CMIP/E3SM-Project/E3SM-1-0/piControl/r1i1p1f1/Amon/tas/gr/v20180608/tas_Amon_E3SM-1-0_piControl_r1i1p1f1_gr_000101-050012.nc_0\"))"
   ]
  },
  {
   "cell_type": "code",
   "execution_count": 2,
   "metadata": {},
   "outputs": [],
   "source": [
    "tas_file = f[\"tas\"]"
   ]
  },
  {
   "cell_type": "markdown",
   "metadata": {},
   "source": [
    "The above `tas_file` is a file variable, to actually load all of it data in memory (and do anything with its data) you will need a ***Transient Variable***\n",
    "\n",
    "### Transient Variables"
   ]
  },
  {
   "cell_type": "code",
   "execution_count": 3,
   "metadata": {},
   "outputs": [],
   "source": [
    "tas_memory = f(\"tas\")"
   ]
  },
  {
   "cell_type": "markdown",
   "metadata": {},
   "source": [
    "You probably noticed that the above line takes a lot more time to execute, this time we had to read the entire variable in memory"
   ]
  },
  {
   "cell_type": "markdown",
   "metadata": {},
   "source": [
    "## Subsetting Variables\n",
    "\n",
    "As you probably guessed bringing all the variable in memory will quickly bring your system to its knees. We will need to work on a subset of variable\n",
    "\n",
    "In the following we will start from `tas_file` our ***File Variable*** an load in memory only what we need.\n",
    "\n",
    "### Subsetting by index\n",
    "\n",
    "As explained above, we can treat variables just a sregular nupmy arrays so subsetting by index is easy:"
   ]
  },
  {
   "cell_type": "code",
   "execution_count": 4,
   "metadata": {},
   "outputs": [
    {
     "name": "stdout",
     "output_type": "stream",
     "text": [
      "(129, 256)\n"
     ]
    }
   ],
   "source": [
    "tas_sub = tas_file[0] # retrieve only the first time\n",
    "print(tas_sub.shape)"
   ]
  },
  {
   "cell_type": "markdown",
   "metadata": {},
   "source": [
    "Steps are also allowed"
   ]
  },
  {
   "cell_type": "code",
   "execution_count": 5,
   "metadata": {},
   "outputs": [
    {
     "name": "stdout",
     "output_type": "stream",
     "text": [
      "(10, 129, 256)\n"
     ]
    }
   ],
   "source": [
    "tas_sub = tas_file[-20::2]  # last 20 time steps but every other one\n",
    "print(tas_sub.shape)"
   ]
  },
  {
   "cell_type": "markdown",
   "metadata": {},
   "source": [
    "**IMPORTANT NOTE**: while they can *mostly* be treated as numpy arrays, cdms transient varialbe do **NOT** support array indexing\n",
    "\n",
    "### Subsetting by dimension\n",
    "\n",
    "Since cdms variables contain dimension information the easiest way to subset them is usually to rely on the dimensions names, this frees the user to know the actual order of the dimensions (unlike index subsetting).\n",
    "\n",
    "Dimension subsetting can be done again by index or by values. '`time` dimension subsetting also accepts actual time object (either as strind in the `YYYY-MM-DD HH:MM:SS` format or `cdtime` objects (see notebook later)\n",
    "\n",
    "#### Subsetting via index"
   ]
  },
  {
   "cell_type": "code",
   "execution_count": 6,
   "metadata": {},
   "outputs": [
    {
     "name": "stdout",
     "output_type": "stream",
     "text": [
      "(5, 129, 256)\n"
     ]
    }
   ],
   "source": [
    "tas_sub = tas_file(time=slice(0, 5))  # first 5 time steps\n",
    "print(tas_sub.shape)"
   ]
  },
  {
   "cell_type": "markdown",
   "metadata": {},
   "source": [
    "#### Subsetting by value\n",
    "\n",
    "subsetting by value in its easiest form requires 2 values representing the desired bounds. To determine if an index needs to be selected cdms will look if a dimension `value` falls within this domain\n"
   ]
  },
  {
   "cell_type": "code",
   "execution_count": 7,
   "metadata": {},
   "outputs": [
    {
     "name": "stdout",
     "output_type": "stream",
     "text": [
      "[-90.      -88.59375 -87.1875  -85.78125 -84.375   -82.96875 -81.5625\n",
      " -80.15625 -78.75    -77.34375 -75.9375  -74.53125 -73.125   -71.71875\n",
      " -70.3125  -68.90625 -67.5     -66.09375 -64.6875  -63.28125 -61.875\n",
      " -60.46875 -59.0625  -57.65625 -56.25    -54.84375 -53.4375  -52.03125\n",
      " -50.625   -49.21875 -47.8125  -46.40625 -45.      -43.59375 -42.1875\n",
      " -40.78125 -39.375   -37.96875 -36.5625  -35.15625 -33.75    -32.34375\n",
      " -30.9375  -29.53125 -28.125   -26.71875 -25.3125  -23.90625 -22.5\n",
      " -21.09375 -19.6875  -18.28125 -16.875   -15.46875 -14.0625  -12.65625\n",
      " -11.25     -9.84375  -8.4375   -7.03125  -5.625    -4.21875  -2.8125\n",
      "  -1.40625   0.        1.40625   2.8125    4.21875   5.625     7.03125\n",
      "   8.4375    9.84375  11.25     12.65625  14.0625   15.46875  16.875\n",
      "  18.28125  19.6875   21.09375  22.5      23.90625  25.3125   26.71875\n",
      "  28.125    29.53125  30.9375   32.34375  33.75     35.15625  36.5625\n",
      "  37.96875  39.375    40.78125  42.1875   43.59375  45.       46.40625\n",
      "  47.8125   49.21875  50.625    52.03125  53.4375   54.84375  56.25\n",
      "  57.65625  59.0625   60.46875  61.875    63.28125  64.6875   66.09375\n",
      "  67.5      68.90625  70.3125   71.71875  73.125    74.53125  75.9375\n",
      "  77.34375  78.75     80.15625  81.5625   82.96875  84.375    85.78125\n",
      "  87.1875   88.59375  90.     ]\n"
     ]
    }
   ],
   "source": [
    "print(tas_file.getLatitude()[:])  # Looking at latitude values in file"
   ]
  },
  {
   "cell_type": "code",
   "execution_count": 8,
   "metadata": {},
   "outputs": [
    {
     "name": "stdout",
     "output_type": "stream",
     "text": [
      "(12, 29, 256)\n",
      "[-19.6875  -18.28125 -16.875   -15.46875 -14.0625  -12.65625 -11.25\n",
      "  -9.84375  -8.4375   -7.03125  -5.625    -4.21875  -2.8125   -1.40625\n",
      "   0.        1.40625   2.8125    4.21875   5.625     7.03125   8.4375\n",
      "   9.84375  11.25     12.65625  14.0625   15.46875  16.875    18.28125\n",
      "  19.6875 ]\n"
     ]
    }
   ],
   "source": [
    "tas_sub = tas_file(time = slice(0, 12), latitude=(-20, 20))  # first year only lats between 20 south and 20 north\n",
    "print(tas_sub.shape)\n",
    "print(tas_sub.getLatitude()[:])"
   ]
  },
  {
   "cell_type": "code",
   "execution_count": 9,
   "metadata": {},
   "outputs": [
    {
     "name": "stdout",
     "output_type": "stream",
     "text": [
      "(12, 31, 256)\n",
      "[-21.09375 -19.6875  -18.28125 -16.875   -15.46875 -14.0625  -12.65625\n",
      " -11.25     -9.84375  -8.4375   -7.03125  -5.625    -4.21875  -2.8125\n",
      "  -1.40625   0.        1.40625   2.8125    4.21875   5.625     7.03125\n",
      "   8.4375    9.84375  11.25     12.65625  14.0625   15.46875  16.875\n",
      "  18.28125  19.6875   21.09375]\n"
     ]
    }
   ],
   "source": [
    "tas_sub = tas_file(time = slice(0, 12), latitude=(-22, 22))  # first year only lats between 22 south and 22 north\n",
    "print(tas_sub.shape)\n",
    "print(tas_sub.getLatitude()[:])"
   ]
  },
  {
   "cell_type": "code",
   "execution_count": 10,
   "metadata": {},
   "outputs": [
    {
     "name": "stdout",
     "output_type": "stream",
     "text": [
      "(12, 31, 256)\n",
      "[-21.09375 -19.6875  -18.28125 -16.875   -15.46875 -14.0625  -12.65625\n",
      " -11.25     -9.84375  -8.4375   -7.03125  -5.625    -4.21875  -2.8125\n",
      "  -1.40625   0.        1.40625   2.8125    4.21875   5.625     7.03125\n",
      "   8.4375    9.84375  11.25     12.65625  14.0625   15.46875  16.875\n",
      "  18.28125  19.6875   21.09375]\n"
     ]
    }
   ],
   "source": [
    "tas_sub = tas_file(time = slice(0, 12), latitude=(-21.09375, 21.09375))  # first year only lats between 2 latitudes exactly\n",
    "print(tas_sub.shape)\n",
    "print(tas_sub.getLatitude()[:])"
   ]
  },
  {
   "cell_type": "markdown",
   "metadata": {},
   "source": [
    "Now as explained above by default cdms looks at the latitude value (it's `node`) and see it is is comprised within the domain inclusively\n",
    "\n",
    "A third argument can be passed to control this, in the following example we will exclude the upper latitude by adding a thrid argumnet: `'co'` which stand for ***c***losed ***o***pened e.g inclusive on the first bound, exclusive on the second bound"
   ]
  },
  {
   "cell_type": "code",
   "execution_count": 11,
   "metadata": {},
   "outputs": [
    {
     "name": "stdout",
     "output_type": "stream",
     "text": [
      "(12, 30, 256)\n",
      "[-21.09375 -19.6875  -18.28125 -16.875   -15.46875 -14.0625  -12.65625\n",
      " -11.25     -9.84375  -8.4375   -7.03125  -5.625    -4.21875  -2.8125\n",
      "  -1.40625   0.        1.40625   2.8125    4.21875   5.625     7.03125\n",
      "   8.4375    9.84375  11.25     12.65625  14.0625   15.46875  16.875\n",
      "  18.28125  19.6875 ]\n"
     ]
    }
   ],
   "source": [
    "tas_sub = tas_file(time = slice(0, 12), latitude=(-21.09375, 21.09375, 'co'))  # first year only lats between 2 latitudes exactly\n",
    "print(tas_sub.shape)\n",
    "print(tas_sub.getLatitude()[:])"
   ]
  },
  {
   "cell_type": "markdown",
   "metadata": {},
   "source": [
    "We can further control this by telling cdms to look not at the **n***ode (value) to decide if the index needs to be selected but by looking at the actual cell ***bounds***, for example:"
   ]
  },
  {
   "cell_type": "code",
   "execution_count": 12,
   "metadata": {},
   "outputs": [
    {
     "name": "stdout",
     "output_type": "stream",
     "text": [
      "(12, 30, 256)\n",
      "(12, 31, 256)\n"
     ]
    }
   ],
   "source": [
    "tas_sub1 = tas_file(time = slice(0, 12), latitude=(-21, 21, 'ccn'))  # first year only lats between 20 south and 20 north\n",
    "print(tas_sub.shape)\n",
    "tas_sub2 = tas_file(time = slice(0, 12), latitude=(-21, 21, 'ccb'))  # first year only lats between 20 south and 20 north\n",
    "print(tas_sub2.shape)"
   ]
  },
  {
   "cell_type": "markdown",
   "metadata": {},
   "source": [
    "The second example brought in 2 extra dimensions. Why?\n",
    "\n",
    "In the second case we asked cdms to look at the bounds and indeed -21 and 21 are within the bounds of the first and last cell"
   ]
  },
  {
   "cell_type": "code",
   "execution_count": 13,
   "metadata": {},
   "outputs": [
    {
     "name": "stdout",
     "output_type": "stream",
     "text": [
      "[[-21.796875 -20.390625]\n",
      " [-20.390625 -18.984375]\n",
      " [-18.984375 -17.578125]\n",
      " [-17.578125 -16.171875]\n",
      " [-16.171875 -14.765625]\n",
      " [-14.765625 -13.359375]\n",
      " [-13.359375 -11.953125]\n",
      " [-11.953125 -10.546875]\n",
      " [-10.546875  -9.140625]\n",
      " [ -9.140625  -7.734375]\n",
      " [ -7.734375  -6.328125]\n",
      " [ -6.328125  -4.921875]\n",
      " [ -4.921875  -3.515625]\n",
      " [ -3.515625  -2.109375]\n",
      " [ -2.109375  -0.703125]\n",
      " [ -0.703125   0.703125]\n",
      " [  0.703125   2.109375]\n",
      " [  2.109375   3.515625]\n",
      " [  3.515625   4.921875]\n",
      " [  4.921875   6.328125]\n",
      " [  6.328125   7.734375]\n",
      " [  7.734375   9.140625]\n",
      " [  9.140625  10.546875]\n",
      " [ 10.546875  11.953125]\n",
      " [ 11.953125  13.359375]\n",
      " [ 13.359375  14.765625]\n",
      " [ 14.765625  16.171875]\n",
      " [ 16.171875  17.578125]\n",
      " [ 17.578125  18.984375]\n",
      " [ 18.984375  20.390625]\n",
      " [ 20.390625  21.796875]]\n"
     ]
    }
   ],
   "source": [
    "print(tas_sub2.getLatitude().getBounds())"
   ]
  },
  {
   "cell_type": "markdown",
   "metadata": {},
   "source": [
    "#### Time values\n",
    "\n",
    "For time we can either pass the time value in the file or the actual value we wnat, this is very useful because\n",
    "\n",
    "1. It is hard to figure out what `171466.000000 hours since 2000` is (`2019-07-24 10:00`)\n",
    "2. It gets harder if you want to compare between files with differenttime units!"
   ]
  },
  {
   "cell_type": "code",
   "execution_count": 14,
   "metadata": {},
   "outputs": [
    {
     "name": "stdout",
     "output_type": "stream",
     "text": [
      "IPSL: 15.5 days since 1850-01-01 00:00:00\n",
      "MIROC: 36539.5 days since 1850-1-1\n"
     ]
    }
   ],
   "source": [
    "miroc_ps_file = cdms2.open(\"/global/cscratch1/sd/cmip6/CMIP6/CMIP/MIROC/MIROC6/historical/r1i1p1f1/Amon/ps/gn/v20181212/ps_Amon_MIROC6_historical_r1i1p1f1_gn_195001-201412.nc\")\n",
    "ipsl_ps_file = cdms2.open(\"/global/cscratch1/sd/cmip6/CMIP6/CMIP/IPSL/IPSL-CM6A-LR/historical/r1i1p1f1/Amon/ps/gr/v20180803/ps_Amon_IPSL-CM6A-LR_historical_r1i1p1f1_gr_185001-201412.nc\")\n",
    "ipsl_time = ipsl_ps_file[\"ps\"].getTime()\n",
    "miroc_time = miroc_ps_file[\"ps\"].getTime()\n",
    "print(\"IPSL:\", ipsl_time[0], ipsl_time.units)\n",
    "print(\"MIROC:\", miroc_time[0], miroc_time.units)"
   ]
  },
  {
   "cell_type": "markdown",
   "metadata": {},
   "source": [
    "Let's retrieve year 2000 from both files"
   ]
  },
  {
   "cell_type": "code",
   "execution_count": 15,
   "metadata": {},
   "outputs": [
    {
     "name": "stdout",
     "output_type": "stream",
     "text": [
      "IPSL: (12, 143, 144)\n",
      "MIROC: (12, 128, 256)\n"
     ]
    }
   ],
   "source": [
    "ipsl = ipsl_ps_file(\"ps\", time=(\"2000\", \"2001\", \"con\"))\n",
    "miroc = miroc_ps_file(\"ps\", time=(\"2000\", \"2001\", \"con\"))\n",
    "print(\"IPSL:\", ipsl.shape)\n",
    "print(\"MIROC:\", miroc.shape)"
   ]
  },
  {
   "cell_type": "markdown",
   "metadata": {},
   "source": [
    "Finally time axis have a few usefll functions to be able to more easily understand them. Most useful is the `asComponentTime()` one"
   ]
  },
  {
   "cell_type": "code",
   "execution_count": 16,
   "metadata": {},
   "outputs": [
    {
     "name": "stdout",
     "output_type": "stream",
     "text": [
      "[2000-1-16 12:0:0.0, 2000-2-15 12:0:0.0, 2000-3-16 12:0:0.0, 2000-4-16 0:0:0.0, 2000-5-16 12:0:0.0, 2000-6-16 0:0:0.0, 2000-7-16 12:0:0.0, 2000-8-16 12:0:0.0, 2000-9-16 0:0:0.0, 2000-10-16 12:0:0.0, 2000-11-16 0:0:0.0, 2000-12-16 12:0:0.0]\n"
     ]
    }
   ],
   "source": [
    "print(ipsl.getTime().asComponentTime())"
   ]
  },
  {
   "cell_type": "markdown",
   "metadata": {},
   "source": [
    "Similarly to compare between two differenttime models the `asRelativeTime(units)` function can help you go back and forth."
   ]
  },
  {
   "cell_type": "code",
   "execution_count": 17,
   "metadata": {},
   "outputs": [
    {
     "name": "stdout",
     "output_type": "stream",
     "text": [
      "[-7289.500000 days since 2020, -7259.500000 days since 2020, -7229.500000 days since 2020, -7199.000000 days since 2020, -7168.500000 days since 2020, -7138.000000 days since 2020, -7107.500000 days since 2020, -7076.500000 days since 2020, -7046.000000 days since 2020, -7015.500000 days since 2020, -6985.000000 days since 2020, -6954.500000 days since 2020]\n"
     ]
    }
   ],
   "source": [
    "print(ipsl.getTime().asRelativeTime(\"days since 2020\"))"
   ]
  },
  {
   "cell_type": "markdown",
   "metadata": {},
   "source": [
    "Converting units can also be done via the `toRelativeTime(units`) command"
   ]
  },
  {
   "cell_type": "code",
   "execution_count": 18,
   "metadata": {},
   "outputs": [
    {
     "name": "stdout",
     "output_type": "stream",
     "text": [
      "54801.5 days since 1850-01-01 00:00:00\n",
      "372.0 hours since 2000\n"
     ]
    }
   ],
   "source": [
    "print(ipsl.getTime()[0], ipsl.getTime().units)\n",
    "ipsl.getTime().toRelativeTime(\"hours since 2000\")\n",
    "print(ipsl.getTime()[0], ipsl.getTime().units)"
   ]
  },
  {
   "cell_type": "markdown",
   "metadata": {},
   "source": [
    "# Re-ordering\n",
    "\n",
    "cdms let you easily re-order the data, by using the `order` keyword"
   ]
  },
  {
   "cell_type": "code",
   "execution_count": 19,
   "metadata": {},
   "outputs": [
    {
     "name": "stdout",
     "output_type": "stream",
     "text": [
      "Original: ['time', 'lat', 'lon'] (12, 143, 144)\n",
      "Re-ordered: ['lon', 'lat', 'time'] (144, 143, 12)\n"
     ]
    }
   ],
   "source": [
    "print(\"Original:\", ipsl.getAxisIds(), ipsl.shape)\n",
    "ipsl = ipsl(order='(longitude)(latitude)(time)')\n",
    "print(\"Re-ordered:\", ipsl.getAxisIds(), ipsl.shape)"
   ]
  },
  {
   "cell_type": "markdown",
   "metadata": {},
   "source": [
    "Spatial dimensions can be reference by their aliases: `x, y, z, t`"
   ]
  },
  {
   "cell_type": "code",
   "execution_count": 20,
   "metadata": {},
   "outputs": [
    {
     "name": "stdout",
     "output_type": "stream",
     "text": [
      "Further re-ordered: ['time', 'lon', 'lat'] (12, 144, 143)\n"
     ]
    }
   ],
   "source": [
    "ipsl = ipsl(order=\"txy\")\n",
    "print(\"Further re-ordered:\", ipsl.getAxisIds(), ipsl.shape)"
   ]
  },
  {
   "cell_type": "markdown",
   "metadata": {},
   "source": [
    "# Data spanning multiple files: cdscan\n",
    "\n",
    "With CMIP data it is common that the full dataset is being split over mutliple files representing different time periods.\n",
    "\n",
    "example:"
   ]
  },
  {
   "cell_type": "code",
   "execution_count": 21,
   "metadata": {},
   "outputs": [
    {
     "name": "stdout",
     "output_type": "stream",
     "text": [
      "['/global/cscratch1/sd/cmip6/CMIP6/CMIP/EC-Earth-Consortium/EC-Earth3/historical/r1i1p1f1/Amon/tas/gr/v20190711/tas_Amon_EC-Earth3_historical_r1i1p1f1_gr_198701-198712.nc', '/global/cscratch1/sd/cmip6/CMIP6/CMIP/EC-Earth-Consortium/EC-Earth3/historical/r1i1p1f1/Amon/tas/gr/v20190711/tas_Amon_EC-Earth3_historical_r1i1p1f1_gr_198201-198212.nc', '/global/cscratch1/sd/cmip6/CMIP6/CMIP/EC-Earth-Consortium/EC-Earth3/historical/r1i1p1f1/Amon/tas/gr/v20190711/tas_Amon_EC-Earth3_historical_r1i1p1f1_gr_185001-185012.nc', '/global/cscratch1/sd/cmip6/CMIP6/CMIP/EC-Earth-Consortium/EC-Earth3/historical/r1i1p1f1/Amon/tas/gr/v20190711/tas_Amon_EC-Earth3_historical_r1i1p1f1_gr_193801-193812.nc', '/global/cscratch1/sd/cmip6/CMIP6/CMIP/EC-Earth-Consortium/EC-Earth3/historical/r1i1p1f1/Amon/tas/gr/v20190711/tas_Amon_EC-Earth3_historical_r1i1p1f1_gr_200401-200412.nc', '/global/cscratch1/sd/cmip6/CMIP6/CMIP/EC-Earth-Consortium/EC-Earth3/historical/r1i1p1f1/Amon/tas/gr/v20190711/tas_Amon_EC-Earth3_historical_r1i1p1f1_gr_185701-185712.nc', '/global/cscratch1/sd/cmip6/CMIP6/CMIP/EC-Earth-Consortium/EC-Earth3/historical/r1i1p1f1/Amon/tas/gr/v20190711/tas_Amon_EC-Earth3_historical_r1i1p1f1_gr_195201-195212.nc', '/global/cscratch1/sd/cmip6/CMIP6/CMIP/EC-Earth-Consortium/EC-Earth3/historical/r1i1p1f1/Amon/tas/gr/v20190711/tas_Amon_EC-Earth3_historical_r1i1p1f1_gr_187001-187012.nc', '/global/cscratch1/sd/cmip6/CMIP6/CMIP/EC-Earth-Consortium/EC-Earth3/historical/r1i1p1f1/Amon/tas/gr/v20190711/tas_Amon_EC-Earth3_historical_r1i1p1f1_gr_200901-200912.nc', '/global/cscratch1/sd/cmip6/CMIP6/CMIP/EC-Earth-Consortium/EC-Earth3/historical/r1i1p1f1/Amon/tas/gr/v20190711/tas_Amon_EC-Earth3_historical_r1i1p1f1_gr_185201-185212.nc']\n"
     ]
    }
   ],
   "source": [
    "import glob\n",
    "files = glob.glob(\"/global/cscratch1/sd/cmip6/CMIP6/CMIP/EC-Earth-Consortium/EC-Earth3/historical/r1i1p1f1/Amon/tas/gr/v20190711/*.nc\")\n",
    "print(files[:10])"
   ]
  },
  {
   "cell_type": "markdown",
   "metadata": {},
   "source": [
    "The `cdscan` utility let you create an xml file that will make your data look like in file only, avoiding the trouble of opening each file as you need more time"
   ]
  },
  {
   "cell_type": "code",
   "execution_count": 22,
   "metadata": {},
   "outputs": [
    {
     "name": "stdout",
     "output_type": "stream",
     "text": [
      "Finding common directory ...\n",
      "Common directory: /global/cscratch1/sd/cmip6/CMIP6/CMIP/EC-Earth-Consortium/EC-Earth3/historical/r1i1p1f1/Amon/tas/gr/v20190711/\n",
      "Scanning files ...\n",
      "/global/cscratch1/sd/cmip6/CMIP6/CMIP/EC-Earth-Consortium/EC-Earth3/historical/r1i1p1f1/Amon/tas/gr/v20190711/tas_Amon_EC-Earth3_historical_r1i1p1f1_gr_185001-185012.nc\n",
      "Setting reference time units to days since 1850-01-01 00:00:00\n",
      "/global/cscratch1/sd/cmip6/CMIP6/CMIP/EC-Earth-Consortium/EC-Earth3/historical/r1i1p1f1/Amon/tas/gr/v20190711/tas_Amon_EC-Earth3_historical_r1i1p1f1_gr_185101-185112.nc\n",
      "Setting reference time units to days since 1850-01-01 00:00:00\n",
      "/global/cscratch1/sd/cmip6/CMIP6/CMIP/EC-Earth-Consortium/EC-Earth3/historical/r1i1p1f1/Amon/tas/gr/v20190711/tas_Amon_EC-Earth3_historical_r1i1p1f1_gr_185201-185212.nc\n",
      "Setting reference time units to days since 1850-01-01 00:00:00\n",
      "/global/cscratch1/sd/cmip6/CMIP6/CMIP/EC-Earth-Consortium/EC-Earth3/historical/r1i1p1f1/Amon/tas/gr/v20190711/tas_Amon_EC-Earth3_historical_r1i1p1f1_gr_185301-185312.nc\n",
      "Setting reference time units to days since 1850-01-01 00:00:00\n",
      "/global/cscratch1/sd/cmip6/CMIP6/CMIP/EC-Earth-Consortium/EC-Earth3/historical/r1i1p1f1/Amon/tas/gr/v20190711/tas_Amon_EC-Earth3_historical_r1i1p1f1_gr_185401-185412.nc\n",
      "Setting reference time units to days since 1850-01-01 00:00:00\n",
      "/global/cscratch1/sd/cmip6/CMIP6/CMIP/EC-Earth-Consortium/EC-Earth3/historical/r1i1p1f1/Amon/tas/gr/v20190711/tas_Amon_EC-Earth3_historical_r1i1p1f1_gr_185501-185512.nc\n",
      "Setting reference time units to days since 1850-01-01 00:00:00\n",
      "/global/cscratch1/sd/cmip6/CMIP6/CMIP/EC-Earth-Consortium/EC-Earth3/historical/r1i1p1f1/Amon/tas/gr/v20190711/tas_Amon_EC-Earth3_historical_r1i1p1f1_gr_185601-185612.nc\n",
      "Setting reference time units to days since 1850-01-01 00:00:00\n",
      "/global/cscratch1/sd/cmip6/CMIP6/CMIP/EC-Earth-Consortium/EC-Earth3/historical/r1i1p1f1/Amon/tas/gr/v20190711/tas_Amon_EC-Earth3_historical_r1i1p1f1_gr_185701-185712.nc\n",
      "Setting reference time units to days since 1850-01-01 00:00:00\n",
      "/global/cscratch1/sd/cmip6/CMIP6/CMIP/EC-Earth-Consortium/EC-Earth3/historical/r1i1p1f1/Amon/tas/gr/v20190711/tas_Amon_EC-Earth3_historical_r1i1p1f1_gr_185801-185812.nc\n",
      "Setting reference time units to days since 1850-01-01 00:00:00\n",
      "/global/cscratch1/sd/cmip6/CMIP6/CMIP/EC-Earth-Consortium/EC-Earth3/historical/r1i1p1f1/Amon/tas/gr/v20190711/tas_Amon_EC-Earth3_historical_r1i1p1f1_gr_185901-185912.nc\n",
      "Setting reference time units to days since 1850-01-01 00:00:00\n",
      "/global/cscratch1/sd/cmip6/CMIP6/CMIP/EC-Earth-Consortium/EC-Earth3/historical/r1i1p1f1/Amon/tas/gr/v20190711/tas_Amon_EC-Earth3_historical_r1i1p1f1_gr_186001-186012.nc\n",
      "Setting reference time units to days since 1850-01-01 00:00:00\n",
      "/global/cscratch1/sd/cmip6/CMIP6/CMIP/EC-Earth-Consortium/EC-Earth3/historical/r1i1p1f1/Amon/tas/gr/v20190711/tas_Amon_EC-Earth3_historical_r1i1p1f1_gr_186101-186112.nc\n",
      "Setting reference time units to days since 1850-01-01 00:00:00\n",
      "/global/cscratch1/sd/cmip6/CMIP6/CMIP/EC-Earth-Consortium/EC-Earth3/historical/r1i1p1f1/Amon/tas/gr/v20190711/tas_Amon_EC-Earth3_historical_r1i1p1f1_gr_186201-186212.nc\n",
      "Setting reference time units to days since 1850-01-01 00:00:00\n",
      "/global/cscratch1/sd/cmip6/CMIP6/CMIP/EC-Earth-Consortium/EC-Earth3/historical/r1i1p1f1/Amon/tas/gr/v20190711/tas_Amon_EC-Earth3_historical_r1i1p1f1_gr_186301-186312.nc\n",
      "Setting reference time units to days since 1850-01-01 00:00:00\n",
      "/global/cscratch1/sd/cmip6/CMIP6/CMIP/EC-Earth-Consortium/EC-Earth3/historical/r1i1p1f1/Amon/tas/gr/v20190711/tas_Amon_EC-Earth3_historical_r1i1p1f1_gr_186401-186412.nc\n",
      "Setting reference time units to days since 1850-01-01 00:00:00\n",
      "/global/cscratch1/sd/cmip6/CMIP6/CMIP/EC-Earth-Consortium/EC-Earth3/historical/r1i1p1f1/Amon/tas/gr/v20190711/tas_Amon_EC-Earth3_historical_r1i1p1f1_gr_186501-186512.nc\n",
      "Setting reference time units to days since 1850-01-01 00:00:00\n",
      "/global/cscratch1/sd/cmip6/CMIP6/CMIP/EC-Earth-Consortium/EC-Earth3/historical/r1i1p1f1/Amon/tas/gr/v20190711/tas_Amon_EC-Earth3_historical_r1i1p1f1_gr_186601-186612.nc\n",
      "Setting reference time units to days since 1850-01-01 00:00:00\n",
      "/global/cscratch1/sd/cmip6/CMIP6/CMIP/EC-Earth-Consortium/EC-Earth3/historical/r1i1p1f1/Amon/tas/gr/v20190711/tas_Amon_EC-Earth3_historical_r1i1p1f1_gr_186701-186712.nc\n",
      "Setting reference time units to days since 1850-01-01 00:00:00\n",
      "/global/cscratch1/sd/cmip6/CMIP6/CMIP/EC-Earth-Consortium/EC-Earth3/historical/r1i1p1f1/Amon/tas/gr/v20190711/tas_Amon_EC-Earth3_historical_r1i1p1f1_gr_186801-186812.nc\n",
      "Setting reference time units to days since 1850-01-01 00:00:00\n",
      "/global/cscratch1/sd/cmip6/CMIP6/CMIP/EC-Earth-Consortium/EC-Earth3/historical/r1i1p1f1/Amon/tas/gr/v20190711/tas_Amon_EC-Earth3_historical_r1i1p1f1_gr_186901-186912.nc\n",
      "Setting reference time units to days since 1850-01-01 00:00:00\n",
      "/global/cscratch1/sd/cmip6/CMIP6/CMIP/EC-Earth-Consortium/EC-Earth3/historical/r1i1p1f1/Amon/tas/gr/v20190711/tas_Amon_EC-Earth3_historical_r1i1p1f1_gr_187001-187012.nc\n",
      "Setting reference time units to days since 1850-01-01 00:00:00\n",
      "/global/cscratch1/sd/cmip6/CMIP6/CMIP/EC-Earth-Consortium/EC-Earth3/historical/r1i1p1f1/Amon/tas/gr/v20190711/tas_Amon_EC-Earth3_historical_r1i1p1f1_gr_187101-187112.nc\n",
      "Setting reference time units to days since 1850-01-01 00:00:00\n",
      "/global/cscratch1/sd/cmip6/CMIP6/CMIP/EC-Earth-Consortium/EC-Earth3/historical/r1i1p1f1/Amon/tas/gr/v20190711/tas_Amon_EC-Earth3_historical_r1i1p1f1_gr_187201-187212.nc\n",
      "Setting reference time units to days since 1850-01-01 00:00:00\n",
      "/global/cscratch1/sd/cmip6/CMIP6/CMIP/EC-Earth-Consortium/EC-Earth3/historical/r1i1p1f1/Amon/tas/gr/v20190711/tas_Amon_EC-Earth3_historical_r1i1p1f1_gr_187301-187312.nc\n",
      "Setting reference time units to days since 1850-01-01 00:00:00\n",
      "/global/cscratch1/sd/cmip6/CMIP6/CMIP/EC-Earth-Consortium/EC-Earth3/historical/r1i1p1f1/Amon/tas/gr/v20190711/tas_Amon_EC-Earth3_historical_r1i1p1f1_gr_187401-187412.nc\n",
      "Setting reference time units to days since 1850-01-01 00:00:00\n",
      "/global/cscratch1/sd/cmip6/CMIP6/CMIP/EC-Earth-Consortium/EC-Earth3/historical/r1i1p1f1/Amon/tas/gr/v20190711/tas_Amon_EC-Earth3_historical_r1i1p1f1_gr_187501-187512.nc\n",
      "Setting reference time units to days since 1850-01-01 00:00:00\n",
      "/global/cscratch1/sd/cmip6/CMIP6/CMIP/EC-Earth-Consortium/EC-Earth3/historical/r1i1p1f1/Amon/tas/gr/v20190711/tas_Amon_EC-Earth3_historical_r1i1p1f1_gr_187601-187612.nc\n",
      "Setting reference time units to days since 1850-01-01 00:00:00\n",
      "/global/cscratch1/sd/cmip6/CMIP6/CMIP/EC-Earth-Consortium/EC-Earth3/historical/r1i1p1f1/Amon/tas/gr/v20190711/tas_Amon_EC-Earth3_historical_r1i1p1f1_gr_187701-187712.nc\n",
      "Setting reference time units to days since 1850-01-01 00:00:00\n",
      "/global/cscratch1/sd/cmip6/CMIP6/CMIP/EC-Earth-Consortium/EC-Earth3/historical/r1i1p1f1/Amon/tas/gr/v20190711/tas_Amon_EC-Earth3_historical_r1i1p1f1_gr_187801-187812.nc\n",
      "Setting reference time units to days since 1850-01-01 00:00:00\n",
      "/global/cscratch1/sd/cmip6/CMIP6/CMIP/EC-Earth-Consortium/EC-Earth3/historical/r1i1p1f1/Amon/tas/gr/v20190711/tas_Amon_EC-Earth3_historical_r1i1p1f1_gr_187901-187912.nc\n",
      "Setting reference time units to days since 1850-01-01 00:00:00\n",
      "/global/cscratch1/sd/cmip6/CMIP6/CMIP/EC-Earth-Consortium/EC-Earth3/historical/r1i1p1f1/Amon/tas/gr/v20190711/tas_Amon_EC-Earth3_historical_r1i1p1f1_gr_188001-188012.nc\n",
      "Setting reference time units to days since 1850-01-01 00:00:00\n",
      "/global/cscratch1/sd/cmip6/CMIP6/CMIP/EC-Earth-Consortium/EC-Earth3/historical/r1i1p1f1/Amon/tas/gr/v20190711/tas_Amon_EC-Earth3_historical_r1i1p1f1_gr_188101-188112.nc\n",
      "Setting reference time units to days since 1850-01-01 00:00:00\n",
      "/global/cscratch1/sd/cmip6/CMIP6/CMIP/EC-Earth-Consortium/EC-Earth3/historical/r1i1p1f1/Amon/tas/gr/v20190711/tas_Amon_EC-Earth3_historical_r1i1p1f1_gr_188201-188212.nc\n",
      "Setting reference time units to days since 1850-01-01 00:00:00\n",
      "/global/cscratch1/sd/cmip6/CMIP6/CMIP/EC-Earth-Consortium/EC-Earth3/historical/r1i1p1f1/Amon/tas/gr/v20190711/tas_Amon_EC-Earth3_historical_r1i1p1f1_gr_188301-188312.nc\n",
      "Setting reference time units to days since 1850-01-01 00:00:00\n",
      "/global/cscratch1/sd/cmip6/CMIP6/CMIP/EC-Earth-Consortium/EC-Earth3/historical/r1i1p1f1/Amon/tas/gr/v20190711/tas_Amon_EC-Earth3_historical_r1i1p1f1_gr_188401-188412.nc\n",
      "Setting reference time units to days since 1850-01-01 00:00:00\n",
      "/global/cscratch1/sd/cmip6/CMIP6/CMIP/EC-Earth-Consortium/EC-Earth3/historical/r1i1p1f1/Amon/tas/gr/v20190711/tas_Amon_EC-Earth3_historical_r1i1p1f1_gr_188501-188512.nc\n",
      "Setting reference time units to days since 1850-01-01 00:00:00\n",
      "/global/cscratch1/sd/cmip6/CMIP6/CMIP/EC-Earth-Consortium/EC-Earth3/historical/r1i1p1f1/Amon/tas/gr/v20190711/tas_Amon_EC-Earth3_historical_r1i1p1f1_gr_188601-188612.nc\n",
      "Setting reference time units to days since 1850-01-01 00:00:00\n",
      "/global/cscratch1/sd/cmip6/CMIP6/CMIP/EC-Earth-Consortium/EC-Earth3/historical/r1i1p1f1/Amon/tas/gr/v20190711/tas_Amon_EC-Earth3_historical_r1i1p1f1_gr_188701-188712.nc\n",
      "Setting reference time units to days since 1850-01-01 00:00:00\n",
      "/global/cscratch1/sd/cmip6/CMIP6/CMIP/EC-Earth-Consortium/EC-Earth3/historical/r1i1p1f1/Amon/tas/gr/v20190711/tas_Amon_EC-Earth3_historical_r1i1p1f1_gr_188801-188812.nc\n",
      "Setting reference time units to days since 1850-01-01 00:00:00\n",
      "/global/cscratch1/sd/cmip6/CMIP6/CMIP/EC-Earth-Consortium/EC-Earth3/historical/r1i1p1f1/Amon/tas/gr/v20190711/tas_Amon_EC-Earth3_historical_r1i1p1f1_gr_188901-188912.nc\n",
      "Setting reference time units to days since 1850-01-01 00:00:00\n",
      "/global/cscratch1/sd/cmip6/CMIP6/CMIP/EC-Earth-Consortium/EC-Earth3/historical/r1i1p1f1/Amon/tas/gr/v20190711/tas_Amon_EC-Earth3_historical_r1i1p1f1_gr_189001-189012.nc\n",
      "Setting reference time units to days since 1850-01-01 00:00:00\n",
      "/global/cscratch1/sd/cmip6/CMIP6/CMIP/EC-Earth-Consortium/EC-Earth3/historical/r1i1p1f1/Amon/tas/gr/v20190711/tas_Amon_EC-Earth3_historical_r1i1p1f1_gr_189101-189112.nc\n",
      "Setting reference time units to days since 1850-01-01 00:00:00\n",
      "/global/cscratch1/sd/cmip6/CMIP6/CMIP/EC-Earth-Consortium/EC-Earth3/historical/r1i1p1f1/Amon/tas/gr/v20190711/tas_Amon_EC-Earth3_historical_r1i1p1f1_gr_189201-189212.nc\n",
      "Setting reference time units to days since 1850-01-01 00:00:00\n",
      "/global/cscratch1/sd/cmip6/CMIP6/CMIP/EC-Earth-Consortium/EC-Earth3/historical/r1i1p1f1/Amon/tas/gr/v20190711/tas_Amon_EC-Earth3_historical_r1i1p1f1_gr_189301-189312.nc\n",
      "Setting reference time units to days since 1850-01-01 00:00:00\n",
      "/global/cscratch1/sd/cmip6/CMIP6/CMIP/EC-Earth-Consortium/EC-Earth3/historical/r1i1p1f1/Amon/tas/gr/v20190711/tas_Amon_EC-Earth3_historical_r1i1p1f1_gr_189401-189412.nc\n",
      "Setting reference time units to days since 1850-01-01 00:00:00\n",
      "/global/cscratch1/sd/cmip6/CMIP6/CMIP/EC-Earth-Consortium/EC-Earth3/historical/r1i1p1f1/Amon/tas/gr/v20190711/tas_Amon_EC-Earth3_historical_r1i1p1f1_gr_189501-189512.nc\n",
      "Setting reference time units to days since 1850-01-01 00:00:00\n",
      "/global/cscratch1/sd/cmip6/CMIP6/CMIP/EC-Earth-Consortium/EC-Earth3/historical/r1i1p1f1/Amon/tas/gr/v20190711/tas_Amon_EC-Earth3_historical_r1i1p1f1_gr_189601-189612.nc\n",
      "Setting reference time units to days since 1850-01-01 00:00:00\n",
      "/global/cscratch1/sd/cmip6/CMIP6/CMIP/EC-Earth-Consortium/EC-Earth3/historical/r1i1p1f1/Amon/tas/gr/v20190711/tas_Amon_EC-Earth3_historical_r1i1p1f1_gr_189701-189712.nc\n",
      "Setting reference time units to days since 1850-01-01 00:00:00\n",
      "/global/cscratch1/sd/cmip6/CMIP6/CMIP/EC-Earth-Consortium/EC-Earth3/historical/r1i1p1f1/Amon/tas/gr/v20190711/tas_Amon_EC-Earth3_historical_r1i1p1f1_gr_189801-189812.nc\n",
      "Setting reference time units to days since 1850-01-01 00:00:00\n",
      "/global/cscratch1/sd/cmip6/CMIP6/CMIP/EC-Earth-Consortium/EC-Earth3/historical/r1i1p1f1/Amon/tas/gr/v20190711/tas_Amon_EC-Earth3_historical_r1i1p1f1_gr_189901-189912.nc\n",
      "Setting reference time units to days since 1850-01-01 00:00:00\n",
      "/global/cscratch1/sd/cmip6/CMIP6/CMIP/EC-Earth-Consortium/EC-Earth3/historical/r1i1p1f1/Amon/tas/gr/v20190711/tas_Amon_EC-Earth3_historical_r1i1p1f1_gr_190001-190012.nc\n",
      "Setting reference time units to days since 1850-01-01 00:00:00\n",
      "/global/cscratch1/sd/cmip6/CMIP6/CMIP/EC-Earth-Consortium/EC-Earth3/historical/r1i1p1f1/Amon/tas/gr/v20190711/tas_Amon_EC-Earth3_historical_r1i1p1f1_gr_190101-190112.nc\n",
      "Setting reference time units to days since 1850-01-01 00:00:00\n",
      "/global/cscratch1/sd/cmip6/CMIP6/CMIP/EC-Earth-Consortium/EC-Earth3/historical/r1i1p1f1/Amon/tas/gr/v20190711/tas_Amon_EC-Earth3_historical_r1i1p1f1_gr_190201-190212.nc\n",
      "Setting reference time units to days since 1850-01-01 00:00:00\n",
      "/global/cscratch1/sd/cmip6/CMIP6/CMIP/EC-Earth-Consortium/EC-Earth3/historical/r1i1p1f1/Amon/tas/gr/v20190711/tas_Amon_EC-Earth3_historical_r1i1p1f1_gr_190301-190312.nc\n",
      "Setting reference time units to days since 1850-01-01 00:00:00\n",
      "/global/cscratch1/sd/cmip6/CMIP6/CMIP/EC-Earth-Consortium/EC-Earth3/historical/r1i1p1f1/Amon/tas/gr/v20190711/tas_Amon_EC-Earth3_historical_r1i1p1f1_gr_190401-190412.nc\n",
      "Setting reference time units to days since 1850-01-01 00:00:00\n",
      "/global/cscratch1/sd/cmip6/CMIP6/CMIP/EC-Earth-Consortium/EC-Earth3/historical/r1i1p1f1/Amon/tas/gr/v20190711/tas_Amon_EC-Earth3_historical_r1i1p1f1_gr_190501-190512.nc\n",
      "Setting reference time units to days since 1850-01-01 00:00:00\n",
      "/global/cscratch1/sd/cmip6/CMIP6/CMIP/EC-Earth-Consortium/EC-Earth3/historical/r1i1p1f1/Amon/tas/gr/v20190711/tas_Amon_EC-Earth3_historical_r1i1p1f1_gr_190601-190612.nc\n",
      "Setting reference time units to days since 1850-01-01 00:00:00\n",
      "/global/cscratch1/sd/cmip6/CMIP6/CMIP/EC-Earth-Consortium/EC-Earth3/historical/r1i1p1f1/Amon/tas/gr/v20190711/tas_Amon_EC-Earth3_historical_r1i1p1f1_gr_190701-190712.nc\n",
      "Setting reference time units to days since 1850-01-01 00:00:00\n",
      "/global/cscratch1/sd/cmip6/CMIP6/CMIP/EC-Earth-Consortium/EC-Earth3/historical/r1i1p1f1/Amon/tas/gr/v20190711/tas_Amon_EC-Earth3_historical_r1i1p1f1_gr_190801-190812.nc\n",
      "Setting reference time units to days since 1850-01-01 00:00:00\n",
      "/global/cscratch1/sd/cmip6/CMIP6/CMIP/EC-Earth-Consortium/EC-Earth3/historical/r1i1p1f1/Amon/tas/gr/v20190711/tas_Amon_EC-Earth3_historical_r1i1p1f1_gr_190901-190912.nc\n",
      "Setting reference time units to days since 1850-01-01 00:00:00\n",
      "/global/cscratch1/sd/cmip6/CMIP6/CMIP/EC-Earth-Consortium/EC-Earth3/historical/r1i1p1f1/Amon/tas/gr/v20190711/tas_Amon_EC-Earth3_historical_r1i1p1f1_gr_191001-191012.nc\n",
      "Setting reference time units to days since 1850-01-01 00:00:00\n",
      "/global/cscratch1/sd/cmip6/CMIP6/CMIP/EC-Earth-Consortium/EC-Earth3/historical/r1i1p1f1/Amon/tas/gr/v20190711/tas_Amon_EC-Earth3_historical_r1i1p1f1_gr_191101-191112.nc\n",
      "Setting reference time units to days since 1850-01-01 00:00:00\n",
      "/global/cscratch1/sd/cmip6/CMIP6/CMIP/EC-Earth-Consortium/EC-Earth3/historical/r1i1p1f1/Amon/tas/gr/v20190711/tas_Amon_EC-Earth3_historical_r1i1p1f1_gr_191201-191212.nc\n",
      "Setting reference time units to days since 1850-01-01 00:00:00\n",
      "/global/cscratch1/sd/cmip6/CMIP6/CMIP/EC-Earth-Consortium/EC-Earth3/historical/r1i1p1f1/Amon/tas/gr/v20190711/tas_Amon_EC-Earth3_historical_r1i1p1f1_gr_191301-191312.nc\n",
      "Setting reference time units to days since 1850-01-01 00:00:00\n",
      "/global/cscratch1/sd/cmip6/CMIP6/CMIP/EC-Earth-Consortium/EC-Earth3/historical/r1i1p1f1/Amon/tas/gr/v20190711/tas_Amon_EC-Earth3_historical_r1i1p1f1_gr_191401-191412.nc\n",
      "Setting reference time units to days since 1850-01-01 00:00:00\n",
      "/global/cscratch1/sd/cmip6/CMIP6/CMIP/EC-Earth-Consortium/EC-Earth3/historical/r1i1p1f1/Amon/tas/gr/v20190711/tas_Amon_EC-Earth3_historical_r1i1p1f1_gr_191501-191512.nc\n",
      "Setting reference time units to days since 1850-01-01 00:00:00\n",
      "/global/cscratch1/sd/cmip6/CMIP6/CMIP/EC-Earth-Consortium/EC-Earth3/historical/r1i1p1f1/Amon/tas/gr/v20190711/tas_Amon_EC-Earth3_historical_r1i1p1f1_gr_191601-191612.nc\n",
      "Setting reference time units to days since 1850-01-01 00:00:00\n",
      "/global/cscratch1/sd/cmip6/CMIP6/CMIP/EC-Earth-Consortium/EC-Earth3/historical/r1i1p1f1/Amon/tas/gr/v20190711/tas_Amon_EC-Earth3_historical_r1i1p1f1_gr_191701-191712.nc\n",
      "Setting reference time units to days since 1850-01-01 00:00:00\n",
      "/global/cscratch1/sd/cmip6/CMIP6/CMIP/EC-Earth-Consortium/EC-Earth3/historical/r1i1p1f1/Amon/tas/gr/v20190711/tas_Amon_EC-Earth3_historical_r1i1p1f1_gr_191801-191812.nc\n",
      "Setting reference time units to days since 1850-01-01 00:00:00\n",
      "/global/cscratch1/sd/cmip6/CMIP6/CMIP/EC-Earth-Consortium/EC-Earth3/historical/r1i1p1f1/Amon/tas/gr/v20190711/tas_Amon_EC-Earth3_historical_r1i1p1f1_gr_191901-191912.nc\n",
      "Setting reference time units to days since 1850-01-01 00:00:00\n",
      "/global/cscratch1/sd/cmip6/CMIP6/CMIP/EC-Earth-Consortium/EC-Earth3/historical/r1i1p1f1/Amon/tas/gr/v20190711/tas_Amon_EC-Earth3_historical_r1i1p1f1_gr_192001-192012.nc\n",
      "Setting reference time units to days since 1850-01-01 00:00:00\n",
      "/global/cscratch1/sd/cmip6/CMIP6/CMIP/EC-Earth-Consortium/EC-Earth3/historical/r1i1p1f1/Amon/tas/gr/v20190711/tas_Amon_EC-Earth3_historical_r1i1p1f1_gr_192101-192112.nc\n",
      "Setting reference time units to days since 1850-01-01 00:00:00\n",
      "/global/cscratch1/sd/cmip6/CMIP6/CMIP/EC-Earth-Consortium/EC-Earth3/historical/r1i1p1f1/Amon/tas/gr/v20190711/tas_Amon_EC-Earth3_historical_r1i1p1f1_gr_192201-192212.nc\n",
      "Setting reference time units to days since 1850-01-01 00:00:00\n",
      "/global/cscratch1/sd/cmip6/CMIP6/CMIP/EC-Earth-Consortium/EC-Earth3/historical/r1i1p1f1/Amon/tas/gr/v20190711/tas_Amon_EC-Earth3_historical_r1i1p1f1_gr_192301-192312.nc\n",
      "Setting reference time units to days since 1850-01-01 00:00:00\n",
      "/global/cscratch1/sd/cmip6/CMIP6/CMIP/EC-Earth-Consortium/EC-Earth3/historical/r1i1p1f1/Amon/tas/gr/v20190711/tas_Amon_EC-Earth3_historical_r1i1p1f1_gr_192401-192412.nc\n",
      "Setting reference time units to days since 1850-01-01 00:00:00\n",
      "/global/cscratch1/sd/cmip6/CMIP6/CMIP/EC-Earth-Consortium/EC-Earth3/historical/r1i1p1f1/Amon/tas/gr/v20190711/tas_Amon_EC-Earth3_historical_r1i1p1f1_gr_192501-192512.nc\n",
      "Setting reference time units to days since 1850-01-01 00:00:00\n",
      "/global/cscratch1/sd/cmip6/CMIP6/CMIP/EC-Earth-Consortium/EC-Earth3/historical/r1i1p1f1/Amon/tas/gr/v20190711/tas_Amon_EC-Earth3_historical_r1i1p1f1_gr_192601-192612.nc\n",
      "Setting reference time units to days since 1850-01-01 00:00:00\n",
      "/global/cscratch1/sd/cmip6/CMIP6/CMIP/EC-Earth-Consortium/EC-Earth3/historical/r1i1p1f1/Amon/tas/gr/v20190711/tas_Amon_EC-Earth3_historical_r1i1p1f1_gr_192701-192712.nc\n",
      "Setting reference time units to days since 1850-01-01 00:00:00\n",
      "/global/cscratch1/sd/cmip6/CMIP6/CMIP/EC-Earth-Consortium/EC-Earth3/historical/r1i1p1f1/Amon/tas/gr/v20190711/tas_Amon_EC-Earth3_historical_r1i1p1f1_gr_192801-192812.nc\n",
      "Setting reference time units to days since 1850-01-01 00:00:00\n",
      "/global/cscratch1/sd/cmip6/CMIP6/CMIP/EC-Earth-Consortium/EC-Earth3/historical/r1i1p1f1/Amon/tas/gr/v20190711/tas_Amon_EC-Earth3_historical_r1i1p1f1_gr_192901-192912.nc\n",
      "Setting reference time units to days since 1850-01-01 00:00:00\n",
      "/global/cscratch1/sd/cmip6/CMIP6/CMIP/EC-Earth-Consortium/EC-Earth3/historical/r1i1p1f1/Amon/tas/gr/v20190711/tas_Amon_EC-Earth3_historical_r1i1p1f1_gr_193001-193012.nc\n",
      "Setting reference time units to days since 1850-01-01 00:00:00\n",
      "/global/cscratch1/sd/cmip6/CMIP6/CMIP/EC-Earth-Consortium/EC-Earth3/historical/r1i1p1f1/Amon/tas/gr/v20190711/tas_Amon_EC-Earth3_historical_r1i1p1f1_gr_193101-193112.nc\n",
      "Setting reference time units to days since 1850-01-01 00:00:00\n",
      "/global/cscratch1/sd/cmip6/CMIP6/CMIP/EC-Earth-Consortium/EC-Earth3/historical/r1i1p1f1/Amon/tas/gr/v20190711/tas_Amon_EC-Earth3_historical_r1i1p1f1_gr_193201-193212.nc\n",
      "Setting reference time units to days since 1850-01-01 00:00:00\n",
      "/global/cscratch1/sd/cmip6/CMIP6/CMIP/EC-Earth-Consortium/EC-Earth3/historical/r1i1p1f1/Amon/tas/gr/v20190711/tas_Amon_EC-Earth3_historical_r1i1p1f1_gr_193301-193312.nc\n",
      "Setting reference time units to days since 1850-01-01 00:00:00\n",
      "/global/cscratch1/sd/cmip6/CMIP6/CMIP/EC-Earth-Consortium/EC-Earth3/historical/r1i1p1f1/Amon/tas/gr/v20190711/tas_Amon_EC-Earth3_historical_r1i1p1f1_gr_193401-193412.nc\n",
      "Setting reference time units to days since 1850-01-01 00:00:00\n",
      "/global/cscratch1/sd/cmip6/CMIP6/CMIP/EC-Earth-Consortium/EC-Earth3/historical/r1i1p1f1/Amon/tas/gr/v20190711/tas_Amon_EC-Earth3_historical_r1i1p1f1_gr_193501-193512.nc\n",
      "Setting reference time units to days since 1850-01-01 00:00:00\n",
      "/global/cscratch1/sd/cmip6/CMIP6/CMIP/EC-Earth-Consortium/EC-Earth3/historical/r1i1p1f1/Amon/tas/gr/v20190711/tas_Amon_EC-Earth3_historical_r1i1p1f1_gr_193601-193612.nc\n",
      "Setting reference time units to days since 1850-01-01 00:00:00\n",
      "/global/cscratch1/sd/cmip6/CMIP6/CMIP/EC-Earth-Consortium/EC-Earth3/historical/r1i1p1f1/Amon/tas/gr/v20190711/tas_Amon_EC-Earth3_historical_r1i1p1f1_gr_193701-193712.nc\n",
      "Setting reference time units to days since 1850-01-01 00:00:00\n",
      "/global/cscratch1/sd/cmip6/CMIP6/CMIP/EC-Earth-Consortium/EC-Earth3/historical/r1i1p1f1/Amon/tas/gr/v20190711/tas_Amon_EC-Earth3_historical_r1i1p1f1_gr_193801-193812.nc\n",
      "Setting reference time units to days since 1850-01-01 00:00:00\n",
      "/global/cscratch1/sd/cmip6/CMIP6/CMIP/EC-Earth-Consortium/EC-Earth3/historical/r1i1p1f1/Amon/tas/gr/v20190711/tas_Amon_EC-Earth3_historical_r1i1p1f1_gr_193901-193912.nc\n",
      "Setting reference time units to days since 1850-01-01 00:00:00\n",
      "/global/cscratch1/sd/cmip6/CMIP6/CMIP/EC-Earth-Consortium/EC-Earth3/historical/r1i1p1f1/Amon/tas/gr/v20190711/tas_Amon_EC-Earth3_historical_r1i1p1f1_gr_194001-194012.nc\n",
      "Setting reference time units to days since 1850-01-01 00:00:00\n",
      "/global/cscratch1/sd/cmip6/CMIP6/CMIP/EC-Earth-Consortium/EC-Earth3/historical/r1i1p1f1/Amon/tas/gr/v20190711/tas_Amon_EC-Earth3_historical_r1i1p1f1_gr_194101-194112.nc\n",
      "Setting reference time units to days since 1850-01-01 00:00:00\n",
      "/global/cscratch1/sd/cmip6/CMIP6/CMIP/EC-Earth-Consortium/EC-Earth3/historical/r1i1p1f1/Amon/tas/gr/v20190711/tas_Amon_EC-Earth3_historical_r1i1p1f1_gr_194201-194212.nc\n",
      "Setting reference time units to days since 1850-01-01 00:00:00\n",
      "/global/cscratch1/sd/cmip6/CMIP6/CMIP/EC-Earth-Consortium/EC-Earth3/historical/r1i1p1f1/Amon/tas/gr/v20190711/tas_Amon_EC-Earth3_historical_r1i1p1f1_gr_194301-194312.nc\n",
      "Setting reference time units to days since 1850-01-01 00:00:00\n",
      "/global/cscratch1/sd/cmip6/CMIP6/CMIP/EC-Earth-Consortium/EC-Earth3/historical/r1i1p1f1/Amon/tas/gr/v20190711/tas_Amon_EC-Earth3_historical_r1i1p1f1_gr_194401-194412.nc\n",
      "Setting reference time units to days since 1850-01-01 00:00:00\n",
      "/global/cscratch1/sd/cmip6/CMIP6/CMIP/EC-Earth-Consortium/EC-Earth3/historical/r1i1p1f1/Amon/tas/gr/v20190711/tas_Amon_EC-Earth3_historical_r1i1p1f1_gr_194501-194512.nc\n",
      "Setting reference time units to days since 1850-01-01 00:00:00\n",
      "/global/cscratch1/sd/cmip6/CMIP6/CMIP/EC-Earth-Consortium/EC-Earth3/historical/r1i1p1f1/Amon/tas/gr/v20190711/tas_Amon_EC-Earth3_historical_r1i1p1f1_gr_194601-194612.nc\n",
      "Setting reference time units to days since 1850-01-01 00:00:00\n",
      "/global/cscratch1/sd/cmip6/CMIP6/CMIP/EC-Earth-Consortium/EC-Earth3/historical/r1i1p1f1/Amon/tas/gr/v20190711/tas_Amon_EC-Earth3_historical_r1i1p1f1_gr_194701-194712.nc\n",
      "Setting reference time units to days since 1850-01-01 00:00:00\n",
      "/global/cscratch1/sd/cmip6/CMIP6/CMIP/EC-Earth-Consortium/EC-Earth3/historical/r1i1p1f1/Amon/tas/gr/v20190711/tas_Amon_EC-Earth3_historical_r1i1p1f1_gr_194801-194812.nc\n",
      "Setting reference time units to days since 1850-01-01 00:00:00\n",
      "/global/cscratch1/sd/cmip6/CMIP6/CMIP/EC-Earth-Consortium/EC-Earth3/historical/r1i1p1f1/Amon/tas/gr/v20190711/tas_Amon_EC-Earth3_historical_r1i1p1f1_gr_194901-194912.nc\n",
      "Setting reference time units to days since 1850-01-01 00:00:00\n",
      "/global/cscratch1/sd/cmip6/CMIP6/CMIP/EC-Earth-Consortium/EC-Earth3/historical/r1i1p1f1/Amon/tas/gr/v20190711/tas_Amon_EC-Earth3_historical_r1i1p1f1_gr_195001-195012.nc\n",
      "Setting reference time units to days since 1850-01-01 00:00:00\n",
      "/global/cscratch1/sd/cmip6/CMIP6/CMIP/EC-Earth-Consortium/EC-Earth3/historical/r1i1p1f1/Amon/tas/gr/v20190711/tas_Amon_EC-Earth3_historical_r1i1p1f1_gr_195101-195112.nc\n",
      "Setting reference time units to days since 1850-01-01 00:00:00\n",
      "/global/cscratch1/sd/cmip6/CMIP6/CMIP/EC-Earth-Consortium/EC-Earth3/historical/r1i1p1f1/Amon/tas/gr/v20190711/tas_Amon_EC-Earth3_historical_r1i1p1f1_gr_195201-195212.nc\n",
      "Setting reference time units to days since 1850-01-01 00:00:00\n",
      "/global/cscratch1/sd/cmip6/CMIP6/CMIP/EC-Earth-Consortium/EC-Earth3/historical/r1i1p1f1/Amon/tas/gr/v20190711/tas_Amon_EC-Earth3_historical_r1i1p1f1_gr_195301-195312.nc\n",
      "Setting reference time units to days since 1850-01-01 00:00:00\n",
      "/global/cscratch1/sd/cmip6/CMIP6/CMIP/EC-Earth-Consortium/EC-Earth3/historical/r1i1p1f1/Amon/tas/gr/v20190711/tas_Amon_EC-Earth3_historical_r1i1p1f1_gr_195401-195412.nc\n",
      "Setting reference time units to days since 1850-01-01 00:00:00\n",
      "/global/cscratch1/sd/cmip6/CMIP6/CMIP/EC-Earth-Consortium/EC-Earth3/historical/r1i1p1f1/Amon/tas/gr/v20190711/tas_Amon_EC-Earth3_historical_r1i1p1f1_gr_195501-195512.nc\n",
      "Setting reference time units to days since 1850-01-01 00:00:00\n",
      "/global/cscratch1/sd/cmip6/CMIP6/CMIP/EC-Earth-Consortium/EC-Earth3/historical/r1i1p1f1/Amon/tas/gr/v20190711/tas_Amon_EC-Earth3_historical_r1i1p1f1_gr_195601-195612.nc\n",
      "Setting reference time units to days since 1850-01-01 00:00:00\n",
      "/global/cscratch1/sd/cmip6/CMIP6/CMIP/EC-Earth-Consortium/EC-Earth3/historical/r1i1p1f1/Amon/tas/gr/v20190711/tas_Amon_EC-Earth3_historical_r1i1p1f1_gr_195701-195712.nc\n",
      "Setting reference time units to days since 1850-01-01 00:00:00\n",
      "/global/cscratch1/sd/cmip6/CMIP6/CMIP/EC-Earth-Consortium/EC-Earth3/historical/r1i1p1f1/Amon/tas/gr/v20190711/tas_Amon_EC-Earth3_historical_r1i1p1f1_gr_195801-195812.nc\n",
      "Setting reference time units to days since 1850-01-01 00:00:00\n",
      "/global/cscratch1/sd/cmip6/CMIP6/CMIP/EC-Earth-Consortium/EC-Earth3/historical/r1i1p1f1/Amon/tas/gr/v20190711/tas_Amon_EC-Earth3_historical_r1i1p1f1_gr_195901-195912.nc\n",
      "Setting reference time units to days since 1850-01-01 00:00:00\n",
      "/global/cscratch1/sd/cmip6/CMIP6/CMIP/EC-Earth-Consortium/EC-Earth3/historical/r1i1p1f1/Amon/tas/gr/v20190711/tas_Amon_EC-Earth3_historical_r1i1p1f1_gr_196001-196012.nc\n",
      "Setting reference time units to days since 1850-01-01 00:00:00\n",
      "/global/cscratch1/sd/cmip6/CMIP6/CMIP/EC-Earth-Consortium/EC-Earth3/historical/r1i1p1f1/Amon/tas/gr/v20190711/tas_Amon_EC-Earth3_historical_r1i1p1f1_gr_196101-196112.nc\n",
      "Setting reference time units to days since 1850-01-01 00:00:00\n",
      "/global/cscratch1/sd/cmip6/CMIP6/CMIP/EC-Earth-Consortium/EC-Earth3/historical/r1i1p1f1/Amon/tas/gr/v20190711/tas_Amon_EC-Earth3_historical_r1i1p1f1_gr_196201-196212.nc\n",
      "Setting reference time units to days since 1850-01-01 00:00:00\n",
      "/global/cscratch1/sd/cmip6/CMIP6/CMIP/EC-Earth-Consortium/EC-Earth3/historical/r1i1p1f1/Amon/tas/gr/v20190711/tas_Amon_EC-Earth3_historical_r1i1p1f1_gr_196301-196312.nc\n",
      "Setting reference time units to days since 1850-01-01 00:00:00\n",
      "/global/cscratch1/sd/cmip6/CMIP6/CMIP/EC-Earth-Consortium/EC-Earth3/historical/r1i1p1f1/Amon/tas/gr/v20190711/tas_Amon_EC-Earth3_historical_r1i1p1f1_gr_196401-196412.nc\n",
      "Setting reference time units to days since 1850-01-01 00:00:00\n",
      "/global/cscratch1/sd/cmip6/CMIP6/CMIP/EC-Earth-Consortium/EC-Earth3/historical/r1i1p1f1/Amon/tas/gr/v20190711/tas_Amon_EC-Earth3_historical_r1i1p1f1_gr_196501-196512.nc\n",
      "Setting reference time units to days since 1850-01-01 00:00:00\n",
      "/global/cscratch1/sd/cmip6/CMIP6/CMIP/EC-Earth-Consortium/EC-Earth3/historical/r1i1p1f1/Amon/tas/gr/v20190711/tas_Amon_EC-Earth3_historical_r1i1p1f1_gr_196601-196612.nc\n",
      "Setting reference time units to days since 1850-01-01 00:00:00\n",
      "/global/cscratch1/sd/cmip6/CMIP6/CMIP/EC-Earth-Consortium/EC-Earth3/historical/r1i1p1f1/Amon/tas/gr/v20190711/tas_Amon_EC-Earth3_historical_r1i1p1f1_gr_196701-196712.nc\n",
      "Setting reference time units to days since 1850-01-01 00:00:00\n",
      "/global/cscratch1/sd/cmip6/CMIP6/CMIP/EC-Earth-Consortium/EC-Earth3/historical/r1i1p1f1/Amon/tas/gr/v20190711/tas_Amon_EC-Earth3_historical_r1i1p1f1_gr_196801-196812.nc\n",
      "Setting reference time units to days since 1850-01-01 00:00:00\n",
      "/global/cscratch1/sd/cmip6/CMIP6/CMIP/EC-Earth-Consortium/EC-Earth3/historical/r1i1p1f1/Amon/tas/gr/v20190711/tas_Amon_EC-Earth3_historical_r1i1p1f1_gr_196901-196912.nc\n",
      "Setting reference time units to days since 1850-01-01 00:00:00\n",
      "/global/cscratch1/sd/cmip6/CMIP6/CMIP/EC-Earth-Consortium/EC-Earth3/historical/r1i1p1f1/Amon/tas/gr/v20190711/tas_Amon_EC-Earth3_historical_r1i1p1f1_gr_197001-197012.nc\n",
      "Setting reference time units to days since 1850-01-01 00:00:00\n",
      "/global/cscratch1/sd/cmip6/CMIP6/CMIP/EC-Earth-Consortium/EC-Earth3/historical/r1i1p1f1/Amon/tas/gr/v20190711/tas_Amon_EC-Earth3_historical_r1i1p1f1_gr_197101-197112.nc\n",
      "Setting reference time units to days since 1850-01-01 00:00:00\n",
      "/global/cscratch1/sd/cmip6/CMIP6/CMIP/EC-Earth-Consortium/EC-Earth3/historical/r1i1p1f1/Amon/tas/gr/v20190711/tas_Amon_EC-Earth3_historical_r1i1p1f1_gr_197201-197212.nc\n",
      "Setting reference time units to days since 1850-01-01 00:00:00\n",
      "/global/cscratch1/sd/cmip6/CMIP6/CMIP/EC-Earth-Consortium/EC-Earth3/historical/r1i1p1f1/Amon/tas/gr/v20190711/tas_Amon_EC-Earth3_historical_r1i1p1f1_gr_197301-197312.nc\n",
      "Setting reference time units to days since 1850-01-01 00:00:00\n",
      "/global/cscratch1/sd/cmip6/CMIP6/CMIP/EC-Earth-Consortium/EC-Earth3/historical/r1i1p1f1/Amon/tas/gr/v20190711/tas_Amon_EC-Earth3_historical_r1i1p1f1_gr_197401-197412.nc\n",
      "Setting reference time units to days since 1850-01-01 00:00:00\n",
      "/global/cscratch1/sd/cmip6/CMIP6/CMIP/EC-Earth-Consortium/EC-Earth3/historical/r1i1p1f1/Amon/tas/gr/v20190711/tas_Amon_EC-Earth3_historical_r1i1p1f1_gr_197501-197512.nc\n",
      "Setting reference time units to days since 1850-01-01 00:00:00\n",
      "/global/cscratch1/sd/cmip6/CMIP6/CMIP/EC-Earth-Consortium/EC-Earth3/historical/r1i1p1f1/Amon/tas/gr/v20190711/tas_Amon_EC-Earth3_historical_r1i1p1f1_gr_197601-197612.nc\n",
      "Setting reference time units to days since 1850-01-01 00:00:00\n",
      "/global/cscratch1/sd/cmip6/CMIP6/CMIP/EC-Earth-Consortium/EC-Earth3/historical/r1i1p1f1/Amon/tas/gr/v20190711/tas_Amon_EC-Earth3_historical_r1i1p1f1_gr_197701-197712.nc\n",
      "Setting reference time units to days since 1850-01-01 00:00:00\n",
      "/global/cscratch1/sd/cmip6/CMIP6/CMIP/EC-Earth-Consortium/EC-Earth3/historical/r1i1p1f1/Amon/tas/gr/v20190711/tas_Amon_EC-Earth3_historical_r1i1p1f1_gr_197801-197812.nc\n",
      "Setting reference time units to days since 1850-01-01 00:00:00\n",
      "/global/cscratch1/sd/cmip6/CMIP6/CMIP/EC-Earth-Consortium/EC-Earth3/historical/r1i1p1f1/Amon/tas/gr/v20190711/tas_Amon_EC-Earth3_historical_r1i1p1f1_gr_197901-197912.nc\n",
      "Setting reference time units to days since 1850-01-01 00:00:00\n",
      "/global/cscratch1/sd/cmip6/CMIP6/CMIP/EC-Earth-Consortium/EC-Earth3/historical/r1i1p1f1/Amon/tas/gr/v20190711/tas_Amon_EC-Earth3_historical_r1i1p1f1_gr_198001-198012.nc\n",
      "Setting reference time units to days since 1850-01-01 00:00:00\n",
      "/global/cscratch1/sd/cmip6/CMIP6/CMIP/EC-Earth-Consortium/EC-Earth3/historical/r1i1p1f1/Amon/tas/gr/v20190711/tas_Amon_EC-Earth3_historical_r1i1p1f1_gr_198101-198112.nc\n",
      "Setting reference time units to days since 1850-01-01 00:00:00\n",
      "/global/cscratch1/sd/cmip6/CMIP6/CMIP/EC-Earth-Consortium/EC-Earth3/historical/r1i1p1f1/Amon/tas/gr/v20190711/tas_Amon_EC-Earth3_historical_r1i1p1f1_gr_198201-198212.nc\n",
      "Setting reference time units to days since 1850-01-01 00:00:00\n",
      "/global/cscratch1/sd/cmip6/CMIP6/CMIP/EC-Earth-Consortium/EC-Earth3/historical/r1i1p1f1/Amon/tas/gr/v20190711/tas_Amon_EC-Earth3_historical_r1i1p1f1_gr_198301-198312.nc\n",
      "Setting reference time units to days since 1850-01-01 00:00:00\n",
      "/global/cscratch1/sd/cmip6/CMIP6/CMIP/EC-Earth-Consortium/EC-Earth3/historical/r1i1p1f1/Amon/tas/gr/v20190711/tas_Amon_EC-Earth3_historical_r1i1p1f1_gr_198401-198412.nc\n",
      "Setting reference time units to days since 1850-01-01 00:00:00\n",
      "/global/cscratch1/sd/cmip6/CMIP6/CMIP/EC-Earth-Consortium/EC-Earth3/historical/r1i1p1f1/Amon/tas/gr/v20190711/tas_Amon_EC-Earth3_historical_r1i1p1f1_gr_198501-198512.nc\n",
      "Setting reference time units to days since 1850-01-01 00:00:00\n",
      "/global/cscratch1/sd/cmip6/CMIP6/CMIP/EC-Earth-Consortium/EC-Earth3/historical/r1i1p1f1/Amon/tas/gr/v20190711/tas_Amon_EC-Earth3_historical_r1i1p1f1_gr_198601-198612.nc\n",
      "Setting reference time units to days since 1850-01-01 00:00:00\n",
      "/global/cscratch1/sd/cmip6/CMIP6/CMIP/EC-Earth-Consortium/EC-Earth3/historical/r1i1p1f1/Amon/tas/gr/v20190711/tas_Amon_EC-Earth3_historical_r1i1p1f1_gr_198701-198712.nc\n",
      "Setting reference time units to days since 1850-01-01 00:00:00\n",
      "/global/cscratch1/sd/cmip6/CMIP6/CMIP/EC-Earth-Consortium/EC-Earth3/historical/r1i1p1f1/Amon/tas/gr/v20190711/tas_Amon_EC-Earth3_historical_r1i1p1f1_gr_198801-198812.nc\n",
      "Setting reference time units to days since 1850-01-01 00:00:00\n",
      "/global/cscratch1/sd/cmip6/CMIP6/CMIP/EC-Earth-Consortium/EC-Earth3/historical/r1i1p1f1/Amon/tas/gr/v20190711/tas_Amon_EC-Earth3_historical_r1i1p1f1_gr_198901-198912.nc\n",
      "Setting reference time units to days since 1850-01-01 00:00:00\n",
      "/global/cscratch1/sd/cmip6/CMIP6/CMIP/EC-Earth-Consortium/EC-Earth3/historical/r1i1p1f1/Amon/tas/gr/v20190711/tas_Amon_EC-Earth3_historical_r1i1p1f1_gr_199001-199012.nc\n",
      "Setting reference time units to days since 1850-01-01 00:00:00\n",
      "/global/cscratch1/sd/cmip6/CMIP6/CMIP/EC-Earth-Consortium/EC-Earth3/historical/r1i1p1f1/Amon/tas/gr/v20190711/tas_Amon_EC-Earth3_historical_r1i1p1f1_gr_199101-199112.nc\n",
      "Setting reference time units to days since 1850-01-01 00:00:00\n",
      "/global/cscratch1/sd/cmip6/CMIP6/CMIP/EC-Earth-Consortium/EC-Earth3/historical/r1i1p1f1/Amon/tas/gr/v20190711/tas_Amon_EC-Earth3_historical_r1i1p1f1_gr_199201-199212.nc\n",
      "Setting reference time units to days since 1850-01-01 00:00:00\n",
      "/global/cscratch1/sd/cmip6/CMIP6/CMIP/EC-Earth-Consortium/EC-Earth3/historical/r1i1p1f1/Amon/tas/gr/v20190711/tas_Amon_EC-Earth3_historical_r1i1p1f1_gr_199301-199312.nc\n",
      "Setting reference time units to days since 1850-01-01 00:00:00\n",
      "/global/cscratch1/sd/cmip6/CMIP6/CMIP/EC-Earth-Consortium/EC-Earth3/historical/r1i1p1f1/Amon/tas/gr/v20190711/tas_Amon_EC-Earth3_historical_r1i1p1f1_gr_199401-199412.nc\n",
      "Setting reference time units to days since 1850-01-01 00:00:00\n",
      "/global/cscratch1/sd/cmip6/CMIP6/CMIP/EC-Earth-Consortium/EC-Earth3/historical/r1i1p1f1/Amon/tas/gr/v20190711/tas_Amon_EC-Earth3_historical_r1i1p1f1_gr_199501-199512.nc\n",
      "Setting reference time units to days since 1850-01-01 00:00:00\n",
      "/global/cscratch1/sd/cmip6/CMIP6/CMIP/EC-Earth-Consortium/EC-Earth3/historical/r1i1p1f1/Amon/tas/gr/v20190711/tas_Amon_EC-Earth3_historical_r1i1p1f1_gr_199601-199612.nc\n",
      "Setting reference time units to days since 1850-01-01 00:00:00\n",
      "/global/cscratch1/sd/cmip6/CMIP6/CMIP/EC-Earth-Consortium/EC-Earth3/historical/r1i1p1f1/Amon/tas/gr/v20190711/tas_Amon_EC-Earth3_historical_r1i1p1f1_gr_199701-199712.nc\n",
      "Setting reference time units to days since 1850-01-01 00:00:00\n",
      "/global/cscratch1/sd/cmip6/CMIP6/CMIP/EC-Earth-Consortium/EC-Earth3/historical/r1i1p1f1/Amon/tas/gr/v20190711/tas_Amon_EC-Earth3_historical_r1i1p1f1_gr_199801-199812.nc\n",
      "Setting reference time units to days since 1850-01-01 00:00:00\n",
      "/global/cscratch1/sd/cmip6/CMIP6/CMIP/EC-Earth-Consortium/EC-Earth3/historical/r1i1p1f1/Amon/tas/gr/v20190711/tas_Amon_EC-Earth3_historical_r1i1p1f1_gr_199901-199912.nc\n",
      "Setting reference time units to days since 1850-01-01 00:00:00\n",
      "/global/cscratch1/sd/cmip6/CMIP6/CMIP/EC-Earth-Consortium/EC-Earth3/historical/r1i1p1f1/Amon/tas/gr/v20190711/tas_Amon_EC-Earth3_historical_r1i1p1f1_gr_200001-200012.nc\n",
      "Setting reference time units to days since 1850-01-01 00:00:00\n",
      "/global/cscratch1/sd/cmip6/CMIP6/CMIP/EC-Earth-Consortium/EC-Earth3/historical/r1i1p1f1/Amon/tas/gr/v20190711/tas_Amon_EC-Earth3_historical_r1i1p1f1_gr_200101-200112.nc\n",
      "Setting reference time units to days since 1850-01-01 00:00:00\n",
      "/global/cscratch1/sd/cmip6/CMIP6/CMIP/EC-Earth-Consortium/EC-Earth3/historical/r1i1p1f1/Amon/tas/gr/v20190711/tas_Amon_EC-Earth3_historical_r1i1p1f1_gr_200201-200212.nc\n",
      "Setting reference time units to days since 1850-01-01 00:00:00\n",
      "/global/cscratch1/sd/cmip6/CMIP6/CMIP/EC-Earth-Consortium/EC-Earth3/historical/r1i1p1f1/Amon/tas/gr/v20190711/tas_Amon_EC-Earth3_historical_r1i1p1f1_gr_200301-200312.nc\n",
      "Setting reference time units to days since 1850-01-01 00:00:00\n",
      "/global/cscratch1/sd/cmip6/CMIP6/CMIP/EC-Earth-Consortium/EC-Earth3/historical/r1i1p1f1/Amon/tas/gr/v20190711/tas_Amon_EC-Earth3_historical_r1i1p1f1_gr_200401-200412.nc\n",
      "Setting reference time units to days since 1850-01-01 00:00:00\n",
      "/global/cscratch1/sd/cmip6/CMIP6/CMIP/EC-Earth-Consortium/EC-Earth3/historical/r1i1p1f1/Amon/tas/gr/v20190711/tas_Amon_EC-Earth3_historical_r1i1p1f1_gr_200501-200512.nc\n",
      "Setting reference time units to days since 1850-01-01 00:00:00\n",
      "/global/cscratch1/sd/cmip6/CMIP6/CMIP/EC-Earth-Consortium/EC-Earth3/historical/r1i1p1f1/Amon/tas/gr/v20190711/tas_Amon_EC-Earth3_historical_r1i1p1f1_gr_200601-200612.nc\n",
      "Setting reference time units to days since 1850-01-01 00:00:00\n",
      "/global/cscratch1/sd/cmip6/CMIP6/CMIP/EC-Earth-Consortium/EC-Earth3/historical/r1i1p1f1/Amon/tas/gr/v20190711/tas_Amon_EC-Earth3_historical_r1i1p1f1_gr_200701-200712.nc\n",
      "Setting reference time units to days since 1850-01-01 00:00:00\n",
      "/global/cscratch1/sd/cmip6/CMIP6/CMIP/EC-Earth-Consortium/EC-Earth3/historical/r1i1p1f1/Amon/tas/gr/v20190711/tas_Amon_EC-Earth3_historical_r1i1p1f1_gr_200801-200812.nc\n",
      "Setting reference time units to days since 1850-01-01 00:00:00\n",
      "/global/cscratch1/sd/cmip6/CMIP6/CMIP/EC-Earth-Consortium/EC-Earth3/historical/r1i1p1f1/Amon/tas/gr/v20190711/tas_Amon_EC-Earth3_historical_r1i1p1f1_gr_200901-200912.nc\n",
      "Setting reference time units to days since 1850-01-01 00:00:00\n",
      "/global/cscratch1/sd/cmip6/CMIP6/CMIP/EC-Earth-Consortium/EC-Earth3/historical/r1i1p1f1/Amon/tas/gr/v20190711/tas_Amon_EC-Earth3_historical_r1i1p1f1_gr_201001-201012.nc\n",
      "Setting reference time units to days since 1850-01-01 00:00:00\n",
      "/global/cscratch1/sd/cmip6/CMIP6/CMIP/EC-Earth-Consortium/EC-Earth3/historical/r1i1p1f1/Amon/tas/gr/v20190711/tas_Amon_EC-Earth3_historical_r1i1p1f1_gr_201101-201112.nc\n",
      "Setting reference time units to days since 1850-01-01 00:00:00\n",
      "/global/cscratch1/sd/cmip6/CMIP6/CMIP/EC-Earth-Consortium/EC-Earth3/historical/r1i1p1f1/Amon/tas/gr/v20190711/tas_Amon_EC-Earth3_historical_r1i1p1f1_gr_201201-201212.nc\n",
      "Setting reference time units to days since 1850-01-01 00:00:00\n",
      "/global/cscratch1/sd/cmip6/CMIP6/CMIP/EC-Earth-Consortium/EC-Earth3/historical/r1i1p1f1/Amon/tas/gr/v20190711/tas_Amon_EC-Earth3_historical_r1i1p1f1_gr_201301-201312.nc\n",
      "Setting reference time units to days since 1850-01-01 00:00:00\n",
      "/global/cscratch1/sd/cmip6/CMIP6/CMIP/EC-Earth-Consortium/EC-Earth3/historical/r1i1p1f1/Amon/tas/gr/v20190711/tas_Amon_EC-Earth3_historical_r1i1p1f1_gr_201401-201412.nc\n",
      "Setting reference time units to days since 1850-01-01 00:00:00\n",
      "one_file.xml written\n"
     ]
    }
   ],
   "source": [
    "!cdscan -x one_file.xml /global/cscratch1/sd/cmip6/CMIP6/CMIP/EC-Earth-Consortium/EC-Earth3/historical/r1i1p1f1/Amon/tas/gr/v20190711/*.nc"
   ]
  },
  {
   "cell_type": "code",
   "execution_count": 23,
   "metadata": {},
   "outputs": [
    {
     "name": "stdout",
     "output_type": "stream",
     "text": [
      "Shape: (1980, 256, 512)\n"
     ]
    }
   ],
   "source": [
    "f = cdms2.open(\"one_file.xml\")\n",
    "tas = f[\"tas\"]\n",
    "print(\"Shape:\", tas.shape)"
   ]
  },
  {
   "cell_type": "markdown",
   "metadata": {},
   "source": [
    "This concludes this tutorial please proceeed to [Manipulating Variables](02_Manipulating_Variables.ipynb)."
   ]
  }
 ],
 "metadata": {
  "kernelspec": {
   "display_name": "Python 3",
   "language": "python",
   "name": "python3"
  },
  "language_info": {
   "codemirror_mode": {
    "name": "ipython",
    "version": 3
   },
   "file_extension": ".py",
   "mimetype": "text/x-python",
   "name": "python",
   "nbconvert_exporter": "python",
   "pygments_lexer": "ipython3",
   "version": "3.7.3"
  },
  "selected_variables": [],
  "vcdat_file_path": "",
  "vcdat_loaded_variables": [],
  "vcdat_variable_info": {}
 },
 "nbformat": 4,
 "nbformat_minor": 4
}
