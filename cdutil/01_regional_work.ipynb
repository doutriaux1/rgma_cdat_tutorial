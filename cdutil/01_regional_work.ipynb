{
 "cells": [
  {
   "cell_type": "markdown",
   "metadata": {},
   "source": [
    "# Regional Work\n",
    "\n",
    "\n",
    "## Selecting Sub Regions\n",
    "\n",
    "It is quite common to be interested in a sub-region.\n",
    "\n",
    "Let's for example take a look at *El Nino 3-4* region defined here as the area comprised between longitudes  170W and 120W and between latitudes 5S and 5N.\n",
    "\n",
    "Let's compute a time serie for this area"
   ]
  },
  {
   "cell_type": "code",
   "execution_count": 1,
   "metadata": {},
   "outputs": [
    {
     "name": "stdout",
     "output_type": "stream",
     "text": [
      "[299.22178277778255 299.4175441483776 299.9929696423216 300.58908940992745\n",
      " 300.62121497727253 299.7694262325941 299.32684459793325 298.94147435427\n",
      " 298.49743389123864 298.13526489092146 297.7076472710341 297.7914078079565]\n"
     ]
    }
   ],
   "source": [
    "# Load data\n",
    "import cdms2\n",
    "ipsl_tas_file = cdms2.open(\"/global/cscratch1/sd/cmip6/CMIP6/CMIP/IPSL/IPSL-CM6A-LR/historical/r1i1p1f1/Amon/tas/gr/v20180803/tas_Amon_IPSL-CM6A-LR_historical_r1i1p1f1_gr_185001-201412.nc\")\n",
    "tas = ipsl_tas_file('tas', time=(\"2000\", \"2010\", \"con\"), latitude=(-5,5,'ccb'), longitude=(-170, -120,'con')) # 10 years over ninon 34\n",
    "\n",
    "# Compute Spatial Average\n",
    "import genutil\n",
    "el_nino34 = genutil.averager(tas, axis='xy')\n",
    "# Print the first year\n",
    "print(el_nino34[:12])"
   ]
  },
  {
   "cell_type": "markdown",
   "metadata": {},
   "source": [
    "Now first of all this is hard to read back, especially if we want to loop over multiple regions\n",
    "\n",
    "`cdutil` gives us the capability to create custom regions/domain."
   ]
  },
  {
   "cell_type": "code",
   "execution_count": 2,
   "metadata": {},
   "outputs": [
    {
     "name": "stdout",
     "output_type": "stream",
     "text": [
      "[299.0817268861442 299.31519030799393 299.93105774638633 300.5384431714988\n",
      " 300.5266711592158 299.58498040529855 299.1447297548061 298.748947382054\n",
      " 298.27998928130893 297.90445208474205 297.4694662351559\n",
      " 297.57607216636256]\n"
     ]
    }
   ],
   "source": [
    "import cdutil\n",
    "elnino34 = cdutil.region.domain(latitude=(-5,5), longitude=(-170,-120))\n",
    "tas_domain = ipsl_tas_file('tas', elnino34, time=(\"2000\", \"2010\", \"con\")) # 10 years over ninon 34\n",
    "el_nino34_domain = genutil.averager(tas_domain, axis='xy')\n",
    "print(el_nino34_domain[:12])"
   ]
  },
  {
   "cell_type": "markdown",
   "metadata": {},
   "source": [
    "Did you notice? These are different values?\n",
    "\n",
    "The reason is that in addition to conveniently select your domain, the `domain` function resets the bounds on the selected slab to match exactly what you asked for. As a result `genutil.averager` will weights appropriately the cell going beyond your desired area.\n",
    "\n",
    "Point:"
   ]
  },
  {
   "cell_type": "code",
   "execution_count": 3,
   "metadata": {},
   "outputs": [
    {
     "name": "stdout",
     "output_type": "stream",
     "text": [
      "Regular selection domain:\n",
      "\tLongitudes: -171.25 -121.25\n",
      "\tLatitudes: -5.704225540161133 5.704225540161133\n",
      "cdutil selector domain:\n",
      "\tLongitudes: -170.0 -120.0\n",
      "\tLatitudes: -5.0 5.0\n"
     ]
    }
   ],
   "source": [
    "def show_domain(data):\n",
    "    blon = data.getLongitude().getBounds()\n",
    "    blat = data.getLatitude().getBounds()\n",
    "    print(\"\\tLongitudes:\", blon[0][0], blon[-1,1])\n",
    "    print(\"\\tLatitudes:\", blat[0][0], blat[-1,1])\n",
    "\n",
    "print(\"Regular selection domain:\")\n",
    "show_domain(tas)\n",
    "print(\"cdutil selector domain:\")\n",
    "show_domain(tas_domain)"
   ]
  },
  {
   "cell_type": "code",
   "execution_count": 4,
   "metadata": {},
   "outputs": [
    {
     "name": "stdout",
     "output_type": "stream",
     "text": [
      "Percentage Difference: [-0.04682863546914159 -0.034196005982305606 -0.02064204234148797\n",
      " -0.016851833627077296 -0.03145937686396504 -0.06156711429459702\n",
      " -0.06087850629238709 -0.06444440186421431 -0.0728994963603279\n",
      " -0.0774788038796271 -0.08006907024531786 -0.07236322464581055]\n"
     ]
    }
   ],
   "source": [
    "print(\"Percentage Difference:\", ((el_nino34_domain-el_nino34)/el_nino34_domain*100.)[:12])"
   ]
  },
  {
   "cell_type": "markdown",
   "metadata": {},
   "source": [
    "the `cdutil.region.domain` works for any dimension not just lat/lon.\n",
    "\n",
    "Predefined region are: 'AAZ', 'AZ', 'AntarcticZone', 'ArcticZone', 'DomainComponent', 'NH', 'NPZ', 'NorthernHemisphere', 'SH', 'SPZ', 'SelectorComponent', 'SouthernHemisphere'"
   ]
  },
  {
   "cell_type": "code",
   "execution_count": 5,
   "metadata": {},
   "outputs": [
    {
     "name": "stdout",
     "output_type": "stream",
     "text": [
      "Region: AAZ {'latitude': (None, -66.6)}\n",
      "Region: AZ {'latitude': (66.6, None)}\n",
      "Region: AntarcticZone {'latitude': (None, -66.6)}\n",
      "Region: ArcticZone {'latitude': (66.6, None)}\n",
      "Region: NH {'latitude': (0.0, None)}\n",
      "Region: NPZ {'latitude': (66.6, None)}\n",
      "Region: NorthernHemisphere {'latitude': (0.0, None)}\n",
      "Region: SH {'latitude': (None, 0.0)}\n",
      "Region: SPZ {'latitude': (None, -66.6)}\n",
      "Region: SouthernHemisphere {'latitude': (None, 0.0)}\n"
     ]
    }
   ],
   "source": [
    "for region in ['AAZ', 'AZ', 'AntarcticZone', 'ArcticZone', 'NH', 'NPZ', 'NorthernHemisphere', 'SH', 'SPZ', 'SouthernHemisphere']:\n",
    "    print(\"Region:\", region, getattr(cdutil.region, region).components()[0].kargs)"
   ]
  },
  {
   "cell_type": "markdown",
   "metadata": {},
   "source": [
    "## Miscellaneous Region Functions\n",
    "\n",
    "A more detailed notebook is available [here](https://cdat.llnl.gov/Jupyter-notebooks/cdat_utilities/Masking_Data_Land-Sea_masks/Masking_Data_Land-Sea_masks.html)\n",
    "\n",
    "### Generating Land Sea Mask\n",
    "\n",
    "Based on [this report](https://www-pcmdi.llnl.gov/publications/pdf/58.pdf)"
   ]
  },
  {
   "cell_type": "code",
   "execution_count": 5,
   "metadata": {},
   "outputs": [
    {
     "name": "stdout",
     "output_type": "stream",
     "text": [
      "(9, 20) 0\n"
     ]
    }
   ],
   "source": [
    "tas_mask = cdutil.generateLandSeaMask(tas)\n",
    "print(tas_mask.shape, tas_mask.max())  # No land in nino34"
   ]
  },
  {
   "cell_type": "markdown",
   "metadata": {},
   "source": [
    "### Generating Surface Type by Region\n",
    "\n",
    "Again better described in the above-mentioned notebook"
   ]
  },
  {
   "cell_type": "code",
   "execution_count": 6,
   "metadata": {},
   "outputs": [
    {
     "data": {
      "text/plain": [
       "\u001b[0;31mSignature:\u001b[0m\n",
       "\u001b[0mcdutil\u001b[0m\u001b[0;34m.\u001b[0m\u001b[0mgenerateSurfaceTypeByRegionMask\u001b[0m\u001b[0;34m(\u001b[0m\u001b[0;34m\u001b[0m\n",
       "\u001b[0;34m\u001b[0m    \u001b[0mmask\u001b[0m\u001b[0;34m,\u001b[0m\u001b[0;34m\u001b[0m\n",
       "\u001b[0;34m\u001b[0m    \u001b[0msftbyrgn\u001b[0m\u001b[0;34m=\u001b[0m\u001b[0;32mNone\u001b[0m\u001b[0;34m,\u001b[0m\u001b[0;34m\u001b[0m\n",
       "\u001b[0;34m\u001b[0m    \u001b[0msftbyrgnmask\u001b[0m\u001b[0;34m=\u001b[0m\u001b[0;36m215\u001b[0m\u001b[0;34m,\u001b[0m\u001b[0;34m\u001b[0m\n",
       "\u001b[0;34m\u001b[0m    \u001b[0mregions\u001b[0m\u001b[0;34m=\u001b[0m\u001b[0;34m[\u001b[0m\u001b[0;36m201\u001b[0m\u001b[0;34m,\u001b[0m \u001b[0;36m202\u001b[0m\u001b[0;34m,\u001b[0m \u001b[0;36m203\u001b[0m\u001b[0;34m,\u001b[0m \u001b[0;36m204\u001b[0m\u001b[0;34m,\u001b[0m \u001b[0;36m205\u001b[0m\u001b[0;34m,\u001b[0m \u001b[0;36m206\u001b[0m\u001b[0;34m,\u001b[0m \u001b[0;36m207\u001b[0m\u001b[0;34m,\u001b[0m \u001b[0;36m208\u001b[0m\u001b[0;34m,\u001b[0m \u001b[0;36m209\u001b[0m\u001b[0;34m,\u001b[0m \u001b[0;36m210\u001b[0m\u001b[0;34m,\u001b[0m \u001b[0;36m211\u001b[0m\u001b[0;34m,\u001b[0m \u001b[0;36m212\u001b[0m\u001b[0;34m,\u001b[0m \u001b[0;36m213\u001b[0m\u001b[0;34m,\u001b[0m \u001b[0;36m214\u001b[0m\u001b[0;34m,\u001b[0m \u001b[0;36m215\u001b[0m\u001b[0;34m,\u001b[0m \u001b[0;36m216\u001b[0m\u001b[0;34m,\u001b[0m \u001b[0;36m217\u001b[0m\u001b[0;34m,\u001b[0m \u001b[0;36m218\u001b[0m\u001b[0;34m,\u001b[0m \u001b[0;36m219\u001b[0m\u001b[0;34m,\u001b[0m \u001b[0;36m220\u001b[0m\u001b[0;34m,\u001b[0m \u001b[0;36m221\u001b[0m\u001b[0;34m,\u001b[0m \u001b[0;36m222\u001b[0m\u001b[0;34m]\u001b[0m\u001b[0;34m,\u001b[0m\u001b[0;34m\u001b[0m\n",
       "\u001b[0;34m\u001b[0m    \u001b[0mmaximum_regions_per_cell\u001b[0m\u001b[0;34m=\u001b[0m\u001b[0;36m4\u001b[0m\u001b[0;34m,\u001b[0m\u001b[0;34m\u001b[0m\n",
       "\u001b[0;34m\u001b[0m    \u001b[0mextend_up_to\u001b[0m\u001b[0;34m=\u001b[0m\u001b[0;36m3\u001b[0m\u001b[0;34m,\u001b[0m\u001b[0;34m\u001b[0m\n",
       "\u001b[0;34m\u001b[0m    \u001b[0mverbose\u001b[0m\u001b[0;34m=\u001b[0m\u001b[0;32mTrue\u001b[0m\u001b[0;34m,\u001b[0m\u001b[0;34m\u001b[0m\n",
       "\u001b[0;34m\u001b[0m\u001b[0;34m)\u001b[0m\u001b[0;34m\u001b[0m\u001b[0;34m\u001b[0m\u001b[0m\n",
       "\u001b[0;31mDocstring:\u001b[0m\n",
       "Maps a \"regions\" dataset onto a user provided land/sea mask or grid\n",
       "\n",
       ":Example:\n",
       "\n",
       "    .. doctest:: sftbyrgn_generateSurfaceTypeByRegionMask\n",
       "\n",
       "        >>> mapped,found = generateSurfaceTypeByRegionMask(mask)\n",
       "\n",
       ":param mask: User provided land/sea mask (100/0) or grid (the land/sea mask will be generated automagically)\n",
       "        which will be mapped using the \"sftbyrgn\" internal dataset (will generate a land/sea mask for you)\n",
       ":param sftbyrgn: Mask you wish to map onto your grid (if None uses internal \"sftbyrgn\" dataset (old ezget type))\n",
       ":param sftbyrgnmask: Land/sea mask for sftbyrgn (or a number specifying value limits for sftbyrgn which indicates\n",
       "        land/sea threshold (greater values are land) - see URL below for integer region map)\n",
       ":param regions: Numbers from sftbyrgn array that you want to map onto mask (integers from 201-222)\n",
       ":param maximum_regions_per_cell: Maximum number of regions considered for a single cell\n",
       ":param extend_up_to: How many grid cells around a cell can we extend to identify a guess\n",
       ":param verbose: Prints to the screen what's going on (default is True)\n",
       "\n",
       ":returns: The mapped input grid/mask using provided (or default) regions - sftbyrgn -> user provided grid/mask AND\n",
       "         A matrix containing number of regions matched for each output cell\n",
       "\n",
       ".. note::\n",
       "\n",
       "    More detailed information, including a region map and tabulated region numbers are available from\n",
       "    http://www-pcmdi.llnl.gov/publications/pdf/34.pdf\n",
       "\u001b[0;31mFile:\u001b[0m      /opt/conda/lib/python3.7/site-packages/cdutil-8.1-py3.7.egg/cdutil/sftbyrgn.py\n",
       "\u001b[0;31mType:\u001b[0m      function\n"
      ]
     },
     "metadata": {},
     "output_type": "display_data"
    }
   ],
   "source": [
    "tas = ipsl_tas_file('tas', time=(\"2000\", \"2001\", \"con\"))  # 1 year worth\n",
    "tas_regions = cdutil.generateSurfaceTypeByRegionMask?"
   ]
  },
  {
   "cell_type": "markdown",
   "metadata": {},
   "source": [
    "Not mentioned in notebook is that you can provide your our \"type region mask\", with integers for each region"
   ]
  },
  {
   "cell_type": "code",
   "execution_count": 7,
   "metadata": {},
   "outputs": [
    {
     "name": "stdout",
     "output_type": "stream",
     "text": [
      "(143, 144)\n"
     ]
    }
   ],
   "source": [
    "mask = cdutil.generateLandSeaMask(tas) * 100.\n",
    "print(mask.shape)"
   ]
  },
  {
   "cell_type": "code",
   "execution_count": 8,
   "metadata": {},
   "outputs": [
    {
     "name": "stdout",
     "output_type": "stream",
     "text": [
      "Regions: [201, 202, 203, 204, 205, 206, 207, 208, 209, 210, 211, 212, 213, 214, 215, 216, 217, 218, 219, 220, 221, 222]\n",
      "First pass\n",
      "\bDone : |                                       | 0.00Done : ##                                      | 4.76Done : ####                                    | 9.52Done : ######                                  | 14.29Done : ########                                | 19.05Done : ##########                              | 23.81Done : ############                            | 28.57Done : ##############                          | 33.33Done : ################                        | 38.10Done : ##################                      | 42.86Done : ####################                    | 47.62Done : #####################                   | 52.38Done : #######################                 | 57.14Done : #########################               | 61.90Done : ###########################             | 66.67Done : #############################           | 71.43Done : ###############################         | 76.19Done : #################################       | 80.95Done : ###################################     | 85.71Done : #####################################   | 90.48Done : ####################################### | 95.Done : ########################################| 100.00%\n",
      "Expanding up to 1 cells while trying to fix 0 cells\n",
      "Expanding up to 2 cells while trying to fix 0 cells\n",
      "Expanding up to 3 cells while trying to fix 0 cells\n"
     ]
    }
   ],
   "source": [
    "sft_by_rgn, failed = cdutil.generateSurfaceTypeByRegionMask(mask)"
   ]
  },
  {
   "cell_type": "code",
   "execution_count": 9,
   "metadata": {},
   "outputs": [],
   "source": [
    "import vcs\n",
    "x = vcs.init()\n",
    "x.plot(sft_by_rgn)\n",
    "x.png(\"sft_by_rgn\")"
   ]
  },
  {
   "cell_type": "markdown",
   "metadata": {},
   "source": [
    "![](sft_by_rgn.png)"
   ]
  }
 ],
 "metadata": {
  "kernelspec": {
   "display_name": "Python 3",
   "language": "python",
   "name": "python3"
  },
  "language_info": {
   "codemirror_mode": {
    "name": "ipython",
    "version": 3
   },
   "file_extension": ".py",
   "mimetype": "text/x-python",
   "name": "python",
   "nbconvert_exporter": "python",
   "pygments_lexer": "ipython3",
   "version": "3.7.3"
  },
  "selected_variables": [],
  "vcdat_file_path": "",
  "vcdat_loaded_variables": [],
  "vcdat_variable_info": {}
 },
 "nbformat": 4,
 "nbformat_minor": 4
}
