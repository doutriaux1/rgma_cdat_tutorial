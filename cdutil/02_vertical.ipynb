{
 "cells": [
  {
   "cell_type": "markdown",
   "metadata": {},
   "source": [
    "# Vertical submodule\n",
    "\n",
    "This helps dealing with data on hybrid coordinates.\n",
    "\n",
    "Let's search for some model on hybrid coordinates"
   ]
  },
  {
   "cell_type": "code",
   "execution_count": 1,
   "metadata": {},
   "outputs": [
    {
     "name": "stdout",
     "output_type": "stream",
     "text": [
      "0 MRI-ESM2-0 [0.99849961 0.99549962 0.99149897 0.98549794 0.97699573]\n",
      "1 CESM2-WACCM [-5.96030003e-06 -9.82690018e-06 -1.62018505e-05 -2.67122511e-05\n",
      " -4.40410002e-05]\n",
      "2 CESM2 [ -3.64346569  -7.59481965 -14.35663225 -24.61222    -35.92325002]\n",
      "3 GISS-E2-1-H [0.94999999 0.93000001 0.91000003 0.88999999 0.87      ]\n",
      "4 GISS-E2-1-G [0.94999999 0.93000001 0.91000003 0.88999999 0.87      ]\n",
      "5 MIROC6 [0.99749923 0.99149853 0.98299694 0.97199559 0.95849299]\n",
      "6 IPSL-CM6A-LR [101202.11  100942.43  100653.414 100331.85   99974.195]\n",
      "7 CAMS-CSM1-0 [0.99614075 0.98263335 0.95895482 0.92766051 0.89082524]\n",
      "8 GFDL-CM4 [0.99795    0.99279    0.98540533 0.97563916 0.9632749 ]\n",
      "9 SAM0-UNICON [0.9925561  0.97632541 0.95748548 0.9361984  0.91264455]\n",
      "10 BCC-ESM1 [0.9925561  0.97055483 0.92964888 0.86716076 0.78770206]\n",
      "11 BCC-CSM2-MR [0.99256879 0.9750593  0.94794583 0.90893286 0.86064228]\n"
     ]
    }
   ],
   "source": [
    "import cdms2\n",
    "import genutil\n",
    "template = '%(root)/%(collection)/%(type)/%(institution)/%(model)/%(experiment)/%(member)/%(table)/%(variable)/%(grid)/%(version)/%(variable)_%(table)_%(model)_%(experiment)_%(member)_%(grid)_%(period).nc'\n",
    "path = genutil.StringConstructor(template)\n",
    "path.root = '/global/cscratch1/sd/cmip6'  # this allows to easily change this from one machine to another\n",
    "path.collection = 'CMIP6'\n",
    "path.type = 'CMIP'\n",
    "path.institution = '*'\n",
    "path.model = '*'\n",
    "path.experiment = 'historical'\n",
    "path.member = 'r1i1p1f1'\n",
    "path.table = 'Amon'\n",
    "path.variable = 'cl'\n",
    "path.grid = '*'\n",
    "path.version = '*'\n",
    "path.period = '*'\n",
    "\n",
    "import glob\n",
    "\n",
    "match = glob.glob(path())\n",
    "models = set()\n",
    "for filename in match:\n",
    "    sp = filename.split(\"_\")\n",
    "    model = sp[2]\n",
    "    if not model in models:\n",
    "        with cdms2.open(filename) as f:\n",
    "            V = f[path.variable]\n",
    "            lev = V.getLevel()\n",
    "            print(len(models), model, lev[:5])\n",
    "    models.add(model)  # To limit output"
   ]
  },
  {
   "cell_type": "markdown",
   "metadata": {},
   "source": [
    "From this we can see that most models seem to be on some hybrid coordinate system (except IPSL)\n",
    "\n",
    "Let's use: `MRI-ESM2-0`"
   ]
  },
  {
   "cell_type": "code",
   "execution_count": 2,
   "metadata": {},
   "outputs": [
    {
     "name": "stdout",
     "output_type": "stream",
     "text": [
      "(12, 80, 160, 320)    id: lev\n",
      "   Designated a level axis.\n",
      "   units:  1\n",
      "   Length: 80\n",
      "   First:  0.9984996139408759\n",
      "   Last:   9.999999776482362e-06\n",
      "   Other axis attributes:\n",
      "      axis: Z\n",
      "      positive: down\n",
      "      long_name: hybrid sigma pressure coordinate\n",
      "      standard_name: atmosphere_hybrid_sigma_pressure_coordinate\n",
      "      formula: p = a*p0 + b*ps\n",
      "      formula_terms: p0: p0 a: a b: b ps: ps\n",
      "      realtopology: linear\n",
      "   Python id:  0x2aaacf92fac8\n",
      "\n"
     ]
    }
   ],
   "source": [
    "filename = match[0]\n",
    "f = cdms2.open(filename)\n",
    "cl = f(\"cl\", time=slice(0, 12)) # 1 year\n",
    "print(cl.shape, cl.getLevel())"
   ]
  },
  {
   "cell_type": "markdown",
   "metadata": {},
   "source": [
    "The `formula_terms` let us know which variable to recover from the file in order to interpolate to pressure levels"
   ]
  },
  {
   "cell_type": "code",
   "execution_count": 3,
   "metadata": {},
   "outputs": [
    {
     "data": {
      "text/plain": [
       "'Pa'"
      ]
     },
     "execution_count": 3,
     "metadata": {},
     "output_type": "execute_result"
    }
   ],
   "source": [
    "ps = f(\"ps\", time=slice(0,12))\n",
    "a =f(\"a\")\n",
    "b = f(\"b\")\n",
    "p0 = f(\"p0\")\n",
    "ps.units"
   ]
  },
  {
   "cell_type": "markdown",
   "metadata": {},
   "source": [
    "First let's reconstruct the pressure"
   ]
  },
  {
   "cell_type": "code",
   "execution_count": 4,
   "metadata": {},
   "outputs": [
    {
     "data": {
      "text/plain": [
       "\u001b[0;31mSignature:\u001b[0m \u001b[0mcdutil\u001b[0m\u001b[0;34m.\u001b[0m\u001b[0mreconstructPressureFromHybrid\u001b[0m\u001b[0;34m(\u001b[0m\u001b[0mps\u001b[0m\u001b[0;34m,\u001b[0m \u001b[0mA\u001b[0m\u001b[0;34m,\u001b[0m \u001b[0mB\u001b[0m\u001b[0;34m,\u001b[0m \u001b[0mPo\u001b[0m\u001b[0;34m)\u001b[0m\u001b[0;34m\u001b[0m\u001b[0;34m\u001b[0m\u001b[0m\n",
       "\u001b[0;31mDocstring:\u001b[0m\n",
       "Reconstruct the Pressure field on sigma levels, from the surface pressure\n",
       "\n",
       "\n",
       ":param Ps: Surface pressure\n",
       ":param A: Hybrid Conversion Coefficient, such as: p=B.ps+A.Po.\n",
       ":param B: Hybrid Conversion Coefficient, such as: p=B.ps+A.Po.\n",
       ":param Po: Hybrid Conversion Coefficient, such as: p=B.ps+A.Po\n",
       ":param Ps: surface pressure\n",
       "\n",
       ".. note::\n",
       "\n",
       "    A and B are 1d sigma levels.\n",
       "    Po and Ps must have same units.\n",
       "\n",
       "\n",
       ":returns: Pressure field, such as P=B*Ps+A*Po.\n",
       "\n",
       ":Example:\n",
       "\n",
       "    .. doctest:: vertical_reconstructPressureFromHybrid\n",
       "\n",
       "        >>> P=reconstructPressureFromHybrid(ps,A,B,Po)\n",
       "\u001b[0;31mFile:\u001b[0m      /opt/conda/lib/python3.7/site-packages/cdutil-8.1-py3.7.egg/cdutil/vertical.py\n",
       "\u001b[0;31mType:\u001b[0m      function\n"
      ]
     },
     "metadata": {},
     "output_type": "display_data"
    }
   ],
   "source": [
    "import cdutil\n",
    "cdutil.reconstructPressureFromHybrid?"
   ]
  },
  {
   "cell_type": "code",
   "execution_count": 5,
   "metadata": {},
   "outputs": [
    {
     "name": "stdout",
     "output_type": "stream",
     "text": [
      "(12, 80, 160, 320)\n"
     ]
    }
   ],
   "source": [
    "p = cdutil.reconstructPressureFromHybrid(ps, a, b, p0)\n",
    "print(p.shape)"
   ]
  },
  {
   "cell_type": "markdown",
   "metadata": {},
   "source": [
    "Now let's interpolate to standrad pressure levels."
   ]
  },
  {
   "cell_type": "code",
   "execution_count": 6,
   "metadata": {},
   "outputs": [
    {
     "data": {
      "text/plain": [
       "\u001b[0;31mSignature:\u001b[0m\n",
       "\u001b[0mcdutil\u001b[0m\u001b[0;34m.\u001b[0m\u001b[0msigma2Pressure\u001b[0m\u001b[0;34m(\u001b[0m\u001b[0;34m\u001b[0m\n",
       "\u001b[0;34m\u001b[0m    \u001b[0mA\u001b[0m\u001b[0;34m,\u001b[0m\u001b[0;34m\u001b[0m\n",
       "\u001b[0;34m\u001b[0m    \u001b[0mP\u001b[0m\u001b[0;34m,\u001b[0m\u001b[0;34m\u001b[0m\n",
       "\u001b[0;34m\u001b[0m    \u001b[0mlevels\u001b[0m\u001b[0;34m=\u001b[0m\u001b[0;34m[\u001b[0m\u001b[0;36m100000\u001b[0m\u001b[0;34m,\u001b[0m \u001b[0;36m92500\u001b[0m\u001b[0;34m,\u001b[0m \u001b[0;36m85000\u001b[0m\u001b[0;34m,\u001b[0m \u001b[0;36m70000\u001b[0m\u001b[0;34m,\u001b[0m \u001b[0;36m60000\u001b[0m\u001b[0;34m,\u001b[0m \u001b[0;36m50000\u001b[0m\u001b[0;34m,\u001b[0m \u001b[0;36m40000\u001b[0m\u001b[0;34m,\u001b[0m \u001b[0;36m30000\u001b[0m\u001b[0;34m,\u001b[0m \u001b[0;36m25000\u001b[0m\u001b[0;34m,\u001b[0m \u001b[0;36m20000\u001b[0m\u001b[0;34m,\u001b[0m \u001b[0;36m15000\u001b[0m\u001b[0;34m,\u001b[0m \u001b[0;36m10000\u001b[0m\u001b[0;34m,\u001b[0m \u001b[0;36m7000\u001b[0m\u001b[0;34m,\u001b[0m \u001b[0;36m5000\u001b[0m\u001b[0;34m,\u001b[0m \u001b[0;36m3000\u001b[0m\u001b[0;34m,\u001b[0m \u001b[0;36m2000\u001b[0m\u001b[0;34m,\u001b[0m \u001b[0;36m1000\u001b[0m\u001b[0;34m]\u001b[0m\u001b[0;34m,\u001b[0m\u001b[0;34m\u001b[0m\n",
       "\u001b[0;34m\u001b[0m    \u001b[0mstatus\u001b[0m\u001b[0;34m=\u001b[0m\u001b[0;32mNone\u001b[0m\u001b[0;34m,\u001b[0m\u001b[0;34m\u001b[0m\n",
       "\u001b[0;34m\u001b[0m    \u001b[0maxis\u001b[0m\u001b[0;34m=\u001b[0m\u001b[0;34m'z'\u001b[0m\u001b[0;34m,\u001b[0m\u001b[0;34m\u001b[0m\n",
       "\u001b[0;34m\u001b[0m\u001b[0;34m)\u001b[0m\u001b[0;34m\u001b[0m\u001b[0;34m\u001b[0m\u001b[0m\n",
       "\u001b[0;31mDocstring:\u001b[0m\n",
       "Log-linear interpolation to convert a field from sigma levels to pressure levels.\n",
       "Values below surface are masked.\n",
       "\n",
       ":param A: array on sigma levels\n",
       ":type A:\n",
       "\n",
       ":param P: pressure field from TOP (level 0) to BOTTOM (last level)\n",
       ":type P:\n",
       "\n",
       ":param levels: pressure levels to interplate to (same units as P), default levels are:\n",
       "        [100000, 92500, 85000, 70000, 60000, 50000, 40000, 30000, 25000, 20000, 15000, 10000, 7000, 5000,\n",
       "        3000, 2000, 1000]\n",
       ":type levels: list\n",
       "\n",
       ":param axis: axis over which to do the linear interpolation\n",
       ":type axis: str\n",
       "\n",
       ".. note::\n",
       "\n",
       "    P and levels must have same units\n",
       "\n",
       ":returns: array on pressure levels (levels)\n",
       "\n",
       ":Example:\n",
       "\n",
       "    .. doctest:: vertical_logLinearInterpolation\n",
       "\n",
       "        >>> A=logLinearInterpolation(A,P) # interpolate A using pressure field P over the default levels\n",
       "\u001b[0;31mFile:\u001b[0m      /opt/conda/lib/python3.7/site-packages/cdutil-8.1-py3.7.egg/cdutil/vertical.py\n",
       "\u001b[0;31mType:\u001b[0m      function\n"
      ]
     },
     "metadata": {},
     "output_type": "display_data"
    }
   ],
   "source": [
    "cdutil.sigma2Pressure?"
   ]
  },
  {
   "cell_type": "markdown",
   "metadata": {},
   "source": [
    "The important thing is to make sure the pressure is order from **TOP** to **BOTTOM*"
   ]
  },
  {
   "cell_type": "code",
   "execution_count": 7,
   "metadata": {},
   "outputs": [
    {
     "name": "stdout",
     "output_type": "stream",
     "text": [
      "103751.25540131927\n",
      "0.9999999776482361\n"
     ]
    }
   ],
   "source": [
    "print(p[0,0].max())\n",
    "print(p[0,-1].min())"
   ]
  },
  {
   "cell_type": "markdown",
   "metadata": {},
   "source": [
    "In our case we will need to *flip* the pressure"
   ]
  },
  {
   "cell_type": "code",
   "execution_count": 8,
   "metadata": {},
   "outputs": [
    {
     "name": "stdout",
     "output_type": "stream",
     "text": [
      "(12, 3, 160, 320)\n"
     ]
    }
   ],
   "source": [
    "cl_levs = cdutil.sigma2Pressure(cl, p[:,::-1], levels=[100000., 92500., 8500.])  # Less levels for faster processing\n",
    "print(cl_levs.shape)"
   ]
  },
  {
   "cell_type": "code",
   "execution_count": 9,
   "metadata": {},
   "outputs": [
    {
     "name": "stdout",
     "output_type": "stream",
     "text": [
      "   id: plev\n",
      "   Designated a level axis.\n",
      "   units:  Pa\n",
      "   Length: 3\n",
      "   First:  100000.0\n",
      "   Last:   8500.0\n",
      "   Other axis attributes:\n",
      "      axis: Z\n",
      "      realtopology: linear\n",
      "   Python id:  0x2aaadb861780\n",
      "\n"
     ]
    }
   ],
   "source": [
    "print(cl_levs.getLevel())"
   ]
  },
  {
   "cell_type": "code",
   "execution_count": 10,
   "metadata": {},
   "outputs": [],
   "source": [
    "import vcs\n",
    "x = vcs.init()\n",
    "x.plot(cl_levs[:,-1])\n",
    "x.png(\"cl_interp\")"
   ]
  },
  {
   "cell_type": "markdown",
   "metadata": {},
   "source": [
    "![](cl_interp.png)"
   ]
  },
  {
   "cell_type": "markdown",
   "metadata": {},
   "source": [
    "Note that `sigma2Pressure` is an alias for `logLinearInterpolation` and performs a logLinear interpolation. A linear interpolation is also availabel with `linearInterpolation`"
   ]
  },
  {
   "cell_type": "code",
   "execution_count": 11,
   "metadata": {},
   "outputs": [],
   "source": [
    "cl_levs_lin = cdutil.linearInterpolation(cl, p[:,::-1], levels=[100000., 92500., 8500.])\n",
    "x.clear()\n",
    "x.plot((cl_levs_lin - cl_levs)[0,-1])\n",
    "x.png(\"cl_diff\")"
   ]
  },
  {
   "cell_type": "markdown",
   "metadata": {},
   "source": [
    "![](cl_diff.png)"
   ]
  }
 ],
 "metadata": {
  "kernelspec": {
   "display_name": "Python 3",
   "language": "python",
   "name": "python3"
  },
  "language_info": {
   "codemirror_mode": {
    "name": "ipython",
    "version": 3
   },
   "file_extension": ".py",
   "mimetype": "text/x-python",
   "name": "python",
   "nbconvert_exporter": "python",
   "pygments_lexer": "ipython3",
   "version": "3.7.3"
  },
  "selected_variables": [],
  "vcdat_file_path": "",
  "vcdat_loaded_variables": [],
  "vcdat_variable_info": {}
 },
 "nbformat": 4,
 "nbformat_minor": 4
}
