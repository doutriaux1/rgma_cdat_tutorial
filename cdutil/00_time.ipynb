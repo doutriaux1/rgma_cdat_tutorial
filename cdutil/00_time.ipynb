{
 "cells": [
  {
   "cell_type": "markdown",
   "metadata": {},
   "source": [
    "# Climate Data Utilitites\n",
    "\n",
    "The `cdutil` module provides tools that are more specific to the Earth Sciences\n",
    "\n",
    "for convenience the `averager` from `genutil` is linked back into `cdutil`\n",
    "\n",
    "# Time operation\n",
    "\n",
    "Some of the most useful tools are linked to the `times` submodule\n",
    "\n",
    "## Time Bounds\n",
    "\n",
    "Most of our tools rely on the bounds, hence having correct time bounds is fundamental\n",
    "\n",
    "Sometimes when dealing with edge dataset one might need to reset time bounds.\n",
    "\n",
    "A few utilities are provided as part of `cdutil`"
   ]
  },
  {
   "cell_type": "code",
   "execution_count": 1,
   "metadata": {},
   "outputs": [
    {
     "name": "stdout",
     "output_type": "stream",
     "text": [
      "None\n"
     ]
    }
   ],
   "source": [
    "import cdms2\n",
    "import cdutil\n",
    "my_time_axis = cdms2.createAxis([ 15.5,  45. ,  74.5, 105. , 135.5, 166. , 196.5, 227.5, 258. , 288.5, 319. , 349.5])\n",
    "my_time_axis.units = \"days since 2019\"\n",
    "my_time_axis.designateTime()\n",
    "my_time_axis.id = \"time\"\n",
    "print(my_time_axis.getBounds())"
   ]
  },
  {
   "cell_type": "code",
   "execution_count": 2,
   "metadata": {},
   "outputs": [
    {
     "data": {
      "text/plain": [
       "array([[  0.,  31.],\n",
       "       [ 31.,  59.],\n",
       "       [ 59.,  90.],\n",
       "       [ 90., 120.],\n",
       "       [120., 151.],\n",
       "       [151., 181.],\n",
       "       [181., 212.],\n",
       "       [212., 243.],\n",
       "       [243., 273.],\n",
       "       [273., 304.],\n",
       "       [304., 334.],\n",
       "       [334., 365.]])"
      ]
     },
     "execution_count": 2,
     "metadata": {},
     "output_type": "execute_result"
    }
   ],
   "source": [
    "cdutil.setAxisTimeBoundsMonthly(my_time_axis)\n",
    "my_time_axis.getBounds()"
   ]
  },
  {
   "cell_type": "markdown",
   "metadata": {},
   "source": [
    "This sets the bounds at the begining and end of the cell's current month, respecting the calendar"
   ]
  },
  {
   "cell_type": "code",
   "execution_count": 3,
   "metadata": {},
   "outputs": [
    {
     "data": {
      "text/plain": [
       "array([[  0.,  30.],\n",
       "       [ 30.,  60.],\n",
       "       [ 60.,  90.],\n",
       "       [ 90., 120.],\n",
       "       [120., 150.],\n",
       "       [150., 180.],\n",
       "       [180., 210.],\n",
       "       [210., 240.],\n",
       "       [240., 270.],\n",
       "       [270., 300.],\n",
       "       [300., 330.],\n",
       "       [330., 360.]])"
      ]
     },
     "execution_count": 3,
     "metadata": {},
     "output_type": "execute_result"
    }
   ],
   "source": [
    "import cdtime\n",
    "my_time_axis.setCalendar(cdtime.Calendar360)\n",
    "cdutil.setAxisTimeBoundsMonthly(my_time_axis)\n",
    "my_time_axis.getBounds()"
   ]
  },
  {
   "cell_type": "code",
   "execution_count": 4,
   "metadata": {},
   "outputs": [],
   "source": [
    "my_time_axis.setCalendar(cdtime.DefaultCalendar)\n",
    "cdutil.setAxisTimeBoundsMonthly(my_time_axis)"
   ]
  },
  {
   "cell_type": "markdown",
   "metadata": {},
   "source": [
    "Some models store the cell value at the end of the month to reflect they are cumulative, for example monthly value for January would be stored on Feb first."
   ]
  },
  {
   "cell_type": "code",
   "execution_count": 5,
   "metadata": {},
   "outputs": [
    {
     "name": "stdout",
     "output_type": "stream",
     "text": [
      "[2019-2-1 0:0:0.0, 2019-3-1 0:0:0.0, 2019-4-1 0:0:0.0, 2019-5-1 0:0:0.0, 2019-6-1 0:0:0.0, 2019-7-1 0:0:0.0, 2019-8-1 0:0:0.0, 2019-9-1 0:0:0.0, 2019-10-1 0:0:0.0, 2019-11-1 0:0:0.0, 2019-12-1 0:0:0.0, 2020-1-1 0:0:0.0]\n"
     ]
    }
   ],
   "source": [
    "my_time_axis = cdms2.createAxis([ 31.,  59.,  90., 120., 151., 181., 212., 243., 273., 304., 334., 365.])\n",
    "my_time_axis.units = 'days since 2019'\n",
    "my_time_axis.id = 'time'\n",
    "my_time_axis.designateTime()\n",
    "print(my_time_axis.asComponentTime())"
   ]
  },
  {
   "cell_type": "markdown",
   "metadata": {},
   "source": [
    "This would confuse our function"
   ]
  },
  {
   "cell_type": "code",
   "execution_count": 6,
   "metadata": {},
   "outputs": [
    {
     "data": {
      "text/plain": [
       "array([[ 31.,  59.],\n",
       "       [ 59.,  90.],\n",
       "       [ 90., 120.],\n",
       "       [120., 151.],\n",
       "       [151., 181.],\n",
       "       [181., 212.],\n",
       "       [212., 243.],\n",
       "       [243., 273.],\n",
       "       [273., 304.],\n",
       "       [304., 334.],\n",
       "       [334., 365.],\n",
       "       [365., 396.]])"
      ]
     },
     "execution_count": 6,
     "metadata": {},
     "output_type": "execute_result"
    }
   ],
   "source": [
    "cdutil.setAxisTimeBoundsMonthly(my_time_axis)\n",
    "my_time_axis.getBounds()"
   ]
  },
  {
   "cell_type": "markdown",
   "metadata": {},
   "source": [
    "Because this happens frequently, we have an option for this"
   ]
  },
  {
   "cell_type": "code",
   "execution_count": 7,
   "metadata": {},
   "outputs": [
    {
     "data": {
      "text/plain": [
       "array([[  0.,  31.],\n",
       "       [ 31.,  59.],\n",
       "       [ 59.,  90.],\n",
       "       [ 90., 120.],\n",
       "       [120., 151.],\n",
       "       [151., 181.],\n",
       "       [181., 212.],\n",
       "       [212., 243.],\n",
       "       [243., 273.],\n",
       "       [273., 304.],\n",
       "       [304., 334.],\n",
       "       [334., 365.]])"
      ]
     },
     "execution_count": 7,
     "metadata": {},
     "output_type": "execute_result"
    }
   ],
   "source": [
    "cdutil.setAxisTimeBoundsMonthly(my_time_axis, stored=1)\n",
    "my_time_axis.getBounds()"
   ]
  },
  {
   "cell_type": "markdown",
   "metadata": {},
   "source": [
    "Other convenience functions are available: `setTimeBoundsYearly` and `setTimeBoundsDaily`.\n",
    "\n",
    "`setTimeBoundsDaily` takes a frequency argument that allows to define sub-daily frequency:\n",
    "\n",
    "e.g. for twice-daily data use frequency=2\n",
    "     for 6 hourly data use frequency=4\n",
    "     for   hourly data use frequency=24\n"
   ]
  },
  {
   "cell_type": "code",
   "execution_count": 8,
   "metadata": {},
   "outputs": [
    {
     "name": "stdout",
     "output_type": "stream",
     "text": [
      "[2019-1-1 0:0:0.0, 2019-1-1 6:0:0.0, 2019-1-1 12:0:0.0, 2019-1-1 18:0:0.0, 2019-1-2 0:0:0.0, 2019-1-2 6:0:0.0, 2019-1-2 12:0:0.0, 2019-1-2 18:0:0.0, 2019-1-3 0:0:0.0, 2019-1-3 6:0:0.0, 2019-1-3 12:0:0.0, 2019-1-3 18:0:0.0, 2019-1-4 0:0:0.0, 2019-1-4 6:0:0.0, 2019-1-4 12:0:0.0, 2019-1-4 18:0:0.0]\n"
     ]
    }
   ],
   "source": [
    "my_time_axis = cdms2.createAxis(list(range(0, 96, 6)))\n",
    "my_time_axis.units = 'hours since 2019'\n",
    "my_time_axis.id = 'time'\n",
    "my_time_axis.designateTime()\n",
    "print(my_time_axis.asComponentTime())"
   ]
  },
  {
   "cell_type": "code",
   "execution_count": 9,
   "metadata": {},
   "outputs": [
    {
     "data": {
      "text/plain": [
       "array([[ 0.,  6.],\n",
       "       [ 6., 12.],\n",
       "       [12., 18.]])"
      ]
     },
     "execution_count": 9,
     "metadata": {},
     "output_type": "execute_result"
    }
   ],
   "source": [
    "cdutil.setTimeBoundsDaily(my_time_axis, frequency=4)\n",
    "my_time_axis.getBounds()[:3]"
   ]
  },
  {
   "cell_type": "markdown",
   "metadata": {},
   "source": [
    "## Temporal Averaging\n",
    "\n",
    "\n",
    "### Predefined time averaging functions\n",
    "\n",
    "\n",
    "\n",
    "Averaging over time is a special problem in climate data analysis. The cdutil package pays special attention to this issue to make the extraction of time averages and climatologies simple. Apart from functions that enable easy computation of annual, seasonal and monthly averages and climatologies, one can also define seasons other than those already available and specify criteria for data availability and temporal distribution to suit individual needs.\n",
    "\n",
    "Note: It is essential that the data have an appropriate axis designated as the “time” axis. In addition to this, the results depend on the time axis having correctly set bounds. If bounds are not stored with the data in files, default bounds are generated by the data extraction steps in cdms. However, they are not always correct. The user must take care to verify that the bounds are set correctly. Since the default time bounds set by cdms puts the time point in the middle of the month, (for example time axis values of 0, 1,…. would put the bounds at [-0.5, 0.5], [0.5, 1.5]…. etc.), the user can make use of the setTimeBoundsMonthly function. To use this method to set the bounds for monthly data:"
   ]
  },
  {
   "cell_type": "code",
   "execution_count": 10,
   "metadata": {},
   "outputs": [
    {
     "name": "stdout",
     "output_type": "stream",
     "text": [
      "(120, 143, 144)\n"
     ]
    }
   ],
   "source": [
    "ipsl_ts_file = cdms2.open(\"/global/cscratch1/sd/cmip6/CMIP6/CMIP/IPSL/IPSL-CM6A-LR/historical/r1i1p1f1/Amon/ts/gr/v20180803/ts_Amon_IPSL-CM6A-LR_historical_r1i1p1f1_gr_185001-201412.nc\")\n",
    "ts = ipsl_ts_file('ts', time=(\"2000\", \"2010\", \"con\") ) # 10 years\n",
    "print(ts.shape)"
   ]
  },
  {
   "cell_type": "markdown",
   "metadata": {},
   "source": [
    "The predefined time averaging periods are:\n",
    "\n",
    "    JAN, FEB, MAR, …., DEC (months)\n",
    "    DJF, MAM, JJA, SON (seasons)\n",
    "    YEAR (annual means)\n",
    "    ANNUALCYCLE (monthly means for each month of the year)\n",
    "    SEASONNALCYCLE (means for the 4 predefined seasons)\n",
    "\n",
    "Some simple examples of time averaging operations are shown here."
   ]
  },
  {
   "cell_type": "code",
   "execution_count": 11,
   "metadata": {},
   "outputs": [
    {
     "name": "stdout",
     "output_type": "stream",
     "text": [
      "(11, 143, 144)\n",
      "(1, 143, 144)\n",
      "(11, 143, 144)\n",
      "(120, 143, 144) 317.08307 15.543907165527344\n"
     ]
    }
   ],
   "source": [
    "# The individual DJF (December-January-February)\n",
    "# seasons are extracted using\n",
    "djfs = cdutil.DJF(ts)\n",
    "print(djfs.shape)  #11 because we have a djf at the beg and one at the end of the 10 year period\n",
    "# To compute the DJF climatology of a variable x\n",
    "djfclim = cdutil.DJF.climatology(ts)\n",
    "print(djfclim.shape)\n",
    "# To extract DJF seasonal anomalies (from climatology)\n",
    "djf_anom = cdutil.DJF.departures(ts)\n",
    "print(djf_anom.shape)\n",
    "# The monthly anomalies for x are computed by:\n",
    "ac_anom = cdutil.ANNUALCYCLE.departures(ts)\n",
    "print(ac_anom.shape, ts.max(),ac_anom.max())"
   ]
  },
  {
   "cell_type": "markdown",
   "metadata": {},
   "source": [
    "### Creating Custom Seasons\n",
    "\n",
    "[Back to Top](#top)\n",
    "\n",
    "You can even create your own “custom seasons” beyond the pre-defined seasons listed above. For example:"
   ]
  },
  {
   "cell_type": "code",
   "execution_count": 12,
   "metadata": {},
   "outputs": [],
   "source": [
    "JJAS = cdutil.times.Seasons('JJAS')"
   ]
  },
  {
   "cell_type": "markdown",
   "metadata": {},
   "source": [
    "### Specifying time periods for climatologies.\n",
    "[Back to Top](#top)\n",
    "\n",
    "So far we have seen the way to compute the means, climatologies, and anomalies for the entire length of the time-series. The typical application may require specified time intervals over which climatologies are computed and used in calculating departures. For example, to compute the DJF climatology for the time period 1979-1988 we would do the following:\n",
    "\n"
   ]
  },
  {
   "cell_type": "code",
   "execution_count": 13,
   "metadata": {},
   "outputs": [
    {
     "name": "stdout",
     "output_type": "stream",
     "text": [
      "start_time =  2002-1-1 0:0:0.0\n",
      "end_time =  2008-1-1 0:0:0.0\n"
     ]
    }
   ],
   "source": [
    "import cdtime\n",
    "start_time = cdtime.comptime(2002)\n",
    "print('start_time = ', start_time)\n",
    "end_time = cdtime.comptime(2008)\n",
    "print('end_time = ', end_time)"
   ]
  },
  {
   "cell_type": "markdown",
   "metadata": {},
   "source": [
    "Note that we created the time point end_time at the begining of 1989 so we can select all the time between start_time and end_time but not including end_time by specifying the option co - shorthand for closed at start_time and open at end_time. More options and details about them can be found in the Climate Data Management System Manual."
   ]
  },
  {
   "cell_type": "code",
   "execution_count": 14,
   "metadata": {},
   "outputs": [],
   "source": [
    "djfclim = cdutil.DJF.climatology(ts(time=(start_time, end_time, 'con')))"
   ]
  },
  {
   "cell_type": "markdown",
   "metadata": {},
   "source": [
    "Now that we have our climatology over the desired period we can to compute anomalies over the full period relative to that climatology.\n",
    "\n"
   ]
  },
  {
   "cell_type": "code",
   "execution_count": 15,
   "metadata": {},
   "outputs": [],
   "source": [
    "djfdep2 = cdutil.DJF.departures(ts, ref=djfclim)"
   ]
  },
  {
   "cell_type": "markdown",
   "metadata": {},
   "source": [
    "### Specifying Data Coverage Criteria\n",
    "\n",
    "[Back to Top](#top)\n",
    "\n",
    "The real power of these functions is in the ability to specify minimum data coverage and to also be able to specify the distribution (both in the temporal sense) which are required for the averages to be computed. The default behaviour of the functions that compute seasonal averages, climatologies, etc. is to require that a minimum of 50% of the data be present. Now let’s say you like to extract DJF but without restricting it to 50% of the data being present. You would do:"
   ]
  },
  {
   "cell_type": "code",
   "execution_count": 16,
   "metadata": {},
   "outputs": [],
   "source": [
    "djfs = cdutil.DJF(ts, criteriaarg=[0., None])"
   ]
  },
  {
   "cell_type": "markdown",
   "metadata": {},
   "source": [
    "The above statement comutes the DJF average with criteriaarg (passed as a list) which has 2 arguments.\n",
    "\n",
    "    The first argument represents the minimum fraction of time that is required to compute the seasonal mean. So you can pass a fractional value between 0.0 and 1.0 (including both extremes) or even a representation such as 3.0/4.0 (in case you need at least 3 out of 4 months of data in the case of the average JJAS we defined previously).\n",
    "    The second argument in the criteriaarg is None. This implies no “centroid function” is used. In other cases, this argument represents the maximum value of the “centroid function”. A value between 0 and 1 represents the spread of values across the mean time. The centroid value of 0.0 represents a full even distribution of data across the time interval. For example, if you are considering the DJF average, then if data is available for Dec, Jan and Feb months then the centroid is 0.0. On the other hand, the following criteria will “mask” (ignore) a DJF season if there is only a December month with data (and therefore has a centroid value of 1.0). Therefore any seasons resulting in centroid values above 0.5 will result in missing values!\n"
   ]
  },
  {
   "cell_type": "code",
   "execution_count": 17,
   "metadata": {},
   "outputs": [],
   "source": [
    "djfs = cdutil.DJF(ts, criteriaarg = [0., .5])"
   ]
  },
  {
   "cell_type": "markdown",
   "metadata": {},
   "source": [
    "In the case of computing an annual mean, having data only in Jan and Dec months leads to a centroid value of 0 for the regular centroid, and the resulting annual mean for the year is biased toward the winter. In this situation, you should use a cyclical centroid where the circular nature of the year is recognised and the centroid is calculated accordingly. Here are some examples of typical usage:"
   ]
  },
  {
   "cell_type": "markdown",
   "metadata": {},
   "source": [
    "1. Default behaviour i.e criteriaarg=[0.5, None]"
   ]
  },
  {
   "cell_type": "code",
   "execution_count": 18,
   "metadata": {},
   "outputs": [],
   "source": [
    "annavg_1 = cdutil.YEAR(ts)"
   ]
  },
  {
   "cell_type": "markdown",
   "metadata": {},
   "source": [
    "2. Criteria to say compute annual average for any number of months."
   ]
  },
  {
   "cell_type": "code",
   "execution_count": 19,
   "metadata": {},
   "outputs": [],
   "source": [
    "annavg_2 = cdutil.YEAR(ts, criteriaarg = [0.,None])"
   ]
  },
  {
   "cell_type": "markdown",
   "metadata": {},
   "source": [
    "3. Criteria for computing annual average based on the minimum number of months (8 out of 12)."
   ]
  },
  {
   "cell_type": "code",
   "execution_count": 20,
   "metadata": {},
   "outputs": [],
   "source": [
    "annavg_3 = cdutil.YEAR(ts, criteriaarg = [8./12., None])"
   ]
  },
  {
   "cell_type": "markdown",
   "metadata": {},
   "source": [
    "4. Same criteria as in 3, but we account for the fact that a year is cyclical i.e Dec and Jan are adjacent months. So the centroid is computed over a circle where Dec and Jan are contiguous."
   ]
  },
  {
   "cell_type": "code",
   "execution_count": 21,
   "metadata": {},
   "outputs": [],
   "source": [
    "annavg_4 = cdutil.YEAR(ts, criteriaarg = [8./12., 0.1, 'cyclical'])"
   ]
  }
 ],
 "metadata": {
  "kernelspec": {
   "display_name": "Python 3",
   "language": "python",
   "name": "python3"
  },
  "language_info": {
   "codemirror_mode": {
    "name": "ipython",
    "version": 3
   },
   "file_extension": ".py",
   "mimetype": "text/x-python",
   "name": "python",
   "nbconvert_exporter": "python",
   "pygments_lexer": "ipython3",
   "version": "3.7.3"
  },
  "selected_variables": [],
  "vcdat_file_path": "",
  "vcdat_loaded_variables": [],
  "vcdat_variable_info": {}
 },
 "nbformat": 4,
 "nbformat_minor": 4
}
